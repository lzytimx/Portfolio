{
 "cells": [
  {
   "cell_type": "code",
   "execution_count": 1,
   "metadata": {
    "execution": {
     "iopub.execute_input": "2024-11-17T19:15:07.009765Z",
     "iopub.status.busy": "2024-11-17T19:15:07.009240Z",
     "iopub.status.idle": "2024-11-17T19:15:07.017508Z",
     "shell.execute_reply": "2024-11-17T19:15:07.016139Z",
     "shell.execute_reply.started": "2024-11-17T19:15:07.009720Z"
    },
    "trusted": true
   },
   "outputs": [],
   "source": [
    "import os\n",
    "import numpy as np\n",
    "import pandas as pd\n",
    "import matplotlib.pyplot as plt\n",
    "import seaborn as sns\n",
    "from scipy.stats import mannwhitneyu\n",
    "from scipy import stats\n",
    "\n",
    "# Model\n",
    "from sklearn.preprocessing import OneHotEncoder, StandardScaler, QuantileTransformer\n",
    "from sklearn.impute import SimpleImputer\n",
    "from sklearn.compose import ColumnTransformer\n",
    "from sklearn.pipeline import Pipeline\n",
    "from sklearn.ensemble import RandomForestClassifier\n",
    "from sklearn.model_selection import GridSearchCV, train_test_split, RandomizedSearchCV, KFold, RepeatedStratifiedKFold, StratifiedKFold, cross_val_score\n",
    "from xgboost import XGBClassifier\n",
    "\n",
    "# hyperparameter tuning\n",
    "import optuna"
   ]
  },
  {
   "cell_type": "code",
   "execution_count": 2,
   "metadata": {
    "execution": {
     "iopub.execute_input": "2024-11-17T19:19:43.511037Z",
     "iopub.status.busy": "2024-11-17T19:19:43.510565Z",
     "iopub.status.idle": "2024-11-17T19:19:44.488785Z",
     "shell.execute_reply": "2024-11-17T19:19:44.487226Z",
     "shell.execute_reply.started": "2024-11-17T19:19:43.510996Z"
    },
    "trusted": true
   },
   "outputs": [],
   "source": [
    "try:\n",
    "    kaggle_train_file_loc = \"../input/playground-series-s4e11/train.csv\"\n",
    "    kaggle_test_file_loc = \"../input/playground-series-s4e11/test.csv\"\n",
    "    df = pd.read_csv(kaggle_train_file_loc, index_col=0)\n",
    "    df_test = pd.read_csv(kaggle_test_file_loc, index_col=0)\n",
    "    \n",
    "except:\n",
    "    github_train_file_loc = \"./dataset/train.csv\"\n",
    "    github_test_file_loc = \"./dataset/test.csv\"\n",
    "    df = pd.read_csv(github_train_file_loc, index_col=0)\n",
    "    df_test = pd.read_csv(github_test_file_loc, index_col=0)"
   ]
  },
  {
   "cell_type": "markdown",
   "metadata": {},
   "source": [
    "# General Checks on the dataset"
   ]
  },
  {
   "cell_type": "code",
   "execution_count": 3,
   "metadata": {
    "execution": {
     "iopub.execute_input": "2024-11-17T19:20:14.045888Z",
     "iopub.status.busy": "2024-11-17T19:20:14.045399Z",
     "iopub.status.idle": "2024-11-17T19:20:14.053649Z",
     "shell.execute_reply": "2024-11-17T19:20:14.052250Z",
     "shell.execute_reply.started": "2024-11-17T19:20:14.045844Z"
    },
    "trusted": true
   },
   "outputs": [
    {
     "data": {
      "text/plain": [
       "(140700, 19)"
      ]
     },
     "execution_count": 3,
     "metadata": {},
     "output_type": "execute_result"
    }
   ],
   "source": [
    "df.shape"
   ]
  },
  {
   "cell_type": "code",
   "execution_count": 14,
   "metadata": {
    "execution": {
     "iopub.execute_input": "2024-11-17T19:20:15.787808Z",
     "iopub.status.busy": "2024-11-17T19:20:15.786881Z",
     "iopub.status.idle": "2024-11-17T19:20:15.805848Z",
     "shell.execute_reply": "2024-11-17T19:20:15.804277Z",
     "shell.execute_reply.started": "2024-11-17T19:20:15.787758Z"
    },
    "trusted": true
   },
   "outputs": [
    {
     "data": {
      "text/plain": [
       "Depression\n",
       "0    0.818287\n",
       "1    0.181713\n",
       "Name: count, dtype: float64"
      ]
     },
     "execution_count": 14,
     "metadata": {},
     "output_type": "execute_result"
    }
   ],
   "source": [
    "df[\"Depression\"].value_counts() / df.shape[0]"
   ]
  },
  {
   "cell_type": "code",
   "execution_count": 15,
   "metadata": {
    "execution": {
     "iopub.execute_input": "2024-11-17T19:20:19.256153Z",
     "iopub.status.busy": "2024-11-17T19:20:19.255722Z",
     "iopub.status.idle": "2024-11-17T19:20:19.335700Z",
     "shell.execute_reply": "2024-11-17T19:20:19.334187Z",
     "shell.execute_reply.started": "2024-11-17T19:20:19.256115Z"
    },
    "trusted": true
   },
   "outputs": [
    {
     "data": {
      "text/plain": [
       "Name                                          0\n",
       "Gender                                        0\n",
       "Age                                           0\n",
       "City                                          0\n",
       "Working Professional or Student               0\n",
       "Profession                                36630\n",
       "Academic Pressure                        112803\n",
       "Work Pressure                             27918\n",
       "CGPA                                     112802\n",
       "Study Satisfaction                       112803\n",
       "Job Satisfaction                          27910\n",
       "Sleep Duration                                0\n",
       "Dietary Habits                                4\n",
       "Degree                                        2\n",
       "Have you ever had suicidal thoughts ?         0\n",
       "Work/Study Hours                              0\n",
       "Financial Stress                              4\n",
       "Family History of Mental Illness              0\n",
       "Depression                                    0\n",
       "dtype: int64"
      ]
     },
     "execution_count": 15,
     "metadata": {},
     "output_type": "execute_result"
    }
   ],
   "source": [
    "df.isna().sum()"
   ]
  },
  {
   "cell_type": "code",
   "execution_count": 16,
   "metadata": {
    "execution": {
     "iopub.execute_input": "2024-11-17T19:20:23.492235Z",
     "iopub.status.busy": "2024-11-17T19:20:23.491786Z",
     "iopub.status.idle": "2024-11-17T19:20:23.583053Z",
     "shell.execute_reply": "2024-11-17T19:20:23.581670Z",
     "shell.execute_reply.started": "2024-11-17T19:20:23.492196Z"
    },
    "trusted": true
   },
   "outputs": [
    {
     "name": "stdout",
     "output_type": "stream",
     "text": [
      "<class 'pandas.core.frame.DataFrame'>\n",
      "Index: 140700 entries, 0 to 140699\n",
      "Data columns (total 19 columns):\n",
      " #   Column                                 Non-Null Count   Dtype  \n",
      "---  ------                                 --------------   -----  \n",
      " 0   Name                                   140700 non-null  object \n",
      " 1   Gender                                 140700 non-null  object \n",
      " 2   Age                                    140700 non-null  float64\n",
      " 3   City                                   140700 non-null  object \n",
      " 4   Working Professional or Student        140700 non-null  object \n",
      " 5   Profession                             104070 non-null  object \n",
      " 6   Academic Pressure                      27897 non-null   float64\n",
      " 7   Work Pressure                          112782 non-null  float64\n",
      " 8   CGPA                                   27898 non-null   float64\n",
      " 9   Study Satisfaction                     27897 non-null   float64\n",
      " 10  Job Satisfaction                       112790 non-null  float64\n",
      " 11  Sleep Duration                         140700 non-null  object \n",
      " 12  Dietary Habits                         140696 non-null  object \n",
      " 13  Degree                                 140698 non-null  object \n",
      " 14  Have you ever had suicidal thoughts ?  140700 non-null  object \n",
      " 15  Work/Study Hours                       140700 non-null  float64\n",
      " 16  Financial Stress                       140696 non-null  float64\n",
      " 17  Family History of Mental Illness       140700 non-null  object \n",
      " 18  Depression                             140700 non-null  int64  \n",
      "dtypes: float64(8), int64(1), object(10)\n",
      "memory usage: 21.5+ MB\n"
     ]
    }
   ],
   "source": [
    "df.info()"
   ]
  },
  {
   "cell_type": "markdown",
   "metadata": {},
   "source": [
    "# Data Exploration"
   ]
  },
  {
   "cell_type": "markdown",
   "metadata": {},
   "source": [
    "## Name, Gender, Age"
   ]
  },
  {
   "cell_type": "markdown",
   "metadata": {},
   "source": [
    "There are no missing values for Name, Gender, and Age columns. We are just looking at value counts to ensure that the values that we observe in these columns are reasonable and what we would expect based on the description of the columns"
   ]
  },
  {
   "cell_type": "code",
   "execution_count": 30,
   "metadata": {
    "execution": {
     "iopub.execute_input": "2024-11-17T19:24:05.451993Z",
     "iopub.status.busy": "2024-11-17T19:24:05.451533Z",
     "iopub.status.idle": "2024-11-17T19:24:10.166031Z",
     "shell.execute_reply": "2024-11-17T19:24:10.164801Z",
     "shell.execute_reply.started": "2024-11-17T19:24:05.451955Z"
    },
    "trusted": true
   },
   "outputs": [
    {
     "data": {
      "text/plain": [
       "<Axes: xlabel='Name', ylabel='count'>"
      ]
     },
     "execution_count": 30,
     "metadata": {},
     "output_type": "execute_result"
    },
    {
     "data": {
      "image/png": "[encoded data removed]",
      "text/plain": [
       "<Figure size 640x480 with 1 Axes>"
      ]
     },
     "metadata": {},
     "output_type": "display_data"
    }
   ],
   "source": [
    "name_df = df[\"Name\"].value_counts().reset_index() # 422 different names\n",
    "sns.barplot(name_df, x=\"Name\", y=\"count\")"
   ]
  },
  {
   "cell_type": "code",
   "execution_count": 31,
   "metadata": {
    "execution": {
     "iopub.execute_input": "2024-11-17T19:24:17.109218Z",
     "iopub.status.busy": "2024-11-17T19:24:17.108757Z",
     "iopub.status.idle": "2024-11-17T19:24:17.125023Z",
     "shell.execute_reply": "2024-11-17T19:24:17.123560Z",
     "shell.execute_reply.started": "2024-11-17T19:24:17.109174Z"
    },
    "trusted": true
   },
   "outputs": [
    {
     "data": {
      "text/plain": [
       "0"
      ]
     },
     "execution_count": 31,
     "metadata": {},
     "output_type": "execute_result"
    }
   ],
   "source": [
    "df[\"Name\"].isna().sum()"
   ]
  },
  {
   "cell_type": "code",
   "execution_count": 33,
   "metadata": {
    "execution": {
     "iopub.execute_input": "2024-11-17T19:25:04.032845Z",
     "iopub.status.busy": "2024-11-17T19:25:04.031668Z",
     "iopub.status.idle": "2024-11-17T19:25:04.055352Z",
     "shell.execute_reply": "2024-11-17T19:25:04.054058Z",
     "shell.execute_reply.started": "2024-11-17T19:25:04.032796Z"
    },
    "trusted": true
   },
   "outputs": [
    {
     "data": {
      "text/plain": [
       "Name\n",
       "Rohan       3178\n",
       "Aarav       2336\n",
       "Rupak       2176\n",
       "Aaradhya    2045\n",
       "Anvi        2035\n",
       "            ... \n",
       "Sneha        180\n",
       "Bhavna       167\n",
       "Ranveer      162\n",
       "Rupa         151\n",
       "Srishti      150\n",
       "Name: count, Length: 201, dtype: int64"
      ]
     },
     "execution_count": 33,
     "metadata": {},
     "output_type": "execute_result"
    }
   ],
   "source": [
    "# The plan is to one-hot-encode the first 200 names, and the rest are categorised as infrequent\n",
    "df[\"Name\"].value_counts().head(201)"
   ]
  },
  {
   "cell_type": "code",
   "execution_count": 36,
   "metadata": {
    "execution": {
     "iopub.execute_input": "2024-11-17T19:25:37.904749Z",
     "iopub.status.busy": "2024-11-17T19:25:37.904258Z",
     "iopub.status.idle": "2024-11-17T19:25:37.947162Z",
     "shell.execute_reply": "2024-11-17T19:25:37.945435Z",
     "shell.execute_reply.started": "2024-11-17T19:25:37.904706Z"
    },
    "trusted": true
   },
   "outputs": [
    {
     "data": {
      "text/html": [
       "<div>\n",
       "<style scoped>\n",
       "    .dataframe tbody tr th:only-of-type {\n",
       "        vertical-align: middle;\n",
       "    }\n",
       "\n",
       "    .dataframe tbody tr th {\n",
       "        vertical-align: top;\n",
       "    }\n",
       "\n",
       "    .dataframe thead th {\n",
       "        text-align: right;\n",
       "    }\n",
       "</style>\n",
       "<table border=\"1\" class=\"dataframe\">\n",
       "  <thead>\n",
       "    <tr style=\"text-align: right;\">\n",
       "      <th></th>\n",
       "      <th>Gender</th>\n",
       "      <th>Depression</th>\n",
       "      <th>count</th>\n",
       "      <th>pct</th>\n",
       "    </tr>\n",
       "  </thead>\n",
       "  <tbody>\n",
       "    <tr>\n",
       "      <th>0</th>\n",
       "      <td>Female</td>\n",
       "      <td>0</td>\n",
       "      <td>51965</td>\n",
       "      <td>36.933191</td>\n",
       "    </tr>\n",
       "    <tr>\n",
       "      <th>1</th>\n",
       "      <td>Female</td>\n",
       "      <td>1</td>\n",
       "      <td>11271</td>\n",
       "      <td>8.010661</td>\n",
       "    </tr>\n",
       "    <tr>\n",
       "      <th>2</th>\n",
       "      <td>Male</td>\n",
       "      <td>0</td>\n",
       "      <td>63168</td>\n",
       "      <td>44.895522</td>\n",
       "    </tr>\n",
       "    <tr>\n",
       "      <th>3</th>\n",
       "      <td>Male</td>\n",
       "      <td>1</td>\n",
       "      <td>14296</td>\n",
       "      <td>10.160625</td>\n",
       "    </tr>\n",
       "  </tbody>\n",
       "</table>\n",
       "</div>"
      ],
      "text/plain": [
       "   Gender  Depression  count        pct\n",
       "0  Female           0  51965  36.933191\n",
       "1  Female           1  11271   8.010661\n",
       "2    Male           0  63168  44.895522\n",
       "3    Male           1  14296  10.160625"
      ]
     },
     "execution_count": 36,
     "metadata": {},
     "output_type": "execute_result"
    }
   ],
   "source": [
    "gender_grouped = df.groupby([\"Gender\", \"Depression\"])[['Name']].count().reset_index()\n",
    "gender_grouped = gender_grouped.rename(columns={'Name':'count'})\n",
    "gender_grouped['pct'] = gender_grouped['count'] * 100.0 / df.shape[0]\n",
    "gender_grouped"
   ]
  },
  {
   "cell_type": "code",
   "execution_count": 37,
   "metadata": {
    "execution": {
     "iopub.execute_input": "2024-11-17T19:25:40.409438Z",
     "iopub.status.busy": "2024-11-17T19:25:40.409011Z",
     "iopub.status.idle": "2024-11-17T19:25:40.684792Z",
     "shell.execute_reply": "2024-11-17T19:25:40.683599Z",
     "shell.execute_reply.started": "2024-11-17T19:25:40.409400Z"
    },
    "trusted": true
   },
   "outputs": [
    {
     "data": {
      "text/plain": [
       "<Axes: xlabel='Gender', ylabel='count'>"
      ]
     },
     "execution_count": 37,
     "metadata": {},
     "output_type": "execute_result"
    },
    {
     "data": {
      "image/png": "[encoded data removed]",
      "text/plain": [
       "<Figure size 640x480 with 1 Axes>"
      ]
     },
     "metadata": {},
     "output_type": "display_data"
    }
   ],
   "source": [
    "# Clean we have a good representation of males and females in this dataset.\n",
    "# Approximately 18% of males and 22% of females have depression based on this dataset. Prevalence is fairly similar amongst the 2 genders.\n",
    "\n",
    "sns.barplot(gender_grouped, x=\"Gender\", y=\"count\", hue='Depression')"
   ]
  },
  {
   "cell_type": "code",
   "execution_count": 40,
   "metadata": {
    "execution": {
     "iopub.execute_input": "2024-11-17T19:27:33.822846Z",
     "iopub.status.busy": "2024-11-17T19:27:33.822295Z",
     "iopub.status.idle": "2024-11-17T19:27:34.475464Z",
     "shell.execute_reply": "2024-11-17T19:27:34.473778Z",
     "shell.execute_reply.started": "2024-11-17T19:27:33.822804Z"
    },
    "trusted": true
   },
   "outputs": [
    {
     "data": {
      "text/plain": [
       "<Axes: xlabel='Age', ylabel='count'>"
      ]
     },
     "execution_count": 40,
     "metadata": {},
     "output_type": "execute_result"
    },
    {
     "data": {
      "image/png": "[encoded data removed]",
      "text/plain": [
       "<Figure size 640x480 with 1 Axes>"
      ]
     },
     "metadata": {},
     "output_type": "display_data"
    }
   ],
   "source": [
    "age_plot = pd.DataFrame(df[\"Age\"].value_counts()).reset_index()\n",
    "\n",
    "sns.barplot(age_plot, x=\"Age\", y=\"count\")\n",
    "# We will perform a quantile-transform to transform the column to a gaussian-like distribution"
   ]
  },
  {
   "cell_type": "code",
   "execution_count": 41,
   "metadata": {
    "execution": {
     "iopub.execute_input": "2024-11-17T19:27:37.459646Z",
     "iopub.status.busy": "2024-11-17T19:27:37.459108Z",
     "iopub.status.idle": "2024-11-17T19:27:38.112755Z",
     "shell.execute_reply": "2024-11-17T19:27:38.110930Z",
     "shell.execute_reply.started": "2024-11-17T19:27:37.459599Z"
    },
    "trusted": true
   },
   "outputs": [
    {
     "name": "stderr",
     "output_type": "stream",
     "text": [
      "/opt/conda/lib/python3.10/site-packages/seaborn/_oldcore.py:1119: FutureWarning: use_inf_as_na option is deprecated and will be removed in a future version. Convert inf values to NaN before operating instead.\n",
      "  with pd.option_context('mode.use_inf_as_na', True):\n",
      "/opt/conda/lib/python3.10/site-packages/seaborn/_oldcore.py:1075: FutureWarning: When grouping with a length-1 list-like, you will need to pass a length-1 tuple to get_group in a future version of pandas. Pass `(name,)` instead of `name` to silence this warning.\n",
      "  data_subset = grouped_data.get_group(pd_key)\n",
      "/opt/conda/lib/python3.10/site-packages/seaborn/_oldcore.py:1075: FutureWarning: When grouping with a length-1 list-like, you will need to pass a length-1 tuple to get_group in a future version of pandas. Pass `(name,)` instead of `name` to silence this warning.\n",
      "  data_subset = grouped_data.get_group(pd_key)\n"
     ]
    },
    {
     "data": {
      "text/plain": [
       "<Axes: xlabel='Age', ylabel='Count'>"
      ]
     },
     "execution_count": 41,
     "metadata": {},
     "output_type": "execute_result"
    },
    {
     "data": {
      "image/png": "[encoded data removed]",
      "text/plain": [
       "<Figure size 640x480 with 1 Axes>"
      ]
     },
     "metadata": {},
     "output_type": "display_data"
    }
   ],
   "source": [
    "# we observe an interesting relationship between age and depression. Depression seem to be mroe prevalent amongst the younger population. \n",
    "# One can also question if it is a matter of depression being diagnosed amongst the older population due to a lack of knowledge?\n",
    "# We can make further enquire about how this data is collected - Is it self-reported or collected from a medcial database in the hospital?\n",
    "# The nature of self-reporting or a medical diagnosis of depression will provide more insights to how a conclusion can bw drawn from this chart.\n",
    "\n",
    "sns.histplot(df, x=\"Age\", hue='Depression')"
   ]
  },
  {
   "cell_type": "markdown",
   "metadata": {},
   "source": [
    "## Cities"
   ]
  },
  {
   "cell_type": "code",
   "execution_count": 42,
   "metadata": {
    "execution": {
     "iopub.execute_input": "2024-11-17T19:27:58.465499Z",
     "iopub.status.busy": "2024-11-17T19:27:58.465018Z",
     "iopub.status.idle": "2024-11-17T19:27:58.484432Z",
     "shell.execute_reply": "2024-11-17T19:27:58.482923Z",
     "shell.execute_reply.started": "2024-11-17T19:27:58.465457Z"
    },
    "trusted": true
   },
   "outputs": [
    {
     "data": {
      "text/plain": [
       "array(['Ludhiana', 'Varanasi', 'Visakhapatnam', 'Mumbai', 'Kanpur',\n",
       "       'Ahmedabad', 'Thane', 'Nashik', 'Bangalore', 'Patna', 'Rajkot',\n",
       "       'Jaipur', 'Pune', 'Lucknow', 'Meerut', 'Agra', 'Surat',\n",
       "       'Faridabad', 'Hyderabad', 'Srinagar', 'Ghaziabad', 'Kolkata',\n",
       "       'Chennai', 'Kalyan', 'Nagpur', 'Vadodara', 'Vasai-Virar', 'Delhi',\n",
       "       'Bhopal', 'Indore', 'Ishanabad', 'Vidhi', 'Ayush', 'Gurgaon',\n",
       "       'Krishna', 'Aishwarya', 'Keshav', 'Harsha', 'Nalini', 'Aditya',\n",
       "       'Malyansh', 'Raghavendra', 'Saanvi', 'M.Tech', 'Bhavna',\n",
       "       'Less Delhi', 'Nandini', 'M.Com', 'Plata', 'Atharv', 'Pratyush',\n",
       "       'City', '3.0', 'Less than 5 Kalyan', 'MCA', 'Mira', 'Moreadhyay',\n",
       "       'Morena', 'Ishkarsh', 'Kashk', 'Mihir', 'Vidya', 'Tolkata', 'Anvi',\n",
       "       'Krinda', 'Ayansh', 'Shrey', 'Ivaan', 'Vaanya', 'Gaurav', 'Harsh',\n",
       "       'Reyansh', 'Kashish', 'Kibara', 'Vaishnavi', 'Chhavi', 'Parth',\n",
       "       'Mahi', 'Tushar', 'MSc', 'No', 'Rashi', 'ME', 'Molkata',\n",
       "       'Researcher', 'Kagan', 'Armaan', 'Ithal', 'Nalyan', 'Dhruv',\n",
       "       'Galesabad', 'Itheg', 'Aaradhya', 'Pooja', 'Khushi', 'Khaziabad',\n",
       "       'Jhanvi', 'Unirar'], dtype=object)"
      ]
     },
     "execution_count": 42,
     "metadata": {},
     "output_type": "execute_result"
    }
   ],
   "source": [
    "# we observe quite a number of incorrect data in this column, such as 'M.Tech' which is the name of a degree, \n",
    "\n",
    "# df[\"City\"].nunique() #98 unique values\n",
    "df[\"City\"].unique()"
   ]
  },
  {
   "cell_type": "code",
   "execution_count": 44,
   "metadata": {
    "execution": {
     "iopub.execute_input": "2024-11-17T19:28:16.874380Z",
     "iopub.status.busy": "2024-11-17T19:28:16.873913Z",
     "iopub.status.idle": "2024-11-17T19:28:16.896946Z",
     "shell.execute_reply": "2024-11-17T19:28:16.895542Z",
     "shell.execute_reply.started": "2024-11-17T19:28:16.874339Z"
    },
    "trusted": true
   },
   "outputs": [
    {
     "data": {
      "text/plain": [
       "140602"
      ]
     },
     "execution_count": 44,
     "metadata": {},
     "output_type": "execute_result"
    }
   ],
   "source": [
    "# top 30 cities account for 140602, and the remaining 68 account for 98. We observe some errors in the city column which could be caused by a number of reasons - transposing error etc.\n",
    "cities = df[\"City\"].value_counts().head(30)\n",
    "cities.sum()"
   ]
  },
  {
   "cell_type": "code",
   "execution_count": 45,
   "metadata": {
    "execution": {
     "iopub.execute_input": "2024-11-17T19:28:18.038679Z",
     "iopub.status.busy": "2024-11-17T19:28:18.037470Z",
     "iopub.status.idle": "2024-11-17T19:28:18.059619Z",
     "shell.execute_reply": "2024-11-17T19:28:18.058205Z",
     "shell.execute_reply.started": "2024-11-17T19:28:18.038621Z"
    },
    "trusted": true
   },
   "outputs": [
    {
     "data": {
      "text/plain": [
       "City\n",
       "Kalyan           6591\n",
       "Patna            5924\n",
       "Vasai-Virar      5765\n",
       "Kolkata          5689\n",
       "Ahmedabad        5613\n",
       "Meerut           5528\n",
       "Ludhiana         5226\n",
       "Pune             5210\n",
       "Rajkot           5207\n",
       "Visakhapatnam    5176\n",
       "Srinagar         5074\n",
       "Mumbai           4966\n",
       "Indore           4872\n",
       "Agra             4684\n",
       "Surat            4636\n",
       "Varanasi         4606\n",
       "Vadodara         4568\n",
       "Hyderabad        4496\n",
       "Kanpur           4398\n",
       "Jaipur           4328\n",
       "Thane            4289\n",
       "Lucknow          4280\n",
       "Nagpur           4209\n",
       "Bangalore        4123\n",
       "Chennai          4044\n",
       "Ghaziabad        3620\n",
       "Delhi            3593\n",
       "Bhopal           3475\n",
       "Faridabad        3268\n",
       "Nashik           3144\n",
       "Mihir               7\n",
       "Name: count, dtype: int64"
      ]
     },
     "execution_count": 45,
     "metadata": {},
     "output_type": "execute_result"
    }
   ],
   "source": [
    "df[\"City\"].value_counts().head(31)"
   ]
  },
  {
   "cell_type": "code",
   "execution_count": 46,
   "metadata": {
    "execution": {
     "iopub.execute_input": "2024-11-17T19:28:20.981512Z",
     "iopub.status.busy": "2024-11-17T19:28:20.980399Z",
     "iopub.status.idle": "2024-11-17T19:28:21.023848Z",
     "shell.execute_reply": "2024-11-17T19:28:21.022640Z",
     "shell.execute_reply.started": "2024-11-17T19:28:20.981449Z"
    },
    "trusted": true
   },
   "outputs": [
    {
     "data": {
      "text/plain": [
       "Name                                      0\n",
       "Gender                                    0\n",
       "Age                                       0\n",
       "City                                      0\n",
       "Working Professional or Student           0\n",
       "Profession                               28\n",
       "Academic Pressure                        72\n",
       "Work Pressure                            26\n",
       "CGPA                                     72\n",
       "Study Satisfaction                       72\n",
       "Job Satisfaction                         26\n",
       "Sleep Duration                            0\n",
       "Dietary Habits                            0\n",
       "Degree                                    0\n",
       "Have you ever had suicidal thoughts ?     0\n",
       "Work/Study Hours                          0\n",
       "Financial Stress                          0\n",
       "Family History of Mental Illness          0\n",
       "Depression                                0\n",
       "dtype: int64"
      ]
     },
     "execution_count": 46,
     "metadata": {},
     "output_type": "execute_result"
    }
   ],
   "source": [
    "cities_list = df[\"City\"].value_counts().head(30).index\n",
    "df.query(\"City not in @cities_list\").isna().sum()\n",
    "\n",
    "# df.query(\"City not in @cities_list\")[\"Depression\"].sum() # 19 out of 98 have Depression (19.3%) which is fairly similar to the dataset's 18.1%"
   ]
  },
  {
   "cell_type": "markdown",
   "metadata": {},
   "source": [
    "## CGPA (Suggest to remove?)"
   ]
  },
  {
   "cell_type": "code",
   "execution_count": 47,
   "metadata": {
    "execution": {
     "iopub.execute_input": "2024-11-17T19:28:46.640619Z",
     "iopub.status.busy": "2024-11-17T19:28:46.640131Z",
     "iopub.status.idle": "2024-11-17T19:28:46.650984Z",
     "shell.execute_reply": "2024-11-17T19:28:46.649662Z",
     "shell.execute_reply.started": "2024-11-17T19:28:46.640560Z"
    },
    "trusted": true
   },
   "outputs": [
    {
     "data": {
      "text/plain": [
       "0.19828002842928216"
      ]
     },
     "execution_count": 47,
     "metadata": {},
     "output_type": "execute_result"
    }
   ],
   "source": [
    "df[\"CGPA\"].notna().sum() / df[\"CGPA\"].shape[0]"
   ]
  },
  {
   "cell_type": "code",
   "execution_count": 48,
   "metadata": {
    "execution": {
     "iopub.execute_input": "2024-11-17T19:28:48.419132Z",
     "iopub.status.busy": "2024-11-17T19:28:48.417833Z",
     "iopub.status.idle": "2024-11-17T19:28:48.489420Z",
     "shell.execute_reply": "2024-11-17T19:28:48.487958Z",
     "shell.execute_reply.started": "2024-11-17T19:28:48.418947Z"
    },
    "trusted": true
   },
   "outputs": [
    {
     "data": {
      "text/plain": [
       "(7.685406617286974, 7.620812143227817)"
      ]
     },
     "execution_count": 48,
     "metadata": {},
     "output_type": "execute_result"
    }
   ],
   "source": [
    "# we take a look at the potential differences in CGPA beteen a student with depression and a student without.\n",
    "\n",
    "df.query(\"Depression == 1\")[\"CGPA\"].mean(), df.query(\"Depression == 0\")[\"CGPA\"].mean()"
   ]
  },
  {
   "cell_type": "markdown",
   "metadata": {},
   "source": [
    "The Mann Whitney U test suggests that there are difference in CGPA between people with depression and people without"
   ]
  },
  {
   "cell_type": "code",
   "execution_count": 49,
   "metadata": {
    "execution": {
     "iopub.execute_input": "2024-11-17T19:28:53.625649Z",
     "iopub.status.busy": "2024-11-17T19:28:53.625165Z",
     "iopub.status.idle": "2024-11-17T19:28:53.682845Z",
     "shell.execute_reply": "2024-11-17T19:28:53.681664Z",
     "shell.execute_reply.started": "2024-11-17T19:28:53.625602Z"
    },
    "trusted": true
   },
   "outputs": [
    {
     "data": {
      "text/plain": [
       "MannwhitneyuResult(statistic=92054552.5, pvalue=0.00032127284999336757)"
      ]
     },
     "execution_count": 49,
     "metadata": {},
     "output_type": "execute_result"
    }
   ],
   "source": [
    "mannwhitneyu(df[df[\"CGPA\"].notna()].query(\"Depression == 0\")[\"CGPA\"], df[df[\"CGPA\"].notna()].query(\"Depression == 1\")[\"CGPA\"])"
   ]
  },
  {
   "cell_type": "markdown",
   "metadata": {},
   "source": [
    "If you take a look at thatdvisualisation, they are actually pretty similar in trends"
   ]
  },
  {
   "cell_type": "code",
   "execution_count": 50,
   "metadata": {
    "execution": {
     "iopub.execute_input": "2024-11-17T19:29:00.110148Z",
     "iopub.status.busy": "2024-11-17T19:29:00.109323Z",
     "iopub.status.idle": "2024-11-17T19:29:00.681833Z",
     "shell.execute_reply": "2024-11-17T19:29:00.680452Z",
     "shell.execute_reply.started": "2024-11-17T19:29:00.110078Z"
    },
    "trusted": true
   },
   "outputs": [
    {
     "name": "stderr",
     "output_type": "stream",
     "text": [
      "/opt/conda/lib/python3.10/site-packages/seaborn/_oldcore.py:1119: FutureWarning: use_inf_as_na option is deprecated and will be removed in a future version. Convert inf values to NaN before operating instead.\n",
      "  with pd.option_context('mode.use_inf_as_na', True):\n",
      "/opt/conda/lib/python3.10/site-packages/seaborn/_oldcore.py:1075: FutureWarning: When grouping with a length-1 list-like, you will need to pass a length-1 tuple to get_group in a future version of pandas. Pass `(name,)` instead of `name` to silence this warning.\n",
      "  data_subset = grouped_data.get_group(pd_key)\n",
      "/opt/conda/lib/python3.10/site-packages/seaborn/_oldcore.py:1075: FutureWarning: When grouping with a length-1 list-like, you will need to pass a length-1 tuple to get_group in a future version of pandas. Pass `(name,)` instead of `name` to silence this warning.\n",
      "  data_subset = grouped_data.get_group(pd_key)\n"
     ]
    },
    {
     "data": {
      "text/plain": [
       "<Axes: xlabel='CGPA', ylabel='Count'>"
      ]
     },
     "execution_count": 50,
     "metadata": {},
     "output_type": "execute_result"
    },
    {
     "data": {
      "image/png": "[encoded data removed]",
      "text/plain": [
       "<Figure size 640x480 with 1 Axes>"
      ]
     },
     "metadata": {},
     "output_type": "display_data"
    }
   ],
   "source": [
    "sns.histplot(df, x=\"CGPA\", hue='Depression')"
   ]
  },
  {
   "cell_type": "markdown",
   "metadata": {},
   "source": [
    "Ultimately, the lack of data is the primary reason to why we should consider dropping this column"
   ]
  },
  {
   "cell_type": "markdown",
   "metadata": {},
   "source": [
    "## Profession"
   ]
  },
  {
   "cell_type": "markdown",
   "metadata": {},
   "source": [
    "- The intention is to combine the `Working Professional or Student` and `Profession` columns to remove (or minimise) missing values in the profession column. We first determine if there are any extra information contained in both columns such that a simple merge of the 2 columns cannot be easily done."
   ]
  },
  {
   "cell_type": "code",
   "execution_count": 51,
   "metadata": {
    "execution": {
     "iopub.execute_input": "2024-11-17T19:29:17.650042Z",
     "iopub.status.busy": "2024-11-17T19:29:17.649524Z",
     "iopub.status.idle": "2024-11-17T19:29:17.702212Z",
     "shell.execute_reply": "2024-11-17T19:29:17.699434Z",
     "shell.execute_reply.started": "2024-11-17T19:29:17.650000Z"
    },
    "trusted": true
   },
   "outputs": [
    {
     "data": {
      "text/plain": [
       "112799"
      ]
     },
     "execution_count": 51,
     "metadata": {},
     "output_type": "execute_result"
    }
   ],
   "source": [
    "professional = df[df[\"Working Professional or Student\"] != \"Student\"]\n",
    "professional.shape[0]"
   ]
  },
  {
   "cell_type": "code",
   "execution_count": 52,
   "metadata": {
    "execution": {
     "iopub.execute_input": "2024-11-17T19:29:18.092521Z",
     "iopub.status.busy": "2024-11-17T19:29:18.092022Z",
     "iopub.status.idle": "2024-11-17T19:29:18.122005Z",
     "shell.execute_reply": "2024-11-17T19:29:18.120772Z",
     "shell.execute_reply.started": "2024-11-17T19:29:18.092479Z"
    },
    "trusted": true
   },
   "outputs": [
    {
     "data": {
      "text/html": [
       "<div>\n",
       "<style scoped>\n",
       "    .dataframe tbody tr th:only-of-type {\n",
       "        vertical-align: middle;\n",
       "    }\n",
       "\n",
       "    .dataframe tbody tr th {\n",
       "        vertical-align: top;\n",
       "    }\n",
       "\n",
       "    .dataframe thead th {\n",
       "        text-align: right;\n",
       "    }\n",
       "</style>\n",
       "<table border=\"1\" class=\"dataframe\">\n",
       "  <thead>\n",
       "    <tr style=\"text-align: right;\">\n",
       "      <th></th>\n",
       "      <th>Name</th>\n",
       "      <th>Gender</th>\n",
       "      <th>Age</th>\n",
       "      <th>City</th>\n",
       "      <th>Working Professional or Student</th>\n",
       "      <th>Profession</th>\n",
       "      <th>Academic Pressure</th>\n",
       "      <th>Work Pressure</th>\n",
       "      <th>CGPA</th>\n",
       "      <th>Study Satisfaction</th>\n",
       "      <th>Job Satisfaction</th>\n",
       "      <th>Sleep Duration</th>\n",
       "      <th>Dietary Habits</th>\n",
       "      <th>Degree</th>\n",
       "      <th>Have you ever had suicidal thoughts ?</th>\n",
       "      <th>Work/Study Hours</th>\n",
       "      <th>Financial Stress</th>\n",
       "      <th>Family History of Mental Illness</th>\n",
       "      <th>Depression</th>\n",
       "    </tr>\n",
       "    <tr>\n",
       "      <th>id</th>\n",
       "      <th></th>\n",
       "      <th></th>\n",
       "      <th></th>\n",
       "      <th></th>\n",
       "      <th></th>\n",
       "      <th></th>\n",
       "      <th></th>\n",
       "      <th></th>\n",
       "      <th></th>\n",
       "      <th></th>\n",
       "      <th></th>\n",
       "      <th></th>\n",
       "      <th></th>\n",
       "      <th></th>\n",
       "      <th></th>\n",
       "      <th></th>\n",
       "      <th></th>\n",
       "      <th></th>\n",
       "      <th></th>\n",
       "    </tr>\n",
       "  </thead>\n",
       "  <tbody>\n",
       "  </tbody>\n",
       "</table>\n",
       "</div>"
      ],
      "text/plain": [
       "Empty DataFrame\n",
       "Columns: [Name, Gender, Age, City, Working Professional or Student, Profession, Academic Pressure, Work Pressure, CGPA, Study Satisfaction, Job Satisfaction, Sleep Duration, Dietary Habits, Degree, Have you ever had suicidal thoughts ?, Work/Study Hours, Financial Stress, Family History of Mental Illness, Depression]\n",
       "Index: []"
      ]
     },
     "execution_count": 52,
     "metadata": {},
     "output_type": "execute_result"
    }
   ],
   "source": [
    "professional[professional[\"Working Professional or Student\"].isna() & professional[\"Profession\"].isna()]\n",
    "\n",
    "# If you are a professional, there are 0 rows that has both columns \"working professional or student\" and \"Profession\" omitted"
   ]
  },
  {
   "cell_type": "code",
   "execution_count": 53,
   "metadata": {
    "execution": {
     "iopub.execute_input": "2024-11-17T19:29:19.019570Z",
     "iopub.status.busy": "2024-11-17T19:29:19.019054Z",
     "iopub.status.idle": "2024-11-17T19:29:19.049654Z",
     "shell.execute_reply": "2024-11-17T19:29:19.047902Z",
     "shell.execute_reply.started": "2024-11-17T19:29:19.019526Z"
    },
    "trusted": true
   },
   "outputs": [
    {
     "data": {
      "text/plain": [
       "27901"
      ]
     },
     "execution_count": 53,
     "metadata": {},
     "output_type": "execute_result"
    }
   ],
   "source": [
    "student_df = df[df[\"Working Professional or Student\"] == \"Student\"]\n",
    "student_df.shape[0]"
   ]
  },
  {
   "cell_type": "code",
   "execution_count": 54,
   "metadata": {
    "execution": {
     "iopub.execute_input": "2024-11-17T19:29:19.776164Z",
     "iopub.status.busy": "2024-11-17T19:29:19.775067Z",
     "iopub.status.idle": "2024-11-17T19:29:19.803589Z",
     "shell.execute_reply": "2024-11-17T19:29:19.801998Z",
     "shell.execute_reply.started": "2024-11-17T19:29:19.776113Z"
    },
    "trusted": true
   },
   "outputs": [
    {
     "data": {
      "text/html": [
       "<div>\n",
       "<style scoped>\n",
       "    .dataframe tbody tr th:only-of-type {\n",
       "        vertical-align: middle;\n",
       "    }\n",
       "\n",
       "    .dataframe tbody tr th {\n",
       "        vertical-align: top;\n",
       "    }\n",
       "\n",
       "    .dataframe thead th {\n",
       "        text-align: right;\n",
       "    }\n",
       "</style>\n",
       "<table border=\"1\" class=\"dataframe\">\n",
       "  <thead>\n",
       "    <tr style=\"text-align: right;\">\n",
       "      <th></th>\n",
       "      <th>Name</th>\n",
       "      <th>Gender</th>\n",
       "      <th>Age</th>\n",
       "      <th>City</th>\n",
       "      <th>Working Professional or Student</th>\n",
       "      <th>Profession</th>\n",
       "      <th>Academic Pressure</th>\n",
       "      <th>Work Pressure</th>\n",
       "      <th>CGPA</th>\n",
       "      <th>Study Satisfaction</th>\n",
       "      <th>Job Satisfaction</th>\n",
       "      <th>Sleep Duration</th>\n",
       "      <th>Dietary Habits</th>\n",
       "      <th>Degree</th>\n",
       "      <th>Have you ever had suicidal thoughts ?</th>\n",
       "      <th>Work/Study Hours</th>\n",
       "      <th>Financial Stress</th>\n",
       "      <th>Family History of Mental Illness</th>\n",
       "      <th>Depression</th>\n",
       "    </tr>\n",
       "    <tr>\n",
       "      <th>id</th>\n",
       "      <th></th>\n",
       "      <th></th>\n",
       "      <th></th>\n",
       "      <th></th>\n",
       "      <th></th>\n",
       "      <th></th>\n",
       "      <th></th>\n",
       "      <th></th>\n",
       "      <th></th>\n",
       "      <th></th>\n",
       "      <th></th>\n",
       "      <th></th>\n",
       "      <th></th>\n",
       "      <th></th>\n",
       "      <th></th>\n",
       "      <th></th>\n",
       "      <th></th>\n",
       "      <th></th>\n",
       "      <th></th>\n",
       "    </tr>\n",
       "  </thead>\n",
       "  <tbody>\n",
       "    <tr>\n",
       "      <th>2</th>\n",
       "      <td>Yuvraj</td>\n",
       "      <td>Male</td>\n",
       "      <td>33.0</td>\n",
       "      <td>Visakhapatnam</td>\n",
       "      <td>Student</td>\n",
       "      <td>NaN</td>\n",
       "      <td>5.0</td>\n",
       "      <td>NaN</td>\n",
       "      <td>8.97</td>\n",
       "      <td>2.0</td>\n",
       "      <td>NaN</td>\n",
       "      <td>5-6 hours</td>\n",
       "      <td>Healthy</td>\n",
       "      <td>B.Pharm</td>\n",
       "      <td>Yes</td>\n",
       "      <td>3.0</td>\n",
       "      <td>1.0</td>\n",
       "      <td>No</td>\n",
       "      <td>1</td>\n",
       "    </tr>\n",
       "    <tr>\n",
       "      <th>8</th>\n",
       "      <td>Aishwarya</td>\n",
       "      <td>Female</td>\n",
       "      <td>24.0</td>\n",
       "      <td>Bangalore</td>\n",
       "      <td>Student</td>\n",
       "      <td>NaN</td>\n",
       "      <td>2.0</td>\n",
       "      <td>NaN</td>\n",
       "      <td>5.90</td>\n",
       "      <td>5.0</td>\n",
       "      <td>NaN</td>\n",
       "      <td>5-6 hours</td>\n",
       "      <td>Moderate</td>\n",
       "      <td>BSc</td>\n",
       "      <td>No</td>\n",
       "      <td>3.0</td>\n",
       "      <td>2.0</td>\n",
       "      <td>Yes</td>\n",
       "      <td>0</td>\n",
       "    </tr>\n",
       "    <tr>\n",
       "      <th>26</th>\n",
       "      <td>Aditya</td>\n",
       "      <td>Male</td>\n",
       "      <td>31.0</td>\n",
       "      <td>Srinagar</td>\n",
       "      <td>Student</td>\n",
       "      <td>NaN</td>\n",
       "      <td>3.0</td>\n",
       "      <td>NaN</td>\n",
       "      <td>7.03</td>\n",
       "      <td>5.0</td>\n",
       "      <td>NaN</td>\n",
       "      <td>Less than 5 hours</td>\n",
       "      <td>Healthy</td>\n",
       "      <td>BA</td>\n",
       "      <td>No</td>\n",
       "      <td>9.0</td>\n",
       "      <td>1.0</td>\n",
       "      <td>Yes</td>\n",
       "      <td>0</td>\n",
       "    </tr>\n",
       "    <tr>\n",
       "      <th>30</th>\n",
       "      <td>Prisha</td>\n",
       "      <td>Female</td>\n",
       "      <td>28.0</td>\n",
       "      <td>Varanasi</td>\n",
       "      <td>Student</td>\n",
       "      <td>NaN</td>\n",
       "      <td>3.0</td>\n",
       "      <td>NaN</td>\n",
       "      <td>5.59</td>\n",
       "      <td>2.0</td>\n",
       "      <td>NaN</td>\n",
       "      <td>7-8 hours</td>\n",
       "      <td>Moderate</td>\n",
       "      <td>BCA</td>\n",
       "      <td>Yes</td>\n",
       "      <td>4.0</td>\n",
       "      <td>5.0</td>\n",
       "      <td>Yes</td>\n",
       "      <td>1</td>\n",
       "    </tr>\n",
       "    <tr>\n",
       "      <th>32</th>\n",
       "      <td>Chhavi</td>\n",
       "      <td>Female</td>\n",
       "      <td>25.0</td>\n",
       "      <td>Jaipur</td>\n",
       "      <td>Student</td>\n",
       "      <td>NaN</td>\n",
       "      <td>4.0</td>\n",
       "      <td>NaN</td>\n",
       "      <td>8.13</td>\n",
       "      <td>3.0</td>\n",
       "      <td>NaN</td>\n",
       "      <td>5-6 hours</td>\n",
       "      <td>Moderate</td>\n",
       "      <td>M.Tech</td>\n",
       "      <td>Yes</td>\n",
       "      <td>1.0</td>\n",
       "      <td>1.0</td>\n",
       "      <td>No</td>\n",
       "      <td>0</td>\n",
       "    </tr>\n",
       "  </tbody>\n",
       "</table>\n",
       "</div>"
      ],
      "text/plain": [
       "         Name  Gender   Age           City Working Professional or Student  \\\n",
       "id                                                                           \n",
       "2      Yuvraj    Male  33.0  Visakhapatnam                         Student   \n",
       "8   Aishwarya  Female  24.0      Bangalore                         Student   \n",
       "26     Aditya    Male  31.0       Srinagar                         Student   \n",
       "30     Prisha  Female  28.0       Varanasi                         Student   \n",
       "32     Chhavi  Female  25.0         Jaipur                         Student   \n",
       "\n",
       "   Profession  Academic Pressure  Work Pressure  CGPA  Study Satisfaction  \\\n",
       "id                                                                          \n",
       "2         NaN                5.0            NaN  8.97                 2.0   \n",
       "8         NaN                2.0            NaN  5.90                 5.0   \n",
       "26        NaN                3.0            NaN  7.03                 5.0   \n",
       "30        NaN                3.0            NaN  5.59                 2.0   \n",
       "32        NaN                4.0            NaN  8.13                 3.0   \n",
       "\n",
       "    Job Satisfaction     Sleep Duration Dietary Habits   Degree  \\\n",
       "id                                                                \n",
       "2                NaN          5-6 hours        Healthy  B.Pharm   \n",
       "8                NaN          5-6 hours       Moderate      BSc   \n",
       "26               NaN  Less than 5 hours        Healthy       BA   \n",
       "30               NaN          7-8 hours       Moderate      BCA   \n",
       "32               NaN          5-6 hours       Moderate   M.Tech   \n",
       "\n",
       "   Have you ever had suicidal thoughts ?  Work/Study Hours  Financial Stress  \\\n",
       "id                                                                             \n",
       "2                                    Yes               3.0               1.0   \n",
       "8                                     No               3.0               2.0   \n",
       "26                                    No               9.0               1.0   \n",
       "30                                   Yes               4.0               5.0   \n",
       "32                                   Yes               1.0               1.0   \n",
       "\n",
       "   Family History of Mental Illness  Depression  \n",
       "id                                               \n",
       "2                                No           1  \n",
       "8                               Yes           0  \n",
       "26                              Yes           0  \n",
       "30                              Yes           1  \n",
       "32                               No           0  "
      ]
     },
     "execution_count": 54,
     "metadata": {},
     "output_type": "execute_result"
    }
   ],
   "source": [
    "student_df.head()"
   ]
  },
  {
   "cell_type": "code",
   "execution_count": 55,
   "metadata": {
    "execution": {
     "iopub.execute_input": "2024-11-17T19:29:20.803811Z",
     "iopub.status.busy": "2024-11-17T19:29:20.802594Z",
     "iopub.status.idle": "2024-11-17T19:29:20.840979Z",
     "shell.execute_reply": "2024-11-17T19:29:20.839657Z",
     "shell.execute_reply.started": "2024-11-17T19:29:20.803759Z"
    },
    "trusted": true
   },
   "outputs": [
    {
     "data": {
      "text/html": [
       "<div>\n",
       "<style scoped>\n",
       "    .dataframe tbody tr th:only-of-type {\n",
       "        vertical-align: middle;\n",
       "    }\n",
       "\n",
       "    .dataframe tbody tr th {\n",
       "        vertical-align: top;\n",
       "    }\n",
       "\n",
       "    .dataframe thead th {\n",
       "        text-align: right;\n",
       "    }\n",
       "</style>\n",
       "<table border=\"1\" class=\"dataframe\">\n",
       "  <thead>\n",
       "    <tr style=\"text-align: right;\">\n",
       "      <th></th>\n",
       "      <th>Name</th>\n",
       "      <th>Gender</th>\n",
       "      <th>Age</th>\n",
       "      <th>City</th>\n",
       "      <th>Working Professional or Student</th>\n",
       "      <th>Profession</th>\n",
       "      <th>Academic Pressure</th>\n",
       "      <th>Work Pressure</th>\n",
       "      <th>CGPA</th>\n",
       "      <th>Study Satisfaction</th>\n",
       "      <th>Job Satisfaction</th>\n",
       "      <th>Sleep Duration</th>\n",
       "      <th>Dietary Habits</th>\n",
       "      <th>Degree</th>\n",
       "      <th>Have you ever had suicidal thoughts ?</th>\n",
       "      <th>Work/Study Hours</th>\n",
       "      <th>Financial Stress</th>\n",
       "      <th>Family History of Mental Illness</th>\n",
       "      <th>Depression</th>\n",
       "    </tr>\n",
       "    <tr>\n",
       "      <th>id</th>\n",
       "      <th></th>\n",
       "      <th></th>\n",
       "      <th></th>\n",
       "      <th></th>\n",
       "      <th></th>\n",
       "      <th></th>\n",
       "      <th></th>\n",
       "      <th></th>\n",
       "      <th></th>\n",
       "      <th></th>\n",
       "      <th></th>\n",
       "      <th></th>\n",
       "      <th></th>\n",
       "      <th></th>\n",
       "      <th></th>\n",
       "      <th></th>\n",
       "      <th></th>\n",
       "      <th></th>\n",
       "      <th></th>\n",
       "    </tr>\n",
       "  </thead>\n",
       "  <tbody>\n",
       "    <tr>\n",
       "      <th>609</th>\n",
       "      <td>Anand</td>\n",
       "      <td>Male</td>\n",
       "      <td>21.0</td>\n",
       "      <td>Ahmedabad</td>\n",
       "      <td>Student</td>\n",
       "      <td>Civil Engineer</td>\n",
       "      <td>5.0</td>\n",
       "      <td>NaN</td>\n",
       "      <td>7.83</td>\n",
       "      <td>1.0</td>\n",
       "      <td>NaN</td>\n",
       "      <td>5-6 hours</td>\n",
       "      <td>Healthy</td>\n",
       "      <td>MSc</td>\n",
       "      <td>Yes</td>\n",
       "      <td>11.0</td>\n",
       "      <td>3.0</td>\n",
       "      <td>Yes</td>\n",
       "      <td>1</td>\n",
       "    </tr>\n",
       "    <tr>\n",
       "      <th>2105</th>\n",
       "      <td>Shreya</td>\n",
       "      <td>Female</td>\n",
       "      <td>31.0</td>\n",
       "      <td>Vadodara</td>\n",
       "      <td>Student</td>\n",
       "      <td>Architect</td>\n",
       "      <td>5.0</td>\n",
       "      <td>NaN</td>\n",
       "      <td>6.95</td>\n",
       "      <td>3.0</td>\n",
       "      <td>NaN</td>\n",
       "      <td>Less than 5 hours</td>\n",
       "      <td>Moderate</td>\n",
       "      <td>BSc</td>\n",
       "      <td>No</td>\n",
       "      <td>8.0</td>\n",
       "      <td>1.0</td>\n",
       "      <td>Yes</td>\n",
       "      <td>1</td>\n",
       "    </tr>\n",
       "    <tr>\n",
       "      <th>9483</th>\n",
       "      <td>Vidya</td>\n",
       "      <td>Female</td>\n",
       "      <td>32.0</td>\n",
       "      <td>Kalyan</td>\n",
       "      <td>Student</td>\n",
       "      <td>UX/UI Designer</td>\n",
       "      <td>3.0</td>\n",
       "      <td>NaN</td>\n",
       "      <td>9.60</td>\n",
       "      <td>2.0</td>\n",
       "      <td>NaN</td>\n",
       "      <td>7-8 hours</td>\n",
       "      <td>Moderate</td>\n",
       "      <td>PhD</td>\n",
       "      <td>Yes</td>\n",
       "      <td>5.0</td>\n",
       "      <td>3.0</td>\n",
       "      <td>No</td>\n",
       "      <td>1</td>\n",
       "    </tr>\n",
       "    <tr>\n",
       "      <th>11470</th>\n",
       "      <td>Anjali</td>\n",
       "      <td>Female</td>\n",
       "      <td>28.0</td>\n",
       "      <td>Ahmedabad</td>\n",
       "      <td>Student</td>\n",
       "      <td>Digital Marketer</td>\n",
       "      <td>5.0</td>\n",
       "      <td>NaN</td>\n",
       "      <td>9.72</td>\n",
       "      <td>3.0</td>\n",
       "      <td>NaN</td>\n",
       "      <td>More than 8 hours</td>\n",
       "      <td>Healthy</td>\n",
       "      <td>MA</td>\n",
       "      <td>Yes</td>\n",
       "      <td>10.0</td>\n",
       "      <td>5.0</td>\n",
       "      <td>Yes</td>\n",
       "      <td>1</td>\n",
       "    </tr>\n",
       "    <tr>\n",
       "      <th>12425</th>\n",
       "      <td>Rupak</td>\n",
       "      <td>Male</td>\n",
       "      <td>25.0</td>\n",
       "      <td>Kalyan</td>\n",
       "      <td>Student</td>\n",
       "      <td>Content Writer</td>\n",
       "      <td>5.0</td>\n",
       "      <td>NaN</td>\n",
       "      <td>8.50</td>\n",
       "      <td>2.0</td>\n",
       "      <td>NaN</td>\n",
       "      <td>5-6 hours</td>\n",
       "      <td>Moderate</td>\n",
       "      <td>B.Ed</td>\n",
       "      <td>Yes</td>\n",
       "      <td>0.0</td>\n",
       "      <td>2.0</td>\n",
       "      <td>Yes</td>\n",
       "      <td>1</td>\n",
       "    </tr>\n",
       "  </tbody>\n",
       "</table>\n",
       "</div>"
      ],
      "text/plain": [
       "         Name  Gender   Age       City Working Professional or Student  \\\n",
       "id                                                                       \n",
       "609     Anand    Male  21.0  Ahmedabad                         Student   \n",
       "2105   Shreya  Female  31.0   Vadodara                         Student   \n",
       "9483    Vidya  Female  32.0     Kalyan                         Student   \n",
       "11470  Anjali  Female  28.0  Ahmedabad                         Student   \n",
       "12425   Rupak    Male  25.0     Kalyan                         Student   \n",
       "\n",
       "             Profession  Academic Pressure  Work Pressure  CGPA  \\\n",
       "id                                                                \n",
       "609      Civil Engineer                5.0            NaN  7.83   \n",
       "2105          Architect                5.0            NaN  6.95   \n",
       "9483     UX/UI Designer                3.0            NaN  9.60   \n",
       "11470  Digital Marketer                5.0            NaN  9.72   \n",
       "12425    Content Writer                5.0            NaN  8.50   \n",
       "\n",
       "       Study Satisfaction  Job Satisfaction     Sleep Duration Dietary Habits  \\\n",
       "id                                                                              \n",
       "609                   1.0               NaN          5-6 hours        Healthy   \n",
       "2105                  3.0               NaN  Less than 5 hours       Moderate   \n",
       "9483                  2.0               NaN          7-8 hours       Moderate   \n",
       "11470                 3.0               NaN  More than 8 hours        Healthy   \n",
       "12425                 2.0               NaN          5-6 hours       Moderate   \n",
       "\n",
       "      Degree Have you ever had suicidal thoughts ?  Work/Study Hours  \\\n",
       "id                                                                     \n",
       "609      MSc                                   Yes              11.0   \n",
       "2105     BSc                                    No               8.0   \n",
       "9483     PhD                                   Yes               5.0   \n",
       "11470     MA                                   Yes              10.0   \n",
       "12425   B.Ed                                   Yes               0.0   \n",
       "\n",
       "       Financial Stress Family History of Mental Illness  Depression  \n",
       "id                                                                    \n",
       "609                 3.0                              Yes           1  \n",
       "2105                1.0                              Yes           1  \n",
       "9483                3.0                               No           1  \n",
       "11470               5.0                              Yes           1  \n",
       "12425               2.0                              Yes           1  "
      ]
     },
     "execution_count": 55,
     "metadata": {},
     "output_type": "execute_result"
    }
   ],
   "source": [
    "student_df[student_df[\"Working Professional or Student\"].notna() & student_df[\"Profession\"].notna()].head()\n",
    "\n",
    "# There are 34 entries that include the nature of professional on top of a student. For these 34 students, we will omit their profession since it the student profession is the more important professional here."
   ]
  },
  {
   "cell_type": "code",
   "execution_count": 56,
   "metadata": {
    "execution": {
     "iopub.execute_input": "2024-11-17T19:29:21.640505Z",
     "iopub.status.busy": "2024-11-17T19:29:21.639975Z",
     "iopub.status.idle": "2024-11-17T19:29:21.680809Z",
     "shell.execute_reply": "2024-11-17T19:29:21.678632Z",
     "shell.execute_reply.started": "2024-11-17T19:29:21.640400Z"
    },
    "trusted": true
   },
   "outputs": [
    {
     "data": {
      "text/plain": [
       "8763"
      ]
     },
     "execution_count": 56,
     "metadata": {},
     "output_type": "execute_result"
    }
   ],
   "source": [
    "# We have an unaccounted ~9k rows that are working professionals but do not have a profession\n",
    "# We will asssume that they are unemployed\n",
    "\n",
    "df[(df[\"Working Professional or Student\"] == 'Working Professional') & pd.isna(df[\"Profession\"])].shape[0]"
   ]
  },
  {
   "cell_type": "code",
   "execution_count": 57,
   "metadata": {
    "execution": {
     "iopub.execute_input": "2024-11-17T19:29:24.731289Z",
     "iopub.status.busy": "2024-11-17T19:29:24.729545Z",
     "iopub.status.idle": "2024-11-17T19:29:24.738187Z",
     "shell.execute_reply": "2024-11-17T19:29:24.736683Z",
     "shell.execute_reply.started": "2024-11-17T19:29:24.731212Z"
    },
    "trusted": true
   },
   "outputs": [],
   "source": [
    "# we create a simple function to merge the 2 columns together.\n",
    "def combine_profession(row):\n",
    "    if (row[\"Working Professional or Student\"] != 'Student') and (pd.isna(row[\"Profession\"])):\n",
    "        return 'Unemployed'\n",
    "    elif row[\"Working Professional or Student\"] != \"Student\":\n",
    "        return row[\"Profession\"]\n",
    "    else:\n",
    "        return \"Student\""
   ]
  },
  {
   "cell_type": "code",
   "execution_count": 58,
   "metadata": {
    "execution": {
     "iopub.execute_input": "2024-11-17T19:29:26.726951Z",
     "iopub.status.busy": "2024-11-17T19:29:26.726444Z",
     "iopub.status.idle": "2024-11-17T19:29:29.438903Z",
     "shell.execute_reply": "2024-11-17T19:29:29.437074Z",
     "shell.execute_reply.started": "2024-11-17T19:29:26.726907Z"
    },
    "trusted": true
   },
   "outputs": [
    {
     "data": {
      "text/plain": [
       "Academic                5\n",
       "Profession              3\n",
       "BCA                     3\n",
       "Yogesh                  3\n",
       "LLM                     2\n",
       "PhD                     2\n",
       "MBA                     2\n",
       "Dev                     1\n",
       "Unveil                  1\n",
       "Visakhapatnam           1\n",
       "Pranav                  1\n",
       "Analyst                 1\n",
       "M.Ed                    1\n",
       "Moderate                1\n",
       "Nagpur                  1\n",
       "B.Ed                    1\n",
       "MBBS                    1\n",
       "Patna                   1\n",
       "Working Professional    1\n",
       "Medical Doctor          1\n",
       "BBA                     1\n",
       "City Manager            1\n",
       "FamilyVirar             1\n",
       "Family Consultant       1\n",
       "B.Com                   1\n",
       "BE                      1\n",
       "Yuvraj                  1\n",
       "Name: count, dtype: int64"
      ]
     },
     "execution_count": 58,
     "metadata": {},
     "output_type": "execute_result"
    }
   ],
   "source": [
    "# we will remove rows containing these values in the Profession column\n",
    "df.apply(combine_profession, axis=1).value_counts().tail(65 - 38)"
   ]
  },
  {
   "cell_type": "code",
   "execution_count": 59,
   "metadata": {
    "execution": {
     "iopub.execute_input": "2024-11-17T19:29:30.414654Z",
     "iopub.status.busy": "2024-11-17T19:29:30.413859Z",
     "iopub.status.idle": "2024-11-17T19:29:32.908108Z",
     "shell.execute_reply": "2024-11-17T19:29:32.906297Z",
     "shell.execute_reply.started": "2024-11-17T19:29:30.414559Z"
    },
    "trusted": true
   },
   "outputs": [
    {
     "data": {
      "text/plain": [
       "Index(['Academic', 'Profession', 'BCA', 'Yogesh', 'LLM', 'PhD', 'MBA', 'Dev',\n",
       "       'Unveil', 'Visakhapatnam', 'Pranav', 'Analyst', 'M.Ed', 'Moderate',\n",
       "       'Nagpur', 'B.Ed', 'MBBS', 'Patna', 'Working Professional',\n",
       "       'Medical Doctor', 'BBA', 'City Manager', 'FamilyVirar',\n",
       "       'Family Consultant', 'B.Com', 'BE', 'Yuvraj'],\n",
       "      dtype='object')"
      ]
     },
     "execution_count": 59,
     "metadata": {},
     "output_type": "execute_result"
    }
   ],
   "source": [
    "df.apply(combine_profession, axis=1).value_counts().tail(65 - 38).index"
   ]
  },
  {
   "cell_type": "markdown",
   "metadata": {},
   "source": [
    "## Work and Academic Pressure"
   ]
  },
  {
   "cell_type": "code",
   "execution_count": 60,
   "metadata": {
    "execution": {
     "iopub.execute_input": "2024-11-17T19:29:38.381973Z",
     "iopub.status.busy": "2024-11-17T19:29:38.380652Z",
     "iopub.status.idle": "2024-11-17T19:29:38.730655Z",
     "shell.execute_reply": "2024-11-17T19:29:38.728677Z",
     "shell.execute_reply.started": "2024-11-17T19:29:38.381918Z"
    },
    "trusted": true
   },
   "outputs": [
    {
     "data": {
      "text/plain": [
       "<Axes: xlabel='Academic Pressure', ylabel='Count'>"
      ]
     },
     "execution_count": 60,
     "metadata": {},
     "output_type": "execute_result"
    },
    {
     "data": {
      "image/png": "[encoded data removed]",
      "text/plain": [
       "<Figure size 640x480 with 1 Axes>"
      ]
     },
     "metadata": {},
     "output_type": "display_data"
    }
   ],
   "source": [
    "# we observe that an academic pressure of 1 represents least pressure and 5 represents most pressure. \n",
    "# The count of depression incidence incrases with increasing academic pressure\n",
    "\n",
    "acad_pressure_grouped = df[df[\"Academic Pressure\"].notna()].groupby([\"Academic Pressure\", \"Depression\"])[[\"Name\"]].count().reset_index().rename(columns={\"Name\":\"Count\"})\n",
    "\n",
    "sns.barplot(acad_pressure_grouped, x='Academic Pressure', y='Count', hue='Depression')"
   ]
  },
  {
   "cell_type": "code",
   "execution_count": 61,
   "metadata": {
    "execution": {
     "iopub.execute_input": "2024-11-17T19:29:48.022123Z",
     "iopub.status.busy": "2024-11-17T19:29:48.021653Z",
     "iopub.status.idle": "2024-11-17T19:29:48.569640Z",
     "shell.execute_reply": "2024-11-17T19:29:48.568465Z",
     "shell.execute_reply.started": "2024-11-17T19:29:48.022082Z"
    },
    "trusted": true
   },
   "outputs": [
    {
     "data": {
      "text/plain": [
       "<Axes: xlabel='Work Pressure', ylabel='Count'>"
      ]
     },
     "execution_count": 61,
     "metadata": {},
     "output_type": "execute_result"
    },
    {
     "data": {
      "image/png": "[encoded data removed]",
      "text/plain": [
       "<Figure size 640x480 with 1 Axes>"
      ]
     },
     "metadata": {},
     "output_type": "display_data"
    }
   ],
   "source": [
    "# The same trend is observed in work pressure. The count of depression incidence incrases with increasing work pressure\n",
    "# however, the precentage of depression is significantly lower compared to when one is a student.\n",
    "\n",
    "work_pressure_grouped = df[df[\"Work Pressure\"].notna()].groupby([\"Work Pressure\", \"Depression\"])[[\"Name\"]].count().reset_index().rename(columns={\"Name\":\"Count\"})\n",
    "\n",
    "sns.barplot(work_pressure_grouped, x='Work Pressure', y='Count', hue='Depression')"
   ]
  },
  {
   "cell_type": "code",
   "execution_count": 63,
   "metadata": {
    "execution": {
     "iopub.execute_input": "2024-11-17T19:30:07.558720Z",
     "iopub.status.busy": "2024-11-17T19:30:07.557456Z",
     "iopub.status.idle": "2024-11-17T19:30:07.568457Z",
     "shell.execute_reply": "2024-11-17T19:30:07.567165Z",
     "shell.execute_reply.started": "2024-11-17T19:30:07.558662Z"
    },
    "trusted": true
   },
   "outputs": [
    {
     "data": {
      "text/plain": [
       "21"
      ]
     },
     "execution_count": 63,
     "metadata": {},
     "output_type": "execute_result"
    }
   ],
   "source": [
    "# There are 21 rows without any academic or work pressure. We use imputation to convert to mode\n",
    "df[df[\"Academic Pressure\"].isna() & df[\"Work Pressure\"].isna()].shape[0]"
   ]
  },
  {
   "cell_type": "code",
   "execution_count": 64,
   "metadata": {
    "execution": {
     "iopub.execute_input": "2024-11-17T19:30:08.320134Z",
     "iopub.status.busy": "2024-11-17T19:30:08.318771Z",
     "iopub.status.idle": "2024-11-17T19:30:08.331882Z",
     "shell.execute_reply": "2024-11-17T19:30:08.329495Z",
     "shell.execute_reply.started": "2024-11-17T19:30:08.320069Z"
    },
    "trusted": true
   },
   "outputs": [
    {
     "data": {
      "text/plain": [
       "140679"
      ]
     },
     "execution_count": 64,
     "metadata": {},
     "output_type": "execute_result"
    }
   ],
   "source": [
    "df[\"Academic Pressure\"].notna().sum() + df[\"Work Pressure\"].notna().sum()"
   ]
  },
  {
   "cell_type": "markdown",
   "metadata": {},
   "source": [
    "## City"
   ]
  },
  {
   "cell_type": "code",
   "execution_count": 67,
   "metadata": {
    "execution": {
     "iopub.execute_input": "2024-11-17T19:31:05.868666Z",
     "iopub.status.busy": "2024-11-17T19:31:05.868130Z",
     "iopub.status.idle": "2024-11-17T19:31:05.897722Z",
     "shell.execute_reply": "2024-11-17T19:31:05.896611Z",
     "shell.execute_reply.started": "2024-11-17T19:31:05.868622Z"
    },
    "trusted": true
   },
   "outputs": [
    {
     "data": {
      "text/plain": [
       "98"
      ]
     },
     "execution_count": 67,
     "metadata": {},
     "output_type": "execute_result"
    }
   ],
   "source": [
    "# We observe a lot of incorrect input such as 'M.Com', 'Msc', etc.\n",
    "df[\"City\"].unique()\n",
    "df[\"City\"].nunique()"
   ]
  },
  {
   "cell_type": "code",
   "execution_count": 68,
   "metadata": {
    "execution": {
     "iopub.execute_input": "2024-11-17T19:31:08.286105Z",
     "iopub.status.busy": "2024-11-17T19:31:08.285635Z",
     "iopub.status.idle": "2024-11-17T19:31:08.325320Z",
     "shell.execute_reply": "2024-11-17T19:31:08.324081Z",
     "shell.execute_reply.started": "2024-11-17T19:31:08.286065Z"
    },
    "trusted": true
   },
   "outputs": [
    {
     "data": {
      "text/plain": [
       "Index([   762,   1190,   2123,   3554,   3753,   8772,  12371,  15181,  17337,\n",
       "        18496,  20886,  22215,  22293,  28672,  28862,  30231,  32706,  33276,\n",
       "        33408,  33447,  34247,  34300,  35309,  36993,  38232,  38817,  39217,\n",
       "        42134,  42470,  43050,  44087,  44166,  49098,  50691,  52500,  53366,\n",
       "        55743,  55970,  55982,  57185,  58776,  60210,  61035,  61687,  63830,\n",
       "        65042,  67795,  68667,  70407,  70668,  71144,  71995,  73510,  73571,\n",
       "        74881,  75591,  76335,  77791,  78615,  82304,  82472,  83873,  86723,\n",
       "        90669,  93066, 100484, 100610, 102845, 104952, 105684, 106809, 108304,\n",
       "       108698, 109183, 112975, 114378, 115637, 115761, 116140, 116546, 116583,\n",
       "       117760, 120908, 121908, 122708, 123642, 123668, 124395, 124637, 125192,\n",
       "       125289, 126640, 126752, 129223, 132726, 136563, 137652, 138190],\n",
       "      dtype='int64', name='id')"
      ]
     },
     "execution_count": 68,
     "metadata": {},
     "output_type": "execute_result"
    }
   ],
   "source": [
    "incorrect_city = df[\"City\"].value_counts().tail(98-30).index\n",
    "df.query(\"City in @incorrect_city\")[\"City\"].index"
   ]
  },
  {
   "cell_type": "code",
   "execution_count": 69,
   "metadata": {
    "execution": {
     "iopub.execute_input": "2024-11-17T19:31:26.984216Z",
     "iopub.status.busy": "2024-11-17T19:31:26.983742Z",
     "iopub.status.idle": "2024-11-17T19:31:27.155349Z",
     "shell.execute_reply": "2024-11-17T19:31:27.153038Z",
     "shell.execute_reply.started": "2024-11-17T19:31:26.984173Z"
    },
    "trusted": true
   },
   "outputs": [
    {
     "data": {
      "text/plain": [
       "array(['City_Agra', 'City_Ahmedabad', 'City_Bangalore', 'City_Bhopal',\n",
       "       'City_Chennai', 'City_Delhi', 'City_Faridabad', 'City_Ghaziabad',\n",
       "       'City_Hyderabad', 'City_Indore', 'City_Jaipur', 'City_Kalyan',\n",
       "       'City_Kanpur', 'City_Kolkata', 'City_Lucknow', 'City_Ludhiana',\n",
       "       'City_Meerut', 'City_Mumbai', 'City_Nagpur', 'City_Nashik',\n",
       "       'City_Patna', 'City_Pune', 'City_Rajkot', 'City_Srinagar',\n",
       "       'City_Surat', 'City_Thane', 'City_Vadodara', 'City_Varanasi',\n",
       "       'City_Vasai-Virar', 'City_Visakhapatnam',\n",
       "       'City_infrequent_sklearn'], dtype=object)"
      ]
     },
     "execution_count": 69,
     "metadata": {},
     "output_type": "execute_result"
    }
   ],
   "source": [
    "ohe = OneHotEncoder(sparse_output=True, handle_unknown=\"infrequent_if_exist\", min_frequency=3000)\n",
    "ohe.fit_transform(pd.DataFrame(df[\"City\"]))\n",
    "ohe.get_feature_names_out()"
   ]
  },
  {
   "cell_type": "markdown",
   "metadata": {},
   "source": [
    "Two potential solution exists:\n",
    "1. We cull these rows from the dataset. They represent <1% of the dataset and at the same time we preserve the clealiness of the dataset\n",
    "2. We rely on OneHotEncoder to turn these into `City-infrequent_sklearn`\n",
    "\n",
    "We will use Solution #2 since the other rows are rather clean."
   ]
  },
  {
   "cell_type": "markdown",
   "metadata": {},
   "source": [
    "### Degree"
   ]
  },
  {
   "cell_type": "markdown",
   "metadata": {},
   "source": [
    "Cleaning methods are prescribed later in the pre-processing section"
   ]
  },
  {
   "cell_type": "code",
   "execution_count": 70,
   "metadata": {
    "execution": {
     "iopub.execute_input": "2024-11-17T19:32:08.352865Z",
     "iopub.status.busy": "2024-11-17T19:32:08.352412Z",
     "iopub.status.idle": "2024-11-17T19:32:08.369027Z",
     "shell.execute_reply": "2024-11-17T19:32:08.367674Z",
     "shell.execute_reply.started": "2024-11-17T19:32:08.352825Z"
    },
    "trusted": true
   },
   "outputs": [
    {
     "data": {
      "text/plain": [
       "array(['BHM', 'LLB', 'B.Pharm', 'BBA', 'MCA', 'MD', 'BSc', 'ME', 'B.Arch',\n",
       "       'BCA', 'BE', 'MA', 'B.Ed', 'B.Com', 'MBA', 'M.Com', 'MHM', 'BA',\n",
       "       'Class 12', 'M.Tech', 'PhD', 'M.Ed', 'MSc', 'B.Tech', 'LLM',\n",
       "       'MBBS', 'M.Pharm', 'UX/UI Designer', 'MPA', 'BH', 'Nalini', 'BEd',\n",
       "       'B.Sc', 'Veda', 'Bhopal', 'S.Tech', 'Degree', '20', 'Class 11',\n",
       "       'H_Pharm', 'M', 'P.Com', 'BPharm', 'Business Analyst', 'M.Arch',\n",
       "       'LL.Com', 'Data Scientist', 'MPharm', 'L.Ed', 'P.Pharm', 'Kalyan',\n",
       "       'Unite', 'BArch', 'HR Manager', 'Badhya', 'S.Pharm', 'LLBA',\n",
       "       'Vrinda', 'M. Business Analyst', 'Bhavesh', '0', 'LLCom', '29',\n",
       "       'MTech', 'Vivaan', 'BPA', 'Plumber', '5.61', 'Brit', 'B.03',\n",
       "       'Ritik', '5.56', 'MEd', 'B', 'B BA', '7.06', 'B.B.Arch', 'ACA',\n",
       "       'Brithika', 'CGPA', '24', 'M_Tech', 'Pihu', 'BB', 'Jhanvi',\n",
       "       'LLTech', 'Aarav', 'Entrepreneur', '8.56', 'LHM', 'Lata', 'S.Arch',\n",
       "       'Marsh', 'HCA', '5.88', 'B.Student', 'LL B.Ed', 'M.S', 'Navya',\n",
       "       'Mahika', nan, 'K.Ed', 'B.3.79', 'Mthanya', 'Working Professional',\n",
       "       'Esha', 'LLS', 'LLEd', 'E.Tech', 'Doctor', 'N.Pharm', 'LCA',\n",
       "       'B B.Com', 'RCA', 'Mihir', 'Advait'], dtype=object)"
      ]
     },
     "execution_count": 70,
     "metadata": {},
     "output_type": "execute_result"
    }
   ],
   "source": [
    "df[\"Degree\"].unique()"
   ]
  },
  {
   "cell_type": "code",
   "execution_count": 71,
   "metadata": {
    "execution": {
     "iopub.execute_input": "2024-11-17T19:32:11.319230Z",
     "iopub.status.busy": "2024-11-17T19:32:11.318216Z",
     "iopub.status.idle": "2024-11-17T19:32:11.338631Z",
     "shell.execute_reply": "2024-11-17T19:32:11.337385Z",
     "shell.execute_reply.started": "2024-11-17T19:32:11.319181Z"
    },
    "trusted": true
   },
   "outputs": [
    {
     "data": {
      "text/plain": [
       "Index(['Class 12', 'B.Ed', 'B.Arch', 'B.Com', 'B.Pharm', 'BCA', 'M.Ed', 'MCA',\n",
       "       'BBA', 'BSc', 'MSc', 'LLM', 'M.Pharm', 'M.Tech', 'B.Tech', 'LLB', 'BHM',\n",
       "       'MBA', 'BA', 'ME', 'MD', 'MHM', 'BE', 'PhD', 'M.Com', 'MBBS', 'MA'],\n",
       "      dtype='object', name='Degree')"
      ]
     },
     "execution_count": 71,
     "metadata": {},
     "output_type": "execute_result"
    }
   ],
   "source": [
    "df[\"Degree\"].value_counts().head(27).index"
   ]
  },
  {
   "cell_type": "code",
   "execution_count": 72,
   "metadata": {
    "execution": {
     "iopub.execute_input": "2024-11-17T19:32:13.933672Z",
     "iopub.status.busy": "2024-11-17T19:32:13.933216Z",
     "iopub.status.idle": "2024-11-17T19:32:13.954918Z",
     "shell.execute_reply": "2024-11-17T19:32:13.953384Z",
     "shell.execute_reply.started": "2024-11-17T19:32:13.933628Z"
    },
    "trusted": true
   },
   "outputs": [
    {
     "data": {
      "text/plain": [
       "Index(['M.Arch', 'UX/UI Designer', 'B.Sc', 'Kalyan', 'M', 'BArch', 'MEd',\n",
       "       'BPharm', 'P.Com', 'Jhanvi', 'LLBA', 'Degree', 'B', 'Bhopal', 'BEd',\n",
       "       'Nalini', 'LL B.Ed', 'L.Ed', '5.88', 'HCA', 'Marsh', 'S.Arch', 'Pihu',\n",
       "       'Lata', 'LHM', '8.56', 'Entrepreneur', 'Aarav', 'LLTech', 'BB',\n",
       "       'M_Tech', 'B.Student', 'E.Tech', 'M.S', 'Navya', 'Mihir', 'RCA',\n",
       "       'B B.Com', 'LCA', 'N.Pharm', 'Doctor', 'CGPA', 'LLEd', 'LLS', 'Esha',\n",
       "       'Working Professional', 'Mthanya', 'B.3.79', 'K.Ed', 'Mahika', '24',\n",
       "       'Vrinda', 'Brithika', 'ACA', 'Badhya', 'HR Manager', 'Unite', 'P.Pharm',\n",
       "       'MPharm', 'Data Scientist', 'LL.Com', 'Business Analyst', 'H_Pharm',\n",
       "       'Class 11', '20', 'S.Tech', 'Veda', 'BH', 'MPA', 'S.Pharm',\n",
       "       'M. Business Analyst', 'Bhavesh', 'Brit', 'B.B.Arch', '7.06', 'B BA',\n",
       "       '5.56', 'Ritik', 'B.03', '5.61', '0', 'Plumber', 'BPA', 'Vivaan',\n",
       "       'MTech', '29', 'LLCom', 'Advait'],\n",
       "      dtype='object', name='Degree')"
      ]
     },
     "execution_count": 72,
     "metadata": {},
     "output_type": "execute_result"
    }
   ],
   "source": [
    "df[\"Degree\"].value_counts().tail(88).index"
   ]
  },
  {
   "cell_type": "code",
   "execution_count": 73,
   "metadata": {
    "execution": {
     "iopub.execute_input": "2024-11-17T19:32:16.618706Z",
     "iopub.status.busy": "2024-11-17T19:32:16.618186Z",
     "iopub.status.idle": "2024-11-17T19:32:16.683785Z",
     "shell.execute_reply": "2024-11-17T19:32:16.682448Z",
     "shell.execute_reply.started": "2024-11-17T19:32:16.618666Z"
    },
    "trusted": true
   },
   "outputs": [
    {
     "data": {
      "text/html": [
       "<div>\n",
       "<style scoped>\n",
       "    .dataframe tbody tr th:only-of-type {\n",
       "        vertical-align: middle;\n",
       "    }\n",
       "\n",
       "    .dataframe tbody tr th {\n",
       "        vertical-align: top;\n",
       "    }\n",
       "\n",
       "    .dataframe thead th {\n",
       "        text-align: right;\n",
       "    }\n",
       "</style>\n",
       "<table border=\"1\" class=\"dataframe\">\n",
       "  <thead>\n",
       "    <tr style=\"text-align: right;\">\n",
       "      <th></th>\n",
       "      <th>Name</th>\n",
       "      <th>Gender</th>\n",
       "      <th>Age</th>\n",
       "      <th>City</th>\n",
       "      <th>Working Professional or Student</th>\n",
       "      <th>Profession</th>\n",
       "      <th>Academic Pressure</th>\n",
       "      <th>Work Pressure</th>\n",
       "      <th>CGPA</th>\n",
       "      <th>Study Satisfaction</th>\n",
       "      <th>Job Satisfaction</th>\n",
       "      <th>Sleep Duration</th>\n",
       "      <th>Dietary Habits</th>\n",
       "      <th>Degree</th>\n",
       "      <th>Have you ever had suicidal thoughts ?</th>\n",
       "      <th>Work/Study Hours</th>\n",
       "      <th>Financial Stress</th>\n",
       "      <th>Family History of Mental Illness</th>\n",
       "      <th>Depression</th>\n",
       "    </tr>\n",
       "    <tr>\n",
       "      <th>id</th>\n",
       "      <th></th>\n",
       "      <th></th>\n",
       "      <th></th>\n",
       "      <th></th>\n",
       "      <th></th>\n",
       "      <th></th>\n",
       "      <th></th>\n",
       "      <th></th>\n",
       "      <th></th>\n",
       "      <th></th>\n",
       "      <th></th>\n",
       "      <th></th>\n",
       "      <th></th>\n",
       "      <th></th>\n",
       "      <th></th>\n",
       "      <th></th>\n",
       "      <th></th>\n",
       "      <th></th>\n",
       "      <th></th>\n",
       "    </tr>\n",
       "  </thead>\n",
       "  <tbody>\n",
       "    <tr>\n",
       "      <th>1884</th>\n",
       "      <td>Sanket</td>\n",
       "      <td>Male</td>\n",
       "      <td>51.0</td>\n",
       "      <td>Ahmedabad</td>\n",
       "      <td>Working Professional</td>\n",
       "      <td>HR Manager</td>\n",
       "      <td>NaN</td>\n",
       "      <td>2.0</td>\n",
       "      <td>NaN</td>\n",
       "      <td>NaN</td>\n",
       "      <td>4.0</td>\n",
       "      <td>5-6 hours</td>\n",
       "      <td>Moderate</td>\n",
       "      <td>UX/UI Designer</td>\n",
       "      <td>No</td>\n",
       "      <td>7.0</td>\n",
       "      <td>3.0</td>\n",
       "      <td>Yes</td>\n",
       "      <td>0</td>\n",
       "    </tr>\n",
       "    <tr>\n",
       "      <th>3227</th>\n",
       "      <td>Rahil</td>\n",
       "      <td>Male</td>\n",
       "      <td>28.0</td>\n",
       "      <td>Varanasi</td>\n",
       "      <td>Student</td>\n",
       "      <td>NaN</td>\n",
       "      <td>4.0</td>\n",
       "      <td>NaN</td>\n",
       "      <td>5.66</td>\n",
       "      <td>4.0</td>\n",
       "      <td>NaN</td>\n",
       "      <td>More than 8 hours</td>\n",
       "      <td>Unhealthy</td>\n",
       "      <td>MPA</td>\n",
       "      <td>Yes</td>\n",
       "      <td>10.0</td>\n",
       "      <td>5.0</td>\n",
       "      <td>Yes</td>\n",
       "      <td>1</td>\n",
       "    </tr>\n",
       "    <tr>\n",
       "      <th>4337</th>\n",
       "      <td>Mihir</td>\n",
       "      <td>Male</td>\n",
       "      <td>28.0</td>\n",
       "      <td>Visakhapatnam</td>\n",
       "      <td>Student</td>\n",
       "      <td>NaN</td>\n",
       "      <td>1.0</td>\n",
       "      <td>NaN</td>\n",
       "      <td>7.94</td>\n",
       "      <td>4.0</td>\n",
       "      <td>NaN</td>\n",
       "      <td>Less than 5 hours</td>\n",
       "      <td>Unhealthy</td>\n",
       "      <td>BH</td>\n",
       "      <td>Yes</td>\n",
       "      <td>10.0</td>\n",
       "      <td>3.0</td>\n",
       "      <td>No</td>\n",
       "      <td>1</td>\n",
       "    </tr>\n",
       "    <tr>\n",
       "      <th>7885</th>\n",
       "      <td>Diya</td>\n",
       "      <td>Female</td>\n",
       "      <td>38.0</td>\n",
       "      <td>Ludhiana</td>\n",
       "      <td>Working Professional</td>\n",
       "      <td>Researcher</td>\n",
       "      <td>NaN</td>\n",
       "      <td>5.0</td>\n",
       "      <td>NaN</td>\n",
       "      <td>NaN</td>\n",
       "      <td>2.0</td>\n",
       "      <td>More than 8 hours</td>\n",
       "      <td>Moderate</td>\n",
       "      <td>Nalini</td>\n",
       "      <td>Yes</td>\n",
       "      <td>5.0</td>\n",
       "      <td>1.0</td>\n",
       "      <td>No</td>\n",
       "      <td>0</td>\n",
       "    </tr>\n",
       "    <tr>\n",
       "      <th>8615</th>\n",
       "      <td>Rashi</td>\n",
       "      <td>Female</td>\n",
       "      <td>47.0</td>\n",
       "      <td>Nagpur</td>\n",
       "      <td>Working Professional</td>\n",
       "      <td>Content Writer</td>\n",
       "      <td>NaN</td>\n",
       "      <td>3.0</td>\n",
       "      <td>NaN</td>\n",
       "      <td>NaN</td>\n",
       "      <td>2.0</td>\n",
       "      <td>7-8 hours</td>\n",
       "      <td>Unhealthy</td>\n",
       "      <td>BEd</td>\n",
       "      <td>No</td>\n",
       "      <td>2.0</td>\n",
       "      <td>1.0</td>\n",
       "      <td>No</td>\n",
       "      <td>0</td>\n",
       "    </tr>\n",
       "    <tr>\n",
       "      <th>...</th>\n",
       "      <td>...</td>\n",
       "      <td>...</td>\n",
       "      <td>...</td>\n",
       "      <td>...</td>\n",
       "      <td>...</td>\n",
       "      <td>...</td>\n",
       "      <td>...</td>\n",
       "      <td>...</td>\n",
       "      <td>...</td>\n",
       "      <td>...</td>\n",
       "      <td>...</td>\n",
       "      <td>...</td>\n",
       "      <td>...</td>\n",
       "      <td>...</td>\n",
       "      <td>...</td>\n",
       "      <td>...</td>\n",
       "      <td>...</td>\n",
       "      <td>...</td>\n",
       "      <td>...</td>\n",
       "    </tr>\n",
       "    <tr>\n",
       "      <th>137703</th>\n",
       "      <td>Darsh</td>\n",
       "      <td>Male</td>\n",
       "      <td>42.0</td>\n",
       "      <td>Lucknow</td>\n",
       "      <td>Working Professional</td>\n",
       "      <td>Chemist</td>\n",
       "      <td>NaN</td>\n",
       "      <td>4.0</td>\n",
       "      <td>NaN</td>\n",
       "      <td>NaN</td>\n",
       "      <td>4.0</td>\n",
       "      <td>5-6 hours</td>\n",
       "      <td>Moderate</td>\n",
       "      <td>BPharm</td>\n",
       "      <td>No</td>\n",
       "      <td>11.0</td>\n",
       "      <td>5.0</td>\n",
       "      <td>No</td>\n",
       "      <td>0</td>\n",
       "    </tr>\n",
       "    <tr>\n",
       "      <th>138190</th>\n",
       "      <td>Ivaan</td>\n",
       "      <td>Male</td>\n",
       "      <td>40.0</td>\n",
       "      <td>Unirar</td>\n",
       "      <td>Working Professional</td>\n",
       "      <td>Plumber</td>\n",
       "      <td>NaN</td>\n",
       "      <td>1.0</td>\n",
       "      <td>NaN</td>\n",
       "      <td>NaN</td>\n",
       "      <td>1.0</td>\n",
       "      <td>5-6 hours</td>\n",
       "      <td>Healthy</td>\n",
       "      <td>RCA</td>\n",
       "      <td>No</td>\n",
       "      <td>2.0</td>\n",
       "      <td>1.0</td>\n",
       "      <td>Yes</td>\n",
       "      <td>0</td>\n",
       "    </tr>\n",
       "    <tr>\n",
       "      <th>139446</th>\n",
       "      <td>Yogesh</td>\n",
       "      <td>Male</td>\n",
       "      <td>52.0</td>\n",
       "      <td>Mumbai</td>\n",
       "      <td>Working Professional</td>\n",
       "      <td>Researcher</td>\n",
       "      <td>NaN</td>\n",
       "      <td>5.0</td>\n",
       "      <td>NaN</td>\n",
       "      <td>NaN</td>\n",
       "      <td>4.0</td>\n",
       "      <td>7-8 hours</td>\n",
       "      <td>Moderate</td>\n",
       "      <td>Kalyan</td>\n",
       "      <td>No</td>\n",
       "      <td>5.0</td>\n",
       "      <td>3.0</td>\n",
       "      <td>Yes</td>\n",
       "      <td>0</td>\n",
       "    </tr>\n",
       "    <tr>\n",
       "      <th>139862</th>\n",
       "      <td>Ivaan</td>\n",
       "      <td>Male</td>\n",
       "      <td>38.0</td>\n",
       "      <td>Jaipur</td>\n",
       "      <td>Working Professional</td>\n",
       "      <td>UX/UI Designer</td>\n",
       "      <td>NaN</td>\n",
       "      <td>4.0</td>\n",
       "      <td>NaN</td>\n",
       "      <td>NaN</td>\n",
       "      <td>4.0</td>\n",
       "      <td>More than 8 hours</td>\n",
       "      <td>Moderate</td>\n",
       "      <td>Mihir</td>\n",
       "      <td>No</td>\n",
       "      <td>0.0</td>\n",
       "      <td>2.0</td>\n",
       "      <td>Yes</td>\n",
       "      <td>0</td>\n",
       "    </tr>\n",
       "    <tr>\n",
       "      <th>139989</th>\n",
       "      <td>Ivaan</td>\n",
       "      <td>Male</td>\n",
       "      <td>38.0</td>\n",
       "      <td>Nagpur</td>\n",
       "      <td>Working Professional</td>\n",
       "      <td>Educational Consultant</td>\n",
       "      <td>NaN</td>\n",
       "      <td>2.0</td>\n",
       "      <td>NaN</td>\n",
       "      <td>NaN</td>\n",
       "      <td>3.0</td>\n",
       "      <td>5-6 hours</td>\n",
       "      <td>Unhealthy</td>\n",
       "      <td>Advait</td>\n",
       "      <td>No</td>\n",
       "      <td>2.0</td>\n",
       "      <td>4.0</td>\n",
       "      <td>Yes</td>\n",
       "      <td>0</td>\n",
       "    </tr>\n",
       "  </tbody>\n",
       "</table>\n",
       "<p>114 rows × 19 columns</p>\n",
       "</div>"
      ],
      "text/plain": [
       "          Name  Gender   Age           City Working Professional or Student  \\\n",
       "id                                                                            \n",
       "1884    Sanket    Male  51.0      Ahmedabad            Working Professional   \n",
       "3227     Rahil    Male  28.0       Varanasi                         Student   \n",
       "4337     Mihir    Male  28.0  Visakhapatnam                         Student   \n",
       "7885      Diya  Female  38.0       Ludhiana            Working Professional   \n",
       "8615     Rashi  Female  47.0         Nagpur            Working Professional   \n",
       "...        ...     ...   ...            ...                             ...   \n",
       "137703   Darsh    Male  42.0        Lucknow            Working Professional   \n",
       "138190   Ivaan    Male  40.0         Unirar            Working Professional   \n",
       "139446  Yogesh    Male  52.0         Mumbai            Working Professional   \n",
       "139862   Ivaan    Male  38.0         Jaipur            Working Professional   \n",
       "139989   Ivaan    Male  38.0         Nagpur            Working Professional   \n",
       "\n",
       "                    Profession  Academic Pressure  Work Pressure  CGPA  \\\n",
       "id                                                                       \n",
       "1884                HR Manager                NaN            2.0   NaN   \n",
       "3227                       NaN                4.0            NaN  5.66   \n",
       "4337                       NaN                1.0            NaN  7.94   \n",
       "7885                Researcher                NaN            5.0   NaN   \n",
       "8615            Content Writer                NaN            3.0   NaN   \n",
       "...                        ...                ...            ...   ...   \n",
       "137703                 Chemist                NaN            4.0   NaN   \n",
       "138190                 Plumber                NaN            1.0   NaN   \n",
       "139446              Researcher                NaN            5.0   NaN   \n",
       "139862          UX/UI Designer                NaN            4.0   NaN   \n",
       "139989  Educational Consultant                NaN            2.0   NaN   \n",
       "\n",
       "        Study Satisfaction  Job Satisfaction     Sleep Duration  \\\n",
       "id                                                                \n",
       "1884                   NaN               4.0          5-6 hours   \n",
       "3227                   4.0               NaN  More than 8 hours   \n",
       "4337                   4.0               NaN  Less than 5 hours   \n",
       "7885                   NaN               2.0  More than 8 hours   \n",
       "8615                   NaN               2.0          7-8 hours   \n",
       "...                    ...               ...                ...   \n",
       "137703                 NaN               4.0          5-6 hours   \n",
       "138190                 NaN               1.0          5-6 hours   \n",
       "139446                 NaN               4.0          7-8 hours   \n",
       "139862                 NaN               4.0  More than 8 hours   \n",
       "139989                 NaN               3.0          5-6 hours   \n",
       "\n",
       "       Dietary Habits          Degree Have you ever had suicidal thoughts ?  \\\n",
       "id                                                                            \n",
       "1884         Moderate  UX/UI Designer                                    No   \n",
       "3227        Unhealthy             MPA                                   Yes   \n",
       "4337        Unhealthy              BH                                   Yes   \n",
       "7885         Moderate          Nalini                                   Yes   \n",
       "8615        Unhealthy             BEd                                    No   \n",
       "...               ...             ...                                   ...   \n",
       "137703       Moderate          BPharm                                    No   \n",
       "138190        Healthy             RCA                                    No   \n",
       "139446       Moderate          Kalyan                                    No   \n",
       "139862       Moderate           Mihir                                    No   \n",
       "139989      Unhealthy          Advait                                    No   \n",
       "\n",
       "        Work/Study Hours  Financial Stress Family History of Mental Illness  \\\n",
       "id                                                                            \n",
       "1884                 7.0               3.0                              Yes   \n",
       "3227                10.0               5.0                              Yes   \n",
       "4337                10.0               3.0                               No   \n",
       "7885                 5.0               1.0                               No   \n",
       "8615                 2.0               1.0                               No   \n",
       "...                  ...               ...                              ...   \n",
       "137703              11.0               5.0                               No   \n",
       "138190               2.0               1.0                              Yes   \n",
       "139446               5.0               3.0                              Yes   \n",
       "139862               0.0               2.0                              Yes   \n",
       "139989               2.0               4.0                              Yes   \n",
       "\n",
       "        Depression  \n",
       "id                  \n",
       "1884             0  \n",
       "3227             1  \n",
       "4337             1  \n",
       "7885             0  \n",
       "8615             0  \n",
       "...            ...  \n",
       "137703           0  \n",
       "138190           0  \n",
       "139446           0  \n",
       "139862           0  \n",
       "139989           0  \n",
       "\n",
       "[114 rows x 19 columns]"
      ]
     },
     "execution_count": 73,
     "metadata": {},
     "output_type": "execute_result"
    }
   ],
   "source": [
    "incorrect_degree = df[\"Degree\"].value_counts().tail(88).index\n",
    "\n",
    "df.query(\"Degree in @incorrect_degree\")"
   ]
  },
  {
   "cell_type": "code",
   "execution_count": 74,
   "metadata": {
    "execution": {
     "iopub.execute_input": "2024-11-17T19:32:20.510810Z",
     "iopub.status.busy": "2024-11-17T19:32:20.510338Z",
     "iopub.status.idle": "2024-11-17T19:32:20.538747Z",
     "shell.execute_reply": "2024-11-17T19:32:20.537551Z",
     "shell.execute_reply.started": "2024-11-17T19:32:20.510768Z"
    },
    "trusted": true
   },
   "outputs": [
    {
     "data": {
      "text/plain": [
       "Index([  1884,   3227,   4337,   7885,   8615,   9719,   9923,  13315,  14834,\n",
       "        15483,\n",
       "       ...\n",
       "       133347, 134561, 134938, 136760, 137281, 137703, 138190, 139446, 139862,\n",
       "       139989],\n",
       "      dtype='int64', name='id', length=114)"
      ]
     },
     "execution_count": 74,
     "metadata": {},
     "output_type": "execute_result"
    }
   ],
   "source": [
    "df.query(\"Degree in @incorrect_degree\").index"
   ]
  },
  {
   "cell_type": "code",
   "execution_count": 75,
   "metadata": {
    "execution": {
     "iopub.execute_input": "2024-11-17T19:32:41.235737Z",
     "iopub.status.busy": "2024-11-17T19:32:41.235245Z",
     "iopub.status.idle": "2024-11-17T19:32:41.244798Z",
     "shell.execute_reply": "2024-11-17T19:32:41.243410Z",
     "shell.execute_reply.started": "2024-11-17T19:32:41.235696Z"
    },
    "trusted": true
   },
   "outputs": [],
   "source": [
    "# initial data-cleaning function\n",
    "\n",
    "def combine_profession(row):\n",
    "    if row[\"Working Professional or Student\"] != 'Student':\n",
    "        return row[\"Profession\"]\n",
    "    else:\n",
    "        return \"Student\"\n",
    "\n",
    "def combine_pressure(row):\n",
    "    if pd.isna(row[\"Academic Pressure\"]) and pd.isna(row[\"Work Pressure\"]):\n",
    "        return np.nan\n",
    "    elif pd.isna(row[\"Academic Pressure\"]):\n",
    "        return row[\"Work Pressure\"]\n",
    "    elif pd.isna(row[\"Work Pressure\"]):\n",
    "        return row[\"Academic Pressure\"]\n",
    "\n",
    "def combine_satisfaction(row):\n",
    "    if pd.isna(row[\"Study Satisfaction\"]) and pd.isna(row[\"Job Satisfaction\"]):\n",
    "        return np.nan\n",
    "    elif pd.isna(row[\"Study Satisfaction\"]):\n",
    "        return row[\"Job Satisfaction\"]\n",
    "    elif pd.isna(row[\"Job Satisfaction\"]):\n",
    "        return row[\"Study Satisfaction\"]"
   ]
  },
  {
   "cell_type": "code",
   "execution_count": 113,
   "metadata": {},
   "outputs": [],
   "source": [
    "df[\"Profession\"] = df.apply(combine_profession, axis=1)\n",
    "df[\"Pressure\"] = df.apply(combine_pressure, axis=1)\n",
    "df[\"Satisfaction\"] = df.apply(combine_satisfaction, axis=1)"
   ]
  },
  {
   "cell_type": "markdown",
   "metadata": {},
   "source": [
    "### Study and Work Satisfaction"
   ]
  },
  {
   "cell_type": "markdown",
   "metadata": {},
   "source": [
    "The assumption is that if you are working, you will have a job satisfaction, if you are studying, you have a study satisfaction"
   ]
  },
  {
   "cell_type": "code",
   "execution_count": 76,
   "metadata": {
    "execution": {
     "iopub.execute_input": "2024-11-17T19:32:52.537504Z",
     "iopub.status.busy": "2024-11-17T19:32:52.537005Z",
     "iopub.status.idle": "2024-11-17T19:32:52.550806Z",
     "shell.execute_reply": "2024-11-17T19:32:52.549654Z",
     "shell.execute_reply.started": "2024-11-17T19:32:52.537428Z"
    },
    "trusted": true
   },
   "outputs": [
    {
     "data": {
      "text/plain": [
       "140702"
      ]
     },
     "execution_count": 76,
     "metadata": {},
     "output_type": "execute_result"
    }
   ],
   "source": [
    "df[\"Study Satisfaction\"].notna().sum() + df[\"Job Satisfaction\"].notna().sum() +df[(df[\"Study Satisfaction\"].isna() & df[\"Job Satisfaction\"].isna())].shape[0]"
   ]
  },
  {
   "cell_type": "code",
   "execution_count": 77,
   "metadata": {
    "execution": {
     "iopub.execute_input": "2024-11-17T19:32:53.857207Z",
     "iopub.status.busy": "2024-11-17T19:32:53.856747Z",
     "iopub.status.idle": "2024-11-17T19:32:54.164201Z",
     "shell.execute_reply": "2024-11-17T19:32:54.162875Z",
     "shell.execute_reply.started": "2024-11-17T19:32:53.857162Z"
    },
    "trusted": true
   },
   "outputs": [
    {
     "data": {
      "text/plain": [
       "<Axes: xlabel='Study Satisfaction', ylabel='Count'>"
      ]
     },
     "execution_count": 77,
     "metadata": {},
     "output_type": "execute_result"
    },
    {
     "data": {
      "image/png": "[encoded data removed]",
      "text/plain": [
       "<Figure size 640x480 with 1 Axes>"
      ]
     },
     "metadata": {},
     "output_type": "display_data"
    }
   ],
   "source": [
    "study_sat_df = df[df[\"Study Satisfaction\"].notna()].groupby([\"Study Satisfaction\", \"Depression\"])[[\"Name\"]].count().reset_index().rename(columns={'Name': \"Count\"})\n",
    "\n",
    "sns.barplot(study_sat_df, x='Study Satisfaction', y='Count', hue='Depression')"
   ]
  },
  {
   "cell_type": "code",
   "execution_count": 78,
   "metadata": {
    "execution": {
     "iopub.execute_input": "2024-11-17T19:32:55.714304Z",
     "iopub.status.busy": "2024-11-17T19:32:55.713871Z",
     "iopub.status.idle": "2024-11-17T19:32:56.015184Z",
     "shell.execute_reply": "2024-11-17T19:32:56.014000Z",
     "shell.execute_reply.started": "2024-11-17T19:32:55.714264Z"
    },
    "trusted": true
   },
   "outputs": [
    {
     "data": {
      "text/plain": [
       "<Axes: xlabel='Job Satisfaction', ylabel='Count'>"
      ]
     },
     "execution_count": 78,
     "metadata": {},
     "output_type": "execute_result"
    },
    {
     "data": {
      "image/png": "[encoded data removed]",
      "text/plain": [
       "<Figure size 640x480 with 1 Axes>"
      ]
     },
     "metadata": {},
     "output_type": "display_data"
    }
   ],
   "source": [
    "study_sat_df = (\n",
    "    df[df[\"Job Satisfaction\"].notna()]\n",
    "    .groupby([\"Job Satisfaction\", \"Depression\"])[[\"Name\"]]\n",
    "    .count()\n",
    "    .reset_index()\n",
    "    .rename(columns={\"Name\": \"Count\"})\n",
    ")\n",
    "\n",
    "sns.barplot(study_sat_df, x=\"Job Satisfaction\", y=\"Count\", hue=\"Depression\")"
   ]
  },
  {
   "cell_type": "markdown",
   "metadata": {},
   "source": [
    "We observe a not-so-strong relationship between job/study satisfaction and depression"
   ]
  },
  {
   "cell_type": "markdown",
   "metadata": {},
   "source": [
    "4 permutations arose - \n",
    "1. have job satisfaction but not study satisfaction (expected)\n",
    "2. have study satisfaction but not job satisfaction (expected)\n",
    "3. have both study and job satisfaction (unexpected), 2 entries\n",
    "4. have none of study and job satisfaction (unexpected), 15 entries"
   ]
  },
  {
   "cell_type": "code",
   "execution_count": 86,
   "metadata": {
    "execution": {
     "iopub.execute_input": "2024-11-17T19:34:13.314794Z",
     "iopub.status.busy": "2024-11-17T19:34:13.313917Z",
     "iopub.status.idle": "2024-11-17T19:34:13.357816Z",
     "shell.execute_reply": "2024-11-17T19:34:13.356646Z",
     "shell.execute_reply.started": "2024-11-17T19:34:13.314742Z"
    },
    "trusted": true
   },
   "outputs": [
    {
     "data": {
      "text/plain": [
       "140700"
      ]
     },
     "execution_count": 86,
     "metadata": {},
     "output_type": "execute_result"
    }
   ],
   "source": [
    "(\n",
    "    df[df[\"Study Satisfaction\"].isna() & df[\"Job Satisfaction\"].notna()].shape[0]\n",
    "    + df[df[\"Study Satisfaction\"].notna() & df[\"Job Satisfaction\"].isna()].shape[0]\n",
    "    + df[df[\"Study Satisfaction\"].notna() & df[\"Job Satisfaction\"].notna()].shape[0] # 2 entries\n",
    "    + df[df[\"Study Satisfaction\"].isna() & df[\"Job Satisfaction\"].isna()].shape[0] # 15 entries\n",
    ")"
   ]
  },
  {
   "cell_type": "code",
   "execution_count": 87,
   "metadata": {
    "execution": {
     "iopub.execute_input": "2024-11-17T19:34:19.568782Z",
     "iopub.status.busy": "2024-11-17T19:34:19.568291Z",
     "iopub.status.idle": "2024-11-17T19:34:19.597364Z",
     "shell.execute_reply": "2024-11-17T19:34:19.596099Z",
     "shell.execute_reply.started": "2024-11-17T19:34:19.568740Z"
    },
    "trusted": true
   },
   "outputs": [
    {
     "data": {
      "text/html": [
       "<div>\n",
       "<style scoped>\n",
       "    .dataframe tbody tr th:only-of-type {\n",
       "        vertical-align: middle;\n",
       "    }\n",
       "\n",
       "    .dataframe tbody tr th {\n",
       "        vertical-align: top;\n",
       "    }\n",
       "\n",
       "    .dataframe thead th {\n",
       "        text-align: right;\n",
       "    }\n",
       "</style>\n",
       "<table border=\"1\" class=\"dataframe\">\n",
       "  <thead>\n",
       "    <tr style=\"text-align: right;\">\n",
       "      <th></th>\n",
       "      <th>Name</th>\n",
       "      <th>Gender</th>\n",
       "      <th>Age</th>\n",
       "      <th>City</th>\n",
       "      <th>Working Professional or Student</th>\n",
       "      <th>Profession</th>\n",
       "      <th>Academic Pressure</th>\n",
       "      <th>Work Pressure</th>\n",
       "      <th>CGPA</th>\n",
       "      <th>Study Satisfaction</th>\n",
       "      <th>Job Satisfaction</th>\n",
       "      <th>Sleep Duration</th>\n",
       "      <th>Dietary Habits</th>\n",
       "      <th>Degree</th>\n",
       "      <th>Have you ever had suicidal thoughts ?</th>\n",
       "      <th>Work/Study Hours</th>\n",
       "      <th>Financial Stress</th>\n",
       "      <th>Family History of Mental Illness</th>\n",
       "      <th>Depression</th>\n",
       "    </tr>\n",
       "    <tr>\n",
       "      <th>id</th>\n",
       "      <th></th>\n",
       "      <th></th>\n",
       "      <th></th>\n",
       "      <th></th>\n",
       "      <th></th>\n",
       "      <th></th>\n",
       "      <th></th>\n",
       "      <th></th>\n",
       "      <th></th>\n",
       "      <th></th>\n",
       "      <th></th>\n",
       "      <th></th>\n",
       "      <th></th>\n",
       "      <th></th>\n",
       "      <th></th>\n",
       "      <th></th>\n",
       "      <th></th>\n",
       "      <th></th>\n",
       "      <th></th>\n",
       "    </tr>\n",
       "  </thead>\n",
       "  <tbody>\n",
       "    <tr>\n",
       "      <th>1428</th>\n",
       "      <td>Rishi</td>\n",
       "      <td>Male</td>\n",
       "      <td>29.0</td>\n",
       "      <td>Srinagar</td>\n",
       "      <td>Student</td>\n",
       "      <td>NaN</td>\n",
       "      <td>3.0</td>\n",
       "      <td>NaN</td>\n",
       "      <td>9.63</td>\n",
       "      <td>3.0</td>\n",
       "      <td>3.0</td>\n",
       "      <td>7-8 hours</td>\n",
       "      <td>Moderate</td>\n",
       "      <td>M.Pharm</td>\n",
       "      <td>No</td>\n",
       "      <td>8.0</td>\n",
       "      <td>5.0</td>\n",
       "      <td>No</td>\n",
       "      <td>0</td>\n",
       "    </tr>\n",
       "    <tr>\n",
       "      <th>116703</th>\n",
       "      <td>Neil</td>\n",
       "      <td>Male</td>\n",
       "      <td>25.0</td>\n",
       "      <td>Bangalore</td>\n",
       "      <td>Student</td>\n",
       "      <td>NaN</td>\n",
       "      <td>4.0</td>\n",
       "      <td>NaN</td>\n",
       "      <td>9.44</td>\n",
       "      <td>5.0</td>\n",
       "      <td>2.0</td>\n",
       "      <td>Less than 5 hours</td>\n",
       "      <td>Unhealthy</td>\n",
       "      <td>PhD</td>\n",
       "      <td>Yes</td>\n",
       "      <td>4.0</td>\n",
       "      <td>1.0</td>\n",
       "      <td>No</td>\n",
       "      <td>1</td>\n",
       "    </tr>\n",
       "  </tbody>\n",
       "</table>\n",
       "</div>"
      ],
      "text/plain": [
       "         Name Gender   Age       City Working Professional or Student  \\\n",
       "id                                                                      \n",
       "1428    Rishi   Male  29.0   Srinagar                         Student   \n",
       "116703   Neil   Male  25.0  Bangalore                         Student   \n",
       "\n",
       "       Profession  Academic Pressure  Work Pressure  CGPA  Study Satisfaction  \\\n",
       "id                                                                              \n",
       "1428          NaN                3.0            NaN  9.63                 3.0   \n",
       "116703        NaN                4.0            NaN  9.44                 5.0   \n",
       "\n",
       "        Job Satisfaction     Sleep Duration Dietary Habits   Degree  \\\n",
       "id                                                                    \n",
       "1428                 3.0          7-8 hours       Moderate  M.Pharm   \n",
       "116703               2.0  Less than 5 hours      Unhealthy      PhD   \n",
       "\n",
       "       Have you ever had suicidal thoughts ?  Work/Study Hours  \\\n",
       "id                                                               \n",
       "1428                                      No               8.0   \n",
       "116703                                   Yes               4.0   \n",
       "\n",
       "        Financial Stress Family History of Mental Illness  Depression  \n",
       "id                                                                     \n",
       "1428                 5.0                               No           0  \n",
       "116703               1.0                               No           1  "
      ]
     },
     "execution_count": 87,
     "metadata": {},
     "output_type": "execute_result"
    }
   ],
   "source": [
    "df[df[\"Study Satisfaction\"].notna() & df[\"Job Satisfaction\"].notna()]"
   ]
  },
  {
   "cell_type": "code",
   "execution_count": 563,
   "metadata": {},
   "outputs": [
    {
     "data": {
      "text/html": [
       "<div>\n",
       "<style scoped>\n",
       "    .dataframe tbody tr th:only-of-type {\n",
       "        vertical-align: middle;\n",
       "    }\n",
       "\n",
       "    .dataframe tbody tr th {\n",
       "        vertical-align: top;\n",
       "    }\n",
       "\n",
       "    .dataframe thead th {\n",
       "        text-align: right;\n",
       "    }\n",
       "</style>\n",
       "<table border=\"1\" class=\"dataframe\">\n",
       "  <thead>\n",
       "    <tr style=\"text-align: right;\">\n",
       "      <th></th>\n",
       "      <th>Name</th>\n",
       "      <th>Gender</th>\n",
       "      <th>Age</th>\n",
       "      <th>City</th>\n",
       "      <th>Working Professional or Student</th>\n",
       "      <th>Profession</th>\n",
       "      <th>Academic Pressure</th>\n",
       "      <th>Work Pressure</th>\n",
       "      <th>CGPA</th>\n",
       "      <th>Study Satisfaction</th>\n",
       "      <th>Job Satisfaction</th>\n",
       "      <th>Sleep Duration</th>\n",
       "      <th>Dietary Habits</th>\n",
       "      <th>Degree</th>\n",
       "      <th>Have you ever had suicidal thoughts ?</th>\n",
       "      <th>Work/Study Hours</th>\n",
       "      <th>Financial Stress</th>\n",
       "      <th>Family History of Mental Illness</th>\n",
       "      <th>Depression</th>\n",
       "    </tr>\n",
       "    <tr>\n",
       "      <th>id</th>\n",
       "      <th></th>\n",
       "      <th></th>\n",
       "      <th></th>\n",
       "      <th></th>\n",
       "      <th></th>\n",
       "      <th></th>\n",
       "      <th></th>\n",
       "      <th></th>\n",
       "      <th></th>\n",
       "      <th></th>\n",
       "      <th></th>\n",
       "      <th></th>\n",
       "      <th></th>\n",
       "      <th></th>\n",
       "      <th></th>\n",
       "      <th></th>\n",
       "      <th></th>\n",
       "      <th></th>\n",
       "      <th></th>\n",
       "    </tr>\n",
       "  </thead>\n",
       "  <tbody>\n",
       "    <tr>\n",
       "      <th>17549</th>\n",
       "      <td>Tanya</td>\n",
       "      <td>Female</td>\n",
       "      <td>20.0</td>\n",
       "      <td>Patna</td>\n",
       "      <td>Student</td>\n",
       "      <td>NaN</td>\n",
       "      <td>NaN</td>\n",
       "      <td>NaN</td>\n",
       "      <td>5.55</td>\n",
       "      <td>NaN</td>\n",
       "      <td>NaN</td>\n",
       "      <td>5-6 hours</td>\n",
       "      <td>Moderate</td>\n",
       "      <td>Class 12</td>\n",
       "      <td>No</td>\n",
       "      <td>0.0</td>\n",
       "      <td>3.0</td>\n",
       "      <td>Yes</td>\n",
       "      <td>0</td>\n",
       "    </tr>\n",
       "    <tr>\n",
       "      <th>18344</th>\n",
       "      <td>Shivam</td>\n",
       "      <td>Male</td>\n",
       "      <td>30.0</td>\n",
       "      <td>Faridabad</td>\n",
       "      <td>Student</td>\n",
       "      <td>NaN</td>\n",
       "      <td>5.0</td>\n",
       "      <td>NaN</td>\n",
       "      <td>5.74</td>\n",
       "      <td>NaN</td>\n",
       "      <td>NaN</td>\n",
       "      <td>Less than 5 hours</td>\n",
       "      <td>Unhealthy</td>\n",
       "      <td>MCA</td>\n",
       "      <td>Yes</td>\n",
       "      <td>0.0</td>\n",
       "      <td>3.0</td>\n",
       "      <td>Yes</td>\n",
       "      <td>1</td>\n",
       "    </tr>\n",
       "    <tr>\n",
       "      <th>25647</th>\n",
       "      <td>Ishwar</td>\n",
       "      <td>Male</td>\n",
       "      <td>57.0</td>\n",
       "      <td>Kalyan</td>\n",
       "      <td>Working Professional</td>\n",
       "      <td>NaN</td>\n",
       "      <td>NaN</td>\n",
       "      <td>1.0</td>\n",
       "      <td>NaN</td>\n",
       "      <td>NaN</td>\n",
       "      <td>NaN</td>\n",
       "      <td>Less than 5 hours</td>\n",
       "      <td>Unhealthy</td>\n",
       "      <td>Class 12</td>\n",
       "      <td>No</td>\n",
       "      <td>4.0</td>\n",
       "      <td>1.0</td>\n",
       "      <td>No</td>\n",
       "      <td>0</td>\n",
       "    </tr>\n",
       "    <tr>\n",
       "      <th>34694</th>\n",
       "      <td>Kriti</td>\n",
       "      <td>Female</td>\n",
       "      <td>46.0</td>\n",
       "      <td>Meerut</td>\n",
       "      <td>Working Professional</td>\n",
       "      <td>NaN</td>\n",
       "      <td>NaN</td>\n",
       "      <td>NaN</td>\n",
       "      <td>NaN</td>\n",
       "      <td>NaN</td>\n",
       "      <td>NaN</td>\n",
       "      <td>5-6 hours</td>\n",
       "      <td>Moderate</td>\n",
       "      <td>Class 12</td>\n",
       "      <td>Yes</td>\n",
       "      <td>12.0</td>\n",
       "      <td>3.0</td>\n",
       "      <td>No</td>\n",
       "      <td>0</td>\n",
       "    </tr>\n",
       "    <tr>\n",
       "      <th>35612</th>\n",
       "      <td>Siddhesh</td>\n",
       "      <td>Male</td>\n",
       "      <td>27.0</td>\n",
       "      <td>Vadodara</td>\n",
       "      <td>Working Professional</td>\n",
       "      <td>NaN</td>\n",
       "      <td>NaN</td>\n",
       "      <td>NaN</td>\n",
       "      <td>NaN</td>\n",
       "      <td>NaN</td>\n",
       "      <td>NaN</td>\n",
       "      <td>Less than 5 hours</td>\n",
       "      <td>Unhealthy</td>\n",
       "      <td>B.Pharm</td>\n",
       "      <td>No</td>\n",
       "      <td>11.0</td>\n",
       "      <td>3.0</td>\n",
       "      <td>No</td>\n",
       "      <td>1</td>\n",
       "    </tr>\n",
       "    <tr>\n",
       "      <th>52199</th>\n",
       "      <td>Manan</td>\n",
       "      <td>Male</td>\n",
       "      <td>50.0</td>\n",
       "      <td>Agra</td>\n",
       "      <td>Working Professional</td>\n",
       "      <td>NaN</td>\n",
       "      <td>NaN</td>\n",
       "      <td>4.0</td>\n",
       "      <td>NaN</td>\n",
       "      <td>NaN</td>\n",
       "      <td>NaN</td>\n",
       "      <td>5-6 hours</td>\n",
       "      <td>Unhealthy</td>\n",
       "      <td>Class 12</td>\n",
       "      <td>No</td>\n",
       "      <td>1.0</td>\n",
       "      <td>3.0</td>\n",
       "      <td>Yes</td>\n",
       "      <td>0</td>\n",
       "    </tr>\n",
       "    <tr>\n",
       "      <th>55222</th>\n",
       "      <td>Trisha</td>\n",
       "      <td>Female</td>\n",
       "      <td>21.0</td>\n",
       "      <td>Varanasi</td>\n",
       "      <td>Working Professional</td>\n",
       "      <td>NaN</td>\n",
       "      <td>NaN</td>\n",
       "      <td>5.0</td>\n",
       "      <td>NaN</td>\n",
       "      <td>NaN</td>\n",
       "      <td>NaN</td>\n",
       "      <td>7-8 hours</td>\n",
       "      <td>Moderate</td>\n",
       "      <td>B.Arch</td>\n",
       "      <td>No</td>\n",
       "      <td>11.0</td>\n",
       "      <td>2.0</td>\n",
       "      <td>Yes</td>\n",
       "      <td>0</td>\n",
       "    </tr>\n",
       "    <tr>\n",
       "      <th>57196</th>\n",
       "      <td>Manvi</td>\n",
       "      <td>Female</td>\n",
       "      <td>20.0</td>\n",
       "      <td>Visakhapatnam</td>\n",
       "      <td>Working Professional</td>\n",
       "      <td>NaN</td>\n",
       "      <td>NaN</td>\n",
       "      <td>NaN</td>\n",
       "      <td>NaN</td>\n",
       "      <td>NaN</td>\n",
       "      <td>NaN</td>\n",
       "      <td>Less than 5 hours</td>\n",
       "      <td>Moderate</td>\n",
       "      <td>Class 12</td>\n",
       "      <td>No</td>\n",
       "      <td>0.0</td>\n",
       "      <td>4.0</td>\n",
       "      <td>Yes</td>\n",
       "      <td>1</td>\n",
       "    </tr>\n",
       "    <tr>\n",
       "      <th>58062</th>\n",
       "      <td>Ishita</td>\n",
       "      <td>Female</td>\n",
       "      <td>32.0</td>\n",
       "      <td>Vadodara</td>\n",
       "      <td>Student</td>\n",
       "      <td>NaN</td>\n",
       "      <td>5.0</td>\n",
       "      <td>NaN</td>\n",
       "      <td>NaN</td>\n",
       "      <td>NaN</td>\n",
       "      <td>NaN</td>\n",
       "      <td>Less than 5 hours</td>\n",
       "      <td>Unhealthy</td>\n",
       "      <td>Class 12</td>\n",
       "      <td>Yes</td>\n",
       "      <td>11.0</td>\n",
       "      <td>5.0</td>\n",
       "      <td>No</td>\n",
       "      <td>1</td>\n",
       "    </tr>\n",
       "    <tr>\n",
       "      <th>65346</th>\n",
       "      <td>Monika</td>\n",
       "      <td>Female</td>\n",
       "      <td>18.0</td>\n",
       "      <td>Faridabad</td>\n",
       "      <td>Working Professional</td>\n",
       "      <td>NaN</td>\n",
       "      <td>NaN</td>\n",
       "      <td>5.0</td>\n",
       "      <td>NaN</td>\n",
       "      <td>NaN</td>\n",
       "      <td>NaN</td>\n",
       "      <td>5-6 hours</td>\n",
       "      <td>Moderate</td>\n",
       "      <td>Class 12</td>\n",
       "      <td>Yes</td>\n",
       "      <td>9.0</td>\n",
       "      <td>5.0</td>\n",
       "      <td>No</td>\n",
       "      <td>1</td>\n",
       "    </tr>\n",
       "    <tr>\n",
       "      <th>86020</th>\n",
       "      <td>Jiya</td>\n",
       "      <td>Female</td>\n",
       "      <td>19.0</td>\n",
       "      <td>Patna</td>\n",
       "      <td>Working Professional</td>\n",
       "      <td>NaN</td>\n",
       "      <td>NaN</td>\n",
       "      <td>1.0</td>\n",
       "      <td>NaN</td>\n",
       "      <td>NaN</td>\n",
       "      <td>NaN</td>\n",
       "      <td>Less than 5 hours</td>\n",
       "      <td>Moderate</td>\n",
       "      <td>Class 12</td>\n",
       "      <td>Yes</td>\n",
       "      <td>8.0</td>\n",
       "      <td>4.0</td>\n",
       "      <td>Yes</td>\n",
       "      <td>1</td>\n",
       "    </tr>\n",
       "    <tr>\n",
       "      <th>98446</th>\n",
       "      <td>Ritika</td>\n",
       "      <td>Female</td>\n",
       "      <td>54.0</td>\n",
       "      <td>Surat</td>\n",
       "      <td>Working Professional</td>\n",
       "      <td>NaN</td>\n",
       "      <td>NaN</td>\n",
       "      <td>NaN</td>\n",
       "      <td>NaN</td>\n",
       "      <td>NaN</td>\n",
       "      <td>NaN</td>\n",
       "      <td>More than 8 hours</td>\n",
       "      <td>Moderate</td>\n",
       "      <td>Class 12</td>\n",
       "      <td>Yes</td>\n",
       "      <td>0.0</td>\n",
       "      <td>4.0</td>\n",
       "      <td>No</td>\n",
       "      <td>0</td>\n",
       "    </tr>\n",
       "    <tr>\n",
       "      <th>100868</th>\n",
       "      <td>Harsha</td>\n",
       "      <td>Male</td>\n",
       "      <td>29.0</td>\n",
       "      <td>Nashik</td>\n",
       "      <td>Working Professional</td>\n",
       "      <td>NaN</td>\n",
       "      <td>NaN</td>\n",
       "      <td>NaN</td>\n",
       "      <td>NaN</td>\n",
       "      <td>NaN</td>\n",
       "      <td>NaN</td>\n",
       "      <td>More than 8 hours</td>\n",
       "      <td>Healthy</td>\n",
       "      <td>BHM</td>\n",
       "      <td>Yes</td>\n",
       "      <td>10.0</td>\n",
       "      <td>3.0</td>\n",
       "      <td>No</td>\n",
       "      <td>0</td>\n",
       "    </tr>\n",
       "    <tr>\n",
       "      <th>102714</th>\n",
       "      <td>Aahana</td>\n",
       "      <td>Female</td>\n",
       "      <td>18.0</td>\n",
       "      <td>Bhopal</td>\n",
       "      <td>Student</td>\n",
       "      <td>NaN</td>\n",
       "      <td>4.0</td>\n",
       "      <td>NaN</td>\n",
       "      <td>5.88</td>\n",
       "      <td>NaN</td>\n",
       "      <td>NaN</td>\n",
       "      <td>Less than 5 hours</td>\n",
       "      <td>Moderate</td>\n",
       "      <td>Class 12</td>\n",
       "      <td>Yes</td>\n",
       "      <td>5.0</td>\n",
       "      <td>1.0</td>\n",
       "      <td>No</td>\n",
       "      <td>1</td>\n",
       "    </tr>\n",
       "    <tr>\n",
       "      <th>122793</th>\n",
       "      <td>Amit</td>\n",
       "      <td>Male</td>\n",
       "      <td>20.0</td>\n",
       "      <td>Pune</td>\n",
       "      <td>Working Professional</td>\n",
       "      <td>NaN</td>\n",
       "      <td>NaN</td>\n",
       "      <td>NaN</td>\n",
       "      <td>NaN</td>\n",
       "      <td>NaN</td>\n",
       "      <td>NaN</td>\n",
       "      <td>5-6 hours</td>\n",
       "      <td>Healthy</td>\n",
       "      <td>Class 12</td>\n",
       "      <td>No</td>\n",
       "      <td>0.0</td>\n",
       "      <td>5.0</td>\n",
       "      <td>No</td>\n",
       "      <td>0</td>\n",
       "    </tr>\n",
       "  </tbody>\n",
       "</table>\n",
       "</div>"
      ],
      "text/plain": [
       "            Name  Gender   Age           City Working Professional or Student  \\\n",
       "id                                                                              \n",
       "17549      Tanya  Female  20.0          Patna                         Student   \n",
       "18344     Shivam    Male  30.0      Faridabad                         Student   \n",
       "25647     Ishwar    Male  57.0         Kalyan            Working Professional   \n",
       "34694      Kriti  Female  46.0         Meerut            Working Professional   \n",
       "35612   Siddhesh    Male  27.0       Vadodara            Working Professional   \n",
       "52199      Manan    Male  50.0           Agra            Working Professional   \n",
       "55222     Trisha  Female  21.0       Varanasi            Working Professional   \n",
       "57196      Manvi  Female  20.0  Visakhapatnam            Working Professional   \n",
       "58062     Ishita  Female  32.0       Vadodara                         Student   \n",
       "65346     Monika  Female  18.0      Faridabad            Working Professional   \n",
       "86020       Jiya  Female  19.0          Patna            Working Professional   \n",
       "98446     Ritika  Female  54.0          Surat            Working Professional   \n",
       "100868    Harsha    Male  29.0         Nashik            Working Professional   \n",
       "102714    Aahana  Female  18.0         Bhopal                         Student   \n",
       "122793      Amit    Male  20.0           Pune            Working Professional   \n",
       "\n",
       "       Profession  Academic Pressure  Work Pressure  CGPA  Study Satisfaction  \\\n",
       "id                                                                              \n",
       "17549         NaN                NaN            NaN  5.55                 NaN   \n",
       "18344         NaN                5.0            NaN  5.74                 NaN   \n",
       "25647         NaN                NaN            1.0   NaN                 NaN   \n",
       "34694         NaN                NaN            NaN   NaN                 NaN   \n",
       "35612         NaN                NaN            NaN   NaN                 NaN   \n",
       "52199         NaN                NaN            4.0   NaN                 NaN   \n",
       "55222         NaN                NaN            5.0   NaN                 NaN   \n",
       "57196         NaN                NaN            NaN   NaN                 NaN   \n",
       "58062         NaN                5.0            NaN   NaN                 NaN   \n",
       "65346         NaN                NaN            5.0   NaN                 NaN   \n",
       "86020         NaN                NaN            1.0   NaN                 NaN   \n",
       "98446         NaN                NaN            NaN   NaN                 NaN   \n",
       "100868        NaN                NaN            NaN   NaN                 NaN   \n",
       "102714        NaN                4.0            NaN  5.88                 NaN   \n",
       "122793        NaN                NaN            NaN   NaN                 NaN   \n",
       "\n",
       "        Job Satisfaction     Sleep Duration Dietary Habits    Degree  \\\n",
       "id                                                                     \n",
       "17549                NaN          5-6 hours       Moderate  Class 12   \n",
       "18344                NaN  Less than 5 hours      Unhealthy       MCA   \n",
       "25647                NaN  Less than 5 hours      Unhealthy  Class 12   \n",
       "34694                NaN          5-6 hours       Moderate  Class 12   \n",
       "35612                NaN  Less than 5 hours      Unhealthy   B.Pharm   \n",
       "52199                NaN          5-6 hours      Unhealthy  Class 12   \n",
       "55222                NaN          7-8 hours       Moderate    B.Arch   \n",
       "57196                NaN  Less than 5 hours       Moderate  Class 12   \n",
       "58062                NaN  Less than 5 hours      Unhealthy  Class 12   \n",
       "65346                NaN          5-6 hours       Moderate  Class 12   \n",
       "86020                NaN  Less than 5 hours       Moderate  Class 12   \n",
       "98446                NaN  More than 8 hours       Moderate  Class 12   \n",
       "100868               NaN  More than 8 hours        Healthy       BHM   \n",
       "102714               NaN  Less than 5 hours       Moderate  Class 12   \n",
       "122793               NaN          5-6 hours        Healthy  Class 12   \n",
       "\n",
       "       Have you ever had suicidal thoughts ?  Work/Study Hours  \\\n",
       "id                                                               \n",
       "17549                                     No               0.0   \n",
       "18344                                    Yes               0.0   \n",
       "25647                                     No               4.0   \n",
       "34694                                    Yes              12.0   \n",
       "35612                                     No              11.0   \n",
       "52199                                     No               1.0   \n",
       "55222                                     No              11.0   \n",
       "57196                                     No               0.0   \n",
       "58062                                    Yes              11.0   \n",
       "65346                                    Yes               9.0   \n",
       "86020                                    Yes               8.0   \n",
       "98446                                    Yes               0.0   \n",
       "100868                                   Yes              10.0   \n",
       "102714                                   Yes               5.0   \n",
       "122793                                    No               0.0   \n",
       "\n",
       "        Financial Stress Family History of Mental Illness  Depression  \n",
       "id                                                                     \n",
       "17549                3.0                              Yes           0  \n",
       "18344                3.0                              Yes           1  \n",
       "25647                1.0                               No           0  \n",
       "34694                3.0                               No           0  \n",
       "35612                3.0                               No           1  \n",
       "52199                3.0                              Yes           0  \n",
       "55222                2.0                              Yes           0  \n",
       "57196                4.0                              Yes           1  \n",
       "58062                5.0                               No           1  \n",
       "65346                5.0                               No           1  \n",
       "86020                4.0                              Yes           1  \n",
       "98446                4.0                               No           0  \n",
       "100868               3.0                               No           0  \n",
       "102714               1.0                               No           1  \n",
       "122793               5.0                               No           0  "
      ]
     },
     "execution_count": 563,
     "metadata": {},
     "output_type": "execute_result"
    }
   ],
   "source": [
    "df[df[\"Study Satisfaction\"].isna() & df[\"Job Satisfaction\"].isna()]"
   ]
  },
  {
   "cell_type": "code",
   "execution_count": 88,
   "metadata": {
    "execution": {
     "iopub.execute_input": "2024-11-17T19:34:32.973060Z",
     "iopub.status.busy": "2024-11-17T19:34:32.972633Z",
     "iopub.status.idle": "2024-11-17T19:34:32.979796Z",
     "shell.execute_reply": "2024-11-17T19:34:32.978376Z",
     "shell.execute_reply.started": "2024-11-17T19:34:32.973023Z"
    },
    "trusted": true
   },
   "outputs": [],
   "source": [
    "# we create a simple function to merge the 2 columns together.\n",
    "def combine_profession(row):\n",
    "    if (row[\"Working Professional or Student\"] != \"Student\") and (\n",
    "        pd.isna(row[\"Profession\"])\n",
    "    ):\n",
    "        return \"Unemployed\"\n",
    "    elif row[\"Working Professional or Student\"] != \"Student\":\n",
    "        return row[\"Profession\"]\n",
    "    else:\n",
    "        return \"Student\""
   ]
  },
  {
   "cell_type": "markdown",
   "metadata": {},
   "source": [
    "### Sleep Duration"
   ]
  },
  {
   "cell_type": "code",
   "execution_count": 89,
   "metadata": {
    "execution": {
     "iopub.execute_input": "2024-11-17T19:34:35.450430Z",
     "iopub.status.busy": "2024-11-17T19:34:35.449981Z",
     "iopub.status.idle": "2024-11-17T19:34:35.468297Z",
     "shell.execute_reply": "2024-11-17T19:34:35.466952Z",
     "shell.execute_reply.started": "2024-11-17T19:34:35.450390Z"
    },
    "trusted": true
   },
   "outputs": [
    {
     "data": {
      "text/plain": [
       "36"
      ]
     },
     "execution_count": 89,
     "metadata": {},
     "output_type": "execute_result"
    }
   ],
   "source": [
    "df[\"Sleep Duration\"].nunique()"
   ]
  },
  {
   "cell_type": "code",
   "execution_count": 90,
   "metadata": {
    "execution": {
     "iopub.execute_input": "2024-11-17T19:34:38.294433Z",
     "iopub.status.busy": "2024-11-17T19:34:38.293980Z",
     "iopub.status.idle": "2024-11-17T19:34:38.316991Z",
     "shell.execute_reply": "2024-11-17T19:34:38.315777Z",
     "shell.execute_reply.started": "2024-11-17T19:34:38.294391Z"
    },
    "trusted": true
   },
   "outputs": [
    {
     "data": {
      "text/plain": [
       "Sleep Duration\n",
       "Less than 5 hours    38784\n",
       "7-8 hours            36969\n",
       "More than 8 hours    32726\n",
       "5-6 hours            32142\n",
       "3-4 hours               12\n",
       "6-7 hours                8\n",
       "4-5 hours                7\n",
       "2-3 hours                5\n",
       "4-6 hours                5\n",
       "6-8 hours                4\n",
       "1-6 hours                4\n",
       "No                       4\n",
       "9-11 hours               2\n",
       "10-11 hours              2\n",
       "Sleep_Duration           2\n",
       "Unhealthy                2\n",
       "45                       2\n",
       "8-9 hours                2\n",
       "10-6 hours               1\n",
       "9-5                      1\n",
       "45-48 hours              1\n",
       "3-6 hours                1\n",
       "Work_Study_Hours         1\n",
       "49 hours                 1\n",
       "than 5 hours             1\n",
       "Pune                     1\n",
       "9-6 hours                1\n",
       "8 hours                  1\n",
       "35-36 hours              1\n",
       "Indore                   1\n",
       "1-3 hours                1\n",
       "55-66 hours              1\n",
       "Moderate                 1\n",
       "40-45 hours              1\n",
       "1-2 hours                1\n",
       "9-5 hours                1\n",
       "Name: count, dtype: int64"
      ]
     },
     "execution_count": 90,
     "metadata": {},
     "output_type": "execute_result"
    }
   ],
   "source": [
    "df[\"Sleep Duration\"].value_counts()"
   ]
  },
  {
   "cell_type": "markdown",
   "metadata": {},
   "source": [
    "Recategorise sleep using the most popular sleep duration categories"
   ]
  },
  {
   "cell_type": "code",
   "execution_count": 91,
   "metadata": {
    "execution": {
     "iopub.execute_input": "2024-11-17T19:34:42.131780Z",
     "iopub.status.busy": "2024-11-17T19:34:42.131161Z",
     "iopub.status.idle": "2024-11-17T19:34:42.143419Z",
     "shell.execute_reply": "2024-11-17T19:34:42.141568Z",
     "shell.execute_reply.started": "2024-11-17T19:34:42.131719Z"
    },
    "trusted": true
   },
   "outputs": [],
   "source": [
    "def clean_sleep_duration(row):\n",
    "    if row[\"Sleep Duration\"] in [\"Less than 5 hours\", \"3-4 hours\", \"1-3 hours\", \"1-2 hours\",'2-3 hours', '3-4 hours', '4-5 hours']:\n",
    "        return \"Less than 5 hours\"\n",
    "    elif row[\"Sleep Duration\"] in [\"9-11 hours\", '10-11 hours', '8-9 hours', \"More than 8 hours\"]:\n",
    "        return \"More than 8 hours\"\n",
    "    elif row[\"Sleep Duration\"] in [\"6-8 hours\", \"5-6 hours\", \"7-8 hours\", \"6-8 hours\", '6-7 hours', '8 hours']:\n",
    "        return \"5 to 8 hours\"\n",
    "    else:\n",
    "        return \"Others\""
   ]
  },
  {
   "cell_type": "code",
   "execution_count": 92,
   "metadata": {
    "execution": {
     "iopub.execute_input": "2024-11-17T19:34:44.324302Z",
     "iopub.status.busy": "2024-11-17T19:34:44.323860Z",
     "iopub.status.idle": "2024-11-17T19:34:46.055854Z",
     "shell.execute_reply": "2024-11-17T19:34:46.054603Z",
     "shell.execute_reply.started": "2024-11-17T19:34:44.324265Z"
    },
    "trusted": true
   },
   "outputs": [
    {
     "data": {
      "text/plain": [
       "5 to 8 hours         69124\n",
       "Less than 5 hours    38810\n",
       "More than 8 hours    32732\n",
       "Others                  34\n",
       "Name: count, dtype: int64"
      ]
     },
     "execution_count": 92,
     "metadata": {},
     "output_type": "execute_result"
    }
   ],
   "source": [
    "df.apply(clean_sleep_duration, axis=1).value_counts()"
   ]
  },
  {
   "cell_type": "code",
   "execution_count": 94,
   "metadata": {
    "execution": {
     "iopub.execute_input": "2024-11-17T19:34:49.215942Z",
     "iopub.status.busy": "2024-11-17T19:34:49.214959Z",
     "iopub.status.idle": "2024-11-17T19:34:50.923435Z",
     "shell.execute_reply": "2024-11-17T19:34:50.922191Z",
     "shell.execute_reply.started": "2024-11-17T19:34:49.215895Z"
    },
    "trusted": true
   },
   "outputs": [],
   "source": [
    "df[\"Sleep\"] = df.apply(clean_sleep_duration, axis=1)"
   ]
  },
  {
   "cell_type": "code",
   "execution_count": 95,
   "metadata": {
    "execution": {
     "iopub.execute_input": "2024-11-17T19:34:53.265367Z",
     "iopub.status.busy": "2024-11-17T19:34:53.264926Z",
     "iopub.status.idle": "2024-11-17T19:34:53.549980Z",
     "shell.execute_reply": "2024-11-17T19:34:53.548652Z",
     "shell.execute_reply.started": "2024-11-17T19:34:53.265325Z"
    },
    "trusted": true
   },
   "outputs": [
    {
     "data": {
      "text/plain": [
       "<Axes: xlabel='Sleep', ylabel='Count'>"
      ]
     },
     "execution_count": 95,
     "metadata": {},
     "output_type": "execute_result"
    },
    {
     "data": {
      "image/png": "[encoded data removed]",
      "text/plain": [
       "<Figure size 640x480 with 1 Axes>"
      ]
     },
     "metadata": {},
     "output_type": "display_data"
    }
   ],
   "source": [
    "sleep_group = df.groupby([\"Sleep\", \"Depression\"])[[\"Name\"]].count().reset_index().rename(columns={\"Name\":\"Count\"})\n",
    "sns.barplot(sleep_group, x='Sleep', y='Count', hue='Depression')"
   ]
  },
  {
   "cell_type": "code",
   "execution_count": 96,
   "metadata": {
    "execution": {
     "iopub.execute_input": "2024-11-17T19:35:00.599590Z",
     "iopub.status.busy": "2024-11-17T19:35:00.598437Z",
     "iopub.status.idle": "2024-11-17T19:35:00.605066Z",
     "shell.execute_reply": "2024-11-17T19:35:00.603660Z",
     "shell.execute_reply.started": "2024-11-17T19:35:00.599517Z"
    },
    "trusted": true
   },
   "outputs": [],
   "source": [
    "sleep_group_copy = sleep_group.copy()"
   ]
  },
  {
   "cell_type": "code",
   "execution_count": 98,
   "metadata": {
    "execution": {
     "iopub.execute_input": "2024-11-17T19:35:25.426497Z",
     "iopub.status.busy": "2024-11-17T19:35:25.425559Z",
     "iopub.status.idle": "2024-11-17T19:35:25.438570Z",
     "shell.execute_reply": "2024-11-17T19:35:25.437394Z",
     "shell.execute_reply.started": "2024-11-17T19:35:25.426443Z"
    },
    "trusted": true
   },
   "outputs": [
    {
     "data": {
      "text/html": [
       "<div>\n",
       "<style scoped>\n",
       "    .dataframe tbody tr th:only-of-type {\n",
       "        vertical-align: middle;\n",
       "    }\n",
       "\n",
       "    .dataframe tbody tr th {\n",
       "        vertical-align: top;\n",
       "    }\n",
       "\n",
       "    .dataframe thead th {\n",
       "        text-align: right;\n",
       "    }\n",
       "</style>\n",
       "<table border=\"1\" class=\"dataframe\">\n",
       "  <thead>\n",
       "    <tr style=\"text-align: right;\">\n",
       "      <th></th>\n",
       "      <th>Sleep</th>\n",
       "      <th>Depression</th>\n",
       "      <th>Count</th>\n",
       "    </tr>\n",
       "  </thead>\n",
       "  <tbody>\n",
       "    <tr>\n",
       "      <th>0</th>\n",
       "      <td>5 to 8 hours</td>\n",
       "      <td>0</td>\n",
       "      <td>0.827585</td>\n",
       "    </tr>\n",
       "    <tr>\n",
       "      <th>1</th>\n",
       "      <td>5 to 8 hours</td>\n",
       "      <td>1</td>\n",
       "      <td>0.172415</td>\n",
       "    </tr>\n",
       "    <tr>\n",
       "      <th>2</th>\n",
       "      <td>Less than 5 hours</td>\n",
       "      <td>0</td>\n",
       "      <td>0.765421</td>\n",
       "    </tr>\n",
       "    <tr>\n",
       "      <th>3</th>\n",
       "      <td>Less than 5 hours</td>\n",
       "      <td>1</td>\n",
       "      <td>0.234579</td>\n",
       "    </tr>\n",
       "    <tr>\n",
       "      <th>4</th>\n",
       "      <td>More than 8 hours</td>\n",
       "      <td>0</td>\n",
       "      <td>0.861237</td>\n",
       "    </tr>\n",
       "    <tr>\n",
       "      <th>5</th>\n",
       "      <td>More than 8 hours</td>\n",
       "      <td>1</td>\n",
       "      <td>0.138763</td>\n",
       "    </tr>\n",
       "    <tr>\n",
       "      <th>6</th>\n",
       "      <td>Others</td>\n",
       "      <td>0</td>\n",
       "      <td>0.911765</td>\n",
       "    </tr>\n",
       "    <tr>\n",
       "      <th>7</th>\n",
       "      <td>Others</td>\n",
       "      <td>1</td>\n",
       "      <td>0.088235</td>\n",
       "    </tr>\n",
       "  </tbody>\n",
       "</table>\n",
       "</div>"
      ],
      "text/plain": [
       "               Sleep  Depression     Count\n",
       "0       5 to 8 hours           0  0.827585\n",
       "1       5 to 8 hours           1  0.172415\n",
       "2  Less than 5 hours           0  0.765421\n",
       "3  Less than 5 hours           1  0.234579\n",
       "4  More than 8 hours           0  0.861237\n",
       "5  More than 8 hours           1  0.138763\n",
       "6             Others           0  0.911765\n",
       "7             Others           1  0.088235"
      ]
     },
     "execution_count": 98,
     "metadata": {},
     "output_type": "execute_result"
    }
   ],
   "source": [
    "sleep_group_copy"
   ]
  },
  {
   "cell_type": "code",
   "execution_count": 99,
   "metadata": {
    "execution": {
     "iopub.execute_input": "2024-11-17T19:35:42.536594Z",
     "iopub.status.busy": "2024-11-17T19:35:42.536120Z",
     "iopub.status.idle": "2024-11-17T19:35:42.548713Z",
     "shell.execute_reply": "2024-11-17T19:35:42.547408Z",
     "shell.execute_reply.started": "2024-11-17T19:35:42.536535Z"
    },
    "trusted": true
   },
   "outputs": [],
   "source": [
    "sleep_group_copy.loc[:1,\"Count\"] = sleep_group_copy.loc[:1, \"Count\"] / sleep_group_copy.loc[:1, \"Count\"].sum()\n",
    "sleep_group_copy.loc[2:3, \"Count\"] = sleep_group_copy.loc[2:3, \"Count\"] / sleep_group_copy.loc[2:3, \"Count\"].sum()\n",
    "sleep_group_copy.loc[4:5, \"Count\"] = sleep_group_copy.loc[4:5, \"Count\"] / sleep_group_copy.loc[4:5, \"Count\"].sum()\n",
    "sleep_group_copy.loc[6:, \"Count\"] = sleep_group_copy.loc[6:, \"Count\"] / sleep_group_copy.loc[6:, \"Count\"].sum()"
   ]
  },
  {
   "cell_type": "code",
   "execution_count": 101,
   "metadata": {
    "execution": {
     "iopub.execute_input": "2024-11-17T19:35:47.031506Z",
     "iopub.status.busy": "2024-11-17T19:35:47.030191Z",
     "iopub.status.idle": "2024-11-17T19:35:47.357317Z",
     "shell.execute_reply": "2024-11-17T19:35:47.355879Z",
     "shell.execute_reply.started": "2024-11-17T19:35:47.031455Z"
    },
    "trusted": true
   },
   "outputs": [
    {
     "data": {
      "text/plain": [
       "<Axes: xlabel='Sleep', ylabel='Count'>"
      ]
     },
     "execution_count": 101,
     "metadata": {},
     "output_type": "execute_result"
    },
    {
     "data": {
      "image/png": "[encoded data removed]",
      "text/plain": [
       "<Figure size 640x480 with 1 Axes>"
      ]
     },
     "metadata": {},
     "output_type": "display_data"
    }
   ],
   "source": [
    "sns.barplot(sleep_group_copy, x=\"Sleep\", y=\"Count\", hue=\"Depression\", order=['Less than 5 hours','5 to 8 hours', 'More than 8 hours', 'Others'])"
   ]
  },
  {
   "cell_type": "markdown",
   "metadata": {},
   "source": [
    "### Dietary Habits"
   ]
  },
  {
   "cell_type": "code",
   "execution_count": 102,
   "metadata": {
    "execution": {
     "iopub.execute_input": "2024-11-17T19:36:03.910075Z",
     "iopub.status.busy": "2024-11-17T19:36:03.909650Z",
     "iopub.status.idle": "2024-11-17T19:36:03.934544Z",
     "shell.execute_reply": "2024-11-17T19:36:03.932805Z",
     "shell.execute_reply.started": "2024-11-17T19:36:03.910038Z"
    },
    "trusted": true
   },
   "outputs": [
    {
     "data": {
      "text/plain": [
       "Dietary Habits\n",
       "Moderate             49705\n",
       "Unhealthy            46227\n",
       "Healthy              44741\n",
       "Yes                      2\n",
       "No                       2\n",
       "More Healthy             2\n",
       "No Healthy               1\n",
       "Class 12                 1\n",
       "Indoor                   1\n",
       "Male                     1\n",
       "Vegas                    1\n",
       "M.Tech                   1\n",
       "Less Healthy             1\n",
       "1.0                      1\n",
       "Electrician              1\n",
       "Hormonal                 1\n",
       "Mihir                    1\n",
       "Less than Healthy        1\n",
       "3                        1\n",
       "Gender                   1\n",
       "BSc                      1\n",
       "Pratham                  1\n",
       "2                        1\n",
       "Name: count, dtype: int64"
      ]
     },
     "execution_count": 102,
     "metadata": {},
     "output_type": "execute_result"
    }
   ],
   "source": [
    "df[\"Dietary Habits\"].value_counts()"
   ]
  },
  {
   "cell_type": "code",
   "execution_count": 103,
   "metadata": {
    "execution": {
     "iopub.execute_input": "2024-11-17T19:36:05.446740Z",
     "iopub.status.busy": "2024-11-17T19:36:05.446271Z",
     "iopub.status.idle": "2024-11-17T19:36:05.844566Z",
     "shell.execute_reply": "2024-11-17T19:36:05.843070Z",
     "shell.execute_reply.started": "2024-11-17T19:36:05.446698Z"
    },
    "trusted": true
   },
   "outputs": [
    {
     "data": {
      "text/plain": [
       "<Axes: xlabel='Dietary Habits', ylabel='Count'>"
      ]
     },
     "execution_count": 103,
     "metadata": {},
     "output_type": "execute_result"
    },
    {
     "data": {
      "image/png": "[encoded data removed]",
      "text/plain": [
       "<Figure size 640x480 with 1 Axes>"
      ]
     },
     "metadata": {},
     "output_type": "display_data"
    }
   ],
   "source": [
    "diet_categories = ['Moderate', \"Healthy\", \"Unhealthy\"]\n",
    "diet_group = df.query(\"`Dietary Habits` in @diet_categories\").groupby([\"Dietary Habits\", \"Depression\"])[[\"Name\"]].count().reset_index().rename(columns={\"Name\": \"Count\"})\n",
    "\n",
    "sns.barplot(diet_group, x=\"Dietary Habits\", y=\"Count\", hue=\"Depression\")"
   ]
  },
  {
   "cell_type": "markdown",
   "metadata": {},
   "source": [
    "We will rely on One Hot Encode to cull infequent labels"
   ]
  },
  {
   "cell_type": "code",
   "execution_count": 104,
   "metadata": {
    "execution": {
     "iopub.execute_input": "2024-11-17T19:36:14.125491Z",
     "iopub.status.busy": "2024-11-17T19:36:14.125011Z",
     "iopub.status.idle": "2024-11-17T19:36:14.153505Z",
     "shell.execute_reply": "2024-11-17T19:36:14.151308Z",
     "shell.execute_reply.started": "2024-11-17T19:36:14.125449Z"
    },
    "trusted": true
   },
   "outputs": [
    {
     "data": {
      "text/plain": [
       "Dietary Habits\n",
       "Moderate             49705\n",
       "Unhealthy            46227\n",
       "Healthy              44741\n",
       "Yes                      2\n",
       "No                       2\n",
       "More Healthy             2\n",
       "No Healthy               1\n",
       "Class 12                 1\n",
       "Indoor                   1\n",
       "Male                     1\n",
       "Vegas                    1\n",
       "M.Tech                   1\n",
       "Less Healthy             1\n",
       "1.0                      1\n",
       "Electrician              1\n",
       "Hormonal                 1\n",
       "Mihir                    1\n",
       "Less than Healthy        1\n",
       "3                        1\n",
       "Gender                   1\n",
       "BSc                      1\n",
       "Pratham                  1\n",
       "2                        1\n",
       "Name: count, dtype: int64"
      ]
     },
     "execution_count": 104,
     "metadata": {},
     "output_type": "execute_result"
    }
   ],
   "source": [
    "df[\"Dietary Habits\"].value_counts()"
   ]
  },
  {
   "cell_type": "markdown",
   "metadata": {},
   "source": [
    "### Suicidal thoughts"
   ]
  },
  {
   "cell_type": "code",
   "execution_count": 105,
   "metadata": {
    "execution": {
     "iopub.execute_input": "2024-11-17T19:36:17.517635Z",
     "iopub.status.busy": "2024-11-17T19:36:17.516552Z",
     "iopub.status.idle": "2024-11-17T19:36:17.547361Z",
     "shell.execute_reply": "2024-11-17T19:36:17.545392Z",
     "shell.execute_reply.started": "2024-11-17T19:36:17.517543Z"
    },
    "trusted": true
   },
   "outputs": [
    {
     "data": {
      "text/plain": [
       "Have you ever had suicidal thoughts ?\n",
       "No     71138\n",
       "Yes    69562\n",
       "Name: count, dtype: int64"
      ]
     },
     "execution_count": 105,
     "metadata": {},
     "output_type": "execute_result"
    }
   ],
   "source": [
    "df[\"Have you ever had suicidal thoughts ?\"].value_counts()"
   ]
  },
  {
   "cell_type": "code",
   "execution_count": 112,
   "metadata": {
    "execution": {
     "iopub.execute_input": "2024-11-17T19:37:33.638115Z",
     "iopub.status.busy": "2024-11-17T19:37:33.637386Z",
     "iopub.status.idle": "2024-11-17T19:37:33.954080Z",
     "shell.execute_reply": "2024-11-17T19:37:33.952837Z",
     "shell.execute_reply.started": "2024-11-17T19:37:33.638061Z"
    },
    "trusted": true
   },
   "outputs": [
    {
     "data": {
      "text/plain": [
       "<Axes: xlabel='thoughts', ylabel='Count'>"
      ]
     },
     "execution_count": 112,
     "metadata": {},
     "output_type": "execute_result"
    },
    {
     "data": {
      "image/png": "[encoded data removed]",
      "text/plain": [
       "<Figure size 640x480 with 1 Axes>"
      ]
     },
     "metadata": {},
     "output_type": "display_data"
    }
   ],
   "source": [
    "thoughts_group = (\n",
    "    df.groupby([\"Have you ever had suicidal thoughts ?\", \"Depression\"])[[\"Name\"]]\n",
    "    .count()\n",
    "    .reset_index()\n",
    "    .rename(columns={\"Name\": \"Count\", \"Have you ever had suicidal thoughts ?\":\"thoughts\"})\n",
    ")\n",
    "\n",
    "sns.barplot(thoughts_group, x=\"thoughts\", y=\"Count\", hue=\"Depression\")"
   ]
  },
  {
   "cell_type": "markdown",
   "metadata": {},
   "source": [
    "### Work/Study hours"
   ]
  },
  {
   "cell_type": "code",
   "execution_count": 107,
   "metadata": {
    "execution": {
     "iopub.execute_input": "2024-11-17T19:36:20.235232Z",
     "iopub.status.busy": "2024-11-17T19:36:20.234541Z",
     "iopub.status.idle": "2024-11-17T19:36:20.247797Z",
     "shell.execute_reply": "2024-11-17T19:36:20.246053Z",
     "shell.execute_reply.started": "2024-11-17T19:36:20.234984Z"
    },
    "trusted": true
   },
   "outputs": [
    {
     "data": {
      "text/plain": [
       "0"
      ]
     },
     "execution_count": 107,
     "metadata": {},
     "output_type": "execute_result"
    }
   ],
   "source": [
    "df[\"Work/Study Hours\"].isna().sum()"
   ]
  },
  {
   "cell_type": "code",
   "execution_count": 108,
   "metadata": {
    "execution": {
     "iopub.execute_input": "2024-11-17T19:36:21.163363Z",
     "iopub.status.busy": "2024-11-17T19:36:21.162820Z",
     "iopub.status.idle": "2024-11-17T19:36:21.179151Z",
     "shell.execute_reply": "2024-11-17T19:36:21.177718Z",
     "shell.execute_reply.started": "2024-11-17T19:36:21.163314Z"
    },
    "trusted": true
   },
   "outputs": [
    {
     "data": {
      "text/plain": [
       "Work/Study Hours\n",
       "10.0    14199\n",
       "11.0    12832\n",
       "9.0     12711\n",
       "0.0     12066\n",
       "12.0    11409\n",
       "2.0     10595\n",
       "6.0     10432\n",
       "7.0      9872\n",
       "1.0      9802\n",
       "3.0      9474\n",
       "5.0      9337\n",
       "4.0      9065\n",
       "8.0      8906\n",
       "Name: count, dtype: int64"
      ]
     },
     "execution_count": 108,
     "metadata": {},
     "output_type": "execute_result"
    }
   ],
   "source": [
    "df[\"Work/Study Hours\"].value_counts()"
   ]
  },
  {
   "cell_type": "code",
   "execution_count": 109,
   "metadata": {
    "execution": {
     "iopub.execute_input": "2024-11-17T19:36:22.159144Z",
     "iopub.status.busy": "2024-11-17T19:36:22.158501Z",
     "iopub.status.idle": "2024-11-17T19:36:22.822385Z",
     "shell.execute_reply": "2024-11-17T19:36:22.819229Z",
     "shell.execute_reply.started": "2024-11-17T19:36:22.159088Z"
    },
    "trusted": true
   },
   "outputs": [
    {
     "data": {
      "text/plain": [
       "<Axes: xlabel='work_hours', ylabel='Count'>"
      ]
     },
     "execution_count": 109,
     "metadata": {},
     "output_type": "execute_result"
    },
    {
     "data": {
      "image/png": "[encoded data removed]",
      "text/plain": [
       "<Figure size 640x480 with 1 Axes>"
      ]
     },
     "metadata": {},
     "output_type": "display_data"
    }
   ],
   "source": [
    "work_group = (\n",
    "    df.groupby([\"Work/Study Hours\", \"Depression\"])[[\"Name\"]]\n",
    "    .count()\n",
    "    .reset_index()\n",
    "    .rename(\n",
    "        columns={\"Name\": \"Count\", \"Work/Study Hours\": \"work_hours\"}\n",
    "    )\n",
    ")\n",
    "\n",
    "sns.barplot(work_group, x=\"work_hours\", y=\"Count\", hue=\"Depression\")"
   ]
  },
  {
   "cell_type": "markdown",
   "metadata": {},
   "source": [
    "## Dietary Habits"
   ]
  },
  {
   "cell_type": "code",
   "execution_count": 115,
   "metadata": {
    "execution": {
     "iopub.execute_input": "2024-11-17T19:39:22.719229Z",
     "iopub.status.busy": "2024-11-17T19:39:22.718710Z",
     "iopub.status.idle": "2024-11-17T19:39:22.749782Z",
     "shell.execute_reply": "2024-11-17T19:39:22.748408Z",
     "shell.execute_reply.started": "2024-11-17T19:39:22.719184Z"
    },
    "trusted": true
   },
   "outputs": [
    {
     "name": "stdout",
     "output_type": "stream",
     "text": [
      "4\n"
     ]
    },
    {
     "data": {
      "text/plain": [
       "Dietary Habits\n",
       "Moderate             49705\n",
       "Unhealthy            46227\n",
       "Healthy              44741\n",
       "Yes                      2\n",
       "No                       2\n",
       "More Healthy             2\n",
       "No Healthy               1\n",
       "Class 12                 1\n",
       "Indoor                   1\n",
       "Male                     1\n",
       "Vegas                    1\n",
       "M.Tech                   1\n",
       "Less Healthy             1\n",
       "1.0                      1\n",
       "Electrician              1\n",
       "Hormonal                 1\n",
       "Mihir                    1\n",
       "Less than Healthy        1\n",
       "3                        1\n",
       "Gender                   1\n",
       "BSc                      1\n",
       "Pratham                  1\n",
       "2                        1\n",
       "Name: count, dtype: int64"
      ]
     },
     "execution_count": 115,
     "metadata": {},
     "output_type": "execute_result"
    }
   ],
   "source": [
    "print(df[\"Dietary Habits\"].isna().sum())\n",
    "df[\"Dietary Habits\"].value_counts()"
   ]
  },
  {
   "cell_type": "code",
   "execution_count": 123,
   "metadata": {
    "execution": {
     "iopub.execute_input": "2024-11-17T19:41:54.019676Z",
     "iopub.status.busy": "2024-11-17T19:41:54.018510Z",
     "iopub.status.idle": "2024-11-17T19:41:54.107828Z",
     "shell.execute_reply": "2024-11-17T19:41:54.106455Z",
     "shell.execute_reply.started": "2024-11-17T19:41:54.019628Z"
    },
    "trusted": true
   },
   "outputs": [],
   "source": [
    "diet_groups = df[\"Dietary Habits\"].value_counts().head(3).index\n",
    "diet_plot = df.query(\"`Dietary Habits` in @diet_groups\").groupby([\"Dietary Habits\", \"Depression\"])[[\"Name\"]].count().reset_index().rename(columns={\"Name\":\"Count\", \"Dietary Habits\":\"Diet\"})"
   ]
  },
  {
   "cell_type": "code",
   "execution_count": 124,
   "metadata": {
    "execution": {
     "iopub.execute_input": "2024-11-17T19:42:08.805746Z",
     "iopub.status.busy": "2024-11-17T19:42:08.804804Z",
     "iopub.status.idle": "2024-11-17T19:42:09.070239Z",
     "shell.execute_reply": "2024-11-17T19:42:09.069009Z",
     "shell.execute_reply.started": "2024-11-17T19:42:08.805697Z"
    },
    "trusted": true
   },
   "outputs": [
    {
     "data": {
      "text/plain": [
       "<Axes: xlabel='Diet', ylabel='Count'>"
      ]
     },
     "execution_count": 124,
     "metadata": {},
     "output_type": "execute_result"
    },
    {
     "data": {
      "image/png": "[encoded data removed]",
      "text/plain": [
       "<Figure size 640x480 with 1 Axes>"
      ]
     },
     "metadata": {},
     "output_type": "display_data"
    }
   ],
   "source": [
    "sns.barplot(diet_plot, x=\"Diet\", y=\"Count\", hue=\"Depression\")"
   ]
  },
  {
   "cell_type": "markdown",
   "metadata": {},
   "source": [
    "## Financial Stress"
   ]
  },
  {
   "cell_type": "code",
   "execution_count": 125,
   "metadata": {
    "execution": {
     "iopub.execute_input": "2024-11-17T19:42:30.077083Z",
     "iopub.status.busy": "2024-11-17T19:42:30.076617Z",
     "iopub.status.idle": "2024-11-17T19:42:30.089902Z",
     "shell.execute_reply": "2024-11-17T19:42:30.088617Z",
     "shell.execute_reply.started": "2024-11-17T19:42:30.077041Z"
    },
    "trusted": true
   },
   "outputs": [
    {
     "data": {
      "text/plain": [
       "Financial Stress\n",
       "2.0    31451\n",
       "5.0    28279\n",
       "4.0    27765\n",
       "1.0    27211\n",
       "3.0    25990\n",
       "Name: count, dtype: int64"
      ]
     },
     "execution_count": 125,
     "metadata": {},
     "output_type": "execute_result"
    }
   ],
   "source": [
    "df[\"Financial Stress\"].value_counts()"
   ]
  },
  {
   "cell_type": "code",
   "execution_count": 126,
   "metadata": {
    "execution": {
     "iopub.execute_input": "2024-11-17T19:42:33.114752Z",
     "iopub.status.busy": "2024-11-17T19:42:33.114274Z",
     "iopub.status.idle": "2024-11-17T19:42:33.452743Z",
     "shell.execute_reply": "2024-11-17T19:42:33.451505Z",
     "shell.execute_reply.started": "2024-11-17T19:42:33.114708Z"
    },
    "trusted": true
   },
   "outputs": [
    {
     "data": {
      "text/plain": [
       "<Axes: xlabel='work_hours', ylabel='Count'>"
      ]
     },
     "execution_count": 126,
     "metadata": {},
     "output_type": "execute_result"
    },
    {
     "data": {
      "image/png": "[encoded data removed]",
      "text/plain": [
       "<Figure size 640x480 with 1 Axes>"
      ]
     },
     "metadata": {},
     "output_type": "display_data"
    }
   ],
   "source": [
    "financial_stress_group = (\n",
    "    df.groupby([\"Financial Stress\", \"Depression\"])[[\"Name\"]]\n",
    "    .count()\n",
    "    .reset_index()\n",
    "    .rename(columns={\"Name\": \"Count\", \"Financial Stress\": \"work_hours\"})\n",
    ")\n",
    "\n",
    "sns.barplot(financial_stress_group, x=\"work_hours\", y=\"Count\", hue=\"Depression\")"
   ]
  },
  {
   "cell_type": "markdown",
   "metadata": {},
   "source": [
    "## Family History"
   ]
  },
  {
   "cell_type": "code",
   "execution_count": 127,
   "metadata": {
    "execution": {
     "iopub.execute_input": "2024-11-17T19:42:38.627252Z",
     "iopub.status.busy": "2024-11-17T19:42:38.626692Z",
     "iopub.status.idle": "2024-11-17T19:42:38.661536Z",
     "shell.execute_reply": "2024-11-17T19:42:38.660046Z",
     "shell.execute_reply.started": "2024-11-17T19:42:38.627191Z"
    },
    "trusted": true
   },
   "outputs": [
    {
     "data": {
      "text/plain": [
       "Family History of Mental Illness\n",
       "No     70758\n",
       "Yes    69942\n",
       "Name: count, dtype: int64"
      ]
     },
     "execution_count": 127,
     "metadata": {},
     "output_type": "execute_result"
    }
   ],
   "source": [
    "df[\"Family History of Mental Illness\"].value_counts()"
   ]
  },
  {
   "cell_type": "code",
   "execution_count": 128,
   "metadata": {
    "execution": {
     "iopub.execute_input": "2024-11-17T19:42:39.424912Z",
     "iopub.status.busy": "2024-11-17T19:42:39.424410Z",
     "iopub.status.idle": "2024-11-17T19:42:39.722138Z",
     "shell.execute_reply": "2024-11-17T19:42:39.720804Z",
     "shell.execute_reply.started": "2024-11-17T19:42:39.424860Z"
    },
    "trusted": true
   },
   "outputs": [
    {
     "data": {
      "text/plain": [
       "<Axes: xlabel='fam_hist', ylabel='Count'>"
      ]
     },
     "execution_count": 128,
     "metadata": {},
     "output_type": "execute_result"
    },
    {
     "data": {
      "image/png": "[encoded data removed]",
      "text/plain": [
       "<Figure size 640x480 with 1 Axes>"
      ]
     },
     "metadata": {},
     "output_type": "display_data"
    }
   ],
   "source": [
    "fam_hist_group = (\n",
    "    df.groupby([\"Family History of Mental Illness\", \"Depression\"])[[\"Name\"]]\n",
    "    .count()\n",
    "    .reset_index()\n",
    "    .rename(columns={\"Name\": \"Count\", \"Family History of Mental Illness\": \"fam_hist\"})\n",
    ")\n",
    "\n",
    "sns.barplot(fam_hist_group, x=\"fam_hist\", y=\"Count\", hue=\"Depression\")"
   ]
  },
  {
   "cell_type": "markdown",
   "metadata": {},
   "source": [
    "# Building a Preprocessing pipeline"
   ]
  },
  {
   "cell_type": "markdown",
   "metadata": {},
   "source": [
    "1. Combine Profession\n",
    "2. Combine Work + Academic Pressure\n",
    "3. Study + Job Satisfaction\n",
    "4. Clean Sleep Duration\n",
    "5. Clean Degree\n",
    "6. Separate Degree into Qualification and Field of Study"
   ]
  },
  {
   "cell_type": "code",
   "execution_count": 28,
   "metadata": {
    "execution": {
     "iopub.execute_input": "2024-11-17T19:43:28.174546Z",
     "iopub.status.busy": "2024-11-17T19:43:28.174028Z",
     "iopub.status.idle": "2024-11-17T19:43:28.205321Z",
     "shell.execute_reply": "2024-11-17T19:43:28.203446Z",
     "shell.execute_reply.started": "2024-11-17T19:43:28.174500Z"
    },
    "trusted": true
   },
   "outputs": [],
   "source": [
    "def combine_profession(row):\n",
    "    if (row[\"Working Professional or Student\"] != 'Student') and (pd.isna(row[\"Profession\"])):\n",
    "        # We make a huge assumption that working professionals with missing professions are unemployed.\n",
    "        return 'Unemployed'\n",
    "    elif row[\"Working Professional or Student\"] != \"Student\":\n",
    "        return row[\"Profession\"]\n",
    "    else:\n",
    "        return \"Student\"\n",
    "\n",
    "def combine_pressure(row):\n",
    "    # Idea is to reduce the number of missing data since both columns are complementary.\n",
    "    # Note that despite combining there are still rows that contain missing values and we will rely on simple imputation to fill missing values\n",
    "    if pd.notna(row[\"Academic Pressure\"]) and pd.isna(row[\"Work Pressure\"]):\n",
    "        return row[\"Academic Pressure\"]\n",
    "    elif pd.isna(row[\"Academic Pressure\"]) and pd.notna(row[\"Work Pressure\"]):\n",
    "        return row[\"Work Pressure\"]\n",
    "\n",
    "def combine_satisfaction(row):\n",
    "    # Idea is to reduce the number of missing data since both columns are complementary.\n",
    "    # Note that despite combining there are still rows that contain missing values and we will rely on simple imputation to fill missing values\n",
    "    \n",
    "    if pd.notna(row[\"Study Satisfaction\"]) and pd.isna(row[\"Job Satisfaction\"]):\n",
    "        return row[\"Study Satisfaction\"]\n",
    "    elif pd.isna(row[\"Study Satisfaction\"]) and pd.notna(row[\"Job Satisfaction\"]):\n",
    "        return row[\"Job Satisfaction\"]\n",
    "\n",
    "def clean_sleep_duration(row):\n",
    "    if row[\"Sleep Duration\"] in [\"Less than 5 hours\", \"3-4 hours\", \"1-3 hours\", \"1-2 hours\",'2-3 hours', '3-4 hours', '4-5 hours']:\n",
    "        return \"Less than 5 hours\"\n",
    "    elif row[\"Sleep Duration\"] in [\"9-11 hours\", '10-11 hours', '8-9 hours', \"More than 8 hours\"]:\n",
    "        return \"More than 8 hours\"\n",
    "    elif row[\"Sleep Duration\"] in [\"6-8 hours\", \"5-6 hours\", \"7-8 hours\", \"6-8 hours\", '6-7 hours', '8 hours']:\n",
    "        return \"5 to 8 hours\"\n",
    "    else:\n",
    "        return \"Others\"\n",
    "\n",
    "# def clean_sleep_duration(row):\n",
    "#     sleep={\n",
    "#             \"More than 8 hours\":9,\n",
    "#             'Less than 5 hours':4,\n",
    "#             '5-6 hours':5.5,\n",
    "#             '7-8 hours':7.5,\n",
    "#             '1-2 hours':1.5,\n",
    "#             '6-8 hours':7,\n",
    "#             '4-6 hours':5,\n",
    "#             '6-7 hours':6.5,\n",
    "#             '10-11 hours':10.5,\n",
    "#             '8-9 hours':8.5,\n",
    "#             '9-11 hours':10,\n",
    "#             '2-3 hours':2.5,\n",
    "#             '3-4 hours':3.5,\n",
    "#             'Moderate':6,\n",
    "#             '4-5 hours':4.5,\n",
    "#             '9-6 hours':7.5,\n",
    "#             '1-3 hours':2,\n",
    "#             '1-6 hours':4,\n",
    "#             '8 hours':8,\n",
    "#             '10-6 hours':8,\n",
    "#             'Unhealthy':3,\n",
    "#             'Work_Study_Hours':6,\n",
    "#             '3-6 hours':3.5,\n",
    "#             '9-5':7,\n",
    "#             '9-5 hours':7,\n",
    "#     }\n",
    "#     return sleep.get(row[\"Sleep Duration\"])\n",
    "\n",
    "\n",
    "def clean_degree(row):\n",
    "    degree = {\n",
    "        \"BCom\": \"B.Com\",\n",
    "        \"B.Com\": \"B.Com\",\n",
    "        \"B.Comm\": \"B.Com\",\n",
    "        \"B.Tech\": \"B.Tech\",\n",
    "        \"BTech\": \"B.Tech\",\n",
    "        \"B.T\": \"B.Tech\",\n",
    "        \"BSc\": \"B.Sc\",\n",
    "        \"B.Sc\": \"B.Sc\",\n",
    "        \"Bachelor of Science\": \"B.Sc\",\n",
    "        \"BArch\": \"B.Arch\",\n",
    "        \"B.Arch\": \"B.Arch\",\n",
    "        \"BA\": \"B.A\",\n",
    "        \"B.A\": \"B.A\",\n",
    "        \"BBA\": \"BBA\",\n",
    "        \"BB\": \"BBA\",\n",
    "        \"BCA\": \"BCA\",\n",
    "        \"BE\": \"BE\",\n",
    "        \"BEd\": \"B.Ed\",\n",
    "        \"B.Ed\": \"B.Ed\",\n",
    "        \"BPharm\": \"B.Pharm\",\n",
    "        \"B.Pharm\": \"B.Pharm\",\n",
    "        \"BHM\": \"BHM\",\n",
    "        \"LLB\": \"LLB\",\n",
    "        \"LL B\": \"LLB\",\n",
    "        \"LL BA\": \"LLB\",\n",
    "        \"LL.Com\": \"LLB\",\n",
    "        \"LLCom\": \"LLB\",\n",
    "        \"MCom\": \"M.Com\",\n",
    "        \"M.Com\": \"M.Com\",\n",
    "        \"M.Tech\": \"M.Tech\",\n",
    "        \"MTech\": \"M.Tech\",\n",
    "        \"M_Tech\": \"M.Tech\", \n",
    "        \"M.T\": \"M.Tech\",\n",
    "        \"MSc\": \"M.Sc\",\n",
    "        \"M.Sc\": \"M.Sc\",\n",
    "        \"Master of Science\": \"M.Sc\",\n",
    "        \"MBA\": \"MBA\",\n",
    "        \"MCA\": \"MCA\",\n",
    "        \"MD\": \"MD\",\n",
    "        \"ME\": \"ME\",\n",
    "        \"MEd\": \"M.Ed\",\n",
    "        \"M.Ed\": \"M.Ed\",\n",
    "        \"MArch\": \"M.Arch\",\n",
    "        \"M.Arch\": \"M.Arch\",\n",
    "        \"MPharm\": \"M.Pharm\",\n",
    "        \"M.Pharm\": \"M.Pharm\",\n",
    "        \"MA\": \"MA\",\n",
    "        \"M.A\": \"MA\",\n",
    "        \"MHM\": \"MHM\",\n",
    "        \"MPA\": \"MPA\",\n",
    "        \"LLM\": \"LLM\",\n",
    "        \"PhD\": \"PhD\",\n",
    "        \"MBBS\": \"MBBS\",\n",
    "        \"CA\": \"CA\",\n",
    "        \"Class 12\": \"Class 12\",\n",
    "        \"12th\": \"Class 12\",\n",
    "        \"Class 11\": \"Class 11\",\n",
    "        \"11th\": \"Class 11\",\n",
    "    }\n",
    "    return degree.get(row[\"Degree\"])\n",
    "\n",
    "def create_qualification(row):\n",
    "    if row[\"Degree\"] in [\"Class 12\", \"Class 11\"]:\n",
    "        return \"High School\"\n",
    "    elif row[\"Degree\"] in [\"B.Ed\", \"B.Arch\", \"B.Com\", \"B.Pharm\", \"BCA\", \"BBA\", \"B.Sc\", \"LLB\", \"B.Tech\", \"B.A\", \"BE\", \"MBBS\", \"BHM\"]:\n",
    "        return \"Bachelor\"\n",
    "    elif row[\"Degree\"] in [\"M.Ed\", \"MCA\", \"LLM\", \"M.Sc\", \"M.Tech\", \"M.Pharm\", \"MBA\", \"ME\", \"MD\", \"M.Com\", \"MA\", \"M.Arch\", \"MPA\", \"MHM\"]:\n",
    "        return \"Masters\"\n",
    "    elif row[\"Degree\"] == \"PhD\":\n",
    "        return \"PhD\"\n",
    "\n",
    "def create_field_of_study(row):\n",
    "    if row[\"Degree\"] in [\"Class 12\", \"Class 11\", \"MPA\"]:\n",
    "        # MPA is given an unknown here because there is only 1 record of MPA\n",
    "        return \"General\"\n",
    "    elif row[\"Degree\"] in [\"PhD\"]:\n",
    "        return \"Specialist\"\n",
    "    elif row[\"Degree\"] in [\"B.Ed\", \"M.Ed\"]:\n",
    "        return \"Education\"\n",
    "    elif row[\"Degree\"] in [\"B.Arch\", \"M.Arch\"]:\n",
    "        return \"Architecture\"\n",
    "    elif row[\"Degree\"] in [\"B.Com\", \"M.Com\"]:\n",
    "        return \"Commerce\"\n",
    "    elif row[\"Degree\"] in [\"B.Pharm\", \"M.Pharm\"]:\n",
    "        return \"Pharmacy\"\n",
    "    elif row[\"Degree\"] in [\"BCA\", \"MCA\"]:\n",
    "        return \"Computer Application\"\n",
    "    elif row[\"Degree\"] in [\"BBA\", \"MBA\"]:\n",
    "        return \"Business Administration\"    \n",
    "    elif row[\"Degree\"] in [\"B.Sc\", \"M.Sc\"]:\n",
    "        return \"Science\"\n",
    "    elif row[\"Degree\"] in [\"B.Sc\", \"M.Sc\"]:\n",
    "        return \"Science\"\n",
    "    elif row[\"Degree\"] in [\"LLB\", \"LLM\"]:\n",
    "        return \"Law\"\n",
    "    elif row[\"Degree\"] in [\"B.Tech\", \"M.Tech\"]:\n",
    "        return \"Technology\"\n",
    "    elif row[\"Degree\"] in [\"BHM\", \"MHM\"]:\n",
    "        return \"Hospitality\"\n",
    "    elif row[\"Degree\"] in [\"B.A\", \"MA\"]:\n",
    "        return \"Arts\"\n",
    "    elif row[\"Degree\"] in [\"ME\", \"BE\"]:\n",
    "        return \"Engineering\"\n",
    "    elif row[\"Degree\"] in [\"MD\", \"MBBS\"]:\n",
    "        return \"Medicine\"\n",
    "\n",
    "\n",
    "# def clean_diet(row):\n",
    "#     diet = {\n",
    "#         \"More Healthy\": 0,\n",
    "#         \"Healthy\": 1,\n",
    "#         \"Less than Healthy\": 2,\n",
    "#         \"Less Healthy\": 2,\n",
    "#         \"Moderate\": 3,\n",
    "#         \"Unhealthy\": 4,\n",
    "#         \"No Healthy\": 4,\n",
    "#     }\n",
    "#     if diet.get(row[\"Dietary Habits\"]):\n",
    "#         return diet.get(row[\"Dietary Habits\"])\n",
    "#     else:\n",
    "#         return pd.NA\n",
    "\n",
    "def manipulate_dataframe(df):\n",
    "    result = df.copy()\n",
    "    result[\"Profession\"] = result.apply(combine_profession, axis=1)\n",
    "    result[\"Pressure\"] = result.apply(combine_pressure, axis=1)\n",
    "    result[\"Satisfaction\"] = result.apply(combine_satisfaction, axis=1)\n",
    "    result[\"Sleep\"] = result.apply(clean_sleep_duration, axis=1)\n",
    "    # result[\"Diet\"] = result.apply(clean_diet, axis=1)\n",
    "    result[\"Degree\"] = result.apply(clean_degree, axis=1)\n",
    "    result[\"Qualification\"] = result.apply(create_qualification, axis=1)\n",
    "    result[\"Subject\"] = result.apply(create_field_of_study, axis=1)\n",
    "\n",
    "    # # this one omits the dietary habits\n",
    "    # result = result.drop([\"Name\", 'Working Professional or Student', \"Academic Pressure\", \"Work Pressure\", \"Study Satisfaction\", \"Job Satisfaction\", \"Sleep Duration\", \"CGPA\", \"Dietary Habits\", \"Degree\"], axis=1)\n",
    "    \n",
    "    # this variant includes Dietary Habits and Name\n",
    "    result = result.rename(columns={\"Dietary Habits\":\"Diet\"})\n",
    "    result = result.drop(['Working Professional or Student', \"Academic Pressure\", \"Work Pressure\", \"Study Satisfaction\", \"Job Satisfaction\", \"Sleep Duration\", \"CGPA\", \"Degree\"], axis=1)\n",
    "\n",
    "    # # This variant includes Dietary Habits but omits name\n",
    "    # result = result.rename(columns={\"Dietary Habits\":\"Diet\"})\n",
    "    # result = result.drop([\"Name\", 'Working Professional or Student', \"Academic Pressure\", \"Work Pressure\", \"Study Satisfaction\", \"Job Satisfaction\", \"Sleep Duration\", \"CGPA\", \"Degree\"], axis=1)\n",
    "\n",
    "    return result"
   ]
  },
  {
   "cell_type": "code",
   "execution_count": 31,
   "metadata": {
    "execution": {
     "iopub.execute_input": "2024-11-17T19:54:16.576860Z",
     "iopub.status.busy": "2024-11-17T19:54:16.576125Z",
     "iopub.status.idle": "2024-11-17T19:54:34.397892Z",
     "shell.execute_reply": "2024-11-17T19:54:34.396658Z",
     "shell.execute_reply.started": "2024-11-17T19:54:16.576801Z"
    },
    "trusted": true
   },
   "outputs": [],
   "source": [
    "prep_df = manipulate_dataframe(df)\n",
    "X = prep_df.drop(columns=\"Depression\")\n",
    "y = prep_df.loc[:, \"Depression\"]\n",
    "# X_train, X_valid, y_train, y_valid = train_test_split(X, y, test_size=0.33, random_state=42)"
   ]
  },
  {
   "cell_type": "code",
   "execution_count": 32,
   "metadata": {
    "execution": {
     "iopub.execute_input": "2024-11-17T19:57:15.953211Z",
     "iopub.status.busy": "2024-11-17T19:57:15.952711Z",
     "iopub.status.idle": "2024-11-17T19:57:15.964407Z",
     "shell.execute_reply": "2024-11-17T19:57:15.962861Z",
     "shell.execute_reply.started": "2024-11-17T19:57:15.953158Z"
    },
    "trusted": true
   },
   "outputs": [],
   "source": [
    "# categorical values, require imputation, one hot encoding\n",
    "cat_multiple_impute_ohe_list = [\"Diet\", \"Qualification\", \"Subject\"]\n",
    "cat_multiple_impute_ohe_pipeline = Pipeline([\n",
    "    ('imputer', SimpleImputer(missing_values=pd.NA, strategy='most_frequent')),\n",
    "    ('encoder', OneHotEncoder(sparse_output=False, handle_unknown='infrequent_if_exist', min_frequency=300))\n",
    "])\n",
    "\n",
    "# categorical values, no imputation, one hot encoding\n",
    "# cat_multiple_ohe_list = [\"City\", \"Profession\", \"Sleep\"]\n",
    "cat_multiple_ohe_list = [\"City\", \"Profession\", \"Sleep\", \"Name\"]\n",
    "cat_multiple_ohe_pipeline = Pipeline([\n",
    "    ('encoder', OneHotEncoder(sparse_output=False, handle_unknown='infrequent_if_exist', min_frequency=150))\n",
    "])\n",
    "\n",
    "# binary values, no imputation\n",
    "cat_binary_ohe_list = [\"Gender\",\"Have you ever had suicidal thoughts ?\",\"Family History of Mental Illness\",]\n",
    "cat_binary_ohe_pipeline = Pipeline([\n",
    "    ('encoder', OneHotEncoder(sparse_output=False, drop='if_binary'))\n",
    "])\n",
    "\n",
    "# numberical values, require imputation, quantile transform\n",
    "num_qtrns_list = [\"Work/Study Hours\", \"Age\"]\n",
    "num_impute_qtransform_pipeline = Pipeline([\n",
    "    ('imputer', SimpleImputer(missing_values=pd.NA, strategy='most_frequent')),\n",
    "    ('quantile_transform', QuantileTransformer(output_distribution='normal'))\n",
    "])\n",
    "\n",
    "# numberical values, no imputation, quantile transform\n",
    "num_impute_qtranse_list = [\"Pressure\",\"Satisfaction\",\"Financial Stress\"]\n",
    "num_qtransform_pipeline = Pipeline([\n",
    "    ('quantile_transform', QuantileTransformer(output_distribution='normal'))\n",
    "])\n",
    "\n",
    "ct = ColumnTransformer([\n",
    "    ('categorical_impute', cat_multiple_impute_ohe_pipeline, cat_multiple_impute_ohe_list),\n",
    "    ('categorical_mul', cat_multiple_ohe_pipeline, cat_multiple_ohe_list),\n",
    "    ('categorical_binary', cat_binary_ohe_pipeline, cat_binary_ohe_list),\n",
    "    ('numerical_impute', num_impute_qtransform_pipeline, num_impute_qtranse_list),\n",
    "    ('numerical_transform', num_qtransform_pipeline, num_qtrns_list)\n",
    "], remainder='drop')"
   ]
  },
  {
   "cell_type": "markdown",
   "metadata": {},
   "source": [
    "### Optuna"
   ]
  },
  {
   "cell_type": "code",
   "execution_count": 38,
   "metadata": {
    "execution": {
     "iopub.execute_input": "2024-11-17T20:12:29.283766Z",
     "iopub.status.busy": "2024-11-17T20:12:29.283195Z",
     "iopub.status.idle": "2024-11-17T20:12:29.293565Z",
     "shell.execute_reply": "2024-11-17T20:12:29.292026Z",
     "shell.execute_reply.started": "2024-11-17T20:12:29.283722Z"
    },
    "trusted": true
   },
   "outputs": [],
   "source": [
    "def objective(trial):\n",
    "    params = {\n",
    "        \"n_estimators\": trial.suggest_int(\"n_estimators\", 50, 1500),\n",
    "        \"max_depth\": trial.suggest_int(\"max_depth\", 1, 20),\n",
    "        \"learning_rate\": trial.suggest_float(\"learning_rate\", 0.01, 1.0),\n",
    "        \"subsample\": trial.suggest_float(\"subsample\", 0.01, 1.0),\n",
    "        \"colsample_bytree\": trial.suggest_float(\"colsample_bytree\", 0.01, 1.0),\n",
    "        \"gamma\": trial.suggest_float(\"gamma\", 1e-8, 1.0),\n",
    "        \"min_child_weight\": trial.suggest_int(\"min_child_weight\", 1, 20),\n",
    "    }\n",
    "\n",
    "    pipe_xgb = Pipeline(\n",
    "        [(\"preprocessing\", ct), (\"model\", XGBClassifier(**params, booster=\"gbtree\"))]\n",
    "    )\n",
    "\n",
    "    stratified_kfold = StratifiedKFold(n_splits=5, shuffle=True, random_state=42)\n",
    "    auc_scores = cross_val_score(\n",
    "        pipe_xgb, X, y, cv=stratified_kfold, scoring=\"roc_auc\", n_jobs=-1\n",
    "    )\n",
    "\n",
    "    return auc_scores.mean()"
   ]
  },
  {
   "cell_type": "code",
   "execution_count": 40,
   "metadata": {},
   "outputs": [],
   "source": [
    "# Define EarlyStoppingCallback for Optuna\n",
    "class EarlyStoppingCallback:\n",
    "    def __init__(self, patience: int):\n",
    "        self.patience = patience\n",
    "        self.no_improvement_trials = 0\n",
    "        self.best_value = -np.inf\n",
    "\n",
    "    def __call__(self, study, trial):\n",
    "        if study.best_value > self.best_value:\n",
    "            self.best_value = study.best_value\n",
    "            self.no_improvement_trials = 0\n",
    "        else:\n",
    "            self.no_improvement_trials += 1\n",
    "\n",
    "        if self.no_improvement_trials >= self.patience:\n",
    "            print(\n",
    "                f\"Early stopping triggered. No improvement after {self.patience} trials.\"\n",
    "            )\n",
    "            study.stop()"
   ]
  },
  {
   "cell_type": "code",
   "execution_count": 41,
   "metadata": {
    "execution": {
     "iopub.execute_input": "2024-11-17T20:15:24.934664Z",
     "iopub.status.busy": "2024-11-17T20:15:24.933623Z",
     "iopub.status.idle": "2024-11-17T20:15:24.939983Z",
     "shell.execute_reply": "2024-11-17T20:15:24.938668Z",
     "shell.execute_reply.started": "2024-11-17T20:15:24.934608Z"
    },
    "trusted": true
   },
   "outputs": [
    {
     "name": "stderr",
     "output_type": "stream",
     "text": [
      "[I 2024-11-18 14:18:16,750] A new study created in memory with name: no-name-f7a4750f-aa8e-489c-8336-625aae87244e\n",
      "[I 2024-11-18 14:18:45,182] Trial 0 finished with value: 0.9756996026652145 and parameters: {'n_estimators': 436, 'max_depth': 7, 'learning_rate': 0.10227887382554002, 'subsample': 0.4951706439448945, 'colsample_bytree': 0.11466216072595249, 'gamma': 0.3323641382902782, 'min_child_weight': 17}. Best is trial 0 with value: 0.9756996026652145.\n",
      "[I 2024-11-18 14:19:21,725] Trial 1 finished with value: 0.9751549060805527 and parameters: {'n_estimators': 1141, 'max_depth': 1, 'learning_rate': 0.14790510452604216, 'subsample': 0.184052622768783, 'colsample_bytree': 0.8240735375476459, 'gamma': 0.4548410651041579, 'min_child_weight': 9}. Best is trial 0 with value: 0.9756996026652145.\n",
      "[I 2024-11-18 14:20:04,373] Trial 2 finished with value: 0.9664299874928906 and parameters: {'n_estimators': 453, 'max_depth': 19, 'learning_rate': 0.3803815778948177, 'subsample': 0.7547998711254759, 'colsample_bytree': 0.9713821331846492, 'gamma': 0.6944685708990412, 'min_child_weight': 17}. Best is trial 0 with value: 0.9756996026652145.\n",
      "[I 2024-11-18 14:21:36,968] Trial 3 finished with value: 0.9373326678420556 and parameters: {'n_estimators': 1327, 'max_depth': 16, 'learning_rate': 0.9521091658876536, 'subsample': 0.04810498526931996, 'colsample_bytree': 0.5602221380461115, 'gamma': 0.05025294175854287, 'min_child_weight': 2}. Best is trial 0 with value: 0.9756996026652145.\n",
      "[I 2024-11-18 14:23:45,672] Trial 4 finished with value: 0.9578100841967249 and parameters: {'n_estimators': 1446, 'max_depth': 16, 'learning_rate': 0.4664754321325908, 'subsample': 0.46566967131769677, 'colsample_bytree': 0.8957729222567806, 'gamma': 0.6561565096161512, 'min_child_weight': 9}. Best is trial 0 with value: 0.9756996026652145.\n",
      "[I 2024-11-18 14:25:09,829] Trial 5 finished with value: 0.9756966689725701 and parameters: {'n_estimators': 1453, 'max_depth': 5, 'learning_rate': 0.041844193360624705, 'subsample': 0.32542681669551166, 'colsample_bytree': 0.4833938479812793, 'gamma': 0.7989063401579004, 'min_child_weight': 2}. Best is trial 0 with value: 0.9756996026652145.\n",
      "[I 2024-11-18 14:25:19,130] Trial 6 finished with value: 0.9714179902572517 and parameters: {'n_estimators': 81, 'max_depth': 10, 'learning_rate': 0.7673196602271218, 'subsample': 0.4058246327163421, 'colsample_bytree': 0.09661098750545967, 'gamma': 0.9622325837666877, 'min_child_weight': 5}. Best is trial 0 with value: 0.9756996026652145.\n",
      "[I 2024-11-18 14:26:19,028] Trial 7 finished with value: 0.9581336185452318 and parameters: {'n_estimators': 816, 'max_depth': 15, 'learning_rate': 0.8878099580228397, 'subsample': 0.2553243605887033, 'colsample_bytree': 0.1465569102213949, 'gamma': 0.9306012096919047, 'min_child_weight': 16}. Best is trial 0 with value: 0.9756996026652145.\n",
      "[I 2024-11-18 14:26:31,616] Trial 8 finished with value: 0.9735063449816449 and parameters: {'n_estimators': 107, 'max_depth': 19, 'learning_rate': 0.02658124956436876, 'subsample': 0.05530777308101332, 'colsample_bytree': 0.5751581152183011, 'gamma': 0.8712305279543529, 'min_child_weight': 2}. Best is trial 0 with value: 0.9756996026652145.\n",
      "[I 2024-11-18 14:27:48,732] Trial 9 finished with value: 0.95799811148226 and parameters: {'n_estimators': 996, 'max_depth': 8, 'learning_rate': 0.794470128869749, 'subsample': 0.6868984728615095, 'colsample_bytree': 0.9745813931737697, 'gamma': 0.3909034083149526, 'min_child_weight': 16}. Best is trial 0 with value: 0.9756996026652145.\n",
      "[I 2024-11-18 14:28:12,042] Trial 10 finished with value: 0.9755697077781156 and parameters: {'n_estimators': 475, 'max_depth': 5, 'learning_rate': 0.2668816658302433, 'subsample': 0.9978861154034632, 'colsample_bytree': 0.29374602138246597, 'gamma': 0.2075761773829783, 'min_child_weight': 20}. Best is trial 0 with value: 0.9756996026652145.\n",
      "[I 2024-11-18 14:28:45,121] Trial 11 finished with value: 0.9757671644645536 and parameters: {'n_estimators': 492, 'max_depth': 5, 'learning_rate': 0.07056863724818296, 'subsample': 0.6019168502165705, 'colsample_bytree': 0.3760073264872835, 'gamma': 0.28031215753642774, 'min_child_weight': 12}. Best is trial 11 with value: 0.9757671644645536.\n",
      "[I 2024-11-18 14:29:12,140] Trial 12 finished with value: 0.974915304273291 and parameters: {'n_estimators': 447, 'max_depth': 5, 'learning_rate': 0.23944305639137983, 'subsample': 0.632984944534436, 'colsample_bytree': 0.329985748475249, 'gamma': 0.28035560766039863, 'min_child_weight': 13}. Best is trial 11 with value: 0.9757671644645536.\n",
      "[I 2024-11-18 14:29:37,569] Trial 13 finished with value: 0.9751228157820849 and parameters: {'n_estimators': 655, 'max_depth': 1, 'learning_rate': 0.5888791396067807, 'subsample': 0.5622478480752597, 'colsample_bytree': 0.27029935320720655, 'gamma': 0.11354348840848255, 'min_child_weight': 12}. Best is trial 11 with value: 0.9757671644645536.\n",
      "[I 2024-11-18 14:29:54,321] Trial 14 finished with value: 0.9706907621636705 and parameters: {'n_estimators': 290, 'max_depth': 8, 'learning_rate': 0.1749350433477777, 'subsample': 0.7793545252407401, 'colsample_bytree': 0.016872784161502632, 'gamma': 0.30023586122379237, 'min_child_weight': 20}. Best is trial 11 with value: 0.9757671644645536.\n",
      "[I 2024-11-18 14:30:31,372] Trial 15 finished with value: 0.972821519394507 and parameters: {'n_estimators': 726, 'max_depth': 12, 'learning_rate': 0.34506891370773224, 'subsample': 0.9332115607169746, 'colsample_bytree': 0.4222830751578032, 'gamma': 0.5936224846893768, 'min_child_weight': 14}. Best is trial 11 with value: 0.9757671644645536.\n",
      "[I 2024-11-18 14:30:47,771] Trial 16 finished with value: 0.9738117302079253 and parameters: {'n_estimators': 288, 'max_depth': 3, 'learning_rate': 0.5771602253545145, 'subsample': 0.5639069348978278, 'colsample_bytree': 0.6850569670359005, 'gamma': 0.5373687804968761, 'min_child_weight': 10}. Best is trial 11 with value: 0.9757671644645536.\n",
      "[I 2024-11-18 14:31:30,360] Trial 17 finished with value: 0.9751136986918937 and parameters: {'n_estimators': 587, 'max_depth': 8, 'learning_rate': 0.1196186887622332, 'subsample': 0.39730732199399854, 'colsample_bytree': 0.18104645227423816, 'gamma': 0.3766849960857725, 'min_child_weight': 7}. Best is trial 11 with value: 0.9757671644645536.\n",
      "[I 2024-11-18 14:33:27,956] Trial 18 finished with value: 0.9756753096283823 and parameters: {'n_estimators': 887, 'max_depth': 11, 'learning_rate': 0.013972693937974213, 'subsample': 0.8459927412331352, 'colsample_bytree': 0.38106596158890504, 'gamma': 0.15522199511585777, 'min_child_weight': 18}. Best is trial 11 with value: 0.9757671644645536.\n",
      "[I 2024-11-18 14:33:49,735] Trial 19 finished with value: 0.974561651909795 and parameters: {'n_estimators': 260, 'max_depth': 6, 'learning_rate': 0.31777971473632904, 'subsample': 0.5103117113122313, 'colsample_bytree': 0.2418155087651927, 'gamma': 0.2548821579431182, 'min_child_weight': 14}. Best is trial 11 with value: 0.9757671644645536.\n",
      "[I 2024-11-18 14:34:17,528] Trial 20 finished with value: 0.9753127494606921 and parameters: {'n_estimators': 562, 'max_depth': 3, 'learning_rate': 0.450795535311807, 'subsample': 0.6476748655024043, 'colsample_bytree': 0.03216284865964952, 'gamma': 0.015021420729709745, 'min_child_weight': 12}. Best is trial 11 with value: 0.9757671644645536.\n",
      "[I 2024-11-18 14:35:27,875] Trial 21 finished with value: 0.9742861272572299 and parameters: {'n_estimators': 1073, 'max_depth': 7, 'learning_rate': 0.0838340977494127, 'subsample': 0.3016390820606377, 'colsample_bytree': 0.4665618811518182, 'gamma': 0.7974465140981333, 'min_child_weight': 4}. Best is trial 11 with value: 0.9757671644645536.\n",
      "[I 2024-11-18 14:36:34,270] Trial 22 finished with value: 0.9727707605463085 and parameters: {'n_estimators': 1285, 'max_depth': 4, 'learning_rate': 0.23481366312974705, 'subsample': 0.3424757877575456, 'colsample_bytree': 0.6688411607936285, 'gamma': 0.4360629056850155, 'min_child_weight': 7}. Best is trial 11 with value: 0.9757671644645536.\n",
      "[I 2024-11-18 14:37:12,001] Trial 23 finished with value: 0.974737100308212 and parameters: {'n_estimators': 355, 'max_depth': 10, 'learning_rate': 0.0741143788910484, 'subsample': 0.18494984248219826, 'colsample_bytree': 0.53427054569645, 'gamma': 0.7277089747961731, 'min_child_weight': 7}. Best is trial 11 with value: 0.9757671644645536.\n",
      "[I 2024-11-18 14:37:56,862] Trial 24 finished with value: 0.974981024329001 and parameters: {'n_estimators': 945, 'max_depth': 3, 'learning_rate': 0.17414577055042577, 'subsample': 0.4223178039145036, 'colsample_bytree': 0.6680476957859316, 'gamma': 0.5286418200605518, 'min_child_weight': 1}. Best is trial 11 with value: 0.9757671644645536.\n",
      "[I 2024-11-18 14:39:04,927] Trial 25 finished with value: 0.9757350566072986 and parameters: {'n_estimators': 749, 'max_depth': 6, 'learning_rate': 0.01785469847281588, 'subsample': 0.5508030875234641, 'colsample_bytree': 0.3738931404506297, 'gamma': 0.3314229226831366, 'min_child_weight': 15}. Best is trial 11 with value: 0.9757671644645536.\n",
      "[I 2024-11-18 14:40:14,130] Trial 26 finished with value: 0.9725460588547872 and parameters: {'n_estimators': 757, 'max_depth': 13, 'learning_rate': 0.19133548005394008, 'subsample': 0.5567786205690365, 'colsample_bytree': 0.20437775850702133, 'gamma': 0.34319007813134333, 'min_child_weight': 15}. Best is trial 11 with value: 0.9757671644645536.\n",
      "[I 2024-11-18 14:41:04,214] Trial 27 finished with value: 0.9747840860650511 and parameters: {'n_estimators': 580, 'max_depth': 9, 'learning_rate': 0.10546385408719314, 'subsample': 0.7367375359245261, 'colsample_bytree': 0.35653410891550497, 'gamma': 0.1838515682263956, 'min_child_weight': 18}. Best is trial 11 with value: 0.9757671644645536.\n",
      "[I 2024-11-18 14:41:19,973] Trial 28 finished with value: 0.9754628205808764 and parameters: {'n_estimators': 180, 'max_depth': 7, 'learning_rate': 0.27015094592453515, 'subsample': 0.6282488457988128, 'colsample_bytree': 0.09979555724469417, 'gamma': 0.24461869887285886, 'min_child_weight': 11}. Best is trial 11 with value: 0.9757671644645536.\n",
      "[I 2024-11-18 14:42:09,055] Trial 29 finished with value: 0.9742633978392394 and parameters: {'n_estimators': 642, 'max_depth': 6, 'learning_rate': 0.16924115200677778, 'subsample': 0.48670697765290855, 'colsample_bytree': 0.41297882434346495, 'gamma': 0.4172379711638307, 'min_child_weight': 18}. Best is trial 11 with value: 0.9757671644645536.\n",
      "[I 2024-11-18 14:42:29,131] Trial 30 finished with value: 0.9752246058479717 and parameters: {'n_estimators': 395, 'max_depth': 1, 'learning_rate': 0.40435548441437297, 'subsample': 0.8288200322241266, 'colsample_bytree': 0.7814782500570014, 'gamma': 0.10267113752026832, 'min_child_weight': 14}. Best is trial 11 with value: 0.9757671644645536.\n",
      "[I 2024-11-18 14:43:59,076] Trial 31 finished with value: 0.9751500148729555 and parameters: {'n_estimators': 1221, 'max_depth': 5, 'learning_rate': 0.04212511259522839, 'subsample': 0.22618219670527245, 'colsample_bytree': 0.4839346409261238, 'gamma': 0.48319418188029395, 'min_child_weight': 16}. Best is trial 11 with value: 0.9757671644645536.\n",
      "[I 2024-11-18 14:45:13,310] Trial 32 finished with value: 0.974942701935826 and parameters: {'n_estimators': 1498, 'max_depth': 2, 'learning_rate': 0.012452058846450936, 'subsample': 0.3305812955836274, 'colsample_bytree': 0.45453637631515525, 'gamma': 0.31982762020397193, 'min_child_weight': 12}. Best is trial 11 with value: 0.9757671644645536.\n",
      "[I 2024-11-18 14:45:55,334] Trial 33 finished with value: 0.9730843905261644 and parameters: {'n_estimators': 499, 'max_depth': 6, 'learning_rate': 0.13189602250021054, 'subsample': 0.11663750367378148, 'colsample_bytree': 0.6007135738089653, 'gamma': 0.6105058217319294, 'min_child_weight': 10}. Best is trial 11 with value: 0.9757671644645536.\n",
      "[I 2024-11-18 14:46:42,636] Trial 34 finished with value: 0.9757064745921786 and parameters: {'n_estimators': 836, 'max_depth': 4, 'learning_rate': 0.093825400559221, 'subsample': 0.5267002283747402, 'colsample_bytree': 0.3104884674482729, 'gamma': 0.35323658612006936, 'min_child_weight': 17}. Best is trial 11 with value: 0.9757671644645536.\n",
      "[I 2024-11-18 14:47:29,477] Trial 35 finished with value: 0.975651880309249 and parameters: {'n_estimators': 832, 'max_depth': 4, 'learning_rate': 0.10287469981646727, 'subsample': 0.5233774231778964, 'colsample_bytree': 0.31403449795970595, 'gamma': 0.34763837241447204, 'min_child_weight': 17}. Best is trial 11 with value: 0.9757671644645536.\n",
      "[I 2024-11-18 14:48:27,286] Trial 36 finished with value: 0.9736594285311935 and parameters: {'n_estimators': 739, 'max_depth': 7, 'learning_rate': 0.21095213646480662, 'subsample': 0.44908668499334414, 'colsample_bytree': 0.23172711453466852, 'gamma': 0.45546025471243407, 'min_child_weight': 19}. Best is trial 11 with value: 0.9757671644645536.\n",
      "[I 2024-11-18 14:49:24,248] Trial 37 finished with value: 0.9745378168788044 and parameters: {'n_estimators': 1085, 'max_depth': 4, 'learning_rate': 0.3180074239855022, 'subsample': 0.5890782168899864, 'colsample_bytree': 0.1408962375014803, 'gamma': 0.21677092465431583, 'min_child_weight': 15}. Best is trial 11 with value: 0.9757671644645536.\n",
      "[I 2024-11-18 14:50:23,131] Trial 38 finished with value: 0.9662574173263646 and parameters: {'n_estimators': 671, 'max_depth': 9, 'learning_rate': 0.5509273514190686, 'subsample': 0.7145884550202748, 'colsample_bytree': 0.3755589747159752, 'gamma': 0.15116769965987656, 'min_child_weight': 17}. Best is trial 11 with value: 0.9757671644645536.\n",
      "[I 2024-11-18 14:51:26,784] Trial 39 finished with value: 0.97577205125904 and parameters: {'n_estimators': 870, 'max_depth': 20, 'learning_rate': 0.07304703537201135, 'subsample': 0.6723795675036333, 'colsample_bytree': 0.08136164611137142, 'gamma': 0.375524809476388, 'min_child_weight': 15}. Best is trial 39 with value: 0.97577205125904.\n",
      "[I 2024-11-18 14:52:22,392] Trial 40 finished with value: 0.9753265415079257 and parameters: {'n_estimators': 866, 'max_depth': 18, 'learning_rate': 0.06339987152162596, 'subsample': 0.6692072043075598, 'colsample_bytree': 0.053682027160007376, 'gamma': 0.3731466917625206, 'min_child_weight': 15}. Best is trial 39 with value: 0.97577205125904.\n",
      "[I 2024-11-18 14:53:33,707] Trial 41 finished with value: 0.9749830771191472 and parameters: {'n_estimators': 969, 'max_depth': 20, 'learning_rate': 0.13984510009142476, 'subsample': 0.5926540758154757, 'colsample_bytree': 0.10069018462177275, 'gamma': 0.2959357597186718, 'min_child_weight': 16}. Best is trial 39 with value: 0.97577205125904.\n",
      "[I 2024-11-18 14:54:52,331] Trial 42 finished with value: 0.9752720679731259 and parameters: {'n_estimators': 910, 'max_depth': 14, 'learning_rate': 0.07266303965569582, 'subsample': 0.47884339188450853, 'colsample_bytree': 0.15304559307277635, 'gamma': 0.41349402198877283, 'min_child_weight': 13}. Best is trial 39 with value: 0.97577205125904.\n",
      "[I 2024-11-18 14:55:39,200] Trial 43 finished with value: 0.9747446939832576 and parameters: {'n_estimators': 1019, 'max_depth': 2, 'learning_rate': 0.6990692199967719, 'subsample': 0.7852906272011395, 'colsample_bytree': 0.2528074368863172, 'gamma': 0.4713073883309643, 'min_child_weight': 19}. Best is trial 39 with value: 0.97577205125904.\n",
      "[I 2024-11-18 14:57:03,042] Trial 44 finished with value: 0.9718085504644689 and parameters: {'n_estimators': 811, 'max_depth': 16, 'learning_rate': 0.1434333333047497, 'subsample': 0.6910237890136766, 'colsample_bytree': 0.30689044552838246, 'gamma': 0.33509451151394604, 'min_child_weight': 13}. Best is trial 39 with value: 0.97577205125904.\n",
      "[I 2024-11-18 14:57:56,955] Trial 45 finished with value: 0.9546220215649486 and parameters: {'n_estimators': 521, 'max_depth': 17, 'learning_rate': 0.9548530878273026, 'subsample': 0.3790987005795791, 'colsample_bytree': 0.2037192524251378, 'gamma': 0.23055209963417536, 'min_child_weight': 16}. Best is trial 39 with value: 0.97577205125904.\n",
      "[I 2024-11-18 14:58:25,194] Trial 46 finished with value: 0.975351316561499 and parameters: {'n_estimators': 385, 'max_depth': 9, 'learning_rate': 0.26433626933180354, 'subsample': 0.5267978922064076, 'colsample_bytree': 0.08258998816579138, 'gamma': 0.2875818245515771, 'min_child_weight': 17}. Best is trial 39 with value: 0.97577205125904.\n",
      "[I 2024-11-18 14:59:40,932] Trial 47 finished with value: 0.9757519041777198 and parameters: {'n_estimators': 1186, 'max_depth': 5, 'learning_rate': 0.05106460307876265, 'subsample': 0.6169461903741903, 'colsample_bytree': 0.34743754788257025, 'gamma': 0.5204699071360872, 'min_child_weight': 15}. Best is trial 39 with value: 0.97577205125904.\n",
      "[I 2024-11-18 15:01:01,381] Trial 48 finished with value: 0.9757384111998244 and parameters: {'n_estimators': 1354, 'max_depth': 5, 'learning_rate': 0.0485467114593063, 'subsample': 0.6096517604535628, 'colsample_bytree': 0.43501960826773745, 'gamma': 0.6223314820648935, 'min_child_weight': 11}. Best is trial 39 with value: 0.97577205125904.\n",
      "[I 2024-11-18 15:02:28,189] Trial 49 finished with value: 0.9756988041176899 and parameters: {'n_estimators': 1384, 'max_depth': 6, 'learning_rate': 0.04386547636823614, 'subsample': 0.6061344329373317, 'colsample_bytree': 0.4197171718561156, 'gamma': 0.5951848977724846, 'min_child_weight': 9}. Best is trial 39 with value: 0.97577205125904.\n",
      "[I 2024-11-18 15:03:39,245] Trial 50 finished with value: 0.975870501012691 and parameters: {'n_estimators': 1194, 'max_depth': 5, 'learning_rate': 0.03521495727256389, 'subsample': 0.7523359133906917, 'colsample_bytree': 0.5122372761943307, 'gamma': 0.6793786183799602, 'min_child_weight': 11}. Best is trial 50 with value: 0.975870501012691.\n",
      "[I 2024-11-18 15:05:09,668] Trial 51 finished with value: 0.9756979972193415 and parameters: {'n_estimators': 1193, 'max_depth': 5, 'learning_rate': 0.01308753282090282, 'subsample': 0.8329607096345296, 'colsample_bytree': 0.5232654442655493, 'gamma': 0.7171331853291054, 'min_child_weight': 11}. Best is trial 50 with value: 0.975870501012691.\n",
      "[I 2024-11-18 15:06:27,114] Trial 52 finished with value: 0.9756715027105269 and parameters: {'n_estimators': 1371, 'max_depth': 5, 'learning_rate': 0.05158667064503513, 'subsample': 0.7734769301644359, 'colsample_bytree': 0.632057706986138, 'gamma': 0.5345422569943108, 'min_child_weight': 10}. Best is trial 50 with value: 0.975870501012691.\n",
      "[I 2024-11-18 15:07:21,997] Trial 53 finished with value: 0.9758589966187386 and parameters: {'n_estimators': 1260, 'max_depth': 2, 'learning_rate': 0.12186207956540479, 'subsample': 0.7145097698877986, 'colsample_bytree': 0.561515192154287, 'gamma': 0.628590601532982, 'min_child_weight': 8}. Best is trial 50 with value: 0.975870501012691.\n",
      "[I 2024-11-18 15:08:17,138] Trial 54 finished with value: 0.9758896978839298 and parameters: {'n_estimators': 1271, 'max_depth': 2, 'learning_rate': 0.11700257676212095, 'subsample': 0.885443375046044, 'colsample_bytree': 0.5951184022292055, 'gamma': 0.6511475762395093, 'min_child_weight': 8}. Best is trial 54 with value: 0.9758896978839298.\n",
      "[I 2024-11-18 15:09:10,053] Trial 55 finished with value: 0.9756847929345918 and parameters: {'n_estimators': 1260, 'max_depth': 2, 'learning_rate': 0.22649427462282384, 'subsample': 0.9038045350779528, 'colsample_bytree': 0.721182170483741, 'gamma': 0.6735363702565463, 'min_child_weight': 8}. Best is trial 54 with value: 0.9758896978839298.\n",
      "[I 2024-11-18 15:10:00,869] Trial 56 finished with value: 0.9758647710258769 and parameters: {'n_estimators': 1159, 'max_depth': 3, 'learning_rate': 0.12214900969762527, 'subsample': 0.9847651331127094, 'colsample_bytree': 0.5636766061090088, 'gamma': 0.5574140104437206, 'min_child_weight': 6}. Best is trial 54 with value: 0.9758896978839298.\n",
      "[I 2024-11-18 15:10:44,345] Trial 57 finished with value: 0.9753559382692805 and parameters: {'n_estimators': 1115, 'max_depth': 1, 'learning_rate': 0.15447922334572928, 'subsample': 0.8946111638903168, 'colsample_bytree': 0.5855317910457303, 'gamma': 0.7774415146965994, 'min_child_weight': 5}. Best is trial 54 with value: 0.9758896978839298.\n",
      "[I 2024-11-18 15:11:42,245] Trial 58 finished with value: 0.9756749134224499 and parameters: {'n_estimators': 1428, 'max_depth': 3, 'learning_rate': 0.21010525243444841, 'subsample': 0.9507391027109239, 'colsample_bytree': 0.5496171924305061, 'gamma': 0.8727165425771857, 'min_child_weight': 5}. Best is trial 54 with value: 0.9758896978839298.\n",
      "[I 2024-11-18 15:12:27,026] Trial 59 finished with value: 0.9759195426626034 and parameters: {'n_estimators': 1042, 'max_depth': 2, 'learning_rate': 0.12165643956982462, 'subsample': 0.9684615093254474, 'colsample_bytree': 0.7434937898026107, 'gamma': 0.6427489155904486, 'min_child_weight': 8}. Best is trial 59 with value: 0.9759195426626034.\n",
      "[I 2024-11-18 15:13:11,890] Trial 60 finished with value: 0.9757856205864506 and parameters: {'n_estimators': 1041, 'max_depth': 2, 'learning_rate': 0.11177076986613235, 'subsample': 0.992605973939892, 'colsample_bytree': 0.844898738413635, 'gamma': 0.6468803697205429, 'min_child_weight': 6}. Best is trial 59 with value: 0.9759195426626034.\n",
      "[I 2024-11-18 15:13:56,169] Trial 61 finished with value: 0.975814815770786 and parameters: {'n_estimators': 1032, 'max_depth': 2, 'learning_rate': 0.11205205576572745, 'subsample': 0.9794948308049921, 'colsample_bytree': 0.9223024822001238, 'gamma': 0.7517565414791029, 'min_child_weight': 6}. Best is trial 59 with value: 0.9759195426626034.\n",
      "[I 2024-11-18 15:14:44,011] Trial 62 finished with value: 0.9758107545538397 and parameters: {'n_estimators': 1141, 'max_depth': 2, 'learning_rate': 0.11513707300975871, 'subsample': 0.9904911319758373, 'colsample_bytree': 0.9180515005104739, 'gamma': 0.7444534485581484, 'min_child_weight': 6}. Best is trial 59 with value: 0.9759195426626034.\n",
      "[I 2024-11-18 15:15:29,191] Trial 63 finished with value: 0.9753521472485585 and parameters: {'n_estimators': 1171, 'max_depth': 1, 'learning_rate': 0.184417321319505, 'subsample': 0.9612346237308058, 'colsample_bytree': 0.9069760428084692, 'gamma': 0.7608566459370963, 'min_child_weight': 8}. Best is trial 59 with value: 0.9759195426626034.\n",
      "[I 2024-11-18 15:16:29,328] Trial 64 finished with value: 0.9741547327856199 and parameters: {'n_estimators': 1311, 'max_depth': 3, 'learning_rate': 0.2865812895998784, 'subsample': 0.8768956424114361, 'colsample_bytree': 0.9315284793453107, 'gamma': 0.842329015347426, 'min_child_weight': 4}. Best is trial 59 with value: 0.9759195426626034.\n",
      "[I 2024-11-18 15:17:13,881] Trial 65 finished with value: 0.9745063226886034 and parameters: {'n_estimators': 1133, 'max_depth': 2, 'learning_rate': 0.9053716566825039, 'subsample': 0.9943736629274431, 'colsample_bytree': 0.9960080414315218, 'gamma': 0.5670206435989349, 'min_child_weight': 6}. Best is trial 59 with value: 0.9759195426626034.\n",
      "[I 2024-11-18 15:18:02,678] Trial 66 finished with value: 0.9753390150869498 and parameters: {'n_estimators': 1242, 'max_depth': 1, 'learning_rate': 0.13327370819653586, 'subsample': 0.9300419613567581, 'colsample_bytree': 0.7753117421507737, 'gamma': 0.6961901141245932, 'min_child_weight': 8}. Best is trial 59 with value: 0.9759195426626034.\n",
      "[I 2024-11-18 15:19:02,551] Trial 67 finished with value: 0.9751618327571482 and parameters: {'n_estimators': 1298, 'max_depth': 3, 'learning_rate': 0.18657225182676046, 'subsample': 0.8678040771574763, 'colsample_bytree': 0.7355602205291405, 'gamma': 0.6495771158521769, 'min_child_weight': 6}. Best is trial 59 with value: 0.9759195426626034.\n",
      "[I 2024-11-18 15:19:45,976] Trial 68 finished with value: 0.9756030279847533 and parameters: {'n_estimators': 1075, 'max_depth': 2, 'learning_rate': 0.37344222592145565, 'subsample': 0.9643728270318601, 'colsample_bytree': 0.8591726911480122, 'gamma': 0.745821323658022, 'min_child_weight': 9}. Best is trial 59 with value: 0.9759195426626034.\n",
      "[I 2024-11-18 15:20:32,368] Trial 69 finished with value: 0.9753477971660338 and parameters: {'n_estimators': 1146, 'max_depth': 1, 'learning_rate': 0.6442341707291688, 'subsample': 0.9115432638994436, 'colsample_bytree': 0.6244684606506734, 'gamma': 0.5654617146384906, 'min_child_weight': 7}. Best is trial 59 with value: 0.9759195426626034.\n",
      "[I 2024-11-18 15:21:33,693] Trial 70 finished with value: 0.9751114294890417 and parameters: {'n_estimators': 1221, 'max_depth': 4, 'learning_rate': 0.11557177367471587, 'subsample': 0.8206901091618579, 'colsample_bytree': 0.7908228207199905, 'gamma': 0.6818722097016573, 'min_child_weight': 4}. Best is trial 59 with value: 0.9759195426626034.\n",
      "[I 2024-11-18 15:22:17,860] Trial 71 finished with value: 0.9758121048100538 and parameters: {'n_estimators': 1022, 'max_depth': 2, 'learning_rate': 0.09887311224604706, 'subsample': 0.999859304976672, 'colsample_bytree': 0.8487639635886037, 'gamma': 0.6394017144092727, 'min_child_weight': 6}. Best is trial 59 with value: 0.9759195426626034.\n",
      "[I 2024-11-18 15:23:06,486] Trial 72 finished with value: 0.9757412585834999 and parameters: {'n_estimators': 1033, 'max_depth': 3, 'learning_rate': 0.0967120061185995, 'subsample': 0.937173359565059, 'colsample_bytree': 0.9458735927496642, 'gamma': 0.8279301671488661, 'min_child_weight': 3}. Best is trial 59 with value: 0.9759195426626034.\n",
      "[I 2024-11-18 15:23:48,619] Trial 73 finished with value: 0.9759070794958878 and parameters: {'n_estimators': 980, 'max_depth': 2, 'learning_rate': 0.15019002380991378, 'subsample': 0.9735944856331318, 'colsample_bytree': 0.8912386100656968, 'gamma': 0.7198428194508459, 'min_child_weight': 9}. Best is trial 59 with value: 0.9759195426626034.\n",
      "[I 2024-11-18 15:24:34,753] Trial 74 finished with value: 0.9756968668345716 and parameters: {'n_estimators': 973, 'max_depth': 3, 'learning_rate': 0.1606093239496838, 'subsample': 0.8628926811446119, 'colsample_bytree': 0.4979432780604851, 'gamma': 0.6260779765636086, 'min_child_weight': 8}. Best is trial 59 with value: 0.9759195426626034.\n",
      "[I 2024-11-18 15:25:19,072] Trial 75 finished with value: 0.9753127899772807 and parameters: {'n_estimators': 1097, 'max_depth': 1, 'learning_rate': 0.24534872383468612, 'subsample': 0.8081023438662424, 'colsample_bytree': 0.8256755710141813, 'gamma': 0.7020653072035741, 'min_child_weight': 7}. Best is trial 59 with value: 0.9759195426626034.\n",
      "[I 2024-11-18 15:26:00,780] Trial 76 finished with value: 0.9754284618804736 and parameters: {'n_estimators': 929, 'max_depth': 4, 'learning_rate': 0.20553655666146892, 'subsample': 0.9701074927745662, 'colsample_bytree': 0.878120600636313, 'gamma': 0.571986553569289, 'min_child_weight': 9}. Best is trial 59 with value: 0.9759195426626034.\n",
      "[I 2024-11-18 15:26:47,685] Trial 77 finished with value: 0.9758750356981704 and parameters: {'n_estimators': 1052, 'max_depth': 2, 'learning_rate': 0.08117195929892418, 'subsample': 0.9146408259860296, 'colsample_bytree': 0.9563845201873874, 'gamma': 0.6523660077669221, 'min_child_weight': 9}. Best is trial 59 with value: 0.9759195426626034.\n",
      "[I 2024-11-18 15:27:45,670] Trial 78 finished with value: 0.9754595042219592 and parameters: {'n_estimators': 1272, 'max_depth': 3, 'learning_rate': 0.1481574308970453, 'subsample': 0.9149102679091292, 'colsample_bytree': 0.9509107323396276, 'gamma': 0.6751252390384479, 'min_child_weight': 10}. Best is trial 59 with value: 0.9759195426626034.\n",
      "[I 2024-11-18 15:28:26,944] Trial 79 finished with value: 0.9753024524192095 and parameters: {'n_estimators': 1061, 'max_depth': 1, 'learning_rate': 0.48047758926398604, 'subsample': 0.8484601604251468, 'colsample_bytree': 0.6974522020047436, 'gamma': 0.8021060115636526, 'min_child_weight': 9}. Best is trial 59 with value: 0.9759195426626034.\n",
      "[I 2024-11-18 15:29:22,374] Trial 80 finished with value: 0.9758442411270225 and parameters: {'n_estimators': 993, 'max_depth': 4, 'learning_rate': 0.07951826440720497, 'subsample': 0.8879743613132568, 'colsample_bytree': 0.6383813072334495, 'gamma': 0.7147446192354406, 'min_child_weight': 8}. Best is trial 59 with value: 0.9759195426626034.\n",
      "[I 2024-11-18 15:30:15,606] Trial 81 finished with value: 0.9758442548098014 and parameters: {'n_estimators': 996, 'max_depth': 4, 'learning_rate': 0.0759061372201083, 'subsample': 0.8857783499615135, 'colsample_bytree': 0.5692470540171177, 'gamma': 0.7211353104754454, 'min_child_weight': 8}. Best is trial 59 with value: 0.9759195426626034.\n",
      "[I 2024-11-18 15:31:07,705] Trial 82 finished with value: 0.9757733434370863 and parameters: {'n_estimators': 981, 'max_depth': 4, 'learning_rate': 0.07170124543219103, 'subsample': 0.8827190773191261, 'colsample_bytree': 0.6467295317289584, 'gamma': 0.7185467330700823, 'min_child_weight': 8}. Best is trial 59 with value: 0.9759195426626034.\n",
      "[I 2024-11-18 15:32:09,592] Trial 83 finished with value: 0.975813580960485 and parameters: {'n_estimators': 1194, 'max_depth': 3, 'learning_rate': 0.031256295064052, 'subsample': 0.796093543033716, 'colsample_bytree': 0.564283832302672, 'gamma': 0.5978383633912248, 'min_child_weight': 10}. Best is trial 59 with value: 0.9759195426626034.\n",
      "[I 2024-11-18 15:32:58,326] Trial 84 finished with value: 0.9757902811555704 and parameters: {'n_estimators': 916, 'max_depth': 4, 'learning_rate': 0.08066873807665473, 'subsample': 0.7435574431887187, 'colsample_bytree': 0.5115559723011406, 'gamma': 0.6545704200863842, 'min_child_weight': 9}. Best is trial 59 with value: 0.9759195426626034.\n",
      "[I 2024-11-18 15:33:55,669] Trial 85 finished with value: 0.9756591876680053 and parameters: {'n_estimators': 1335, 'max_depth': 3, 'learning_rate': 0.16880040225818926, 'subsample': 0.93505623215687, 'colsample_bytree': 0.6092115843262353, 'gamma': 0.6676466837029267, 'min_child_weight': 7}. Best is trial 59 with value: 0.9759195426626034.\n",
      "[I 2024-11-18 15:34:38,968] Trial 86 finished with value: 0.9759023076187789 and parameters: {'n_estimators': 997, 'max_depth': 2, 'learning_rate': 0.1349484858643229, 'subsample': 0.8458751262446447, 'colsample_bytree': 0.545773567845892, 'gamma': 0.4933702092375135, 'min_child_weight': 8}. Best is trial 59 with value: 0.9759195426626034.\n",
      "[I 2024-11-18 15:35:31,919] Trial 87 finished with value: 0.9759104083536322 and parameters: {'n_estimators': 1104, 'max_depth': 2, 'learning_rate': 0.13087464002699156, 'subsample': 0.9184691278774882, 'colsample_bytree': 0.4588046998379053, 'gamma': 0.5046093157126618, 'min_child_weight': 9}. Best is trial 59 with value: 0.9759195426626034.\n",
      "[I 2024-11-18 15:36:27,244] Trial 88 finished with value: 0.9758665674769823 and parameters: {'n_estimators': 1164, 'max_depth': 2, 'learning_rate': 0.1352748849613601, 'subsample': 0.7616915868487693, 'colsample_bytree': 0.46540832790514813, 'gamma': 0.5077994324314978, 'min_child_weight': 11}. Best is trial 59 with value: 0.9759195426626034.\n",
      "[I 2024-11-18 15:37:15,577] Trial 89 finished with value: 0.975266120513742 and parameters: {'n_estimators': 1174, 'max_depth': 1, 'learning_rate': 0.30616012135369974, 'subsample': 0.764585714573736, 'colsample_bytree': 0.4868035328527888, 'gamma': 0.4991042096807192, 'min_child_weight': 11}. Best is trial 59 with value: 0.9759195426626034.\n",
      "[I 2024-11-18 15:38:03,401] Trial 90 finished with value: 0.975856634346594 and parameters: {'n_estimators': 1096, 'max_depth': 2, 'learning_rate': 0.1457379475922316, 'subsample': 0.8478090645137379, 'colsample_bytree': 0.5398496698015077, 'gamma': 0.5521354531053038, 'min_child_weight': 12}. Best is trial 59 with value: 0.9759195426626034.\n",
      "[I 2024-11-18 15:38:56,775] Trial 91 finished with value: 0.9759367818233841 and parameters: {'n_estimators': 1236, 'max_depth': 2, 'learning_rate': 0.12962270985845262, 'subsample': 0.9168206358960937, 'colsample_bytree': 0.45602260024009894, 'gamma': 0.5057683795366866, 'min_child_weight': 10}. Best is trial 91 with value: 0.9759367818233841.\n",
      "[I 2024-11-18 15:39:49,379] Trial 92 finished with value: 0.9758794128855367 and parameters: {'n_estimators': 1225, 'max_depth': 2, 'learning_rate': 0.20311137834953114, 'subsample': 0.918159006151574, 'colsample_bytree': 0.45536203436308165, 'gamma': 0.49622580796700755, 'min_child_weight': 9}. Best is trial 91 with value: 0.9759367818233841.\n",
      "[I 2024-11-18 15:40:37,142] Trial 93 finished with value: 0.9753580504125765 and parameters: {'n_estimators': 1240, 'max_depth': 1, 'learning_rate': 0.19842485986425967, 'subsample': 0.9286971103328808, 'colsample_bytree': 0.4501381366475721, 'gamma': 0.5096347967252797, 'min_child_weight': 9}. Best is trial 91 with value: 0.9759367818233841.\n",
      "[I 2024-11-18 15:41:28,186] Trial 94 finished with value: 0.9757813966634558 and parameters: {'n_estimators': 1216, 'max_depth': 2, 'learning_rate': 0.23727185567803644, 'subsample': 0.9517428483762436, 'colsample_bytree': 0.39656566448787894, 'gamma': 0.46127507732924944, 'min_child_weight': 10}. Best is trial 91 with value: 0.9759367818233841.\n",
      "[I 2024-11-18 15:42:18,124] Trial 95 finished with value: 0.9758463903842284 and parameters: {'n_estimators': 1127, 'max_depth': 2, 'learning_rate': 0.1738871383734073, 'subsample': 0.9144038345672316, 'colsample_bytree': 0.3997391303898351, 'gamma': 0.43493835935770453, 'min_child_weight': 11}. Best is trial 91 with value: 0.9759367818233841.\n",
      "[I 2024-11-18 15:42:55,915] Trial 96 finished with value: 0.9753036242284319 and parameters: {'n_estimators': 945, 'max_depth': 1, 'learning_rate': 0.13425767925052146, 'subsample': 0.8535591910673687, 'colsample_bytree': 0.4736363693548876, 'gamma': 0.4829941068177375, 'min_child_weight': 10}. Best is trial 91 with value: 0.9759367818233841.\n",
      "[I 2024-11-18 15:44:23,545] Trial 97 finished with value: 0.9753085319318748 and parameters: {'n_estimators': 1059, 'max_depth': 11, 'learning_rate': 0.03637689915471087, 'subsample': 0.811165215534106, 'colsample_bytree': 0.44535297571507465, 'gamma': 0.5009701123159802, 'min_child_weight': 9}. Best is trial 91 with value: 0.9759367818233841.\n",
      "[I 2024-11-18 15:45:23,371] Trial 98 finished with value: 0.9756725700017261 and parameters: {'n_estimators': 1322, 'max_depth': 3, 'learning_rate': 0.15733021408899558, 'subsample': 0.9464446774388241, 'colsample_bytree': 0.5210821451435944, 'gamma': 0.4409486363307987, 'min_child_weight': 11}. Best is trial 91 with value: 0.9759367818233841.\n",
      "[I 2024-11-18 15:46:23,616] Trial 99 finished with value: 0.9758648767142644 and parameters: {'n_estimators': 1389, 'max_depth': 2, 'learning_rate': 0.0943945940258171, 'subsample': 0.8364071498239772, 'colsample_bytree': 0.4621700134907772, 'gamma': 0.39545825779752936, 'min_child_weight': 12}. Best is trial 91 with value: 0.9759367818233841.\n",
      "[I 2024-11-18 15:47:06,665] Trial 100 finished with value: 0.975343354171627 and parameters: {'n_estimators': 1106, 'max_depth': 1, 'learning_rate': 0.21925875891913313, 'subsample': 0.9007560333662086, 'colsample_bytree': 0.9722477638968274, 'gamma': 0.9931730361849636, 'min_child_weight': 9}. Best is trial 91 with value: 0.9759367818233841.\n",
      "[I 2024-11-18 15:47:59,273] Trial 101 finished with value: 0.9758478671548207 and parameters: {'n_estimators': 1210, 'max_depth': 2, 'learning_rate': 0.09475885386682859, 'subsample': 0.8334278872050473, 'colsample_bytree': 0.4660485436138527, 'gamma': 0.6029138897105573, 'min_child_weight': 12}. Best is trial 91 with value: 0.9759367818233841.\n",
      "[I 2024-11-18 15:49:01,588] Trial 102 finished with value: 0.9758895219262367 and parameters: {'n_estimators': 1427, 'max_depth': 2, 'learning_rate': 0.06553235188128909, 'subsample': 0.8651484649303826, 'colsample_bytree': 0.4279891726691706, 'gamma': 0.4129347556930011, 'min_child_weight': 13}. Best is trial 91 with value: 0.9759367818233841.\n",
      "[I 2024-11-18 15:50:08,222] Trial 103 finished with value: 0.9714081681153559 and parameters: {'n_estimators': 1411, 'max_depth': 3, 'learning_rate': 0.7818983371994273, 'subsample': 0.7929552577068687, 'colsample_bytree': 0.4979888383642218, 'gamma': 0.5192682419444042, 'min_child_weight': 10}. Best is trial 91 with value: 0.9759367818233841.\n",
      "[I 2024-11-18 15:51:06,241] Trial 104 finished with value: 0.9758111545758302 and parameters: {'n_estimators': 1284, 'max_depth': 2, 'learning_rate': 0.05929198470088585, 'subsample': 0.8715359010666632, 'colsample_bytree': 0.4084818243681313, 'gamma': 0.48119246132446747, 'min_child_weight': 13}. Best is trial 91 with value: 0.9759367818233841.\n",
      "[I 2024-11-18 15:52:02,303] Trial 105 finished with value: 0.9753201588744904 and parameters: {'n_estimators': 1457, 'max_depth': 1, 'learning_rate': 0.9942112200366993, 'subsample': 0.9214693059537604, 'colsample_bytree': 0.34349180002783036, 'gamma': 0.4041154827353174, 'min_child_weight': 7}. Best is trial 91 with value: 0.9759367818233841.\n",
      "[I 2024-11-18 15:53:21,542] Trial 106 finished with value: 0.9758309287400386 and parameters: {'n_estimators': 1482, 'max_depth': 3, 'learning_rate': 0.02410710920408662, 'subsample': 0.7190354468199652, 'colsample_bytree': 0.4223432370935769, 'gamma': 0.5811742973800803, 'min_child_weight': 10}. Best is trial 91 with value: 0.9759367818233841.\n",
      "[I 2024-11-18 15:54:18,979] Trial 107 finished with value: 0.9758324874990528 and parameters: {'n_estimators': 1346, 'max_depth': 2, 'learning_rate': 0.13096780798988, 'subsample': 0.9595183645750947, 'colsample_bytree': 0.3706029319659013, 'gamma': 0.546849705295024, 'min_child_weight': 11}. Best is trial 91 with value: 0.9759367818233841.\n",
      "[I 2024-11-18 15:55:04,614] Trial 108 finished with value: 0.9753508467085924 and parameters: {'n_estimators': 1168, 'max_depth': 1, 'learning_rate': 0.18985757220504898, 'subsample': 0.8971037550509664, 'colsample_bytree': 0.5337850700545405, 'gamma': 0.43244805152383803, 'min_child_weight': 9}. Best is trial 91 with value: 0.9759367818233841.\n",
      "[I 2024-11-18 15:55:58,908] Trial 109 finished with value: 0.9755906352749839 and parameters: {'n_estimators': 1237, 'max_depth': 2, 'learning_rate': 0.26007639954967565, 'subsample': 0.9135314949905389, 'colsample_bytree': 0.9982807782647477, 'gamma': 0.5354666507201715, 'min_child_weight': 14}. Best is trial 91 with value: 0.9759367818233841.\n",
      "[I 2024-11-18 15:56:40,890] Trial 110 finished with value: 0.9758640949745422 and parameters: {'n_estimators': 793, 'max_depth': 3, 'learning_rate': 0.0519703391694859, 'subsample': 0.8678872192511291, 'colsample_bytree': 0.586721354696536, 'gamma': 0.457320917347124, 'min_child_weight': 8}. Best is trial 91 with value: 0.9759367818233841.\n",
      "[I 2024-11-18 15:57:40,408] Trial 111 finished with value: 0.9758555705770533 and parameters: {'n_estimators': 1391, 'max_depth': 2, 'learning_rate': 0.09488406365887692, 'subsample': 0.8285397002083361, 'colsample_bytree': 0.436343901423504, 'gamma': 0.3684379999496587, 'min_child_weight': 13}. Best is trial 91 with value: 0.9759367818233841.\n",
      "[I 2024-11-18 15:58:42,058] Trial 112 finished with value: 0.975861032943658 and parameters: {'n_estimators': 1446, 'max_depth': 2, 'learning_rate': 0.11817895139618914, 'subsample': 0.7634485465830241, 'colsample_bytree': 0.4635111573999355, 'gamma': 0.39376229433789817, 'min_child_weight': 12}. Best is trial 91 with value: 0.9759367818233841.\n",
      "[I 2024-11-18 15:59:35,072] Trial 113 finished with value: 0.975355623701461 and parameters: {'n_estimators': 1305, 'max_depth': 1, 'learning_rate': 0.15406580430521635, 'subsample': 0.9694396798643964, 'colsample_bytree': 0.4878568429896075, 'gamma': 0.6175995892499169, 'min_child_weight': 11}. Best is trial 91 with value: 0.9759367818233841.\n",
      "[I 2024-11-18 16:01:00,234] Trial 114 finished with value: 0.9752608720865673 and parameters: {'n_estimators': 1373, 'max_depth': 3, 'learning_rate': 0.011731507033633112, 'subsample': 0.9339902705362454, 'colsample_bytree': 0.43021945472039635, 'gamma': 0.48887786016202955, 'min_child_weight': 12}. Best is trial 91 with value: 0.9759367818233841.\n",
      "[I 2024-11-18 16:01:43,785] Trial 115 finished with value: 0.9749672174540407 and parameters: {'n_estimators': 1124, 'max_depth': 1, 'learning_rate': 0.06171156743668027, 'subsample': 0.8454905965898944, 'colsample_bytree': 0.8839093948614388, 'gamma': 0.41622324919232095, 'min_child_weight': 10}. Best is trial 91 with value: 0.9759367818233841.\n",
      "[I 2024-11-18 16:02:54,969] Trial 116 finished with value: 0.9756664926387956 and parameters: {'n_estimators': 1409, 'max_depth': 4, 'learning_rate': 0.08755174189770334, 'subsample': 0.8906805055028896, 'colsample_bytree': 0.4992938986336374, 'gamma': 0.5836668801568732, 'min_child_weight': 14}. Best is trial 91 with value: 0.9759367818233841.\n",
      "[I 2024-11-18 16:03:40,454] Trial 117 finished with value: 0.9758116581389323 and parameters: {'n_estimators': 1058, 'max_depth': 2, 'learning_rate': 0.1706201884642478, 'subsample': 0.8123461772547519, 'colsample_bytree': 0.5166852949114048, 'gamma': 0.6914269295126199, 'min_child_weight': 8}. Best is trial 91 with value: 0.9759367818233841.\n",
      "[I 2024-11-18 16:04:35,554] Trial 118 finished with value: 0.9758660639720043 and parameters: {'n_estimators': 1271, 'max_depth': 2, 'learning_rate': 0.10724061015261477, 'subsample': 0.7853164781242901, 'colsample_bytree': 0.4560861432483224, 'gamma': 0.3132619873359817, 'min_child_weight': 12}. Best is trial 91 with value: 0.9759367818233841.\n",
      "[I 2024-11-18 16:05:19,285] Trial 119 finished with value: 0.9757061331363366 and parameters: {'n_estimators': 893, 'max_depth': 3, 'learning_rate': 0.1295555805572093, 'subsample': 0.7828370154131672, 'colsample_bytree': 0.48061327494113876, 'gamma': 0.7703069438821484, 'min_child_weight': 13}. Best is trial 91 with value: 0.9759367818233841.\n",
      "[I 2024-11-18 16:06:09,237] Trial 120 finished with value: 0.9753240270784822 and parameters: {'n_estimators': 1274, 'max_depth': 1, 'learning_rate': 0.11207604830392141, 'subsample': 0.7285144775127639, 'colsample_bytree': 0.7608887393013735, 'gamma': 0.5291381595157776, 'min_child_weight': 9}. Best is trial 91 with value: 0.9759367818233841.\n",
      "[I 2024-11-18 16:07:04,972] Trial 121 finished with value: 0.9756909516783712 and parameters: {'n_estimators': 1187, 'max_depth': 2, 'learning_rate': 0.04262989400263759, 'subsample': 0.867437820302343, 'colsample_bytree': 0.4509127060967713, 'gamma': 0.3132219652727768, 'min_child_weight': 12}. Best is trial 91 with value: 0.9759367818233841.\n",
      "[I 2024-11-18 16:07:54,941] Trial 122 finished with value: 0.9758336924568756 and parameters: {'n_estimators': 1147, 'max_depth': 2, 'learning_rate': 0.09743984900380961, 'subsample': 0.7475961716076517, 'colsample_bytree': 0.387619256906251, 'gamma': 0.34904874238211386, 'min_child_weight': 10}. Best is trial 91 with value: 0.9759367818233841.\n",
      "[I 2024-11-18 16:08:39,262] Trial 123 finished with value: 0.9758056206648081 and parameters: {'n_estimators': 1009, 'max_depth': 2, 'learning_rate': 0.14197270027289222, 'subsample': 0.6842628124797056, 'colsample_bytree': 0.4670773916814741, 'gamma': 0.3788599677426088, 'min_child_weight': 7}. Best is trial 91 with value: 0.9759367818233841.\n",
      "[I 2024-11-18 16:09:38,544] Trial 124 finished with value: 0.9759276944400014 and parameters: {'n_estimators': 1240, 'max_depth': 3, 'learning_rate': 0.06673560959221815, 'subsample': 0.8321073664044556, 'colsample_bytree': 0.4111140495839604, 'gamma': 0.26108270306603965, 'min_child_weight': 11}. Best is trial 91 with value: 0.9759367818233841.\n",
      "[I 2024-11-18 16:10:31,929] Trial 125 finished with value: 0.9759103629671948 and parameters: {'n_estimators': 1086, 'max_depth': 3, 'learning_rate': 0.07137892557077406, 'subsample': 0.9480546446216194, 'colsample_bytree': 0.4115090806905715, 'gamma': 0.2521994932491782, 'min_child_weight': 11}. Best is trial 91 with value: 0.9759367818233841.\n",
      "[I 2024-11-18 16:11:20,681] Trial 126 finished with value: 0.9759058703736535 and parameters: {'n_estimators': 960, 'max_depth': 3, 'learning_rate': 0.06635814147515409, 'subsample': 0.9729466174550124, 'colsample_bytree': 0.41176849935945914, 'gamma': 0.27063869444742217, 'min_child_weight': 11}. Best is trial 91 with value: 0.9759367818233841.\n",
      "[I 2024-11-18 16:12:13,971] Trial 127 finished with value: 0.9759825368736277 and parameters: {'n_estimators': 973, 'max_depth': 4, 'learning_rate': 0.06546863096989292, 'subsample': 0.9806217606063565, 'colsample_bytree': 0.35114681045262164, 'gamma': 0.6355914224696118, 'min_child_weight': 9}. Best is trial 127 with value: 0.9759825368736277.\n",
      "[I 2024-11-18 16:13:02,423] Trial 128 finished with value: 0.9759503422908324 and parameters: {'n_estimators': 961, 'max_depth': 3, 'learning_rate': 0.07207630382200444, 'subsample': 0.9814303500402632, 'colsample_bytree': 0.3234157584231235, 'gamma': 0.2546001952167158, 'min_child_weight': 9}. Best is trial 127 with value: 0.9759825368736277.\n",
      "[I 2024-11-18 16:13:52,057] Trial 129 finished with value: 0.9759867062060238 and parameters: {'n_estimators': 877, 'max_depth': 4, 'learning_rate': 0.06289895366792671, 'subsample': 0.9781049714634188, 'colsample_bytree': 0.3186581278563175, 'gamma': 0.15355601319086837, 'min_child_weight': 8}. Best is trial 129 with value: 0.9759867062060238.\n",
      "[I 2024-11-18 16:14:40,669] Trial 130 finished with value: 0.9759705041409464 and parameters: {'n_estimators': 841, 'max_depth': 4, 'learning_rate': 0.06169489348428355, 'subsample': 0.9758179457790005, 'colsample_bytree': 0.2660291320810867, 'gamma': 0.08305510056214663, 'min_child_weight': 8}. Best is trial 129 with value: 0.9759867062060238.\n",
      "[I 2024-11-18 16:15:30,005] Trial 131 finished with value: 0.9759755225679502 and parameters: {'n_estimators': 838, 'max_depth': 4, 'learning_rate': 0.06012422113019927, 'subsample': 0.9786001282730011, 'colsample_bytree': 0.2847676622779484, 'gamma': 0.262059531011617, 'min_child_weight': 8}. Best is trial 129 with value: 0.9759867062060238.\n",
      "[I 2024-11-18 16:16:23,901] Trial 132 finished with value: 0.9759205850649376 and parameters: {'n_estimators': 836, 'max_depth': 4, 'learning_rate': 0.036829925854144435, 'subsample': 0.9730214739506985, 'colsample_bytree': 0.288629565703129, 'gamma': 0.2595128890208684, 'min_child_weight': 8}. Best is trial 129 with value: 0.9759867062060238.\n",
      "[I 2024-11-18 16:17:24,103] Trial 133 finished with value: 0.9759726133873597 and parameters: {'n_estimators': 849, 'max_depth': 5, 'learning_rate': 0.032220943395952176, 'subsample': 0.9773795580058366, 'colsample_bytree': 0.31677193387583946, 'gamma': 0.07047409255103626, 'min_child_weight': 8}. Best is trial 129 with value: 0.9759867062060238.\n",
      "[I 2024-11-18 16:18:29,565] Trial 134 finished with value: 0.9759667134792089 and parameters: {'n_estimators': 868, 'max_depth': 5, 'learning_rate': 0.028386104431246735, 'subsample': 0.9744339553631043, 'colsample_bytree': 0.26186469991551914, 'gamma': 0.26320872939793294, 'min_child_weight': 7}. Best is trial 129 with value: 0.9759867062060238.\n",
      "[I 2024-11-18 16:19:29,688] Trial 135 finished with value: 0.9759815602990066 and parameters: {'n_estimators': 853, 'max_depth': 5, 'learning_rate': 0.036828906695623706, 'subsample': 0.9953313148314611, 'colsample_bytree': 0.2783072811370027, 'gamma': 0.07857886893562366, 'min_child_weight': 7}. Best is trial 129 with value: 0.9759867062060238.\n",
      "[I 2024-11-18 16:20:52,396] Trial 136 finished with value: 0.9755560104498535 and parameters: {'n_estimators': 855, 'max_depth': 6, 'learning_rate': 0.012034104097814427, 'subsample': 0.9878538433456712, 'colsample_bytree': 0.28133421201972786, 'gamma': 0.06924124372666998, 'min_child_weight': 7}. Best is trial 129 with value: 0.9759867062060238.\n",
      "[I 2024-11-18 16:21:47,196] Trial 137 finished with value: 0.9759685189653133 and parameters: {'n_estimators': 724, 'max_depth': 5, 'learning_rate': 0.0399221693708173, 'subsample': 0.9974660158808744, 'colsample_bytree': 0.25323577520695884, 'gamma': 0.16970022780990554, 'min_child_weight': 7}. Best is trial 129 with value: 0.9759867062060238.\n",
      "[I 2024-11-18 16:22:43,607] Trial 138 finished with value: 0.9758810519995214 and parameters: {'n_estimators': 694, 'max_depth': 5, 'learning_rate': 0.02911082043231311, 'subsample': 0.9994509524318316, 'colsample_bytree': 0.23272744164284576, 'gamma': 0.1805638286641179, 'min_child_weight': 7}. Best is trial 129 with value: 0.9759867062060238.\n",
      "[I 2024-11-18 16:23:39,364] Trial 139 finished with value: 0.9759609581008327 and parameters: {'n_estimators': 781, 'max_depth': 5, 'learning_rate': 0.034859294095789986, 'subsample': 0.9748915843008724, 'colsample_bytree': 0.3231213531810145, 'gamma': 0.00083666075856631, 'min_child_weight': 8}. Best is trial 129 with value: 0.9759867062060238.\n",
      "[I 2024-11-18 16:24:39,085] Trial 140 finished with value: 0.9760043489866111 and parameters: {'n_estimators': 771, 'max_depth': 6, 'learning_rate': 0.034312415435131166, 'subsample': 0.9691952334875232, 'colsample_bytree': 0.26368902565729524, 'gamma': 0.028590725665349332, 'min_child_weight': 7}. Best is trial 140 with value: 0.9760043489866111.\n",
      "[I 2024-11-18 16:25:43,351] Trial 141 finished with value: 0.9759924676567859 and parameters: {'n_estimators': 782, 'max_depth': 6, 'learning_rate': 0.028122673866387733, 'subsample': 0.9768677140898034, 'colsample_bytree': 0.26017666842085657, 'gamma': 0.011088185198398708, 'min_child_weight': 7}. Best is trial 140 with value: 0.9760043489866111.\n",
      "[I 2024-11-18 16:26:39,971] Trial 142 finished with value: 0.976012624967759 and parameters: {'n_estimators': 758, 'max_depth': 6, 'learning_rate': 0.041042125495324905, 'subsample': 0.9797210129194053, 'colsample_bytree': 0.2617034821182897, 'gamma': 0.020392283516222756, 'min_child_weight': 7}. Best is trial 142 with value: 0.976012624967759.\n",
      "[I 2024-11-18 16:27:37,776] Trial 143 finished with value: 0.9759889053776964 and parameters: {'n_estimators': 715, 'max_depth': 7, 'learning_rate': 0.03915979926688242, 'subsample': 0.9532722673344484, 'colsample_bytree': 0.2611641023254741, 'gamma': 0.0007204761300415724, 'min_child_weight': 6}. Best is trial 142 with value: 0.976012624967759.\n",
      "[I 2024-11-18 16:28:45,010] Trial 144 finished with value: 0.9760080542575238 and parameters: {'n_estimators': 777, 'max_depth': 7, 'learning_rate': 0.02818262573997954, 'subsample': 0.949490696608451, 'colsample_bytree': 0.26780831181926706, 'gamma': 0.011595532495573997, 'min_child_weight': 6}. Best is trial 142 with value: 0.976012624967759.\n",
      "[I 2024-11-18 16:29:57,905] Trial 145 finished with value: 0.9760061389167733 and parameters: {'n_estimators': 771, 'max_depth': 6, 'learning_rate': 0.03226382048406309, 'subsample': 0.9511021967501044, 'colsample_bytree': 0.2578832705788131, 'gamma': 0.004097783719068396, 'min_child_weight': 5}. Best is trial 142 with value: 0.976012624967759.\n",
      "[I 2024-11-18 16:31:10,306] Trial 146 finished with value: 0.9760138505366684 and parameters: {'n_estimators': 772, 'max_depth': 7, 'learning_rate': 0.02829410600993388, 'subsample': 0.947196219174413, 'colsample_bytree': 0.253910793282036, 'gamma': 0.018640114312298534, 'min_child_weight': 5}. Best is trial 146 with value: 0.9760138505366684.\n",
      "[I 2024-11-18 16:32:22,282] Trial 147 finished with value: 0.9753279375293277 and parameters: {'n_estimators': 714, 'max_depth': 7, 'learning_rate': 0.012167386591533848, 'subsample': 0.9551361932296555, 'colsample_bytree': 0.25579453076774866, 'gamma': 0.03847913838231252, 'min_child_weight': 5}. Best is trial 146 with value: 0.9760138505366684.\n",
      "[I 2024-11-18 16:33:12,356] Trial 148 finished with value: 0.97602901326223 and parameters: {'n_estimators': 626, 'max_depth': 6, 'learning_rate': 0.044961260837793185, 'subsample': 0.9994370290606505, 'colsample_bytree': 0.19668424156475844, 'gamma': 0.09439280465692507, 'min_child_weight': 5}. Best is trial 148 with value: 0.97602901326223.\n",
      "[I 2024-11-18 16:34:04,950] Trial 149 finished with value: 0.9759460715457597 and parameters: {'n_estimators': 626, 'max_depth': 8, 'learning_rate': 0.04899452218923733, 'subsample': 0.999892686943261, 'colsample_bytree': 0.20553569245299552, 'gamma': 0.10237273241553875, 'min_child_weight': 5}. Best is trial 148 with value: 0.97602901326223.\n",
      "[I 2024-11-18 16:35:02,394] Trial 150 finished with value: 0.9759824196393285 and parameters: {'n_estimators': 749, 'max_depth': 7, 'learning_rate': 0.0475079763851832, 'subsample': 0.9414246748173044, 'colsample_bytree': 0.21733139618041197, 'gamma': 0.04089469187479386, 'min_child_weight': 5}. Best is trial 148 with value: 0.97602901326223.\n",
      "[I 2024-11-18 16:36:02,726] Trial 151 finished with value: 0.9741843164660793 and parameters: {'n_estimators': 747, 'max_depth': 7, 'learning_rate': 0.04658179723036267, 'subsample': 0.01357226497914904, 'colsample_bytree': 0.17756261483551683, 'gamma': 0.04205473586153372, 'min_child_weight': 5}. Best is trial 148 with value: 0.97602901326223.\n",
      "[I 2024-11-18 16:37:12,371] Trial 152 finished with value: 0.9759088995261941 and parameters: {'n_estimators': 814, 'max_depth': 6, 'learning_rate': 0.021437781377357745, 'subsample': 0.9603337720781107, 'colsample_bytree': 0.3022018053871551, 'gamma': 0.08009452553783918, 'min_child_weight': 6}. Best is trial 148 with value: 0.97602901326223.\n",
      "[I 2024-11-18 16:38:24,763] Trial 153 finished with value: 0.97483383938266 and parameters: {'n_estimators': 768, 'max_depth': 7, 'learning_rate': 0.010769081493373907, 'subsample': 0.9445981531231903, 'colsample_bytree': 0.21503100502593905, 'gamma': 0.018232585032047097, 'min_child_weight': 4}. Best is trial 148 with value: 0.97602901326223.\n",
      "[I 2024-11-18 16:39:14,988] Trial 154 finished with value: 0.9759891435484525 and parameters: {'n_estimators': 684, 'max_depth': 6, 'learning_rate': 0.04724424493176973, 'subsample': 0.9417777945965677, 'colsample_bytree': 0.27488126025070575, 'gamma': 0.13759969893946283, 'min_child_weight': 6}. Best is trial 148 with value: 0.97602901326223.\n",
      "[I 2024-11-18 16:40:05,253] Trial 155 finished with value: 0.976017957871734 and parameters: {'n_estimators': 671, 'max_depth': 6, 'learning_rate': 0.049919405188705204, 'subsample': 0.9404162598896834, 'colsample_bytree': 0.2760157782084392, 'gamma': 0.12334986901712622, 'min_child_weight': 5}. Best is trial 148 with value: 0.97602901326223.\n",
      "[I 2024-11-18 16:40:54,294] Trial 156 finished with value: 0.9760461556112148 and parameters: {'n_estimators': 624, 'max_depth': 6, 'learning_rate': 0.04360057947904721, 'subsample': 0.944794100340488, 'colsample_bytree': 0.18199908295299133, 'gamma': 0.1301059418172449, 'min_child_weight': 6}. Best is trial 156 with value: 0.9760461556112148.\n",
      "[I 2024-11-18 16:41:41,888] Trial 157 finished with value: 0.9760341416357449 and parameters: {'n_estimators': 617, 'max_depth': 6, 'learning_rate': 0.05240555036201594, 'subsample': 0.9484870975336299, 'colsample_bytree': 0.17645113525150868, 'gamma': 0.13772604511454714, 'min_child_weight': 5}. Best is trial 156 with value: 0.9760461556112148.\n",
      "[I 2024-11-18 16:42:29,234] Trial 158 finished with value: 0.9760270948318421 and parameters: {'n_estimators': 613, 'max_depth': 6, 'learning_rate': 0.046907721042761405, 'subsample': 0.9399984186765684, 'colsample_bytree': 0.1773955467975194, 'gamma': 0.12822547612422147, 'min_child_weight': 4}. Best is trial 156 with value: 0.9760461556112148.\n",
      "[I 2024-11-18 16:43:18,788] Trial 159 finished with value: 0.9760378174290933 and parameters: {'n_estimators': 625, 'max_depth': 6, 'learning_rate': 0.045728888370224714, 'subsample': 0.9375528633921629, 'colsample_bytree': 0.16700229619371662, 'gamma': 0.134796003954582, 'min_child_weight': 5}. Best is trial 156 with value: 0.9760461556112148.\n",
      "[I 2024-11-18 16:44:01,612] Trial 160 finished with value: 0.9759618974048385 and parameters: {'n_estimators': 610, 'max_depth': 6, 'learning_rate': 0.08445431476021714, 'subsample': 0.9456425823006739, 'colsample_bytree': 0.1741709348538753, 'gamma': 0.14035253106311274, 'min_child_weight': 4}. Best is trial 156 with value: 0.9760461556112148.\n",
      "[I 2024-11-18 16:44:48,506] Trial 161 finished with value: 0.97586878969882 and parameters: {'n_estimators': 550, 'max_depth': 8, 'learning_rate': 0.04516307946852439, 'subsample': 0.9361110176986233, 'colsample_bytree': 0.1460664620146962, 'gamma': 0.12407915638032414, 'min_child_weight': 5}. Best is trial 156 with value: 0.9760461556112148.\n",
      "[I 2024-11-18 16:45:38,969] Trial 162 finished with value: 0.9760198119845829 and parameters: {'n_estimators': 675, 'max_depth': 6, 'learning_rate': 0.051403916265793034, 'subsample': 0.9439095189635558, 'colsample_bytree': 0.22354329069115852, 'gamma': 0.02253878746879709, 'min_child_weight': 3}. Best is trial 156 with value: 0.9760461556112148.\n",
      "[I 2024-11-18 16:46:36,462] Trial 163 finished with value: 0.9743349496443445 and parameters: {'n_estimators': 652, 'max_depth': 6, 'learning_rate': 0.012609630196371017, 'subsample': 0.934782551983298, 'colsample_bytree': 0.1904394065996723, 'gamma': 0.021724845330683275, 'min_child_weight': 3}. Best is trial 156 with value: 0.9760461556112148.\n",
      "[I 2024-11-18 16:47:12,990] Trial 164 finished with value: 0.9715070551159132 and parameters: {'n_estimators': 677, 'max_depth': 6, 'learning_rate': 0.7411395801388636, 'subsample': 0.9584430776603757, 'colsample_bytree': 0.1194503460439244, 'gamma': 0.20730887105379275, 'min_child_weight': 6}. Best is trial 156 with value: 0.9760461556112148.\n",
      "[I 2024-11-18 16:48:04,180] Trial 165 finished with value: 0.9759983606059898 and parameters: {'n_estimators': 696, 'max_depth': 6, 'learning_rate': 0.05643632690877175, 'subsample': 0.9059085637173901, 'colsample_bytree': 0.22704391850252625, 'gamma': 0.11613604113994755, 'min_child_weight': 3}. Best is trial 156 with value: 0.9760461556112148.\n",
      "[I 2024-11-18 16:49:06,840] Trial 166 finished with value: 0.9760263566381008 and parameters: {'n_estimators': 690, 'max_depth': 7, 'learning_rate': 0.027699000270693483, 'subsample': 0.9019195290843103, 'colsample_bytree': 0.2383624747094684, 'gamma': 0.00010711909577328094, 'min_child_weight': 3}. Best is trial 156 with value: 0.9760461556112148.\n",
      "[I 2024-11-18 16:50:10,294] Trial 167 finished with value: 0.976002925643782 and parameters: {'n_estimators': 689, 'max_depth': 7, 'learning_rate': 0.027333128466260202, 'subsample': 0.9027715635461327, 'colsample_bytree': 0.2356956273237623, 'gamma': 0.11812107914482606, 'min_child_weight': 3}. Best is trial 156 with value: 0.9760461556112148.\n",
      "[I 2024-11-18 16:51:03,672] Trial 168 finished with value: 0.975786989121213 and parameters: {'n_estimators': 588, 'max_depth': 6, 'learning_rate': 0.02404385118643988, 'subsample': 0.9006677032989996, 'colsample_bytree': 0.23641376987336069, 'gamma': 0.10907818318973402, 'min_child_weight': 3}. Best is trial 156 with value: 0.9760461556112148.\n",
      "[I 2024-11-18 16:51:53,293] Trial 169 finished with value: 0.9755418156298207 and parameters: {'n_estimators': 686, 'max_depth': 8, 'learning_rate': 0.08570047344398493, 'subsample': 0.9226371402065214, 'colsample_bytree': 0.16441409483876396, 'gamma': 0.05653896406951875, 'min_child_weight': 2}. Best is trial 156 with value: 0.9760461556112148.\n",
      "[I 2024-11-18 16:52:42,307] Trial 170 finished with value: 0.9759996636586227 and parameters: {'n_estimators': 645, 'max_depth': 6, 'learning_rate': 0.05039248119564853, 'subsample': 0.9031120748456182, 'colsample_bytree': 0.19214675750492705, 'gamma': 0.13574556754344597, 'min_child_weight': 3}. Best is trial 156 with value: 0.9760461556112148.\n",
      "[I 2024-11-18 16:53:19,004] Trial 171 finished with value: 0.966774072295548 and parameters: {'n_estimators': 649, 'max_depth': 6, 'learning_rate': 0.8376898367070494, 'subsample': 0.8954514673550305, 'colsample_bytree': 0.19682642548621915, 'gamma': 0.14042518418291752, 'min_child_weight': 3}. Best is trial 156 with value: 0.9760461556112148.\n",
      "[I 2024-11-18 16:54:07,632] Trial 172 finished with value: 0.9760284179301284 and parameters: {'n_estimators': 611, 'max_depth': 6, 'learning_rate': 0.050123491903651465, 'subsample': 0.928273578785924, 'colsample_bytree': 0.22621204027639233, 'gamma': 0.12872661168658323, 'min_child_weight': 2}. Best is trial 156 with value: 0.9760461556112148.\n",
      "[I 2024-11-18 16:55:07,368] Trial 173 finished with value: 0.9744485165600564 and parameters: {'n_estimators': 609, 'max_depth': 7, 'learning_rate': 0.011329563512267288, 'subsample': 0.9057877386628507, 'colsample_bytree': 0.22574505000796247, 'gamma': 0.0282813258560344, 'min_child_weight': 4}. Best is trial 156 with value: 0.9760461556112148.\n",
      "[I 2024-11-18 16:55:50,759] Trial 174 finished with value: 0.9758202374986855 and parameters: {'n_estimators': 543, 'max_depth': 7, 'learning_rate': 0.05258242538335554, 'subsample': 0.9254562872979233, 'colsample_bytree': 0.1253918034204104, 'gamma': 0.09282950231401434, 'min_child_weight': 2}. Best is trial 156 with value: 0.9760461556112148.\n",
      "[I 2024-11-18 16:56:31,291] Trial 175 finished with value: 0.9759039696160128 and parameters: {'n_estimators': 582, 'max_depth': 6, 'learning_rate': 0.0817445879774571, 'subsample': 0.8830320042865933, 'colsample_bytree': 0.15925227355941796, 'gamma': 0.12052392138280187, 'min_child_weight': 2}. Best is trial 156 with value: 0.9760461556112148.\n",
      "[I 2024-11-18 16:57:26,630] Trial 176 finished with value: 0.9759352397301747 and parameters: {'n_estimators': 626, 'max_depth': 8, 'learning_rate': 0.031424892529229226, 'subsample': 0.928474582011987, 'colsample_bytree': 0.18886302116432416, 'gamma': 0.05611018733406296, 'min_child_weight': 1}. Best is trial 156 with value: 0.9760461556112148.\n",
      "[I 2024-11-18 16:58:10,844] Trial 177 finished with value: 0.9634784259103496 and parameters: {'n_estimators': 655, 'max_depth': 7, 'learning_rate': 0.5382426126089734, 'subsample': 0.29350110794118, 'colsample_bytree': 0.23113482936642016, 'gamma': 0.0007568813093932446, 'min_child_weight': 4}. Best is trial 156 with value: 0.9760461556112148.\n",
      "[I 2024-11-18 16:58:56,755] Trial 178 finished with value: 0.9707747285290506 and parameters: {'n_estimators': 796, 'max_depth': 6, 'learning_rate': 0.43985039548538546, 'subsample': 0.9092360825254461, 'colsample_bytree': 0.24454223773060904, 'gamma': 0.16389814224976396, 'min_child_weight': 3}. Best is trial 156 with value: 0.9760461556112148.\n",
      "[I 2024-11-18 16:59:50,015] Trial 179 finished with value: 0.9760245535040258 and parameters: {'n_estimators': 706, 'max_depth': 6, 'learning_rate': 0.05377354891044891, 'subsample': 0.9457723655015308, 'colsample_bytree': 0.213369145259981, 'gamma': 0.02648017847350922, 'min_child_weight': 3}. Best is trial 156 with value: 0.9760461556112148.\n",
      "[I 2024-11-18 17:00:41,292] Trial 180 finished with value: 0.9757684660424154 and parameters: {'n_estimators': 706, 'max_depth': 7, 'learning_rate': 0.08023645157156725, 'subsample': 0.9551423310333433, 'colsample_bytree': 0.21018365560084817, 'gamma': 0.20263122266301037, 'min_child_weight': 3}. Best is trial 156 with value: 0.9760461556112148.\n",
      "[I 2024-11-18 17:01:22,434] Trial 181 finished with value: 0.9760228629520208 and parameters: {'n_estimators': 515, 'max_depth': 6, 'learning_rate': 0.056014553372418396, 'subsample': 0.9338420174358331, 'colsample_bytree': 0.18414245961724127, 'gamma': 0.05803648464836991, 'min_child_weight': 4}. Best is trial 156 with value: 0.9760461556112148.\n",
      "[I 2024-11-18 17:02:01,906] Trial 182 finished with value: 0.9759205408377565 and parameters: {'n_estimators': 509, 'max_depth': 6, 'learning_rate': 0.05536763719744996, 'subsample': 0.9297306743853623, 'colsample_bytree': 0.1390370453396, 'gamma': 0.06003457545056218, 'min_child_weight': 4}. Best is trial 156 with value: 0.9760461556112148.\n",
      "[I 2024-11-18 17:02:51,290] Trial 183 finished with value: 0.9760297989984366 and parameters: {'n_estimators': 663, 'max_depth': 6, 'learning_rate': 0.056737295591873724, 'subsample': 0.901227502504589, 'colsample_bytree': 0.1909917128610115, 'gamma': 0.09863715660328208, 'min_child_weight': 5}. Best is trial 156 with value: 0.9760461556112148.\n",
      "[I 2024-11-18 17:03:25,407] Trial 184 finished with value: 0.9759581707563821 and parameters: {'n_estimators': 442, 'max_depth': 7, 'learning_rate': 0.09841362639230176, 'subsample': 0.9574598002804978, 'colsample_bytree': 0.17773200554747412, 'gamma': 0.02473430449933755, 'min_child_weight': 5}. Best is trial 156 with value: 0.9760461556112148.\n",
      "[I 2024-11-18 17:04:08,222] Trial 185 finished with value: 0.9755237214128485 and parameters: {'n_estimators': 481, 'max_depth': 6, 'learning_rate': 0.02679791806120473, 'subsample': 0.8830210124156709, 'colsample_bytree': 0.1997134546176966, 'gamma': 0.05217054072358249, 'min_child_weight': 4}. Best is trial 156 with value: 0.9760461556112148.\n",
      "[I 2024-11-18 17:04:48,964] Trial 186 finished with value: 0.9760517328871117 and parameters: {'n_estimators': 605, 'max_depth': 5, 'learning_rate': 0.07610578637224635, 'subsample': 0.931457920533982, 'colsample_bytree': 0.15546423263483386, 'gamma': 0.09610584585754475, 'min_child_weight': 5}. Best is trial 186 with value: 0.9760517328871117.\n",
      "[I 2024-11-18 17:05:29,461] Trial 187 finished with value: 0.9760090632720623 and parameters: {'n_estimators': 596, 'max_depth': 5, 'learning_rate': 0.07187930205036255, 'subsample': 0.942806890644989, 'colsample_bytree': 0.1608827476420371, 'gamma': 0.034353152539105335, 'min_child_weight': 5}. Best is trial 186 with value: 0.9760517328871117.\n",
      "[I 2024-11-18 17:06:08,429] Trial 188 finished with value: 0.9760162173392588 and parameters: {'n_estimators': 573, 'max_depth': 5, 'learning_rate': 0.07710181439169267, 'subsample': 0.9406193923165876, 'colsample_bytree': 0.13650177786819045, 'gamma': 0.031943424094931616, 'min_child_weight': 5}. Best is trial 186 with value: 0.9760517328871117.\n",
      "[I 2024-11-18 17:06:48,336] Trial 189 finished with value: 0.9759993495633399 and parameters: {'n_estimators': 570, 'max_depth': 5, 'learning_rate': 0.08534024699808776, 'subsample': 0.9397840368204483, 'colsample_bytree': 0.13623288040434417, 'gamma': 0.09111105651048258, 'min_child_weight': 5}. Best is trial 186 with value: 0.9760517328871117.\n",
      "[I 2024-11-18 17:07:24,383] Trial 190 finished with value: 0.9758314972735853 and parameters: {'n_estimators': 526, 'max_depth': 5, 'learning_rate': 0.07192734236518787, 'subsample': 0.9279737046686813, 'colsample_bytree': 0.10544473105789963, 'gamma': 0.043307264663394816, 'min_child_weight': 5}. Best is trial 186 with value: 0.9760517328871117.\n",
      "[I 2024-11-18 17:08:05,848] Trial 191 finished with value: 0.9760139203381797 and parameters: {'n_estimators': 601, 'max_depth': 5, 'learning_rate': 0.06571384083797456, 'subsample': 0.9512732065057392, 'colsample_bytree': 0.15884230800007218, 'gamma': 0.028676698604046834, 'min_child_weight': 5}. Best is trial 186 with value: 0.9760517328871117.\n",
      "[I 2024-11-18 17:08:50,134] Trial 192 finished with value: 0.9752766981866312 and parameters: {'n_estimators': 603, 'max_depth': 5, 'learning_rate': 0.10307186249769182, 'subsample': 0.13775534234457426, 'colsample_bytree': 0.07109770873381262, 'gamma': 0.07358354578447765, 'min_child_weight': 5}. Best is trial 186 with value: 0.9760517328871117.\n",
      "[I 2024-11-18 17:09:34,246] Trial 193 finished with value: 0.9759789125133365 and parameters: {'n_estimators': 562, 'max_depth': 5, 'learning_rate': 0.06828842001302399, 'subsample': 0.9416137036958645, 'colsample_bytree': 0.15413068563094223, 'gamma': 0.019739430994118835, 'min_child_weight': 5}. Best is trial 186 with value: 0.9760517328871117.\n",
      "[I 2024-11-18 17:10:21,771] Trial 194 finished with value: 0.9759490524527628 and parameters: {'n_estimators': 622, 'max_depth': 5, 'learning_rate': 0.057677066538730094, 'subsample': 0.9513700317319357, 'colsample_bytree': 0.14664359464115975, 'gamma': 0.04661467348480094, 'min_child_weight': 4}. Best is trial 186 with value: 0.9760517328871117.\n",
      "[I 2024-11-18 17:11:03,700] Trial 195 finished with value: 0.9759363686188547 and parameters: {'n_estimators': 588, 'max_depth': 6, 'learning_rate': 0.08401133534275265, 'subsample': 0.923146142879484, 'colsample_bytree': 0.1618436415573659, 'gamma': 0.09671268847430102, 'min_child_weight': 4}. Best is trial 186 with value: 0.9760517328871117.\n",
      "[I 2024-11-18 17:11:48,980] Trial 196 finished with value: 0.976023592694288 and parameters: {'n_estimators': 638, 'max_depth': 5, 'learning_rate': 0.05485557307806955, 'subsample': 0.954236483944827, 'colsample_bytree': 0.17497757944903677, 'gamma': 0.06647152358554625, 'min_child_weight': 5}. Best is trial 186 with value: 0.9760517328871117.\n",
      "[I 2024-11-18 17:12:30,051] Trial 197 finished with value: 0.9759949072218743 and parameters: {'n_estimators': 666, 'max_depth': 5, 'learning_rate': 0.10142360419951961, 'subsample': 0.9601557443163463, 'colsample_bytree': 0.17469570826231176, 'gamma': 0.0597547888487175, 'min_child_weight': 6}. Best is trial 186 with value: 0.9760517328871117.\n",
      "[I 2024-11-18 17:13:11,484] Trial 198 finished with value: 0.9759611669367398 and parameters: {'n_estimators': 630, 'max_depth': 5, 'learning_rate': 0.07150928198294694, 'subsample': 0.9192796920712901, 'colsample_bytree': 0.12621874332690383, 'gamma': 0.09502252178399759, 'min_child_weight': 5}. Best is trial 186 with value: 0.9760517328871117.\n",
      "[I 2024-11-18 17:13:55,637] Trial 199 finished with value: 0.975994425897737 and parameters: {'n_estimators': 552, 'max_depth': 7, 'learning_rate': 0.05370693332638788, 'subsample': 0.9600708555503387, 'colsample_bytree': 0.20964901476466904, 'gamma': 0.03017346205511119, 'min_child_weight': 4}. Best is trial 186 with value: 0.9760517328871117.\n",
      "[I 2024-11-18 17:14:58,086] Trial 200 finished with value: 0.9744507909885105 and parameters: {'n_estimators': 735, 'max_depth': 6, 'learning_rate': 0.011902731495534329, 'subsample': 0.9365088978641877, 'colsample_bytree': 0.1829374785810105, 'gamma': 0.07284926583499904, 'min_child_weight': 2}. Best is trial 186 with value: 0.9760517328871117.\n",
      "[I 2024-11-18 17:15:46,001] Trial 201 finished with value: 0.9759066777434315 and parameters: {'n_estimators': 601, 'max_depth': 6, 'learning_rate': 0.039376700624956164, 'subsample': 0.9508277101885376, 'colsample_bytree': 0.1627468261447913, 'gamma': 0.0106380792669232, 'min_child_weight': 5}. Best is trial 186 with value: 0.9760517328871117.\n",
      "[I 2024-11-18 17:16:32,527] Trial 202 finished with value: 0.9760115639638858 and parameters: {'n_estimators': 667, 'max_depth': 5, 'learning_rate': 0.05330281859257741, 'subsample': 0.9221943007257705, 'colsample_bytree': 0.20780023682388962, 'gamma': 0.03653092606391718, 'min_child_weight': 6}. Best is trial 186 with value: 0.9760517328871117.\n",
      "[I 2024-11-18 17:17:16,058] Trial 203 finished with value: 0.9760219764110791 and parameters: {'n_estimators': 665, 'max_depth': 5, 'learning_rate': 0.07252207503160633, 'subsample': 0.9171434339554089, 'colsample_bytree': 0.20475101451839856, 'gamma': 0.037733890401862584, 'min_child_weight': 6}. Best is trial 186 with value: 0.9760517328871117.\n",
      "[I 2024-11-18 17:17:57,500] Trial 204 finished with value: 0.975990709183797 and parameters: {'n_estimators': 652, 'max_depth': 5, 'learning_rate': 0.08252061954527341, 'subsample': 0.8833198948715248, 'colsample_bytree': 0.1980824313332607, 'gamma': 0.040300098682684186, 'min_child_weight': 5}. Best is trial 186 with value: 0.9760517328871117.\n",
      "[I 2024-11-18 17:18:33,849] Trial 205 finished with value: 0.9711618832068949 and parameters: {'n_estimators': 671, 'max_depth': 5, 'learning_rate': 0.6193563886882723, 'subsample': 0.908754850100156, 'colsample_bytree': 0.21388448228134294, 'gamma': 0.06678527136730665, 'min_child_weight': 4}. Best is trial 186 with value: 0.9760517328871117.\n",
      "[I 2024-11-18 17:19:16,363] Trial 206 finished with value: 0.9756288900695977 and parameters: {'n_estimators': 625, 'max_depth': 5, 'learning_rate': 0.06118279851184277, 'subsample': 0.9265411004142047, 'colsample_bytree': 0.08990211430226554, 'gamma': 0.09000216412489698, 'min_child_weight': 6}. Best is trial 186 with value: 0.9760517328871117.\n",
      "[I 2024-11-18 17:19:53,484] Trial 207 finished with value: 0.9758955732594309 and parameters: {'n_estimators': 537, 'max_depth': 6, 'learning_rate': 0.10347078007913443, 'subsample': 0.8954411109564305, 'colsample_bytree': 0.17882000453722885, 'gamma': 0.03601224279938036, 'min_child_weight': 5}. Best is trial 186 with value: 0.9760517328871117.\n",
      "[I 2024-11-18 17:20:35,582] Trial 208 finished with value: 0.9757435957385493 and parameters: {'n_estimators': 574, 'max_depth': 5, 'learning_rate': 0.05407553928008319, 'subsample': 0.9205149214082, 'colsample_bytree': 0.11545731962086736, 'gamma': 0.1078284155102261, 'min_child_weight': 6}. Best is trial 186 with value: 0.9760517328871117.\n",
      "[I 2024-11-18 17:21:20,010] Trial 209 finished with value: 0.9759932055249889 and parameters: {'n_estimators': 650, 'max_depth': 5, 'learning_rate': 0.07556933391914655, 'subsample': 0.9693035170548304, 'colsample_bytree': 0.14966805730646865, 'gamma': 0.1594333571920942, 'min_child_weight': 4}. Best is trial 186 with value: 0.9760517328871117.\n",
      "[I 2024-11-18 17:22:01,158] Trial 210 finished with value: 0.9759327878541587 and parameters: {'n_estimators': 596, 'max_depth': 6, 'learning_rate': 0.08998424537556987, 'subsample': 0.9368002474319667, 'colsample_bytree': 0.19242818123472175, 'gamma': 0.056861692788705176, 'min_child_weight': 5}. Best is trial 186 with value: 0.9760517328871117.\n",
      "[I 2024-11-18 17:22:56,042] Trial 211 finished with value: 0.9760366800014115 and parameters: {'n_estimators': 725, 'max_depth': 6, 'learning_rate': 0.04388116553985882, 'subsample': 0.9592321976128783, 'colsample_bytree': 0.21821322517662942, 'gamma': 0.020098827123433107, 'min_child_weight': 6}. Best is trial 186 with value: 0.9760517328871117.\n",
      "[I 2024-11-18 17:23:49,163] Trial 212 finished with value: 0.975994943921242 and parameters: {'n_estimators': 715, 'max_depth': 6, 'learning_rate': 0.04961229190002077, 'subsample': 0.9854597103973107, 'colsample_bytree': 0.22210224224036113, 'gamma': 0.029900154272940762, 'min_child_weight': 6}. Best is trial 186 with value: 0.9760517328871117.\n",
      "[I 2024-11-18 17:24:33,929] Trial 213 finished with value: 0.9760190469575655 and parameters: {'n_estimators': 671, 'max_depth': 5, 'learning_rate': 0.06706949016476639, 'subsample': 0.9595368335374235, 'colsample_bytree': 0.15897466101840063, 'gamma': 0.12545956489123689, 'min_child_weight': 5}. Best is trial 186 with value: 0.9760517328871117.\n",
      "[I 2024-11-18 17:25:26,128] Trial 214 finished with value: 0.9760031568047035 and parameters: {'n_estimators': 669, 'max_depth': 6, 'learning_rate': 0.044314514208858284, 'subsample': 0.961236083007077, 'colsample_bytree': 0.24145740680717304, 'gamma': 0.14581101275522163, 'min_child_weight': 6}. Best is trial 186 with value: 0.9760517328871117.\n",
      "[I 2024-11-18 17:26:41,697] Trial 215 finished with value: 0.9744362831994294 and parameters: {'n_estimators': 730, 'max_depth': 6, 'learning_rate': 0.01050261324643409, 'subsample': 0.9158115251012476, 'colsample_bytree': 0.20830985526407222, 'gamma': 0.12049011695864824, 'min_child_weight': 4}. Best is trial 186 with value: 0.9760517328871117.\n",
      "[I 2024-11-18 17:27:30,448] Trial 216 finished with value: 0.9760346392097606 and parameters: {'n_estimators': 635, 'max_depth': 5, 'learning_rate': 0.06327631798917291, 'subsample': 0.9999439774385871, 'colsample_bytree': 0.17855166785273258, 'gamma': 0.0842057507320262, 'min_child_weight': 6}. Best is trial 186 with value: 0.9760517328871117.\n",
      "[I 2024-11-18 17:28:18,041] Trial 217 finished with value: 0.9760177473897859 and parameters: {'n_estimators': 624, 'max_depth': 6, 'learning_rate': 0.0679145702824424, 'subsample': 0.974622810453821, 'colsample_bytree': 0.17982436178281982, 'gamma': 0.1824798437973772, 'min_child_weight': 5}. Best is trial 186 with value: 0.9760517328871117.\n",
      "[I 2024-11-18 17:28:58,460] Trial 218 finished with value: 0.9759301175931718 and parameters: {'n_estimators': 630, 'max_depth': 5, 'learning_rate': 0.10893563802543801, 'subsample': 0.9988900218863221, 'colsample_bytree': 0.17133617939825696, 'gamma': 0.18263398753922624, 'min_child_weight': 5}. Best is trial 186 with value: 0.9760517328871117.\n",
      "[I 2024-11-18 17:29:46,281] Trial 219 finished with value: 0.9758809322323796 and parameters: {'n_estimators': 619, 'max_depth': 7, 'learning_rate': 0.07889184422472406, 'subsample': 0.9987352849697635, 'colsample_bytree': 0.18322948629183272, 'gamma': 0.10506278887413312, 'min_child_weight': 1}. Best is trial 186 with value: 0.9760517328871117.\n",
      "[I 2024-11-18 17:30:36,199] Trial 220 finished with value: 0.9760032118221925 and parameters: {'n_estimators': 695, 'max_depth': 6, 'learning_rate': 0.0640335723220756, 'subsample': 0.9661040817690314, 'colsample_bytree': 0.13981434842958662, 'gamma': 0.12849714247656577, 'min_child_weight': 5}. Best is trial 186 with value: 0.9760517328871117.\n",
      "[I 2024-11-18 17:31:42,295] Trial 221 finished with value: 0.9758074085830423 and parameters: {'n_estimators': 642, 'max_depth': 13, 'learning_rate': 0.03873421726561789, 'subsample': 0.9727205194707469, 'colsample_bytree': 0.18928060262000232, 'gamma': 0.07750336676242317, 'min_child_weight': 5}. Best is trial 186 with value: 0.9760517328871117.\n",
      "[I 2024-11-18 17:32:25,354] Trial 222 finished with value: 0.9760358833521352 and parameters: {'n_estimators': 572, 'max_depth': 6, 'learning_rate': 0.06272707069922416, 'subsample': 0.9786797918432336, 'colsample_bytree': 0.16659473219794046, 'gamma': 0.15625853408782697, 'min_child_weight': 6}. Best is trial 186 with value: 0.9760517328871117.\n",
      "[I 2024-11-18 17:33:05,371] Trial 223 finished with value: 0.9759423577919758 and parameters: {'n_estimators': 571, 'max_depth': 6, 'learning_rate': 0.09222147538384146, 'subsample': 0.9577462831535178, 'colsample_bytree': 0.16888867715859718, 'gamma': 0.15333616855700063, 'min_child_weight': 6}. Best is trial 186 with value: 0.9760517328871117.\n",
      "[I 2024-11-18 17:33:42,749] Trial 224 finished with value: 0.9758951724464348 and parameters: {'n_estimators': 514, 'max_depth': 5, 'learning_rate': 0.062353337236559725, 'subsample': 0.9432380114047367, 'colsample_bytree': 0.14647013670109618, 'gamma': 0.12933294589362843, 'min_child_weight': 4}. Best is trial 186 with value: 0.9760517328871117.\n",
      "[I 2024-11-18 17:34:27,202] Trial 225 finished with value: 0.9759585541075676 and parameters: {'n_estimators': 628, 'max_depth': 6, 'learning_rate': 0.07102714364968338, 'subsample': 0.9855927917979367, 'colsample_bytree': 0.12294804274190987, 'gamma': 0.17517982248947264, 'min_child_weight': 5}. Best is trial 186 with value: 0.9760517328871117.\n",
      "[I 2024-11-18 17:35:23,162] Trial 226 finished with value: 0.975899124478879 and parameters: {'n_estimators': 597, 'max_depth': 7, 'learning_rate': 0.027764494811827505, 'subsample': 0.962055302597986, 'colsample_bytree': 0.2198055696677968, 'gamma': 0.10677129227480897, 'min_child_weight': 6}. Best is trial 186 with value: 0.9760517328871117.\n",
      "[I 2024-11-18 17:36:13,825] Trial 227 finished with value: 0.976049212160027 and parameters: {'n_estimators': 666, 'max_depth': 6, 'learning_rate': 0.04713635465297049, 'subsample': 0.9404935479677374, 'colsample_bytree': 0.17056241485890253, 'gamma': 0.0847389577849033, 'min_child_weight': 2}. Best is trial 186 with value: 0.9760517328871117.\n",
      "[I 2024-11-18 17:36:58,527] Trial 228 finished with value: 0.9758660391778834 and parameters: {'n_estimators': 666, 'max_depth': 6, 'learning_rate': 0.08620966883709297, 'subsample': 0.9324266101426817, 'colsample_bytree': 0.16649887849777617, 'gamma': 0.08637527818420745, 'min_child_weight': 2}. Best is trial 186 with value: 0.9760517328871117.\n",
      "[I 2024-11-18 17:37:47,514] Trial 229 finished with value: 0.9760169142086641 and parameters: {'n_estimators': 689, 'max_depth': 5, 'learning_rate': 0.050818180744922115, 'subsample': 0.9872921825261494, 'colsample_bytree': 0.1955990474715474, 'gamma': 0.15091529785588637, 'min_child_weight': 3}. Best is trial 186 with value: 0.9760517328871117.\n",
      "[I 2024-11-18 17:38:38,594] Trial 230 finished with value: 0.9759995488283486 and parameters: {'n_estimators': 703, 'max_depth': 5, 'learning_rate': 0.04357149043083669, 'subsample': 0.9974708072411236, 'colsample_bytree': 0.19368847508415057, 'gamma': 0.14976660701082672, 'min_child_weight': 2}. Best is trial 186 with value: 0.9760517328871117.\n",
      "[I 2024-11-18 17:39:25,717] Trial 231 finished with value: 0.9760083888602716 and parameters: {'n_estimators': 649, 'max_depth': 6, 'learning_rate': 0.0606428425245468, 'subsample': 0.9734617637454624, 'colsample_bytree': 0.1540809392778403, 'gamma': 0.12349507559226956, 'min_child_weight': 3}. Best is trial 186 with value: 0.9760517328871117.\n",
      "[I 2024-11-18 17:40:12,010] Trial 232 finished with value: 0.9760253490466697 and parameters: {'n_estimators': 681, 'max_depth': 5, 'learning_rate': 0.05145413288448481, 'subsample': 0.43064527703580746, 'colsample_bytree': 0.18255917516189593, 'gamma': 0.10507009740398296, 'min_child_weight': 2}. Best is trial 186 with value: 0.9760517328871117.\n",
      "[I 2024-11-18 17:40:57,827] Trial 233 finished with value: 0.9759799017526098 and parameters: {'n_estimators': 681, 'max_depth': 4, 'learning_rate': 0.04584956767622226, 'subsample': 0.37070576952833817, 'colsample_bytree': 0.18665282436311864, 'gamma': 0.19149394004748882, 'min_child_weight': 2}. Best is trial 186 with value: 0.9760517328871117.\n",
      "[I 2024-11-18 17:41:44,890] Trial 234 finished with value: 0.9757522654191078 and parameters: {'n_estimators': 710, 'max_depth': 6, 'learning_rate': 0.08910641719356227, 'subsample': 0.9838951210192747, 'colsample_bytree': 0.2048817251653648, 'gamma': 0.11058236079288955, 'min_child_weight': 2}. Best is trial 186 with value: 0.9760517328871117.\n",
      "[I 2024-11-18 17:42:29,779] Trial 235 finished with value: 0.9760269900607096 and parameters: {'n_estimators': 635, 'max_depth': 5, 'learning_rate': 0.053361438101048334, 'subsample': 0.4122896062888524, 'colsample_bytree': 0.17592915381702046, 'gamma': 0.16436585936781298, 'min_child_weight': 3}. Best is trial 186 with value: 0.9760517328871117.\n",
      "[I 2024-11-18 17:43:21,840] Trial 236 finished with value: 0.9758751972926951 and parameters: {'n_estimators': 643, 'max_depth': 6, 'learning_rate': 0.03009423950907572, 'subsample': 0.4422075824177967, 'colsample_bytree': 0.18059147239687104, 'gamma': 0.1608977966958239, 'min_child_weight': 3}. Best is trial 186 with value: 0.9760517328871117.\n",
      "[I 2024-11-18 17:44:07,019] Trial 237 finished with value: 0.9759726420374655 and parameters: {'n_estimators': 679, 'max_depth': 5, 'learning_rate': 0.05331786724506134, 'subsample': 0.38215796808111535, 'colsample_bytree': 0.21956252134156948, 'gamma': 0.1325645718723359, 'min_child_weight': 1}. Best is trial 186 with value: 0.9760517328871117.\n",
      "[I 2024-11-18 17:44:55,854] Trial 238 finished with value: 0.9760612044845765 and parameters: {'n_estimators': 623, 'max_depth': 6, 'learning_rate': 0.04337168717098735, 'subsample': 0.5762710438011511, 'colsample_bytree': 0.19790812731138763, 'gamma': 0.22686965140524085, 'min_child_weight': 3}. Best is trial 238 with value: 0.9760612044845765.\n",
      "[I 2024-11-18 17:45:49,108] Trial 239 finished with value: 0.9753975141141161 and parameters: {'n_estimators': 634, 'max_depth': 6, 'learning_rate': 0.021971543206788603, 'subsample': 0.4552430262529991, 'colsample_bytree': 0.17128524536354572, 'gamma': 0.2258995024911924, 'min_child_weight': 3}. Best is trial 238 with value: 0.9760612044845765.\n",
      "[I 2024-11-18 17:46:40,201] Trial 240 finished with value: 0.976025998480057 and parameters: {'n_estimators': 614, 'max_depth': 7, 'learning_rate': 0.037963781448497366, 'subsample': 0.4319693425298841, 'colsample_bytree': 0.23481363731024768, 'gamma': 0.09439047228771276, 'min_child_weight': 2}. Best is trial 238 with value: 0.9760612044845765.\n",
      "[I 2024-11-18 17:47:30,869] Trial 241 finished with value: 0.9760306044841789 and parameters: {'n_estimators': 627, 'max_depth': 7, 'learning_rate': 0.03925113387987305, 'subsample': 0.42325915476893494, 'colsample_bytree': 0.229230807912709, 'gamma': 0.09467513743202546, 'min_child_weight': 2}. Best is trial 238 with value: 0.9760612044845765.\n",
      "[I 2024-11-18 17:48:24,104] Trial 242 finished with value: 0.9759846247025195 and parameters: {'n_estimators': 613, 'max_depth': 7, 'learning_rate': 0.02752518862637032, 'subsample': 0.4174138528801188, 'colsample_bytree': 0.23177432669647335, 'gamma': 0.0863339130893435, 'min_child_weight': 1}. Best is trial 238 with value: 0.9760612044845765.\n",
      "[I 2024-11-18 17:49:21,329] Trial 243 finished with value: 0.9760012631960692 and parameters: {'n_estimators': 661, 'max_depth': 7, 'learning_rate': 0.03657120251486414, 'subsample': 0.47609742839449326, 'colsample_bytree': 0.2393940097825623, 'gamma': 0.0965607026475517, 'min_child_weight': 2}. Best is trial 238 with value: 0.9760612044845765.\n",
      "[I 2024-11-18 17:50:17,711] Trial 244 finished with value: 0.9758509857149911 and parameters: {'n_estimators': 656, 'max_depth': 9, 'learning_rate': 0.0492489245282365, 'subsample': 0.4275789490216465, 'colsample_bytree': 0.21854410227762133, 'gamma': 0.1117806415426761, 'min_child_weight': 2}. Best is trial 238 with value: 0.9760612044845765.\n",
      "[I 2024-11-18 17:51:11,763] Trial 245 finished with value: 0.9735836581353853 and parameters: {'n_estimators': 556, 'max_depth': 8, 'learning_rate': 0.01170930607101315, 'subsample': 0.394489771224191, 'colsample_bytree': 0.19300722552646438, 'gamma': 0.06559089190695433, 'min_child_weight': 2}. Best is trial 238 with value: 0.9760612044845765.\n",
      "[I 2024-11-18 17:52:03,945] Trial 246 finished with value: 0.9760027436862977 and parameters: {'n_estimators': 608, 'max_depth': 7, 'learning_rate': 0.03653342812675584, 'subsample': 0.41978711257907914, 'colsample_bytree': 0.2071537764456218, 'gamma': 0.1310445179809745, 'min_child_weight': 3}. Best is trial 238 with value: 0.9760612044845765.\n",
      "[I 2024-11-18 17:52:54,452] Trial 247 finished with value: 0.9757720519754395 and parameters: {'n_estimators': 732, 'max_depth': 6, 'learning_rate': 0.06274491568199442, 'subsample': 0.3979251814268266, 'colsample_bytree': 0.23104882453429607, 'gamma': 0.08604448977247603, 'min_child_weight': 2}. Best is trial 238 with value: 0.9760612044845765.\n",
      "[I 2024-11-18 17:53:30,490] Trial 248 finished with value: 0.9727755860946754 and parameters: {'n_estimators': 594, 'max_depth': 6, 'learning_rate': 0.34940400967126717, 'subsample': 0.5079031580211003, 'colsample_bytree': 0.16150147236328988, 'gamma': 0.10459457145299556, 'min_child_weight': 3}. Best is trial 238 with value: 0.9760612044845765.\n",
      "[I 2024-11-18 17:54:17,429] Trial 249 finished with value: 0.9759974920970939 and parameters: {'n_estimators': 641, 'max_depth': 6, 'learning_rate': 0.04998943974390927, 'subsample': 0.3552558556700644, 'colsample_bytree': 0.20859730686089306, 'gamma': 0.07268021293485993, 'min_child_weight': 3}. Best is trial 238 with value: 0.9760612044845765.\n",
      "[I 2024-11-18 17:55:06,234] Trial 250 finished with value: 0.975809344811338 and parameters: {'n_estimators': 678, 'max_depth': 7, 'learning_rate': 0.07342092419745141, 'subsample': 0.44294253378564097, 'colsample_bytree': 0.1777620396903926, 'gamma': 0.1362283298982217, 'min_child_weight': 4}. Best is trial 238 with value: 0.9760612044845765.\n",
      "[I 2024-11-18 17:55:55,126] Trial 251 finished with value: 0.9759673127612626 and parameters: {'n_estimators': 576, 'max_depth': 6, 'learning_rate': 0.03188897442965494, 'subsample': 0.43031723595214344, 'colsample_bytree': 0.24209675404447123, 'gamma': 0.11390908719310829, 'min_child_weight': 1}. Best is trial 238 with value: 0.9760612044845765.\n",
      "[I 2024-11-18 17:56:50,570] Trial 252 finished with value: 0.9727175624375992 and parameters: {'n_estimators': 701, 'max_depth': 5, 'learning_rate': 0.011177724141903166, 'subsample': 0.4075374331355053, 'colsample_bytree': 0.13891177451115289, 'gamma': 0.06093167778601176, 'min_child_weight': 2}. Best is trial 238 with value: 0.9760612044845765.\n",
      "[I 2024-11-18 17:57:38,784] Trial 253 finished with value: 0.9759133111247632 and parameters: {'n_estimators': 623, 'max_depth': 7, 'learning_rate': 0.05009919774768464, 'subsample': 0.4928836014868498, 'colsample_bytree': 0.19770876445512364, 'gamma': 0.09332047873476432, 'min_child_weight': 2}. Best is trial 238 with value: 0.9760612044845765.\n",
      "[I 2024-11-18 17:58:22,257] Trial 254 finished with value: 0.975645635272689 and parameters: {'n_estimators': 659, 'max_depth': 6, 'learning_rate': 0.08824860530378391, 'subsample': 0.4510946101586173, 'colsample_bytree': 0.21975341848281277, 'gamma': 0.14121457364393974, 'min_child_weight': 4}. Best is trial 238 with value: 0.9760612044845765.\n",
      "[I 2024-11-18 17:59:10,022] Trial 255 finished with value: 0.9757775292356113 and parameters: {'n_estimators': 723, 'max_depth': 5, 'learning_rate': 0.06470677272818467, 'subsample': 0.2564105231122067, 'colsample_bytree': 0.17000423202272077, 'gamma': 0.16617284633216856, 'min_child_weight': 3}. Best is trial 238 with value: 0.9760612044845765.\n",
      "[I 2024-11-18 18:00:05,795] Trial 256 finished with value: 0.9758129569544873 and parameters: {'n_estimators': 598, 'max_depth': 10, 'learning_rate': 0.04229498637379106, 'subsample': 0.43430938942081226, 'colsample_bytree': 0.15133858323072072, 'gamma': 0.11850181799876572, 'min_child_weight': 4}. Best is trial 238 with value: 0.9760612044845765.\n",
      "[I 2024-11-18 18:00:54,819] Trial 257 finished with value: 0.9755225061667859 and parameters: {'n_estimators': 637, 'max_depth': 4, 'learning_rate': 0.026817903969493576, 'subsample': 0.6376273389858302, 'colsample_bytree': 0.19153120604408197, 'gamma': 0.07467649113602318, 'min_child_weight': 2}. Best is trial 238 with value: 0.9760612044845765.\n",
      "[I 2024-11-18 18:01:06,142] Trial 258 finished with value: 0.9739239849873623 and parameters: {'n_estimators': 103, 'max_depth': 5, 'learning_rate': 0.11116986532993911, 'subsample': 0.3964348375207433, 'colsample_bytree': 0.20467370849950597, 'gamma': 0.09742679165941956, 'min_child_weight': 6}. Best is trial 238 with value: 0.9760612044845765.\n",
      "[I 2024-11-18 18:01:41,233] Trial 259 finished with value: 0.9759602973293507 and parameters: {'n_estimators': 463, 'max_depth': 6, 'learning_rate': 0.07507283835423158, 'subsample': 0.912073468324792, 'colsample_bytree': 0.2439601458828438, 'gamma': 0.05372981985827738, 'min_child_weight': 3}. Best is trial 238 with value: 0.9760612044845765.\n",
      "[I 2024-11-18 18:02:23,463] Trial 260 finished with value: 0.975972371172259 and parameters: {'n_estimators': 531, 'max_depth': 7, 'learning_rate': 0.056574137474292414, 'subsample': 0.8944321155860309, 'colsample_bytree': 0.1637858008610175, 'gamma': 0.1263956399203798, 'min_child_weight': 1}. Best is trial 238 with value: 0.9760612044845765.\n",
      "[I 2024-11-18 18:03:07,216] Trial 261 finished with value: 0.9758076584883112 and parameters: {'n_estimators': 677, 'max_depth': 6, 'learning_rate': 0.0992999234130518, 'subsample': 0.9261140405345996, 'colsample_bytree': 0.22339148811213566, 'gamma': 0.07836403956828886, 'min_child_weight': 6}. Best is trial 238 with value: 0.9760612044845765.\n",
      "[I 2024-11-18 18:03:54,138] Trial 262 finished with value: 0.9755704262695215 and parameters: {'n_estimators': 562, 'max_depth': 8, 'learning_rate': 0.038018592203143665, 'subsample': 0.45811848477893835, 'colsample_bytree': 0.1316053292277789, 'gamma': 0.10516994127806206, 'min_child_weight': 4}. Best is trial 238 with value: 0.9760612044845765.\n",
      "[I 2024-11-18 18:04:35,660] Trial 263 finished with value: 0.9760174442350564 and parameters: {'n_estimators': 610, 'max_depth': 5, 'learning_rate': 0.07341307056530441, 'subsample': 0.937757453998551, 'colsample_bytree': 0.18325369214635534, 'gamma': 0.14785181609921752, 'min_child_weight': 3}. Best is trial 238 with value: 0.9760612044845765.\n",
      "[I 2024-11-18 18:05:26,681] Trial 264 finished with value: 0.974431506110621 and parameters: {'n_estimators': 654, 'max_depth': 6, 'learning_rate': 0.02449850213472419, 'subsample': 0.9599510246123133, 'colsample_bytree': 0.10719123360244738, 'gamma': 0.050769146316376204, 'min_child_weight': 6}. Best is trial 238 with value: 0.9760612044845765.\n",
      "[I 2024-11-18 18:06:15,748] Trial 265 finished with value: 0.9760214154628806 and parameters: {'n_estimators': 704, 'max_depth': 5, 'learning_rate': 0.054042096726977074, 'subsample': 0.5586746960347704, 'colsample_bytree': 0.20639076639619602, 'gamma': 0.09062764756804718, 'min_child_weight': 2}. Best is trial 238 with value: 0.9760612044845765.\n",
      "[I 2024-11-18 18:06:59,159] Trial 266 finished with value: 0.9759720152787377 and parameters: {'n_estimators': 707, 'max_depth': 4, 'learning_rate': 0.06175093884141848, 'subsample': 0.5592492438359515, 'colsample_bytree': 0.2021101921153859, 'gamma': 0.08511027386321593, 'min_child_weight': 2}. Best is trial 238 with value: 0.9760612044845765.\n",
      "[I 2024-11-18 18:07:44,509] Trial 267 finished with value: 0.9758086659504446 and parameters: {'n_estimators': 740, 'max_depth': 5, 'learning_rate': 0.09480940770571139, 'subsample': 0.4848380152187518, 'colsample_bytree': 0.15336924670933244, 'gamma': 0.06085491375894271, 'min_child_weight': 2}. Best is trial 238 with value: 0.9760612044845765.\n",
      "[I 2024-11-18 18:08:35,816] Trial 268 finished with value: 0.9728822104984038 and parameters: {'n_estimators': 628, 'max_depth': 5, 'learning_rate': 0.010102256277849206, 'subsample': 0.5512015267047331, 'colsample_bytree': 0.1824941092378411, 'gamma': 0.09632014825737208, 'min_child_weight': 3}. Best is trial 238 with value: 0.9760612044845765.\n",
      "[I 2024-11-18 18:09:16,430] Trial 269 finished with value: 0.9758382131218181 and parameters: {'n_estimators': 578, 'max_depth': 4, 'learning_rate': 0.04263579189012353, 'subsample': 0.906774932410126, 'colsample_bytree': 0.22005402098024682, 'gamma': 0.07065941564920936, 'min_child_weight': 1}. Best is trial 238 with value: 0.9760612044845765.\n",
      "[I 2024-11-18 18:10:00,394] Trial 270 finished with value: 0.9758841298053845 and parameters: {'n_estimators': 693, 'max_depth': 5, 'learning_rate': 0.07595633230723403, 'subsample': 0.40428375642217157, 'colsample_bytree': 0.17577040496906912, 'gamma': 0.16649229880593833, 'min_child_weight': 2}. Best is trial 238 with value: 0.9760612044845765.\n",
      "[I 2024-11-18 18:10:50,008] Trial 271 finished with value: 0.9759566998357414 and parameters: {'n_estimators': 644, 'max_depth': 7, 'learning_rate': 0.057686988545595244, 'subsample': 0.9599788813531581, 'colsample_bytree': 0.2008742061199666, 'gamma': 0.05083977442770977, 'min_child_weight': 3}. Best is trial 238 with value: 0.9760612044845765.\n",
      "[I 2024-11-18 18:11:38,524] Trial 272 finished with value: 0.9756417850785957 and parameters: {'n_estimators': 603, 'max_depth': 6, 'learning_rate': 0.030180429825822523, 'subsample': 0.6625355377861195, 'colsample_bytree': 0.15265670706569356, 'gamma': 0.11387935309013444, 'min_child_weight': 2}. Best is trial 238 with value: 0.9760612044845765.\n",
      "[I 2024-11-18 18:12:19,882] Trial 273 finished with value: 0.9756991060591572 and parameters: {'n_estimators': 678, 'max_depth': 5, 'learning_rate': 0.09425929561190091, 'subsample': 0.3778265704578862, 'colsample_bytree': 0.24174617954232966, 'gamma': 0.0013927066334439367, 'min_child_weight': 4}. Best is trial 238 with value: 0.9760612044845765.\n",
      "[I 2024-11-18 18:13:02,187] Trial 274 finished with value: 0.9759555561088489 and parameters: {'n_estimators': 542, 'max_depth': 6, 'learning_rate': 0.044701314765325156, 'subsample': 0.5146858984495, 'colsample_bytree': 0.17085332323593044, 'gamma': 0.14161079229823917, 'min_child_weight': 3}. Best is trial 238 with value: 0.9760612044845765.\n",
      "[I 2024-11-18 18:14:00,443] Trial 275 finished with value: 0.9748796467151802 and parameters: {'n_estimators': 716, 'max_depth': 11, 'learning_rate': 0.07752286690213867, 'subsample': 0.524715374830232, 'colsample_bytree': 0.2153842645654377, 'gamma': 0.08475574634676539, 'min_child_weight': 2}. Best is trial 238 with value: 0.9760612044845765.\n",
      "[I 2024-11-18 18:14:35,447] Trial 276 finished with value: 0.9703314195906974 and parameters: {'n_estimators': 617, 'max_depth': 6, 'learning_rate': 0.05990368063724039, 'subsample': 0.31382691583607764, 'colsample_bytree': 0.028093557141034564, 'gamma': 0.106125753721526, 'min_child_weight': 1}. Best is trial 238 with value: 0.9760612044845765.\n",
      "[I 2024-11-18 18:15:08,945] Trial 277 finished with value: 0.9742875260578903 and parameters: {'n_estimators': 415, 'max_depth': 5, 'learning_rate': 0.027963177326654272, 'subsample': 0.6086225313379868, 'colsample_bytree': 0.13567466754606722, 'gamma': 0.1285654240537113, 'min_child_weight': 6}. Best is trial 238 with value: 0.9760612044845765.\n",
      "[I 2024-11-18 18:15:53,175] Trial 278 finished with value: 0.9755207138546181 and parameters: {'n_estimators': 652, 'max_depth': 7, 'learning_rate': 0.11359024387246235, 'subsample': 0.8791375859659836, 'colsample_bytree': 0.1943679436395764, 'gamma': 0.1904138372433197, 'min_child_weight': 4}. Best is trial 238 with value: 0.9760612044845765.\n",
      "[I 2024-11-18 18:16:34,182] Trial 279 finished with value: 0.9758460550188272 and parameters: {'n_estimators': 577, 'max_depth': 4, 'learning_rate': 0.045442998508483615, 'subsample': 0.537640261060166, 'colsample_bytree': 0.18235848075926478, 'gamma': 0.05530468368785145, 'min_child_weight': 3}. Best is trial 238 with value: 0.9760612044845765.\n",
      "[I 2024-11-18 18:17:10,245] Trial 280 finished with value: 0.9759908077819315 and parameters: {'n_estimators': 487, 'max_depth': 6, 'learning_rate': 0.08061855953087624, 'subsample': 0.9255520580382185, 'colsample_bytree': 0.23493781166851926, 'gamma': 0.0840689100627976, 'min_child_weight': 5}. Best is trial 238 with value: 0.9760612044845765.\n",
      "[I 2024-11-18 18:17:58,944] Trial 281 finished with value: 0.9758988996237585 and parameters: {'n_estimators': 747, 'max_depth': 5, 'learning_rate': 0.06654528717772648, 'subsample': 0.4685665034478405, 'colsample_bytree': 0.1598602514982651, 'gamma': 0.15108092948481866, 'min_child_weight': 2}. Best is trial 238 with value: 0.9760612044845765.\n",
      "[I 2024-11-18 18:18:59,265] Trial 282 finished with value: 0.974064243818621 and parameters: {'n_estimators': 691, 'max_depth': 6, 'learning_rate': 0.010336455592844691, 'subsample': 0.33764760395358195, 'colsample_bytree': 0.20601286385137255, 'gamma': 0.10150517700181692, 'min_child_weight': 6}. Best is trial 238 with value: 0.9760612044845765.\n",
      "[I 2024-11-18 18:19:45,337] Trial 283 finished with value: 0.9754728456273749 and parameters: {'n_estimators': 629, 'max_depth': 7, 'learning_rate': 0.035762241243206164, 'subsample': 0.36180936685918463, 'colsample_bytree': 0.11740363967321506, 'gamma': 0.043485155261310415, 'min_child_weight': 3}. Best is trial 238 with value: 0.9760612044845765.\n",
      "[I 2024-11-18 18:20:48,129] Trial 284 finished with value: 0.9753515507223167 and parameters: {'n_estimators': 663, 'max_depth': 15, 'learning_rate': 0.057714141720857065, 'subsample': 0.5797663777722071, 'colsample_bytree': 0.1887124881055734, 'gamma': 0.1282665098171667, 'min_child_weight': 4}. Best is trial 238 with value: 0.9760612044845765.\n",
      "[I 2024-11-18 18:21:25,986] Trial 285 finished with value: 0.9759436078738049 and parameters: {'n_estimators': 594, 'max_depth': 5, 'learning_rate': 0.09238281493074763, 'subsample': 0.9493852720824849, 'colsample_bytree': 0.22913209871641232, 'gamma': 0.07521224327959077, 'min_child_weight': 5}. Best is trial 238 with value: 0.9760612044845765.\n",
      "[I 2024-11-18 18:22:13,769] Trial 286 finished with value: 0.9756793687180403 and parameters: {'n_estimators': 620, 'max_depth': 6, 'learning_rate': 0.028665757353938753, 'subsample': 0.417905404758367, 'colsample_bytree': 0.16991451486204395, 'gamma': 0.022722528160957912, 'min_child_weight': 6}. Best is trial 238 with value: 0.9760612044845765.\n",
      "[I 2024-11-18 18:22:55,635] Trial 287 finished with value: 0.9760327528895983 and parameters: {'n_estimators': 554, 'max_depth': 6, 'learning_rate': 0.04698689732673433, 'subsample': 0.9146700538282817, 'colsample_bytree': 0.20771895258614348, 'gamma': 0.11133287410326265, 'min_child_weight': 2}. Best is trial 238 with value: 0.9760612044845765.\n",
      "[I 2024-11-18 18:23:43,084] Trial 288 finished with value: 0.9733613846959 and parameters: {'n_estimators': 527, 'max_depth': 7, 'learning_rate': 0.010182505300713518, 'subsample': 0.901194200523674, 'colsample_bytree': 0.21663323883243327, 'gamma': 0.09650928438934978, 'min_child_weight': 2}. Best is trial 238 with value: 0.9760612044845765.\n",
      "[I 2024-11-18 18:24:26,208] Trial 289 finished with value: 0.9760151561556436 and parameters: {'n_estimators': 568, 'max_depth': 6, 'learning_rate': 0.03967278760732898, 'subsample': 0.8763249589442214, 'colsample_bytree': 0.20105748721048716, 'gamma': 0.06422369521049542, 'min_child_weight': 1}. Best is trial 238 with value: 0.9760612044845765.\n",
      "[I 2024-11-18 18:25:08,322] Trial 290 finished with value: 0.9760176441574551 and parameters: {'n_estimators': 546, 'max_depth': 7, 'learning_rate': 0.05076010573130334, 'subsample': 0.9180118305176124, 'colsample_bytree': 0.2404694954296354, 'gamma': 0.16625384456973274, 'min_child_weight': 2}. Best is trial 238 with value: 0.9760612044845765.\n",
      "[I 2024-11-18 18:25:43,572] Trial 291 finished with value: 0.9759658536088187 and parameters: {'n_estimators': 506, 'max_depth': 6, 'learning_rate': 0.08150976798344117, 'subsample': 0.930004649976146, 'colsample_bytree': 0.22104509512499781, 'gamma': 0.11352274718908194, 'min_child_weight': 3}. Best is trial 238 with value: 0.9760612044845765.\n",
      "[I 2024-11-18 18:26:04,921] Trial 292 finished with value: 0.9730112119113645 and parameters: {'n_estimators': 224, 'max_depth': 6, 'learning_rate': 0.028937703613372376, 'subsample': 0.5757742474303282, 'colsample_bytree': 0.1907050928390466, 'gamma': 0.0173539825378378, 'min_child_weight': 2}. Best is trial 238 with value: 0.9760612044845765.\n",
      "[I 2024-11-18 18:26:46,586] Trial 293 finished with value: 0.9759652746589751 and parameters: {'n_estimators': 588, 'max_depth': 6, 'learning_rate': 0.056899611977851074, 'subsample': 0.9993823604203481, 'colsample_bytree': 0.2504381438689815, 'gamma': 0.044541486669510785, 'min_child_weight': 1}. Best is trial 238 with value: 0.9760612044845765.\n",
      "[I 2024-11-18 18:27:38,261] Trial 294 finished with value: 0.9759992699948163 and parameters: {'n_estimators': 645, 'max_depth': 7, 'learning_rate': 0.04482669966370529, 'subsample': 0.905429231523272, 'colsample_bytree': 0.20875063410957923, 'gamma': 0.07721007354474178, 'min_child_weight': 3}. Best is trial 238 with value: 0.9760612044845765.\n",
      "[I 2024-11-18 18:28:18,718] Trial 295 finished with value: 0.9759860259649173 and parameters: {'n_estimators': 612, 'max_depth': 5, 'learning_rate': 0.07066794620023194, 'subsample': 0.9431171245195435, 'colsample_bytree': 0.14096814520612494, 'gamma': 0.20236006314295657, 'min_child_weight': 2}. Best is trial 238 with value: 0.9760612044845765.\n",
      "[I 2024-11-18 18:29:02,164] Trial 296 finished with value: 0.9757393338889315 and parameters: {'n_estimators': 710, 'max_depth': 6, 'learning_rate': 0.10948454064051402, 'subsample': 0.9742867006506861, 'colsample_bytree': 0.17492201944628605, 'gamma': 0.0024909119740268108, 'min_child_weight': 3}. Best is trial 238 with value: 0.9760612044845765.\n",
      "[I 2024-11-18 18:29:50,143] Trial 297 finished with value: 0.9755255461030808 and parameters: {'n_estimators': 579, 'max_depth': 5, 'learning_rate': 0.025984249160969416, 'subsample': 0.8585958725239866, 'colsample_bytree': 0.18939393016316805, 'gamma': 0.09756380649461212, 'min_child_weight': 4}. Best is trial 238 with value: 0.9760612044845765.\n",
      "[I 2024-11-18 18:30:36,151] Trial 298 finished with value: 0.9760275593132753 and parameters: {'n_estimators': 633, 'max_depth': 6, 'learning_rate': 0.052600306445543095, 'subsample': 0.8894987502107952, 'colsample_bytree': 0.2181839107796648, 'gamma': 0.14619452165511526, 'min_child_weight': 2}. Best is trial 238 with value: 0.9760612044845765.\n",
      "[I 2024-11-18 18:31:20,161] Trial 299 finished with value: 0.9757780544850917 and parameters: {'n_estimators': 640, 'max_depth': 7, 'learning_rate': 0.08288272042064795, 'subsample': 0.8930415576965215, 'colsample_bytree': 0.16776936379331028, 'gamma': 0.1428686606284299, 'min_child_weight': 2}. Best is trial 238 with value: 0.9760612044845765.\n"
     ]
    }
   ],
   "source": [
    "early_stopping = EarlyStoppingCallback(patience=70)\n",
    "study = optuna.create_study(direction=\"maximize\")\n",
    "study.optimize(objective, n_trials=300, callbacks=[early_stopping])"
   ]
  },
  {
   "cell_type": "code",
   "execution_count": 44,
   "metadata": {
    "execution": {
     "iopub.execute_input": "2024-11-17T20:15:47.475799Z",
     "iopub.status.busy": "2024-11-17T20:15:47.475174Z",
     "iopub.status.idle": "2024-11-17T20:15:47.483113Z",
     "shell.execute_reply": "2024-11-17T20:15:47.481471Z",
     "shell.execute_reply.started": "2024-11-17T20:15:47.475751Z"
    },
    "trusted": true
   },
   "outputs": [],
   "source": [
    "best_params = study.best_params\n",
    "# best_params = {'n_estimators': 623,\n",
    "#  'max_depth': 6,\n",
    "#  'learning_rate': 0.04337168717098735,\n",
    "#  'subsample': 0.5762710438011511,\n",
    "#  'colsample_bytree': 0.19790812731138763,\n",
    "#  'gamma': 0.22686965140524085,\n",
    "#  'min_child_weight': 3}"
   ]
  },
  {
   "cell_type": "code",
   "execution_count": 45,
   "metadata": {},
   "outputs": [
    {
     "data": {
      "text/plain": [
       "{'n_estimators': 623,\n",
       " 'max_depth': 6,\n",
       " 'learning_rate': 0.04337168717098735,\n",
       " 'subsample': 0.5762710438011511,\n",
       " 'colsample_bytree': 0.19790812731138763,\n",
       " 'gamma': 0.22686965140524085,\n",
       " 'min_child_weight': 3}"
      ]
     },
     "execution_count": 45,
     "metadata": {},
     "output_type": "execute_result"
    }
   ],
   "source": [
    "best_params"
   ]
  },
  {
   "cell_type": "code",
   "execution_count": 46,
   "metadata": {
    "execution": {
     "iopub.execute_input": "2024-11-17T20:16:05.638087Z",
     "iopub.status.busy": "2024-11-17T20:16:05.637600Z",
     "iopub.status.idle": "2024-11-17T20:16:05.643949Z",
     "shell.execute_reply": "2024-11-17T20:16:05.642478Z",
     "shell.execute_reply.started": "2024-11-17T20:16:05.638047Z"
    },
    "trusted": true
   },
   "outputs": [
    {
     "data": {
      "application/vnd.plotly.v1+json": {
       "config": {
        "plotlyServerURL": "https://plot.ly"
       },
       "data": [
        {
         "cliponaxis": false,
         "hovertemplate": [
          "colsample_bytree (FloatDistribution): 0.004201901840099505<extra></extra>",
          "gamma (FloatDistribution): 0.015415004143478567<extra></extra>",
          "min_child_weight (IntDistribution): 0.02393021977944301<extra></extra>",
          "n_estimators (IntDistribution): 0.031462947215030256<extra></extra>",
          "subsample (FloatDistribution): 0.11756098409064139<extra></extra>",
          "max_depth (IntDistribution): 0.17110637706459628<extra></extra>",
          "learning_rate (FloatDistribution): 0.6363225658667109<extra></extra>"
         ],
         "name": "Objective Value",
         "orientation": "h",
         "text": [
          "<0.01",
          "0.02",
          "0.02",
          "0.03",
          "0.12",
          "0.17",
          "0.64"
         ],
         "textposition": "outside",
         "type": "bar",
         "x": [
          0.004201901840099505,
          0.015415004143478567,
          0.02393021977944301,
          0.031462947215030256,
          0.11756098409064139,
          0.17110637706459628,
          0.6363225658667109
         ],
         "y": [
          "colsample_bytree",
          "gamma",
          "min_child_weight",
          "n_estimators",
          "subsample",
          "max_depth",
          "learning_rate"
         ]
        }
       ],
       "layout": {
        "template": {
         "data": {
          "bar": [
           {
            "error_x": {
             "color": "#2a3f5f"
            },
            "error_y": {
             "color": "#2a3f5f"
            },
            "marker": {
             "line": {
              "color": "#E5ECF6",
              "width": 0.5
             },
             "pattern": {
              "fillmode": "overlay",
              "size": 10,
              "solidity": 0.2
             }
            },
            "type": "bar"
           }
          ],
          "barpolar": [
           {
            "marker": {
             "line": {
              "color": "#E5ECF6",
              "width": 0.5
             },
             "pattern": {
              "fillmode": "overlay",
              "size": 10,
              "solidity": 0.2
             }
            },
            "type": "barpolar"
           }
          ],
          "carpet": [
           {
            "aaxis": {
             "endlinecolor": "#2a3f5f",
             "gridcolor": "white",
             "linecolor": "white",
             "minorgridcolor": "white",
             "startlinecolor": "#2a3f5f"
            },
            "baxis": {
             "endlinecolor": "#2a3f5f",
             "gridcolor": "white",
             "linecolor": "white",
             "minorgridcolor": "white",
             "startlinecolor": "#2a3f5f"
            },
            "type": "carpet"
           }
          ],
          "choropleth": [
           {
            "colorbar": {
             "outlinewidth": 0,
             "ticks": ""
            },
            "type": "choropleth"
           }
          ],
          "contour": [
           {
            "colorbar": {
             "outlinewidth": 0,
             "ticks": ""
            },
            "colorscale": [
             [
              0,
              "#0d0887"
             ],
             [
              0.1111111111111111,
              "#46039f"
             ],
             [
              0.2222222222222222,
              "#7201a8"
             ],
             [
              0.3333333333333333,
              "#9c179e"
             ],
             [
              0.4444444444444444,
              "#bd3786"
             ],
             [
              0.5555555555555556,
              "#d8576b"
             ],
             [
              0.6666666666666666,
              "#ed7953"
             ],
             [
              0.7777777777777778,
              "#fb9f3a"
             ],
             [
              0.8888888888888888,
              "#fdca26"
             ],
             [
              1,
              "#f0f921"
             ]
            ],
            "type": "contour"
           }
          ],
          "contourcarpet": [
           {
            "colorbar": {
             "outlinewidth": 0,
             "ticks": ""
            },
            "type": "contourcarpet"
           }
          ],
          "heatmap": [
           {
            "colorbar": {
             "outlinewidth": 0,
             "ticks": ""
            },
            "colorscale": [
             [
              0,
              "#0d0887"
             ],
             [
              0.1111111111111111,
              "#46039f"
             ],
             [
              0.2222222222222222,
              "#7201a8"
             ],
             [
              0.3333333333333333,
              "#9c179e"
             ],
             [
              0.4444444444444444,
              "#bd3786"
             ],
             [
              0.5555555555555556,
              "#d8576b"
             ],
             [
              0.6666666666666666,
              "#ed7953"
             ],
             [
              0.7777777777777778,
              "#fb9f3a"
             ],
             [
              0.8888888888888888,
              "#fdca26"
             ],
             [
              1,
              "#f0f921"
             ]
            ],
            "type": "heatmap"
           }
          ],
          "heatmapgl": [
           {
            "colorbar": {
             "outlinewidth": 0,
             "ticks": ""
            },
            "colorscale": [
             [
              0,
              "#0d0887"
             ],
             [
              0.1111111111111111,
              "#46039f"
             ],
             [
              0.2222222222222222,
              "#7201a8"
             ],
             [
              0.3333333333333333,
              "#9c179e"
             ],
             [
              0.4444444444444444,
              "#bd3786"
             ],
             [
              0.5555555555555556,
              "#d8576b"
             ],
             [
              0.6666666666666666,
              "#ed7953"
             ],
             [
              0.7777777777777778,
              "#fb9f3a"
             ],
             [
              0.8888888888888888,
              "#fdca26"
             ],
             [
              1,
              "#f0f921"
             ]
            ],
            "type": "heatmapgl"
           }
          ],
          "histogram": [
           {
            "marker": {
             "pattern": {
              "fillmode": "overlay",
              "size": 10,
              "solidity": 0.2
             }
            },
            "type": "histogram"
           }
          ],
          "histogram2d": [
           {
            "colorbar": {
             "outlinewidth": 0,
             "ticks": ""
            },
            "colorscale": [
             [
              0,
              "#0d0887"
             ],
             [
              0.1111111111111111,
              "#46039f"
             ],
             [
              0.2222222222222222,
              "#7201a8"
             ],
             [
              0.3333333333333333,
              "#9c179e"
             ],
             [
              0.4444444444444444,
              "#bd3786"
             ],
             [
              0.5555555555555556,
              "#d8576b"
             ],
             [
              0.6666666666666666,
              "#ed7953"
             ],
             [
              0.7777777777777778,
              "#fb9f3a"
             ],
             [
              0.8888888888888888,
              "#fdca26"
             ],
             [
              1,
              "#f0f921"
             ]
            ],
            "type": "histogram2d"
           }
          ],
          "histogram2dcontour": [
           {
            "colorbar": {
             "outlinewidth": 0,
             "ticks": ""
            },
            "colorscale": [
             [
              0,
              "#0d0887"
             ],
             [
              0.1111111111111111,
              "#46039f"
             ],
             [
              0.2222222222222222,
              "#7201a8"
             ],
             [
              0.3333333333333333,
              "#9c179e"
             ],
             [
              0.4444444444444444,
              "#bd3786"
             ],
             [
              0.5555555555555556,
              "#d8576b"
             ],
             [
              0.6666666666666666,
              "#ed7953"
             ],
             [
              0.7777777777777778,
              "#fb9f3a"
             ],
             [
              0.8888888888888888,
              "#fdca26"
             ],
             [
              1,
              "#f0f921"
             ]
            ],
            "type": "histogram2dcontour"
           }
          ],
          "mesh3d": [
           {
            "colorbar": {
             "outlinewidth": 0,
             "ticks": ""
            },
            "type": "mesh3d"
           }
          ],
          "parcoords": [
           {
            "line": {
             "colorbar": {
              "outlinewidth": 0,
              "ticks": ""
             }
            },
            "type": "parcoords"
           }
          ],
          "pie": [
           {
            "automargin": true,
            "type": "pie"
           }
          ],
          "scatter": [
           {
            "fillpattern": {
             "fillmode": "overlay",
             "size": 10,
             "solidity": 0.2
            },
            "type": "scatter"
           }
          ],
          "scatter3d": [
           {
            "line": {
             "colorbar": {
              "outlinewidth": 0,
              "ticks": ""
             }
            },
            "marker": {
             "colorbar": {
              "outlinewidth": 0,
              "ticks": ""
             }
            },
            "type": "scatter3d"
           }
          ],
          "scattercarpet": [
           {
            "marker": {
             "colorbar": {
              "outlinewidth": 0,
              "ticks": ""
             }
            },
            "type": "scattercarpet"
           }
          ],
          "scattergeo": [
           {
            "marker": {
             "colorbar": {
              "outlinewidth": 0,
              "ticks": ""
             }
            },
            "type": "scattergeo"
           }
          ],
          "scattergl": [
           {
            "marker": {
             "colorbar": {
              "outlinewidth": 0,
              "ticks": ""
             }
            },
            "type": "scattergl"
           }
          ],
          "scattermapbox": [
           {
            "marker": {
             "colorbar": {
              "outlinewidth": 0,
              "ticks": ""
             }
            },
            "type": "scattermapbox"
           }
          ],
          "scatterpolar": [
           {
            "marker": {
             "colorbar": {
              "outlinewidth": 0,
              "ticks": ""
             }
            },
            "type": "scatterpolar"
           }
          ],
          "scatterpolargl": [
           {
            "marker": {
             "colorbar": {
              "outlinewidth": 0,
              "ticks": ""
             }
            },
            "type": "scatterpolargl"
           }
          ],
          "scatterternary": [
           {
            "marker": {
             "colorbar": {
              "outlinewidth": 0,
              "ticks": ""
             }
            },
            "type": "scatterternary"
           }
          ],
          "surface": [
           {
            "colorbar": {
             "outlinewidth": 0,
             "ticks": ""
            },
            "colorscale": [
             [
              0,
              "#0d0887"
             ],
             [
              0.1111111111111111,
              "#46039f"
             ],
             [
              0.2222222222222222,
              "#7201a8"
             ],
             [
              0.3333333333333333,
              "#9c179e"
             ],
             [
              0.4444444444444444,
              "#bd3786"
             ],
             [
              0.5555555555555556,
              "#d8576b"
             ],
             [
              0.6666666666666666,
              "#ed7953"
             ],
             [
              0.7777777777777778,
              "#fb9f3a"
             ],
             [
              0.8888888888888888,
              "#fdca26"
             ],
             [
              1,
              "#f0f921"
             ]
            ],
            "type": "surface"
           }
          ],
          "table": [
           {
            "cells": {
             "fill": {
              "color": "#EBF0F8"
             },
             "line": {
              "color": "white"
             }
            },
            "header": {
             "fill": {
              "color": "#C8D4E3"
             },
             "line": {
              "color": "white"
             }
            },
            "type": "table"
           }
          ]
         },
         "layout": {
          "annotationdefaults": {
           "arrowcolor": "#2a3f5f",
           "arrowhead": 0,
           "arrowwidth": 1
          },
          "autotypenumbers": "strict",
          "coloraxis": {
           "colorbar": {
            "outlinewidth": 0,
            "ticks": ""
           }
          },
          "colorscale": {
           "diverging": [
            [
             0,
             "#8e0152"
            ],
            [
             0.1,
             "#c51b7d"
            ],
            [
             0.2,
             "#de77ae"
            ],
            [
             0.3,
             "#f1b6da"
            ],
            [
             0.4,
             "#fde0ef"
            ],
            [
             0.5,
             "#f7f7f7"
            ],
            [
             0.6,
             "#e6f5d0"
            ],
            [
             0.7,
             "#b8e186"
            ],
            [
             0.8,
             "#7fbc41"
            ],
            [
             0.9,
             "#4d9221"
            ],
            [
             1,
             "#276419"
            ]
           ],
           "sequential": [
            [
             0,
             "#0d0887"
            ],
            [
             0.1111111111111111,
             "#46039f"
            ],
            [
             0.2222222222222222,
             "#7201a8"
            ],
            [
             0.3333333333333333,
             "#9c179e"
            ],
            [
             0.4444444444444444,
             "#bd3786"
            ],
            [
             0.5555555555555556,
             "#d8576b"
            ],
            [
             0.6666666666666666,
             "#ed7953"
            ],
            [
             0.7777777777777778,
             "#fb9f3a"
            ],
            [
             0.8888888888888888,
             "#fdca26"
            ],
            [
             1,
             "#f0f921"
            ]
           ],
           "sequentialminus": [
            [
             0,
             "#0d0887"
            ],
            [
             0.1111111111111111,
             "#46039f"
            ],
            [
             0.2222222222222222,
             "#7201a8"
            ],
            [
             0.3333333333333333,
             "#9c179e"
            ],
            [
             0.4444444444444444,
             "#bd3786"
            ],
            [
             0.5555555555555556,
             "#d8576b"
            ],
            [
             0.6666666666666666,
             "#ed7953"
            ],
            [
             0.7777777777777778,
             "#fb9f3a"
            ],
            [
             0.8888888888888888,
             "#fdca26"
            ],
            [
             1,
             "#f0f921"
            ]
           ]
          },
          "colorway": [
           "#636efa",
           "#EF553B",
           "#00cc96",
           "#ab63fa",
           "#FFA15A",
           "#19d3f3",
           "#FF6692",
           "#B6E880",
           "#FF97FF",
           "#FECB52"
          ],
          "font": {
           "color": "#2a3f5f"
          },
          "geo": {
           "bgcolor": "white",
           "lakecolor": "white",
           "landcolor": "#E5ECF6",
           "showlakes": true,
           "showland": true,
           "subunitcolor": "white"
          },
          "hoverlabel": {
           "align": "left"
          },
          "hovermode": "closest",
          "mapbox": {
           "style": "light"
          },
          "paper_bgcolor": "white",
          "plot_bgcolor": "#E5ECF6",
          "polar": {
           "angularaxis": {
            "gridcolor": "white",
            "linecolor": "white",
            "ticks": ""
           },
           "bgcolor": "#E5ECF6",
           "radialaxis": {
            "gridcolor": "white",
            "linecolor": "white",
            "ticks": ""
           }
          },
          "scene": {
           "xaxis": {
            "backgroundcolor": "#E5ECF6",
            "gridcolor": "white",
            "gridwidth": 2,
            "linecolor": "white",
            "showbackground": true,
            "ticks": "",
            "zerolinecolor": "white"
           },
           "yaxis": {
            "backgroundcolor": "#E5ECF6",
            "gridcolor": "white",
            "gridwidth": 2,
            "linecolor": "white",
            "showbackground": true,
            "ticks": "",
            "zerolinecolor": "white"
           },
           "zaxis": {
            "backgroundcolor": "#E5ECF6",
            "gridcolor": "white",
            "gridwidth": 2,
            "linecolor": "white",
            "showbackground": true,
            "ticks": "",
            "zerolinecolor": "white"
           }
          },
          "shapedefaults": {
           "line": {
            "color": "#2a3f5f"
           }
          },
          "ternary": {
           "aaxis": {
            "gridcolor": "white",
            "linecolor": "white",
            "ticks": ""
           },
           "baxis": {
            "gridcolor": "white",
            "linecolor": "white",
            "ticks": ""
           },
           "bgcolor": "#E5ECF6",
           "caxis": {
            "gridcolor": "white",
            "linecolor": "white",
            "ticks": ""
           }
          },
          "title": {
           "x": 0.05
          },
          "xaxis": {
           "automargin": true,
           "gridcolor": "white",
           "linecolor": "white",
           "ticks": "",
           "title": {
            "standoff": 15
           },
           "zerolinecolor": "white",
           "zerolinewidth": 2
          },
          "yaxis": {
           "automargin": true,
           "gridcolor": "white",
           "linecolor": "white",
           "ticks": "",
           "title": {
            "standoff": 15
           },
           "zerolinecolor": "white",
           "zerolinewidth": 2
          }
         }
        },
        "title": {
         "text": "Hyperparameter Importances"
        },
        "xaxis": {
         "title": {
          "text": "Hyperparameter Importance"
         }
        },
        "yaxis": {
         "title": {
          "text": "Hyperparameter"
         }
        }
       }
      }
     },
     "metadata": {},
     "output_type": "display_data"
    }
   ],
   "source": [
    "# optuna.visualization.plot_optimization_history(study)\n",
    "# optuna.visualization.plot_parallel_coordinate(study)\n",
    "# optuna.visualization.plot_slice(study)\n",
    "optuna.visualization.plot_param_importances(study)"
   ]
  },
  {
   "cell_type": "code",
   "execution_count": 145,
   "metadata": {
    "execution": {
     "iopub.execute_input": "2024-11-17T20:17:20.384603Z",
     "iopub.status.busy": "2024-11-17T20:17:20.383854Z",
     "iopub.status.idle": "2024-11-17T20:17:32.382276Z",
     "shell.execute_reply": "2024-11-17T20:17:32.381026Z",
     "shell.execute_reply.started": "2024-11-17T20:17:20.384511Z"
    },
    "trusted": true
   },
   "outputs": [
    {
     "data": {
      "text/html": [
       "<div>\n",
       "<style scoped>\n",
       "    .dataframe tbody tr th:only-of-type {\n",
       "        vertical-align: middle;\n",
       "    }\n",
       "\n",
       "    .dataframe tbody tr th {\n",
       "        vertical-align: top;\n",
       "    }\n",
       "\n",
       "    .dataframe thead th {\n",
       "        text-align: right;\n",
       "    }\n",
       "</style>\n",
       "<table border=\"1\" class=\"dataframe\">\n",
       "  <thead>\n",
       "    <tr style=\"text-align: right;\">\n",
       "      <th></th>\n",
       "      <th>Name</th>\n",
       "      <th>Gender</th>\n",
       "      <th>Age</th>\n",
       "      <th>City</th>\n",
       "      <th>Profession</th>\n",
       "      <th>Diet</th>\n",
       "      <th>Have you ever had suicidal thoughts ?</th>\n",
       "      <th>Work/Study Hours</th>\n",
       "      <th>Financial Stress</th>\n",
       "      <th>Family History of Mental Illness</th>\n",
       "      <th>Pressure</th>\n",
       "      <th>Satisfaction</th>\n",
       "      <th>Sleep</th>\n",
       "      <th>Qualification</th>\n",
       "      <th>Subject</th>\n",
       "    </tr>\n",
       "    <tr>\n",
       "      <th>id</th>\n",
       "      <th></th>\n",
       "      <th></th>\n",
       "      <th></th>\n",
       "      <th></th>\n",
       "      <th></th>\n",
       "      <th></th>\n",
       "      <th></th>\n",
       "      <th></th>\n",
       "      <th></th>\n",
       "      <th></th>\n",
       "      <th></th>\n",
       "      <th></th>\n",
       "      <th></th>\n",
       "      <th></th>\n",
       "      <th></th>\n",
       "    </tr>\n",
       "  </thead>\n",
       "  <tbody>\n",
       "    <tr>\n",
       "      <th>140700</th>\n",
       "      <td>Shivam</td>\n",
       "      <td>Male</td>\n",
       "      <td>53.0</td>\n",
       "      <td>Visakhapatnam</td>\n",
       "      <td>Judge</td>\n",
       "      <td>Moderate</td>\n",
       "      <td>No</td>\n",
       "      <td>9.0</td>\n",
       "      <td>3.0</td>\n",
       "      <td>Yes</td>\n",
       "      <td>2.0</td>\n",
       "      <td>5.0</td>\n",
       "      <td>Less than 5 hours</td>\n",
       "      <td>Bachelor</td>\n",
       "      <td>Law</td>\n",
       "    </tr>\n",
       "    <tr>\n",
       "      <th>140701</th>\n",
       "      <td>Sanya</td>\n",
       "      <td>Female</td>\n",
       "      <td>58.0</td>\n",
       "      <td>Kolkata</td>\n",
       "      <td>Educational Consultant</td>\n",
       "      <td>Moderate</td>\n",
       "      <td>No</td>\n",
       "      <td>6.0</td>\n",
       "      <td>4.0</td>\n",
       "      <td>No</td>\n",
       "      <td>2.0</td>\n",
       "      <td>4.0</td>\n",
       "      <td>Less than 5 hours</td>\n",
       "      <td>Bachelor</td>\n",
       "      <td>Education</td>\n",
       "    </tr>\n",
       "    <tr>\n",
       "      <th>140702</th>\n",
       "      <td>Yash</td>\n",
       "      <td>Male</td>\n",
       "      <td>53.0</td>\n",
       "      <td>Jaipur</td>\n",
       "      <td>Teacher</td>\n",
       "      <td>Moderate</td>\n",
       "      <td>Yes</td>\n",
       "      <td>12.0</td>\n",
       "      <td>4.0</td>\n",
       "      <td>No</td>\n",
       "      <td>4.0</td>\n",
       "      <td>1.0</td>\n",
       "      <td>5 to 8 hours</td>\n",
       "      <td>Bachelor</td>\n",
       "      <td>Architecture</td>\n",
       "    </tr>\n",
       "    <tr>\n",
       "      <th>140703</th>\n",
       "      <td>Nalini</td>\n",
       "      <td>Female</td>\n",
       "      <td>23.0</td>\n",
       "      <td>Rajkot</td>\n",
       "      <td>Student</td>\n",
       "      <td>Moderate</td>\n",
       "      <td>Yes</td>\n",
       "      <td>10.0</td>\n",
       "      <td>4.0</td>\n",
       "      <td>No</td>\n",
       "      <td>5.0</td>\n",
       "      <td>1.0</td>\n",
       "      <td>More than 8 hours</td>\n",
       "      <td>Bachelor</td>\n",
       "      <td>Science</td>\n",
       "    </tr>\n",
       "    <tr>\n",
       "      <th>140704</th>\n",
       "      <td>Shaurya</td>\n",
       "      <td>Male</td>\n",
       "      <td>47.0</td>\n",
       "      <td>Kalyan</td>\n",
       "      <td>Teacher</td>\n",
       "      <td>Moderate</td>\n",
       "      <td>Yes</td>\n",
       "      <td>3.0</td>\n",
       "      <td>4.0</td>\n",
       "      <td>No</td>\n",
       "      <td>5.0</td>\n",
       "      <td>5.0</td>\n",
       "      <td>5 to 8 hours</td>\n",
       "      <td>Bachelor</td>\n",
       "      <td>Computer Application</td>\n",
       "    </tr>\n",
       "    <tr>\n",
       "      <th>...</th>\n",
       "      <td>...</td>\n",
       "      <td>...</td>\n",
       "      <td>...</td>\n",
       "      <td>...</td>\n",
       "      <td>...</td>\n",
       "      <td>...</td>\n",
       "      <td>...</td>\n",
       "      <td>...</td>\n",
       "      <td>...</td>\n",
       "      <td>...</td>\n",
       "      <td>...</td>\n",
       "      <td>...</td>\n",
       "      <td>...</td>\n",
       "      <td>...</td>\n",
       "      <td>...</td>\n",
       "    </tr>\n",
       "    <tr>\n",
       "      <th>234495</th>\n",
       "      <td>Zoya</td>\n",
       "      <td>Female</td>\n",
       "      <td>49.0</td>\n",
       "      <td>Jaipur</td>\n",
       "      <td>Pilot</td>\n",
       "      <td>Moderate</td>\n",
       "      <td>Yes</td>\n",
       "      <td>2.0</td>\n",
       "      <td>2.0</td>\n",
       "      <td>Yes</td>\n",
       "      <td>3.0</td>\n",
       "      <td>5.0</td>\n",
       "      <td>Less than 5 hours</td>\n",
       "      <td>Bachelor</td>\n",
       "      <td>Science</td>\n",
       "    </tr>\n",
       "    <tr>\n",
       "      <th>234496</th>\n",
       "      <td>Shlok</td>\n",
       "      <td>Male</td>\n",
       "      <td>29.0</td>\n",
       "      <td>Ahmedabad</td>\n",
       "      <td>Pilot</td>\n",
       "      <td>Moderate</td>\n",
       "      <td>Yes</td>\n",
       "      <td>11.0</td>\n",
       "      <td>3.0</td>\n",
       "      <td>Yes</td>\n",
       "      <td>5.0</td>\n",
       "      <td>1.0</td>\n",
       "      <td>5 to 8 hours</td>\n",
       "      <td>Bachelor</td>\n",
       "      <td>Engineering</td>\n",
       "    </tr>\n",
       "    <tr>\n",
       "      <th>234497</th>\n",
       "      <td>Rishi</td>\n",
       "      <td>Male</td>\n",
       "      <td>24.0</td>\n",
       "      <td>Visakhapatnam</td>\n",
       "      <td>Student</td>\n",
       "      <td>Moderate</td>\n",
       "      <td>No</td>\n",
       "      <td>7.0</td>\n",
       "      <td>1.0</td>\n",
       "      <td>No</td>\n",
       "      <td>1.0</td>\n",
       "      <td>4.0</td>\n",
       "      <td>5 to 8 hours</td>\n",
       "      <td>Bachelor</td>\n",
       "      <td>Technology</td>\n",
       "    </tr>\n",
       "    <tr>\n",
       "      <th>234498</th>\n",
       "      <td>Eshita</td>\n",
       "      <td>Female</td>\n",
       "      <td>23.0</td>\n",
       "      <td>Kalyan</td>\n",
       "      <td>Marketing Manager</td>\n",
       "      <td>Healthy</td>\n",
       "      <td>Yes</td>\n",
       "      <td>7.0</td>\n",
       "      <td>5.0</td>\n",
       "      <td>Yes</td>\n",
       "      <td>4.0</td>\n",
       "      <td>2.0</td>\n",
       "      <td>5 to 8 hours</td>\n",
       "      <td>Bachelor</td>\n",
       "      <td>Arts</td>\n",
       "    </tr>\n",
       "    <tr>\n",
       "      <th>234499</th>\n",
       "      <td>Gauri</td>\n",
       "      <td>Female</td>\n",
       "      <td>43.0</td>\n",
       "      <td>Varanasi</td>\n",
       "      <td>Educational Consultant</td>\n",
       "      <td>Healthy</td>\n",
       "      <td>No</td>\n",
       "      <td>11.0</td>\n",
       "      <td>2.0</td>\n",
       "      <td>No</td>\n",
       "      <td>5.0</td>\n",
       "      <td>2.0</td>\n",
       "      <td>More than 8 hours</td>\n",
       "      <td>Bachelor</td>\n",
       "      <td>Education</td>\n",
       "    </tr>\n",
       "  </tbody>\n",
       "</table>\n",
       "<p>93800 rows × 15 columns</p>\n",
       "</div>"
      ],
      "text/plain": [
       "           Name  Gender   Age           City              Profession  \\\n",
       "id                                                                     \n",
       "140700   Shivam    Male  53.0  Visakhapatnam                   Judge   \n",
       "140701    Sanya  Female  58.0        Kolkata  Educational Consultant   \n",
       "140702     Yash    Male  53.0         Jaipur                 Teacher   \n",
       "140703   Nalini  Female  23.0         Rajkot                 Student   \n",
       "140704  Shaurya    Male  47.0         Kalyan                 Teacher   \n",
       "...         ...     ...   ...            ...                     ...   \n",
       "234495     Zoya  Female  49.0         Jaipur                   Pilot   \n",
       "234496    Shlok    Male  29.0      Ahmedabad                   Pilot   \n",
       "234497    Rishi    Male  24.0  Visakhapatnam                 Student   \n",
       "234498   Eshita  Female  23.0         Kalyan       Marketing Manager   \n",
       "234499    Gauri  Female  43.0       Varanasi  Educational Consultant   \n",
       "\n",
       "            Diet Have you ever had suicidal thoughts ?  Work/Study Hours  \\\n",
       "id                                                                         \n",
       "140700  Moderate                                    No               9.0   \n",
       "140701  Moderate                                    No               6.0   \n",
       "140702  Moderate                                   Yes              12.0   \n",
       "140703  Moderate                                   Yes              10.0   \n",
       "140704  Moderate                                   Yes               3.0   \n",
       "...          ...                                   ...               ...   \n",
       "234495  Moderate                                   Yes               2.0   \n",
       "234496  Moderate                                   Yes              11.0   \n",
       "234497  Moderate                                    No               7.0   \n",
       "234498   Healthy                                   Yes               7.0   \n",
       "234499   Healthy                                    No              11.0   \n",
       "\n",
       "        Financial Stress Family History of Mental Illness  Pressure  \\\n",
       "id                                                                    \n",
       "140700               3.0                              Yes       2.0   \n",
       "140701               4.0                               No       2.0   \n",
       "140702               4.0                               No       4.0   \n",
       "140703               4.0                               No       5.0   \n",
       "140704               4.0                               No       5.0   \n",
       "...                  ...                              ...       ...   \n",
       "234495               2.0                              Yes       3.0   \n",
       "234496               3.0                              Yes       5.0   \n",
       "234497               1.0                               No       1.0   \n",
       "234498               5.0                              Yes       4.0   \n",
       "234499               2.0                               No       5.0   \n",
       "\n",
       "        Satisfaction              Sleep Qualification               Subject  \n",
       "id                                                                           \n",
       "140700           5.0  Less than 5 hours      Bachelor                   Law  \n",
       "140701           4.0  Less than 5 hours      Bachelor             Education  \n",
       "140702           1.0       5 to 8 hours      Bachelor          Architecture  \n",
       "140703           1.0  More than 8 hours      Bachelor               Science  \n",
       "140704           5.0       5 to 8 hours      Bachelor  Computer Application  \n",
       "...              ...                ...           ...                   ...  \n",
       "234495           5.0  Less than 5 hours      Bachelor               Science  \n",
       "234496           1.0       5 to 8 hours      Bachelor           Engineering  \n",
       "234497           4.0       5 to 8 hours      Bachelor            Technology  \n",
       "234498           2.0       5 to 8 hours      Bachelor                  Arts  \n",
       "234499           2.0  More than 8 hours      Bachelor             Education  \n",
       "\n",
       "[93800 rows x 15 columns]"
      ]
     },
     "execution_count": 145,
     "metadata": {},
     "output_type": "execute_result"
    }
   ],
   "source": [
    "test_df = manipulate_dataframe(df_test)\n",
    "test_df"
   ]
  },
  {
   "cell_type": "code",
   "execution_count": null,
   "metadata": {},
   "outputs": [],
   "source": [
    "# ct = ColumnTransformer([\n",
    "#     ('categorical_impute', cat_multiple_impute_ohe_pipeline, cat_multiple_impute_ohe_list),\n",
    "#     ('categorical_mul', cat_multiple_ohe_pipeline, cat_multiple_ohe_list),\n",
    "#     ('categorical_binary', cat_binary_ohe_pipeline, cat_binary_ohe_list),\n",
    "#     ('numerical_impute', num_impute_qtransform_pipeline, num_impute_qtranse_list),\n",
    "#     ('numerical_transform', num_qtransform_pipeline, num_qtrns_list)\n",
    "# ], remainder='drop')"
   ]
  },
  {
   "cell_type": "code",
   "execution_count": 144,
   "metadata": {
    "execution": {
     "iopub.execute_input": "2024-11-17T20:16:33.763197Z",
     "iopub.status.busy": "2024-11-17T20:16:33.762745Z",
     "iopub.status.idle": "2024-11-17T20:17:20.381340Z",
     "shell.execute_reply": "2024-11-17T20:17:20.379940Z",
     "shell.execute_reply.started": "2024-11-17T20:16:33.763150Z"
    },
    "trusted": true
   },
   "outputs": [
    {
     "data": {
      "text/html": [
       "<style>#sk-container-id-1 {color: black;background-color: white;}#sk-container-id-1 pre{padding: 0;}#sk-container-id-1 div.sk-toggleable {background-color: white;}#sk-container-id-1 label.sk-toggleable__label {cursor: pointer;display: block;width: 100%;margin-bottom: 0;padding: 0.3em;box-sizing: border-box;text-align: center;}#sk-container-id-1 label.sk-toggleable__label-arrow:before {content: \"▸\";float: left;margin-right: 0.25em;color: #696969;}#sk-container-id-1 label.sk-toggleable__label-arrow:hover:before {color: black;}#sk-container-id-1 div.sk-estimator:hover label.sk-toggleable__label-arrow:before {color: black;}#sk-container-id-1 div.sk-toggleable__content {max-height: 0;max-width: 0;overflow: hidden;text-align: left;background-color: #f0f8ff;}#sk-container-id-1 div.sk-toggleable__content pre {margin: 0.2em;color: black;border-radius: 0.25em;background-color: #f0f8ff;}#sk-container-id-1 input.sk-toggleable__control:checked~div.sk-toggleable__content {max-height: 200px;max-width: 100%;overflow: auto;}#sk-container-id-1 input.sk-toggleable__control:checked~label.sk-toggleable__label-arrow:before {content: \"▾\";}#sk-container-id-1 div.sk-estimator input.sk-toggleable__control:checked~label.sk-toggleable__label {background-color: #d4ebff;}#sk-container-id-1 div.sk-label input.sk-toggleable__control:checked~label.sk-toggleable__label {background-color: #d4ebff;}#sk-container-id-1 input.sk-hidden--visually {border: 0;clip: rect(1px 1px 1px 1px);clip: rect(1px, 1px, 1px, 1px);height: 1px;margin: -1px;overflow: hidden;padding: 0;position: absolute;width: 1px;}#sk-container-id-1 div.sk-estimator {font-family: monospace;background-color: #f0f8ff;border: 1px dotted black;border-radius: 0.25em;box-sizing: border-box;margin-bottom: 0.5em;}#sk-container-id-1 div.sk-estimator:hover {background-color: #d4ebff;}#sk-container-id-1 div.sk-parallel-item::after {content: \"\";width: 100%;border-bottom: 1px solid gray;flex-grow: 1;}#sk-container-id-1 div.sk-label:hover label.sk-toggleable__label {background-color: #d4ebff;}#sk-container-id-1 div.sk-serial::before {content: \"\";position: absolute;border-left: 1px solid gray;box-sizing: border-box;top: 0;bottom: 0;left: 50%;z-index: 0;}#sk-container-id-1 div.sk-serial {display: flex;flex-direction: column;align-items: center;background-color: white;padding-right: 0.2em;padding-left: 0.2em;position: relative;}#sk-container-id-1 div.sk-item {position: relative;z-index: 1;}#sk-container-id-1 div.sk-parallel {display: flex;align-items: stretch;justify-content: center;background-color: white;position: relative;}#sk-container-id-1 div.sk-item::before, #sk-container-id-1 div.sk-parallel-item::before {content: \"\";position: absolute;border-left: 1px solid gray;box-sizing: border-box;top: 0;bottom: 0;left: 50%;z-index: -1;}#sk-container-id-1 div.sk-parallel-item {display: flex;flex-direction: column;z-index: 1;position: relative;background-color: white;}#sk-container-id-1 div.sk-parallel-item:first-child::after {align-self: flex-end;width: 50%;}#sk-container-id-1 div.sk-parallel-item:last-child::after {align-self: flex-start;width: 50%;}#sk-container-id-1 div.sk-parallel-item:only-child::after {width: 0;}#sk-container-id-1 div.sk-dashed-wrapped {border: 1px dashed gray;margin: 0 0.4em 0.5em 0.4em;box-sizing: border-box;padding-bottom: 0.4em;background-color: white;}#sk-container-id-1 div.sk-label label {font-family: monospace;font-weight: bold;display: inline-block;line-height: 1.2em;}#sk-container-id-1 div.sk-label-container {text-align: center;}#sk-container-id-1 div.sk-container {/* jupyter's `normalize.less` sets `[hidden] { display: none; }` but bootstrap.min.css set `[hidden] { display: none !important; }` so we also need the `!important` here to be able to override the default hidden behavior on the sphinx rendered scikit-learn.org. See: https://github.com/scikit-learn/scikit-learn/issues/21755 */display: inline-block !important;position: relative;}#sk-container-id-1 div.sk-text-repr-fallback {display: none;}</style><div id=\"sk-container-id-1\" class=\"sk-top-container\"><div class=\"sk-text-repr-fallback\"><pre>Pipeline(steps=[(&#x27;preprocessing&#x27;,\n",
       "                 ColumnTransformer(transformers=[(&#x27;categorical_impute&#x27;,\n",
       "                                                  Pipeline(steps=[(&#x27;imputer&#x27;,\n",
       "                                                                   SimpleImputer(missing_values=&lt;NA&gt;,\n",
       "                                                                                 strategy=&#x27;most_frequent&#x27;)),\n",
       "                                                                  (&#x27;encoder&#x27;,\n",
       "                                                                   OneHotEncoder(handle_unknown=&#x27;infrequent_if_exist&#x27;,\n",
       "                                                                                 min_frequency=150,\n",
       "                                                                                 sparse_output=False))]),\n",
       "                                                  [&#x27;Diet&#x27;, &#x27;Qualification&#x27;,\n",
       "                                                   &#x27;Subject&#x27;]),\n",
       "                                                 (&#x27;categorical_mul&#x27;,\n",
       "                                                  Pipeline(steps=[...\n",
       "                               grow_policy=None, importance_type=None,\n",
       "                               interaction_constraints=None,\n",
       "                               learning_rate=0.06712082655416732, max_bin=None,\n",
       "                               max_cat_threshold=None, max_cat_to_onehot=None,\n",
       "                               max_delta_step=None, max_depth=6,\n",
       "                               max_leaves=None, min_child_weight=1, missing=nan,\n",
       "                               monotone_constraints=None, multi_strategy=None,\n",
       "                               n_estimators=507, n_jobs=None,\n",
       "                               num_parallel_tree=None, random_state=None, ...))])</pre><b>In a Jupyter environment, please rerun this cell to show the HTML representation or trust the notebook. <br />On GitHub, the HTML representation is unable to render, please try loading this page with nbviewer.org.</b></div><div class=\"sk-container\" hidden><div class=\"sk-item sk-dashed-wrapped\"><div class=\"sk-label-container\"><div class=\"sk-label sk-toggleable\"><input class=\"sk-toggleable__control sk-hidden--visually\" id=\"sk-estimator-id-1\" type=\"checkbox\" ><label for=\"sk-estimator-id-1\" class=\"sk-toggleable__label sk-toggleable__label-arrow\">Pipeline</label><div class=\"sk-toggleable__content\"><pre>Pipeline(steps=[(&#x27;preprocessing&#x27;,\n",
       "                 ColumnTransformer(transformers=[(&#x27;categorical_impute&#x27;,\n",
       "                                                  Pipeline(steps=[(&#x27;imputer&#x27;,\n",
       "                                                                   SimpleImputer(missing_values=&lt;NA&gt;,\n",
       "                                                                                 strategy=&#x27;most_frequent&#x27;)),\n",
       "                                                                  (&#x27;encoder&#x27;,\n",
       "                                                                   OneHotEncoder(handle_unknown=&#x27;infrequent_if_exist&#x27;,\n",
       "                                                                                 min_frequency=150,\n",
       "                                                                                 sparse_output=False))]),\n",
       "                                                  [&#x27;Diet&#x27;, &#x27;Qualification&#x27;,\n",
       "                                                   &#x27;Subject&#x27;]),\n",
       "                                                 (&#x27;categorical_mul&#x27;,\n",
       "                                                  Pipeline(steps=[...\n",
       "                               grow_policy=None, importance_type=None,\n",
       "                               interaction_constraints=None,\n",
       "                               learning_rate=0.06712082655416732, max_bin=None,\n",
       "                               max_cat_threshold=None, max_cat_to_onehot=None,\n",
       "                               max_delta_step=None, max_depth=6,\n",
       "                               max_leaves=None, min_child_weight=1, missing=nan,\n",
       "                               monotone_constraints=None, multi_strategy=None,\n",
       "                               n_estimators=507, n_jobs=None,\n",
       "                               num_parallel_tree=None, random_state=None, ...))])</pre></div></div></div><div class=\"sk-serial\"><div class=\"sk-item sk-dashed-wrapped\"><div class=\"sk-label-container\"><div class=\"sk-label sk-toggleable\"><input class=\"sk-toggleable__control sk-hidden--visually\" id=\"sk-estimator-id-2\" type=\"checkbox\" ><label for=\"sk-estimator-id-2\" class=\"sk-toggleable__label sk-toggleable__label-arrow\">preprocessing: ColumnTransformer</label><div class=\"sk-toggleable__content\"><pre>ColumnTransformer(transformers=[(&#x27;categorical_impute&#x27;,\n",
       "                                 Pipeline(steps=[(&#x27;imputer&#x27;,\n",
       "                                                  SimpleImputer(missing_values=&lt;NA&gt;,\n",
       "                                                                strategy=&#x27;most_frequent&#x27;)),\n",
       "                                                 (&#x27;encoder&#x27;,\n",
       "                                                  OneHotEncoder(handle_unknown=&#x27;infrequent_if_exist&#x27;,\n",
       "                                                                min_frequency=150,\n",
       "                                                                sparse_output=False))]),\n",
       "                                 [&#x27;Diet&#x27;, &#x27;Qualification&#x27;, &#x27;Subject&#x27;]),\n",
       "                                (&#x27;categorical_mul&#x27;,\n",
       "                                 Pipeline(steps=[(&#x27;encoder&#x27;,\n",
       "                                                  OneHotEncoder(handle_u...\n",
       "                                 Pipeline(steps=[(&#x27;imputer&#x27;,\n",
       "                                                  SimpleImputer(missing_values=&lt;NA&gt;,\n",
       "                                                                strategy=&#x27;most_frequent&#x27;)),\n",
       "                                                 (&#x27;quantile_transform&#x27;,\n",
       "                                                  QuantileTransformer(output_distribution=&#x27;normal&#x27;))]),\n",
       "                                 [&#x27;Pressure&#x27;, &#x27;Satisfaction&#x27;,\n",
       "                                  &#x27;Financial Stress&#x27;]),\n",
       "                                (&#x27;numerical_transform&#x27;,\n",
       "                                 Pipeline(steps=[(&#x27;quantile_transform&#x27;,\n",
       "                                                  QuantileTransformer(output_distribution=&#x27;normal&#x27;))]),\n",
       "                                 [&#x27;Work/Study Hours&#x27;, &#x27;Age&#x27;])])</pre></div></div></div><div class=\"sk-parallel\"><div class=\"sk-parallel-item\"><div class=\"sk-item\"><div class=\"sk-label-container\"><div class=\"sk-label sk-toggleable\"><input class=\"sk-toggleable__control sk-hidden--visually\" id=\"sk-estimator-id-3\" type=\"checkbox\" ><label for=\"sk-estimator-id-3\" class=\"sk-toggleable__label sk-toggleable__label-arrow\">categorical_impute</label><div class=\"sk-toggleable__content\"><pre>[&#x27;Diet&#x27;, &#x27;Qualification&#x27;, &#x27;Subject&#x27;]</pre></div></div></div><div class=\"sk-serial\"><div class=\"sk-item\"><div class=\"sk-serial\"><div class=\"sk-item\"><div class=\"sk-estimator sk-toggleable\"><input class=\"sk-toggleable__control sk-hidden--visually\" id=\"sk-estimator-id-4\" type=\"checkbox\" ><label for=\"sk-estimator-id-4\" class=\"sk-toggleable__label sk-toggleable__label-arrow\">SimpleImputer</label><div class=\"sk-toggleable__content\"><pre>SimpleImputer(missing_values=&lt;NA&gt;, strategy=&#x27;most_frequent&#x27;)</pre></div></div></div><div class=\"sk-item\"><div class=\"sk-estimator sk-toggleable\"><input class=\"sk-toggleable__control sk-hidden--visually\" id=\"sk-estimator-id-5\" type=\"checkbox\" ><label for=\"sk-estimator-id-5\" class=\"sk-toggleable__label sk-toggleable__label-arrow\">OneHotEncoder</label><div class=\"sk-toggleable__content\"><pre>OneHotEncoder(handle_unknown=&#x27;infrequent_if_exist&#x27;, min_frequency=150,\n",
       "              sparse_output=False)</pre></div></div></div></div></div></div></div></div><div class=\"sk-parallel-item\"><div class=\"sk-item\"><div class=\"sk-label-container\"><div class=\"sk-label sk-toggleable\"><input class=\"sk-toggleable__control sk-hidden--visually\" id=\"sk-estimator-id-6\" type=\"checkbox\" ><label for=\"sk-estimator-id-6\" class=\"sk-toggleable__label sk-toggleable__label-arrow\">categorical_mul</label><div class=\"sk-toggleable__content\"><pre>[&#x27;City&#x27;, &#x27;Profession&#x27;, &#x27;Sleep&#x27;, &#x27;Name&#x27;]</pre></div></div></div><div class=\"sk-serial\"><div class=\"sk-item\"><div class=\"sk-serial\"><div class=\"sk-item\"><div class=\"sk-estimator sk-toggleable\"><input class=\"sk-toggleable__control sk-hidden--visually\" id=\"sk-estimator-id-7\" type=\"checkbox\" ><label for=\"sk-estimator-id-7\" class=\"sk-toggleable__label sk-toggleable__label-arrow\">OneHotEncoder</label><div class=\"sk-toggleable__content\"><pre>OneHotEncoder(handle_unknown=&#x27;infrequent_if_exist&#x27;, min_frequency=300,\n",
       "              sparse_output=False)</pre></div></div></div></div></div></div></div></div><div class=\"sk-parallel-item\"><div class=\"sk-item\"><div class=\"sk-label-container\"><div class=\"sk-label sk-toggleable\"><input class=\"sk-toggleable__control sk-hidden--visually\" id=\"sk-estimator-id-8\" type=\"checkbox\" ><label for=\"sk-estimator-id-8\" class=\"sk-toggleable__label sk-toggleable__label-arrow\">categorical_binary</label><div class=\"sk-toggleable__content\"><pre>[&#x27;Gender&#x27;, &#x27;Have you ever had suicidal thoughts ?&#x27;, &#x27;Family History of Mental Illness&#x27;]</pre></div></div></div><div class=\"sk-serial\"><div class=\"sk-item\"><div class=\"sk-serial\"><div class=\"sk-item\"><div class=\"sk-estimator sk-toggleable\"><input class=\"sk-toggleable__control sk-hidden--visually\" id=\"sk-estimator-id-9\" type=\"checkbox\" ><label for=\"sk-estimator-id-9\" class=\"sk-toggleable__label sk-toggleable__label-arrow\">OneHotEncoder</label><div class=\"sk-toggleable__content\"><pre>OneHotEncoder(drop=&#x27;if_binary&#x27;, sparse_output=False)</pre></div></div></div></div></div></div></div></div><div class=\"sk-parallel-item\"><div class=\"sk-item\"><div class=\"sk-label-container\"><div class=\"sk-label sk-toggleable\"><input class=\"sk-toggleable__control sk-hidden--visually\" id=\"sk-estimator-id-10\" type=\"checkbox\" ><label for=\"sk-estimator-id-10\" class=\"sk-toggleable__label sk-toggleable__label-arrow\">numerical_impute</label><div class=\"sk-toggleable__content\"><pre>[&#x27;Pressure&#x27;, &#x27;Satisfaction&#x27;, &#x27;Financial Stress&#x27;]</pre></div></div></div><div class=\"sk-serial\"><div class=\"sk-item\"><div class=\"sk-serial\"><div class=\"sk-item\"><div class=\"sk-estimator sk-toggleable\"><input class=\"sk-toggleable__control sk-hidden--visually\" id=\"sk-estimator-id-11\" type=\"checkbox\" ><label for=\"sk-estimator-id-11\" class=\"sk-toggleable__label sk-toggleable__label-arrow\">SimpleImputer</label><div class=\"sk-toggleable__content\"><pre>SimpleImputer(missing_values=&lt;NA&gt;, strategy=&#x27;most_frequent&#x27;)</pre></div></div></div><div class=\"sk-item\"><div class=\"sk-estimator sk-toggleable\"><input class=\"sk-toggleable__control sk-hidden--visually\" id=\"sk-estimator-id-12\" type=\"checkbox\" ><label for=\"sk-estimator-id-12\" class=\"sk-toggleable__label sk-toggleable__label-arrow\">QuantileTransformer</label><div class=\"sk-toggleable__content\"><pre>QuantileTransformer(output_distribution=&#x27;normal&#x27;)</pre></div></div></div></div></div></div></div></div><div class=\"sk-parallel-item\"><div class=\"sk-item\"><div class=\"sk-label-container\"><div class=\"sk-label sk-toggleable\"><input class=\"sk-toggleable__control sk-hidden--visually\" id=\"sk-estimator-id-13\" type=\"checkbox\" ><label for=\"sk-estimator-id-13\" class=\"sk-toggleable__label sk-toggleable__label-arrow\">numerical_transform</label><div class=\"sk-toggleable__content\"><pre>[&#x27;Work/Study Hours&#x27;, &#x27;Age&#x27;]</pre></div></div></div><div class=\"sk-serial\"><div class=\"sk-item\"><div class=\"sk-serial\"><div class=\"sk-item\"><div class=\"sk-estimator sk-toggleable\"><input class=\"sk-toggleable__control sk-hidden--visually\" id=\"sk-estimator-id-14\" type=\"checkbox\" ><label for=\"sk-estimator-id-14\" class=\"sk-toggleable__label sk-toggleable__label-arrow\">QuantileTransformer</label><div class=\"sk-toggleable__content\"><pre>QuantileTransformer(output_distribution=&#x27;normal&#x27;)</pre></div></div></div></div></div></div></div></div></div></div><div class=\"sk-item\"><div class=\"sk-estimator sk-toggleable\"><input class=\"sk-toggleable__control sk-hidden--visually\" id=\"sk-estimator-id-15\" type=\"checkbox\" ><label for=\"sk-estimator-id-15\" class=\"sk-toggleable__label sk-toggleable__label-arrow\">XGBClassifier</label><div class=\"sk-toggleable__content\"><pre>XGBClassifier(base_score=None, booster=&#x27;gbtree&#x27;, callbacks=None,\n",
       "              colsample_bylevel=None, colsample_bynode=None,\n",
       "              colsample_bytree=0.21856775071565918, device=None,\n",
       "              early_stopping_rounds=None, enable_categorical=False,\n",
       "              eval_metric=None, feature_types=None, gamma=0.08349988589233065,\n",
       "              grow_policy=None, importance_type=None,\n",
       "              interaction_constraints=None, learning_rate=0.06712082655416732,\n",
       "              max_bin=None, max_cat_threshold=None, max_cat_to_onehot=None,\n",
       "              max_delta_step=None, max_depth=6, max_leaves=None,\n",
       "              min_child_weight=1, missing=nan, monotone_constraints=None,\n",
       "              multi_strategy=None, n_estimators=507, n_jobs=None,\n",
       "              num_parallel_tree=None, random_state=None, ...)</pre></div></div></div></div></div></div></div>"
      ],
      "text/plain": [
       "Pipeline(steps=[('preprocessing',\n",
       "                 ColumnTransformer(transformers=[('categorical_impute',\n",
       "                                                  Pipeline(steps=[('imputer',\n",
       "                                                                   SimpleImputer(missing_values=<NA>,\n",
       "                                                                                 strategy='most_frequent')),\n",
       "                                                                  ('encoder',\n",
       "                                                                   OneHotEncoder(handle_unknown='infrequent_if_exist',\n",
       "                                                                                 min_frequency=150,\n",
       "                                                                                 sparse_output=False))]),\n",
       "                                                  ['Diet', 'Qualification',\n",
       "                                                   'Subject']),\n",
       "                                                 ('categorical_mul',\n",
       "                                                  Pipeline(steps=[...\n",
       "                               grow_policy=None, importance_type=None,\n",
       "                               interaction_constraints=None,\n",
       "                               learning_rate=0.06712082655416732, max_bin=None,\n",
       "                               max_cat_threshold=None, max_cat_to_onehot=None,\n",
       "                               max_delta_step=None, max_depth=6,\n",
       "                               max_leaves=None, min_child_weight=1, missing=nan,\n",
       "                               monotone_constraints=None, multi_strategy=None,\n",
       "                               n_estimators=507, n_jobs=None,\n",
       "                               num_parallel_tree=None, random_state=None, ...))])"
      ]
     },
     "execution_count": 144,
     "metadata": {},
     "output_type": "execute_result"
    }
   ],
   "source": [
    "pipe_xgb = Pipeline(\n",
    "    [(\"preprocessing\", ct), (\"model\", XGBClassifier(**best_params, booster=\"gbtree\"))]\n",
    ")\n",
    "\n",
    "pipe_xgb.fit(X, y)"
   ]
  },
  {
   "cell_type": "code",
   "execution_count": 148,
   "metadata": {
    "execution": {
     "iopub.execute_input": "2024-11-17T20:18:35.586457Z",
     "iopub.status.busy": "2024-11-17T20:18:35.585417Z",
     "iopub.status.idle": "2024-11-17T20:18:37.161260Z",
     "shell.execute_reply": "2024-11-17T20:18:37.160000Z",
     "shell.execute_reply.started": "2024-11-17T20:18:35.586400Z"
    },
    "trusted": true
   },
   "outputs": [],
   "source": [
    "# submission\n",
    "test_df[\"pred\"] = pipe_xgb.predict(test_df)\n",
    "test_df.loc[:, [\"pred\"]].to_csv(\"submission.csv\")"
   ]
  },
  {
   "cell_type": "markdown",
   "metadata": {},
   "source": [
    "### RandomSearchCV"
   ]
  },
  {
   "cell_type": "code",
   "execution_count": 1040,
   "metadata": {},
   "outputs": [],
   "source": [
    "# clf_xgb = Pipeline([\n",
    "#     ('preprocessing', ct),\n",
    "#     ('model', XGBClassifier())\n",
    "# ])\n",
    "# param_dist = {\n",
    "#     \"model__n_estimators\": stats.randint(100, 500),\n",
    "#     \"model__learning_rate\": stats.uniform(0.01, 0.8),\n",
    "#     \"model__subsample\": stats.uniform(0.2, 0.8),\n",
    "#     \"model__max_depth\": stats.randint(1, 10),\n",
    "#     \"model__colsample_bytree\": stats.uniform(0.1, 1),\n",
    "#     \"model__min_child_weight\": [1, 2, 3, 4],\n",
    "# }\n",
    "\n",
    "# numFolds = 5\n",
    "# kfold_5 = RepeatedStratifiedKFold(n_splits=numFolds, n_repeats=5)\n",
    "\n",
    "# clf = RandomizedSearchCV(\n",
    "#     clf_xgb,\n",
    "#     param_distributions=param_dist,\n",
    "#     cv=kfold_5,\n",
    "#     n_iter=100,\n",
    "#     scoring=\"roc_auc\",\n",
    "#     error_score=0,\n",
    "#     verbose=3,\n",
    "#     n_jobs=-1,\n",
    "# )\n",
    "\n",
    "# clf.fit(X, y)"
   ]
  }
 ],
 "metadata": {
  "kaggle": {
   "accelerator": "none",
   "dataSources": [
    {
     "databundleVersionId": 10008389,
     "sourceId": 84895,
     "sourceType": "competition"
    }
   ],
   "dockerImageVersionId": 30786,
   "isGpuEnabled": false,
   "isInternetEnabled": true,
   "language": "python",
   "sourceType": "notebook"
  },
  "kernelspec": {
   "display_name": "for_ml",
   "language": "python",
   "name": "python3"
  },
  "language_info": {
   "codemirror_mode": {
    "name": "ipython",
    "version": 3
   },
   "file_extension": ".py",
   "mimetype": "text/x-python",
   "name": "python",
   "nbconvert_exporter": "python",
   "pygments_lexer": "ipython3",
   "version": "3.10.14"
  }
 },
 "nbformat": 4,
 "nbformat_minor": 4
}
