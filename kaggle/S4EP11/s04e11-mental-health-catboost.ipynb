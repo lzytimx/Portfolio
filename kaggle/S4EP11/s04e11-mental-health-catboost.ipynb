{
 "cells": [
  {
   "cell_type": "code",
   "execution_count": 184,
   "metadata": {
    "execution": {
     "iopub.execute_input": "2024-11-17T19:15:07.009765Z",
     "iopub.status.busy": "2024-11-17T19:15:07.009240Z",
     "iopub.status.idle": "2024-11-17T19:15:07.017508Z",
     "shell.execute_reply": "2024-11-17T19:15:07.016139Z",
     "shell.execute_reply.started": "2024-11-17T19:15:07.009720Z"
    },
    "trusted": true
   },
   "outputs": [],
   "source": [
    "import os\n",
    "import numpy as np\n",
    "import pandas as pd\n",
    "import matplotlib.pyplot as plt\n",
    "import seaborn as sns\n",
    "from scipy.stats import mannwhitneyu\n",
    "from scipy import stats\n",
    "\n",
    "# Model\n",
    "from sklearn.preprocessing import OneHotEncoder, StandardScaler, QuantileTransformer\n",
    "from sklearn.impute import SimpleImputer\n",
    "from sklearn.compose import ColumnTransformer\n",
    "from sklearn.pipeline import Pipeline\n",
    "from sklearn.ensemble import RandomForestClassifier\n",
    "from sklearn.model_selection import GridSearchCV, train_test_split, RandomizedSearchCV, KFold, RepeatedStratifiedKFold, StratifiedKFold, cross_val_score\n",
    "from xgboost import XGBClassifier\n",
    "from catboost import CatBoostClassifier, Pool, cv\n",
    "\n",
    "# hyperparameter tuning\n",
    "import optuna"
   ]
  },
  {
   "cell_type": "code",
   "execution_count": 375,
   "metadata": {
    "execution": {
     "iopub.execute_input": "2024-11-17T19:19:43.511037Z",
     "iopub.status.busy": "2024-11-17T19:19:43.510565Z",
     "iopub.status.idle": "2024-11-17T19:19:44.488785Z",
     "shell.execute_reply": "2024-11-17T19:19:44.487226Z",
     "shell.execute_reply.started": "2024-11-17T19:19:43.510996Z"
    },
    "trusted": true
   },
   "outputs": [],
   "source": [
    "try:\n",
    "    kaggle_train_file_loc = \"../input/playground-series-s4e11/train.csv\"\n",
    "    kaggle_test_file_loc = \"../input/playground-series-s4e11/test.csv\"\n",
    "    df = pd.read_csv(kaggle_train_file_loc, index_col=0)\n",
    "    df_test = pd.read_csv(kaggle_test_file_loc, index_col=0)\n",
    "    \n",
    "except:\n",
    "    github_train_file_loc = \"./dataset/train.csv\"\n",
    "    github_test_file_loc = \"./dataset/test.csv\"\n",
    "    df = pd.read_csv(github_train_file_loc, index_col=0)\n",
    "    df_test = pd.read_csv(github_test_file_loc, index_col=0)"
   ]
  },
  {
   "cell_type": "markdown",
   "metadata": {},
   "source": [
    "# General Checks on the dataset"
   ]
  },
  {
   "cell_type": "code",
   "execution_count": 72,
   "metadata": {
    "execution": {
     "iopub.execute_input": "2024-11-17T19:20:14.045888Z",
     "iopub.status.busy": "2024-11-17T19:20:14.045399Z",
     "iopub.status.idle": "2024-11-17T19:20:14.053649Z",
     "shell.execute_reply": "2024-11-17T19:20:14.052250Z",
     "shell.execute_reply.started": "2024-11-17T19:20:14.045844Z"
    },
    "trusted": true
   },
   "outputs": [
    {
     "data": {
      "text/plain": [
       "(140700, 19)"
      ]
     },
     "execution_count": 72,
     "metadata": {},
     "output_type": "execute_result"
    }
   ],
   "source": [
    "df.shape"
   ]
  },
  {
   "cell_type": "code",
   "execution_count": 73,
   "metadata": {
    "execution": {
     "iopub.execute_input": "2024-11-17T19:20:15.787808Z",
     "iopub.status.busy": "2024-11-17T19:20:15.786881Z",
     "iopub.status.idle": "2024-11-17T19:20:15.805848Z",
     "shell.execute_reply": "2024-11-17T19:20:15.804277Z",
     "shell.execute_reply.started": "2024-11-17T19:20:15.787758Z"
    },
    "trusted": true
   },
   "outputs": [
    {
     "data": {
      "text/plain": [
       "Depression\n",
       "0    0.818287\n",
       "1    0.181713\n",
       "Name: count, dtype: float64"
      ]
     },
     "execution_count": 73,
     "metadata": {},
     "output_type": "execute_result"
    }
   ],
   "source": [
    "df[\"Depression\"].value_counts() / df.shape[0]"
   ]
  },
  {
   "cell_type": "code",
   "execution_count": 74,
   "metadata": {
    "execution": {
     "iopub.execute_input": "2024-11-17T19:20:19.256153Z",
     "iopub.status.busy": "2024-11-17T19:20:19.255722Z",
     "iopub.status.idle": "2024-11-17T19:20:19.335700Z",
     "shell.execute_reply": "2024-11-17T19:20:19.334187Z",
     "shell.execute_reply.started": "2024-11-17T19:20:19.256115Z"
    },
    "trusted": true
   },
   "outputs": [
    {
     "data": {
      "text/plain": [
       "Name                                          0\n",
       "Gender                                        0\n",
       "Age                                           0\n",
       "City                                          0\n",
       "Working Professional or Student               0\n",
       "Profession                                36630\n",
       "Academic Pressure                        112803\n",
       "Work Pressure                             27918\n",
       "CGPA                                     112802\n",
       "Study Satisfaction                       112803\n",
       "Job Satisfaction                          27910\n",
       "Sleep Duration                                0\n",
       "Dietary Habits                                4\n",
       "Degree                                        2\n",
       "Have you ever had suicidal thoughts ?         0\n",
       "Work/Study Hours                              0\n",
       "Financial Stress                              4\n",
       "Family History of Mental Illness              0\n",
       "Depression                                    0\n",
       "dtype: int64"
      ]
     },
     "execution_count": 74,
     "metadata": {},
     "output_type": "execute_result"
    }
   ],
   "source": [
    "df.isna().sum()"
   ]
  },
  {
   "cell_type": "code",
   "execution_count": 75,
   "metadata": {
    "execution": {
     "iopub.execute_input": "2024-11-17T19:20:23.492235Z",
     "iopub.status.busy": "2024-11-17T19:20:23.491786Z",
     "iopub.status.idle": "2024-11-17T19:20:23.583053Z",
     "shell.execute_reply": "2024-11-17T19:20:23.581670Z",
     "shell.execute_reply.started": "2024-11-17T19:20:23.492196Z"
    },
    "trusted": true
   },
   "outputs": [
    {
     "name": "stdout",
     "output_type": "stream",
     "text": [
      "<class 'pandas.core.frame.DataFrame'>\n",
      "Index: 140700 entries, 0 to 140699\n",
      "Data columns (total 19 columns):\n",
      " #   Column                                 Non-Null Count   Dtype  \n",
      "---  ------                                 --------------   -----  \n",
      " 0   Name                                   140700 non-null  object \n",
      " 1   Gender                                 140700 non-null  object \n",
      " 2   Age                                    140700 non-null  float64\n",
      " 3   City                                   140700 non-null  object \n",
      " 4   Working Professional or Student        140700 non-null  object \n",
      " 5   Profession                             104070 non-null  object \n",
      " 6   Academic Pressure                      27897 non-null   float64\n",
      " 7   Work Pressure                          112782 non-null  float64\n",
      " 8   CGPA                                   27898 non-null   float64\n",
      " 9   Study Satisfaction                     27897 non-null   float64\n",
      " 10  Job Satisfaction                       112790 non-null  float64\n",
      " 11  Sleep Duration                         140700 non-null  object \n",
      " 12  Dietary Habits                         140696 non-null  object \n",
      " 13  Degree                                 140698 non-null  object \n",
      " 14  Have you ever had suicidal thoughts ?  140700 non-null  object \n",
      " 15  Work/Study Hours                       140700 non-null  float64\n",
      " 16  Financial Stress                       140696 non-null  float64\n",
      " 17  Family History of Mental Illness       140700 non-null  object \n",
      " 18  Depression                             140700 non-null  int64  \n",
      "dtypes: float64(8), int64(1), object(10)\n",
      "memory usage: 21.5+ MB\n"
     ]
    }
   ],
   "source": [
    "df.info()"
   ]
  },
  {
   "cell_type": "code",
   "execution_count": 76,
   "metadata": {},
   "outputs": [],
   "source": [
    "# X_train, X_valid, X_test, X_valid = train_test_split()"
   ]
  },
  {
   "cell_type": "markdown",
   "metadata": {},
   "source": [
    "# Building a Preprocessing pipeline"
   ]
  },
  {
   "cell_type": "markdown",
   "metadata": {},
   "source": [
    "1. Combine Profession\n",
    "2. Combine Work + Academic Pressure\n",
    "3. Study + Job Satisfaction\n",
    "4. Clean Sleep Duration\n",
    "5. Clean Degree\n",
    "6. Separate Degree into Qualification and Field of Study"
   ]
  },
  {
   "cell_type": "code",
   "execution_count": 379,
   "metadata": {
    "execution": {
     "iopub.execute_input": "2024-11-17T19:43:28.174546Z",
     "iopub.status.busy": "2024-11-17T19:43:28.174028Z",
     "iopub.status.idle": "2024-11-17T19:43:28.205321Z",
     "shell.execute_reply": "2024-11-17T19:43:28.203446Z",
     "shell.execute_reply.started": "2024-11-17T19:43:28.174500Z"
    },
    "trusted": true
   },
   "outputs": [],
   "source": [
    "def combine_profession(row):\n",
    "    if (row[\"Working Professional or Student\"] != 'Student') and (pd.isna(row[\"Profession\"])):\n",
    "        # We make a huge assumption that working professionals with missing professions are unemployed.\n",
    "        return 'Unemployed'\n",
    "    elif row[\"Working Professional or Student\"] != \"Student\":\n",
    "        return row[\"Profession\"]\n",
    "    else:\n",
    "        return \"Student\"\n",
    "\n",
    "def combine_pressure(row):\n",
    "    # Idea is to reduce the number of missing data since both columns are complementary.\n",
    "    # Note that despite combining there are still rows that contain missing values and we will rely on simple imputation to fill missing values\n",
    "    if pd.notna(row[\"Academic Pressure\"]) and pd.isna(row[\"Work Pressure\"]):\n",
    "        return row[\"Academic Pressure\"]\n",
    "    elif pd.isna(row[\"Academic Pressure\"]) and pd.notna(row[\"Work Pressure\"]):\n",
    "        return row[\"Work Pressure\"]\n",
    "\n",
    "def combine_satisfaction(row):\n",
    "    # Idea is to reduce the number of missing data since both columns are complementary.\n",
    "    # Note that despite combining there are still rows that contain missing values and we will rely on simple imputation to fill missing values\n",
    "    \n",
    "    if pd.notna(row[\"Study Satisfaction\"]) and pd.isna(row[\"Job Satisfaction\"]):\n",
    "        return row[\"Study Satisfaction\"]\n",
    "    elif pd.isna(row[\"Study Satisfaction\"]) and pd.notna(row[\"Job Satisfaction\"]):\n",
    "        return row[\"Job Satisfaction\"]\n",
    "\n",
    "def clean_sleep_duration(row):\n",
    "    if row[\"Sleep Duration\"] in [\"Less than 5 hours\", \"3-4 hours\", \"1-3 hours\", \"1-2 hours\",'2-3 hours', '3-4 hours', '4-5 hours']:\n",
    "        return \"Less than 5 hours\"\n",
    "    elif row[\"Sleep Duration\"] in [\"9-11 hours\", '10-11 hours', '8-9 hours', \"More than 8 hours\"]:\n",
    "        return \"More than 8 hours\"\n",
    "    elif row[\"Sleep Duration\"] in [\"6-8 hours\", \"5-6 hours\", \"7-8 hours\", \"6-8 hours\", '6-7 hours', '8 hours']:\n",
    "        return \"5 to 8 hours\"\n",
    "    else:\n",
    "        return \"Others\"\n",
    "\n",
    "# def clean_sleep_duration(row):\n",
    "#     sleep={\n",
    "#             \"More than 8 hours\":9,\n",
    "#             'Less than 5 hours':4,\n",
    "#             '5-6 hours':5.5,\n",
    "#             '7-8 hours':7.5,\n",
    "#             '1-2 hours':1.5,\n",
    "#             '6-8 hours':7,\n",
    "#             '4-6 hours':5,\n",
    "#             '6-7 hours':6.5,\n",
    "#             '10-11 hours':10.5,\n",
    "#             '8-9 hours':8.5,\n",
    "#             '9-11 hours':10,\n",
    "#             '2-3 hours':2.5,\n",
    "#             '3-4 hours':3.5,\n",
    "#             'Moderate':6,\n",
    "#             '4-5 hours':4.5,\n",
    "#             '9-6 hours':7.5,\n",
    "#             '1-3 hours':2,\n",
    "#             '1-6 hours':4,\n",
    "#             '8 hours':8,\n",
    "#             '10-6 hours':8,\n",
    "#             'Unhealthy':3,\n",
    "#             'Work_Study_Hours':6,\n",
    "#             '3-6 hours':3.5,\n",
    "#             '9-5':7,\n",
    "#             '9-5 hours':7,\n",
    "#     }\n",
    "#     return sleep.get(row[\"Sleep Duration\"])\n",
    "\n",
    "\n",
    "def clean_degree(row):\n",
    "    degree = {\n",
    "        \"BCom\": \"B.Com\",\n",
    "        \"B.Com\": \"B.Com\",\n",
    "        \"B.Comm\": \"B.Com\",\n",
    "        \"B.Tech\": \"B.Tech\",\n",
    "        \"BTech\": \"B.Tech\",\n",
    "        \"B.T\": \"B.Tech\",\n",
    "        \"BSc\": \"B.Sc\",\n",
    "        \"B.Sc\": \"B.Sc\",\n",
    "        \"Bachelor of Science\": \"B.Sc\",\n",
    "        \"BArch\": \"B.Arch\",\n",
    "        \"B.Arch\": \"B.Arch\",\n",
    "        \"BA\": \"B.A\",\n",
    "        \"B.A\": \"B.A\",\n",
    "        \"BBA\": \"BBA\",\n",
    "        \"BB\": \"BBA\",\n",
    "        \"BCA\": \"BCA\",\n",
    "        \"BE\": \"BE\",\n",
    "        \"BEd\": \"B.Ed\",\n",
    "        \"B.Ed\": \"B.Ed\",\n",
    "        \"BPharm\": \"B.Pharm\",\n",
    "        \"B.Pharm\": \"B.Pharm\",\n",
    "        \"BHM\": \"BHM\",\n",
    "        \"LLB\": \"LLB\",\n",
    "        \"LL B\": \"LLB\",\n",
    "        \"LL BA\": \"LLB\",\n",
    "        \"LL.Com\": \"LLB\",\n",
    "        \"LLCom\": \"LLB\",\n",
    "        \"MCom\": \"M.Com\",\n",
    "        \"M.Com\": \"M.Com\",\n",
    "        \"M.Tech\": \"M.Tech\",\n",
    "        \"MTech\": \"M.Tech\",\n",
    "        \"M_Tech\": \"M.Tech\", \n",
    "        \"M.T\": \"M.Tech\",\n",
    "        \"MSc\": \"M.Sc\",\n",
    "        \"M.Sc\": \"M.Sc\",\n",
    "        \"Master of Science\": \"M.Sc\",\n",
    "        \"MBA\": \"MBA\",\n",
    "        \"MCA\": \"MCA\",\n",
    "        \"MD\": \"MD\",\n",
    "        \"ME\": \"ME\",\n",
    "        \"MEd\": \"M.Ed\",\n",
    "        \"M.Ed\": \"M.Ed\",\n",
    "        \"MArch\": \"M.Arch\",\n",
    "        \"M.Arch\": \"M.Arch\",\n",
    "        \"MPharm\": \"M.Pharm\",\n",
    "        \"M.Pharm\": \"M.Pharm\",\n",
    "        \"MA\": \"MA\",\n",
    "        \"M.A\": \"MA\",\n",
    "        \"MHM\": \"MHM\",\n",
    "        \"MPA\": \"MPA\",\n",
    "        \"LLM\": \"LLM\",\n",
    "        \"PhD\": \"PhD\",\n",
    "        \"MBBS\": \"MBBS\",\n",
    "        \"CA\": \"CA\",\n",
    "        \"Class 12\": \"Class 12\",\n",
    "        \"12th\": \"Class 12\",\n",
    "        \"Class 11\": \"Class 11\",\n",
    "        \"11th\": \"Class 11\",\n",
    "    }\n",
    "    return degree.get(row[\"Degree\"])\n",
    "\n",
    "def create_qualification(row):\n",
    "    if row[\"Degree\"] in [\"Class 12\", \"Class 11\"]:\n",
    "        return \"High School\"\n",
    "    elif row[\"Degree\"] in [\"B.Ed\", \"B.Arch\", \"B.Com\", \"B.Pharm\", \"BCA\", \"BBA\", \"B.Sc\", \"LLB\", \"B.Tech\", \"B.A\", \"BE\", \"MBBS\", \"BHM\"]:\n",
    "        return \"Bachelor\"\n",
    "    elif row[\"Degree\"] in [\"M.Ed\", \"MCA\", \"LLM\", \"M.Sc\", \"M.Tech\", \"M.Pharm\", \"MBA\", \"ME\", \"MD\", \"M.Com\", \"MA\", \"M.Arch\", \"MPA\", \"MHM\"]:\n",
    "        return \"Masters\"\n",
    "    elif row[\"Degree\"] == \"PhD\":\n",
    "        return \"PhD\"\n",
    "\n",
    "def create_field_of_study(row):\n",
    "    if row[\"Degree\"] in [\"Class 12\", \"Class 11\", \"MPA\"]:\n",
    "        # MPA is given an unknown here because there is only 1 record of MPA\n",
    "        return \"General\"\n",
    "    elif row[\"Degree\"] in [\"PhD\"]:\n",
    "        return \"Specialist\"\n",
    "    elif row[\"Degree\"] in [\"B.Ed\", \"M.Ed\"]:\n",
    "        return \"Education\"\n",
    "    elif row[\"Degree\"] in [\"B.Arch\", \"M.Arch\"]:\n",
    "        return \"Architecture\"\n",
    "    elif row[\"Degree\"] in [\"B.Com\", \"M.Com\"]:\n",
    "        return \"Commerce\"\n",
    "    elif row[\"Degree\"] in [\"B.Pharm\", \"M.Pharm\"]:\n",
    "        return \"Pharmacy\"\n",
    "    elif row[\"Degree\"] in [\"BCA\", \"MCA\"]:\n",
    "        return \"Computer Application\"\n",
    "    elif row[\"Degree\"] in [\"BBA\", \"MBA\"]:\n",
    "        return \"Business Administration\"    \n",
    "    elif row[\"Degree\"] in [\"B.Sc\", \"M.Sc\"]:\n",
    "        return \"Science\"\n",
    "    elif row[\"Degree\"] in [\"B.Sc\", \"M.Sc\"]:\n",
    "        return \"Science\"\n",
    "    elif row[\"Degree\"] in [\"LLB\", \"LLM\"]:\n",
    "        return \"Law\"\n",
    "    elif row[\"Degree\"] in [\"B.Tech\", \"M.Tech\"]:\n",
    "        return \"Technology\"\n",
    "    elif row[\"Degree\"] in [\"BHM\", \"MHM\"]:\n",
    "        return \"Hospitality\"\n",
    "    elif row[\"Degree\"] in [\"B.A\", \"MA\"]:\n",
    "        return \"Arts\"\n",
    "    elif row[\"Degree\"] in [\"ME\", \"BE\"]:\n",
    "        return \"Engineering\"\n",
    "    elif row[\"Degree\"] in [\"MD\", \"MBBS\"]:\n",
    "        return \"Medicine\"\n",
    "\n",
    "\n",
    "# def clean_diet(row):\n",
    "#     diet = {\n",
    "#         \"More Healthy\": 0,\n",
    "#         \"Healthy\": 1,\n",
    "#         \"Less than Healthy\": 2,\n",
    "#         \"Less Healthy\": 2,\n",
    "#         \"Moderate\": 3,\n",
    "#         \"Unhealthy\": 4,\n",
    "#         \"No Healthy\": 4,\n",
    "#     }\n",
    "#     if diet.get(row[\"Dietary Habits\"]):\n",
    "#         return diet.get(row[\"Dietary Habits\"])\n",
    "#     else:\n",
    "#         return pd.NA\n",
    "\n",
    "def manipulate_dataframe(df):\n",
    "    result = df.copy()\n",
    "    result[\"Profession\"] = result.apply(combine_profession, axis=1)\n",
    "    result[\"Pressure\"] = result.apply(combine_pressure, axis=1)\n",
    "    result[\"Satisfaction\"] = result.apply(combine_satisfaction, axis=1)\n",
    "    result[\"Sleep\"] = result.apply(clean_sleep_duration, axis=1)\n",
    "    # result[\"Diet\"] = result.apply(clean_diet, axis=1)\n",
    "    result[\"Degree\"] = result.apply(clean_degree, axis=1)\n",
    "    result[\"Qualification\"] = result.apply(create_qualification, axis=1)\n",
    "    result[\"Subject\"] = result.apply(create_field_of_study, axis=1)\n",
    "\n",
    "    # # this one omits the dietary habits\n",
    "    # result = result.drop([\"Name\", 'Working Professional or Student', \"Academic Pressure\", \"Work Pressure\", \"Study Satisfaction\", \"Job Satisfaction\", \"Sleep Duration\", \"CGPA\", \"Dietary Habits\", \"Degree\"], axis=1)\n",
    "    \n",
    "    # # this variant includes Dietary Habits and Name\n",
    "    # result = result.rename(columns={\"Dietary Habits\":\"Diet\"})\n",
    "    # result = result.drop(['Working Professional or Student', \"Academic Pressure\", \"Work Pressure\", \"Study Satisfaction\", \"Job Satisfaction\", \"Sleep Duration\", \"CGPA\", \"Degree\"], axis=1)\n",
    "\n",
    "    # # This variant includes Dietary Habits but omits name\n",
    "    result = result.rename(columns={\"Dietary Habits\":\"Diet\"})\n",
    "    result = result.drop([\"Name\", 'Working Professional or Student', \"Academic Pressure\", \"Work Pressure\", \"Study Satisfaction\", \"Job Satisfaction\", \"Sleep Duration\", \"CGPA\", \"Degree\"], axis=1)\n",
    "\n",
    "    return result"
   ]
  },
  {
   "cell_type": "code",
   "execution_count": 384,
   "metadata": {
    "execution": {
     "iopub.execute_input": "2024-11-17T19:54:16.576860Z",
     "iopub.status.busy": "2024-11-17T19:54:16.576125Z",
     "iopub.status.idle": "2024-11-17T19:54:34.397892Z",
     "shell.execute_reply": "2024-11-17T19:54:34.396658Z",
     "shell.execute_reply.started": "2024-11-17T19:54:16.576801Z"
    },
    "trusted": true
   },
   "outputs": [],
   "source": [
    "prep_df = manipulate_dataframe(df)\n",
    "X = prep_df.drop(columns=[\"Depression\"])\n",
    "y = prep_df.loc[:, \"Depression\"]\n",
    "\n",
    "# X_train, X_valid, y_train, y_valid = train_test_split(X, y, test_size=0.33, random_state=42)"
   ]
  },
  {
   "cell_type": "code",
   "execution_count": 387,
   "metadata": {},
   "outputs": [],
   "source": [
    "# categorical values, require imputation, one hot encoding\n",
    "cat_multiple_impute_ohe_list = [\"Diet\", \"Qualification\", \"Subject\"]\n",
    "cat_multiple_impute_ohe_pipeline = Pipeline([\n",
    "    ('imputer', SimpleImputer(missing_values=pd.NA, strategy='most_frequent')),\n",
    "])\n",
    "\n",
    "# numerical values, require imputation, quantile transform\n",
    "num_qtrns_list = [\"Work/Study Hours\", \"Age\"]\n",
    "num_impute_qtransform_pipeline = Pipeline([\n",
    "    ('imputer', SimpleImputer(missing_values=pd.NA, strategy='most_frequent')),\n",
    "    ('quantile_transform', StandardScaler())\n",
    "])\n",
    "\n",
    "# numerical values, no imputation, quantile transform\n",
    "num_impute_qtranse_list = [\"Pressure\",\"Satisfaction\",\"Financial Stress\"]\n",
    "num_qtransform_pipeline = Pipeline([\n",
    "    ('imputer', SimpleImputer(missing_values=pd.NA, strategy='most_frequent')),\n",
    "    ('quantile_transform', StandardScaler())\n",
    "])\n",
    "\n",
    "ct = ColumnTransformer([\n",
    "    ('categorical_impute', cat_multiple_impute_ohe_pipeline, cat_multiple_impute_ohe_list),\n",
    "    ('numerical_impute', num_impute_qtransform_pipeline, num_impute_qtranse_list),\n",
    "    ('numerical_transform', num_qtransform_pipeline, num_qtrns_list)\n",
    "], remainder='passthrough')"
   ]
  },
  {
   "cell_type": "code",
   "execution_count": 392,
   "metadata": {},
   "outputs": [],
   "source": [
    "X_prep = pd.DataFrame(ct.fit_transform(X), columns=ct.get_feature_names_out())\n",
    "\n",
    "col_names = []\n",
    "for i in ct.get_feature_names_out():\n",
    "    col_names.append(i.split(\"__\")[1])\n",
    "\n",
    "X_prep.columns = col_names"
   ]
  },
  {
   "cell_type": "code",
   "execution_count": null,
   "metadata": {},
   "outputs": [],
   "source": []
  },
  {
   "cell_type": "code",
   "execution_count": 394,
   "metadata": {},
   "outputs": [],
   "source": [
    "cat_features = [\n",
    "    \"Diet\",\n",
    "    \"Qualification\",\n",
    "    \"Subject\",\n",
    "    \"Gender\",\n",
    "    \"Have you ever had suicidal thoughts ?\",\n",
    "    \"Family History of Mental Illness\",\n",
    "    \"City\",\n",
    "    \"Profession\",\n",
    "    \"Sleep\",\n",
    "]\n",
    "\n",
    "train_pool = Pool(X_prep, y, cat_features=cat_features)"
   ]
  },
  {
   "cell_type": "markdown",
   "metadata": {},
   "source": [
    "### Optuna"
   ]
  },
  {
   "cell_type": "code",
   "execution_count": 398,
   "metadata": {},
   "outputs": [],
   "source": [
    "def objective(trial):\n",
    "    X_train, X_valid, y_train, y_valid = train_test_split(X_prep, y, test_size=0.1)\n",
    "\n",
    "    params = {\n",
    "        \"loss_function\": \"Logloss\",\n",
    "        \"depth\": trial.suggest_int(\"depth\", 4, 12),\n",
    "        \"learning_rate\": trial.suggest_float(\"learning_rate\", 0.01, 0.9),\n",
    "        \"iterations\": trial.suggest_int(\"iterations\", 100, 1500),\n",
    "        \"l2_leaf_reg\": trial.suggest_float(\"l2_leaf_reg\", 1, 10),\n",
    "        \"random_strength\": trial.suggest_float(\"random_strength\", 0.1, 10),\n",
    "        \"bagging_temperature\": trial.suggest_float(\"bagging_temperature\", 0, 1),\n",
    "        \"border_count\": trial.suggest_int(\"border_count\", 32, 255),\n",
    "        \"early_stopping_rounds\": trial.suggest_int(\"early_stopping_rounds\", 50, 51),\n",
    "        # \"custom_loss\": trial.suggest_categorical(\"custom_loss\", [\"AUC\"])\n",
    "        # \"grow_policy\": trial.suggest_categorical(\"grow_policy\", [\"SymmetricTree\", \"Depthwise\", \"Lossguide\"])\n",
    "    }\n",
    "\n",
    "    # processed_X = ct.fit_transform(X)\n",
    "    train_pool = Pool(X_train, y_train, cat_features=cat_features)\n",
    "    valid_pool = Pool(X_valid, y_valid, cat_features=cat_features)\n",
    "\n",
    "    model = CatBoostClassifier(**params)\n",
    "    model.fit(train_pool, eval_set=valid_pool, verbose=False)\n",
    "\n",
    "    return model.best_score_[\"validation\"][\"Logloss\"]"
   ]
  },
  {
   "cell_type": "code",
   "execution_count": 399,
   "metadata": {},
   "outputs": [],
   "source": [
    "# Define EarlyStoppingCallback for Optuna\n",
    "class EarlyStoppingCallback:\n",
    "    def __init__(self, patience: int):\n",
    "        self.patience = patience\n",
    "        self.no_improvement_trials = 0\n",
    "        self.best_value = -np.inf\n",
    "\n",
    "    def __call__(self, study, trial):\n",
    "        if study.best_value > self.best_value:\n",
    "            self.best_value = study.best_value\n",
    "            self.no_improvement_trials = 0\n",
    "        else:\n",
    "            self.no_improvement_trials += 1\n",
    "\n",
    "        if self.no_improvement_trials >= self.patience:\n",
    "            print(f\"Early stopping triggered. No improvement after {self.patience} trials.\")\n",
    "            study.stop()"
   ]
  },
  {
   "cell_type": "code",
   "execution_count": 400,
   "metadata": {
    "execution": {
     "iopub.execute_input": "2024-11-17T20:15:24.934664Z",
     "iopub.status.busy": "2024-11-17T20:15:24.933623Z",
     "iopub.status.idle": "2024-11-17T20:15:24.939983Z",
     "shell.execute_reply": "2024-11-17T20:15:24.938668Z",
     "shell.execute_reply.started": "2024-11-17T20:15:24.934608Z"
    },
    "trusted": true
   },
   "outputs": [
    {
     "name": "stderr",
     "output_type": "stream",
     "text": [
      "[I 2024-11-28 15:19:57,271] A new study created in memory with name: no-name-ad589222-7e83-4757-bbc2-958be5b9005c\n",
      "[I 2024-11-28 15:20:06,269] Trial 0 finished with value: 0.15162938689802619 and parameters: {'depth': 6, 'learning_rate': 0.7701325717477382, 'iterations': 1321, 'l2_leaf_reg': 8.194886238374218, 'random_strength': 4.901896728185532, 'bagging_temperature': 0.2012747763212519, 'border_count': 157, 'early_stopping_rounds': 50}. Best is trial 0 with value: 0.15162938689802619.\n",
      "[I 2024-11-28 15:20:15,510] Trial 1 finished with value: 0.15684736139295427 and parameters: {'depth': 10, 'learning_rate': 0.7398348120036699, 'iterations': 1474, 'l2_leaf_reg': 1.9213206536038205, 'random_strength': 8.272026337013564, 'bagging_temperature': 0.4976240571885985, 'border_count': 248, 'early_stopping_rounds': 51}. Best is trial 0 with value: 0.15162938689802619.\n",
      "[I 2024-11-28 15:21:26,634] Trial 2 finished with value: 0.14693769378508886 and parameters: {'depth': 10, 'learning_rate': 0.03305609037476561, 'iterations': 1008, 'l2_leaf_reg': 9.58073860088738, 'random_strength': 6.115010933433727, 'bagging_temperature': 0.9589215744894475, 'border_count': 113, 'early_stopping_rounds': 50}. Best is trial 2 with value: 0.14693769378508886.\n",
      "[I 2024-11-28 15:21:33,999] Trial 3 finished with value: 0.1533468705678519 and parameters: {'depth': 4, 'learning_rate': 0.445031807004337, 'iterations': 1278, 'l2_leaf_reg': 6.709349357213984, 'random_strength': 0.3210901537656277, 'bagging_temperature': 0.9706151536237676, 'border_count': 213, 'early_stopping_rounds': 51}. Best is trial 2 with value: 0.14693769378508886.\n",
      "[I 2024-11-28 15:21:36,145] Trial 4 finished with value: 0.1571389129529152 and parameters: {'depth': 12, 'learning_rate': 0.4401975459751077, 'iterations': 183, 'l2_leaf_reg': 4.308744757018452, 'random_strength': 6.979678870081783, 'bagging_temperature': 0.057822069253784414, 'border_count': 232, 'early_stopping_rounds': 50}. Best is trial 2 with value: 0.14693769378508886.\n",
      "[I 2024-11-28 15:21:40,442] Trial 5 finished with value: 0.1518161516610058 and parameters: {'depth': 8, 'learning_rate': 0.5277427617434147, 'iterations': 1121, 'l2_leaf_reg': 4.036743322389369, 'random_strength': 2.8366300588669535, 'bagging_temperature': 0.3959436935936199, 'border_count': 129, 'early_stopping_rounds': 51}. Best is trial 2 with value: 0.14693769378508886.\n",
      "[I 2024-11-28 15:21:44,091] Trial 6 finished with value: 0.15565277583029585 and parameters: {'depth': 9, 'learning_rate': 0.7862457568919539, 'iterations': 1362, 'l2_leaf_reg': 1.7887490093900253, 'random_strength': 0.5765602168484549, 'bagging_temperature': 0.9256067161604674, 'border_count': 186, 'early_stopping_rounds': 50}. Best is trial 2 with value: 0.14693769378508886.\n",
      "[I 2024-11-28 15:21:51,012] Trial 7 finished with value: 0.15058640661802383 and parameters: {'depth': 8, 'learning_rate': 0.26207666525112655, 'iterations': 966, 'l2_leaf_reg': 9.541407083312286, 'random_strength': 6.922531878294461, 'bagging_temperature': 0.1406980588888065, 'border_count': 150, 'early_stopping_rounds': 51}. Best is trial 2 with value: 0.14693769378508886.\n",
      "[I 2024-11-28 15:21:54,991] Trial 8 finished with value: 0.15210207389395403 and parameters: {'depth': 4, 'learning_rate': 0.8766217445735659, 'iterations': 752, 'l2_leaf_reg': 1.521358569555939, 'random_strength': 2.382842129679191, 'bagging_temperature': 0.4498475748166384, 'border_count': 39, 'early_stopping_rounds': 51}. Best is trial 2 with value: 0.14693769378508886.\n",
      "[I 2024-11-28 15:22:01,468] Trial 9 finished with value: 0.15943246018824514 and parameters: {'depth': 9, 'learning_rate': 0.5864936286573803, 'iterations': 1452, 'l2_leaf_reg': 1.0137340407030022, 'random_strength': 3.9571810310637416, 'bagging_temperature': 0.8397657913555905, 'border_count': 48, 'early_stopping_rounds': 51}. Best is trial 2 with value: 0.14693769378508886.\n",
      "[I 2024-11-28 15:22:54,327] Trial 10 finished with value: 0.1494999118610184 and parameters: {'depth': 12, 'learning_rate': 0.02212482420735662, 'iterations': 634, 'l2_leaf_reg': 9.424873072386147, 'random_strength': 9.68940646625033, 'bagging_temperature': 0.692331032722761, 'border_count': 107, 'early_stopping_rounds': 50}. Best is trial 2 with value: 0.14693769378508886.\n",
      "[I 2024-11-28 15:23:36,523] Trial 11 finished with value: 0.15388741379355939 and parameters: {'depth': 12, 'learning_rate': 0.032221176895699234, 'iterations': 600, 'l2_leaf_reg': 9.93047536337435, 'random_strength': 9.897952769261213, 'bagging_temperature': 0.7148854261039025, 'border_count': 98, 'early_stopping_rounds': 50}. Best is trial 2 with value: 0.14693769378508886.\n",
      "[I 2024-11-28 15:24:09,636] Trial 12 finished with value: 0.15461189227593472 and parameters: {'depth': 11, 'learning_rate': 0.013272566065475722, 'iterations': 477, 'l2_leaf_reg': 7.675561292390711, 'random_strength': 9.359204901132504, 'bagging_temperature': 0.6756377136310125, 'border_count': 89, 'early_stopping_rounds': 50}. Best is trial 2 with value: 0.14693769378508886.\n",
      "[I 2024-11-28 15:24:20,298] Trial 13 finished with value: 0.15123812183151406 and parameters: {'depth': 11, 'learning_rate': 0.18546469963624382, 'iterations': 927, 'l2_leaf_reg': 8.420230613709842, 'random_strength': 6.360332630209283, 'bagging_temperature': 0.7078738006660601, 'border_count': 98, 'early_stopping_rounds': 50}. Best is trial 2 with value: 0.14693769378508886.\n",
      "[I 2024-11-28 15:24:30,328] Trial 14 finished with value: 0.144428611777327 and parameters: {'depth': 10, 'learning_rate': 0.18306728097969588, 'iterations': 339, 'l2_leaf_reg': 6.1015561382745425, 'random_strength': 8.463662697397192, 'bagging_temperature': 0.8198426833470736, 'border_count': 70, 'early_stopping_rounds': 50}. Best is trial 14 with value: 0.144428611777327.\n",
      "[I 2024-11-28 15:24:39,751] Trial 15 finished with value: 0.14797400288174828 and parameters: {'depth': 7, 'learning_rate': 0.20432958920143118, 'iterations': 300, 'l2_leaf_reg': 6.002336714661578, 'random_strength': 8.264169271151019, 'bagging_temperature': 0.8418126484587207, 'border_count': 70, 'early_stopping_rounds': 50}. Best is trial 14 with value: 0.144428611777327.\n",
      "[I 2024-11-28 15:24:46,996] Trial 16 finished with value: 0.15306295367538147 and parameters: {'depth': 10, 'learning_rate': 0.28996623676219757, 'iterations': 382, 'l2_leaf_reg': 4.663888074354335, 'random_strength': 5.547110725286741, 'bagging_temperature': 0.9947227880008513, 'border_count': 68, 'early_stopping_rounds': 50}. Best is trial 14 with value: 0.144428611777327.\n",
      "[I 2024-11-28 15:24:49,931] Trial 17 finished with value: 0.15758483357844677 and parameters: {'depth': 10, 'learning_rate': 0.1413838317859576, 'iterations': 140, 'l2_leaf_reg': 2.879147154752778, 'random_strength': 7.969117418158285, 'bagging_temperature': 0.828638306494019, 'border_count': 123, 'early_stopping_rounds': 50}. Best is trial 14 with value: 0.144428611777327.\n",
      "[I 2024-11-28 15:24:55,864] Trial 18 finished with value: 0.15344617132337982 and parameters: {'depth': 6, 'learning_rate': 0.3125781015256235, 'iterations': 1114, 'l2_leaf_reg': 6.862286339398177, 'random_strength': 5.428877228738964, 'bagging_temperature': 0.5838552004276089, 'border_count': 173, 'early_stopping_rounds': 50}. Best is trial 14 with value: 0.144428611777327.\n",
      "[I 2024-11-28 15:25:08,312] Trial 19 finished with value: 0.15061351179687718 and parameters: {'depth': 9, 'learning_rate': 0.1325439324646917, 'iterations': 826, 'l2_leaf_reg': 5.759764336588831, 'random_strength': 7.723783531741059, 'bagging_temperature': 0.8723784923546563, 'border_count': 72, 'early_stopping_rounds': 50}. Best is trial 14 with value: 0.144428611777327.\n",
      "[I 2024-11-28 15:25:23,329] Trial 20 finished with value: 0.1563725495043174 and parameters: {'depth': 11, 'learning_rate': 0.09843392792037331, 'iterations': 1094, 'l2_leaf_reg': 3.3887577686586097, 'random_strength': 4.029193887622265, 'bagging_temperature': 0.5810364066926772, 'border_count': 129, 'early_stopping_rounds': 50}. Best is trial 14 with value: 0.144428611777327.\n",
      "[I 2024-11-28 15:25:31,245] Trial 21 finished with value: 0.14878238109553465 and parameters: {'depth': 7, 'learning_rate': 0.21338907378932465, 'iterations': 376, 'l2_leaf_reg': 5.457470668546434, 'random_strength': 8.771208152228935, 'bagging_temperature': 0.7963937032044919, 'border_count': 64, 'early_stopping_rounds': 50}. Best is trial 14 with value: 0.144428611777327.\n",
      "[I 2024-11-28 15:25:36,145] Trial 22 finished with value: 0.15088270835579395 and parameters: {'depth': 7, 'learning_rate': 0.36265293124879644, 'iterations': 291, 'l2_leaf_reg': 5.962100087758287, 'random_strength': 6.616220805803044, 'bagging_temperature': 0.3407272788170481, 'border_count': 83, 'early_stopping_rounds': 50}. Best is trial 14 with value: 0.144428611777327.\n",
      "[I 2024-11-28 15:25:50,761] Trial 23 finished with value: 0.14203359680131933 and parameters: {'depth': 7, 'learning_rate': 0.09245092826492232, 'iterations': 547, 'l2_leaf_reg': 6.749220199485208, 'random_strength': 7.617718293873805, 'bagging_temperature': 0.9069155038665843, 'border_count': 53, 'early_stopping_rounds': 50}. Best is trial 23 with value: 0.14203359680131933.\n",
      "[I 2024-11-28 15:26:07,769] Trial 24 finished with value: 0.1465637472479127 and parameters: {'depth': 6, 'learning_rate': 0.09540296236084575, 'iterations': 510, 'l2_leaf_reg': 7.513656136204412, 'random_strength': 6.018042440486737, 'bagging_temperature': 0.9299747671331506, 'border_count': 49, 'early_stopping_rounds': 50}. Best is trial 23 with value: 0.14203359680131933.\n",
      "[I 2024-11-28 15:26:19,810] Trial 25 finished with value: 0.15070478504791948 and parameters: {'depth': 5, 'learning_rate': 0.10337524702440695, 'iterations': 549, 'l2_leaf_reg': 7.403792468695683, 'random_strength': 7.460180817287831, 'bagging_temperature': 0.7757109293064621, 'border_count': 45, 'early_stopping_rounds': 50}. Best is trial 23 with value: 0.14203359680131933.\n",
      "[I 2024-11-28 15:26:25,177] Trial 26 finished with value: 0.15115876845510415 and parameters: {'depth': 6, 'learning_rate': 0.3341081857732238, 'iterations': 752, 'l2_leaf_reg': 8.662370606108732, 'random_strength': 8.928652569743884, 'bagging_temperature': 0.9028967204669964, 'border_count': 42, 'early_stopping_rounds': 50}. Best is trial 23 with value: 0.14203359680131933.\n",
      "[I 2024-11-28 15:26:35,779] Trial 27 finished with value: 0.14570665073530437 and parameters: {'depth': 5, 'learning_rate': 0.23081057481941952, 'iterations': 509, 'l2_leaf_reg': 6.751689637960558, 'random_strength': 4.518349334489207, 'bagging_temperature': 0.7641274859088948, 'border_count': 32, 'early_stopping_rounds': 50}. Best is trial 23 with value: 0.14203359680131933.\n",
      "[I 2024-11-28 15:26:42,275] Trial 28 finished with value: 0.14975714853243915 and parameters: {'depth': 4, 'learning_rate': 0.38056132794774233, 'iterations': 434, 'l2_leaf_reg': 4.96876405818729, 'random_strength': 4.57036703465396, 'bagging_temperature': 0.6350398517156465, 'border_count': 56, 'early_stopping_rounds': 50}. Best is trial 23 with value: 0.14203359680131933.\n",
      "[I 2024-11-28 15:26:52,464] Trial 29 finished with value: 0.15208766792005046 and parameters: {'depth': 5, 'learning_rate': 0.2622861415353433, 'iterations': 662, 'l2_leaf_reg': 6.771847093916871, 'random_strength': 3.4874769359269777, 'bagging_temperature': 0.7620998098939984, 'border_count': 33, 'early_stopping_rounds': 50}. Best is trial 23 with value: 0.14203359680131933.\n",
      "[I 2024-11-28 15:27:00,698] Trial 30 finished with value: 0.15572943351813706 and parameters: {'depth': 5, 'learning_rate': 0.18059941661571458, 'iterations': 264, 'l2_leaf_reg': 6.239203396931153, 'random_strength': 5.020685119013736, 'bagging_temperature': 0.31223536305791566, 'border_count': 76, 'early_stopping_rounds': 50}. Best is trial 23 with value: 0.14203359680131933.\n",
      "[I 2024-11-28 15:27:16,422] Trial 31 finished with value: 0.1559318651591646 and parameters: {'depth': 6, 'learning_rate': 0.099085910833259, 'iterations': 511, 'l2_leaf_reg': 7.58386404071586, 'random_strength': 5.662357805092557, 'bagging_temperature': 0.9089844965902605, 'border_count': 32, 'early_stopping_rounds': 50}. Best is trial 23 with value: 0.14203359680131933.\n",
      "[I 2024-11-28 15:27:25,732] Trial 32 finished with value: 0.14320769323742877 and parameters: {'depth': 7, 'learning_rate': 0.23580457371791813, 'iterations': 413, 'l2_leaf_reg': 8.024654328043754, 'random_strength': 7.354364545071926, 'bagging_temperature': 0.7610161417945112, 'border_count': 56, 'early_stopping_rounds': 50}. Best is trial 23 with value: 0.14203359680131933.\n",
      "[I 2024-11-28 15:27:33,088] Trial 33 finished with value: 0.15232058103639975 and parameters: {'depth': 7, 'learning_rate': 0.23787376087045212, 'iterations': 209, 'l2_leaf_reg': 8.258187818517818, 'random_strength': 8.860769281890903, 'bagging_temperature': 0.5787671619654096, 'border_count': 58, 'early_stopping_rounds': 50}. Best is trial 23 with value: 0.14203359680131933.\n",
      "[I 2024-11-28 15:27:43,470] Trial 34 finished with value: 0.1553363193322389 and parameters: {'depth': 8, 'learning_rate': 0.15583768551570437, 'iterations': 383, 'l2_leaf_reg': 8.850380040566252, 'random_strength': 7.306503993882374, 'bagging_temperature': 0.7497468590916343, 'border_count': 89, 'early_stopping_rounds': 50}. Best is trial 23 with value: 0.14203359680131933.\n",
      "[I 2024-11-28 15:27:44,819] Trial 35 finished with value: 0.1448954367011852 and parameters: {'depth': 5, 'learning_rate': 0.39672586782796837, 'iterations': 103, 'l2_leaf_reg': 6.704961748932367, 'random_strength': 8.551245438312844, 'bagging_temperature': 0.5160329213778697, 'border_count': 58, 'early_stopping_rounds': 50}. Best is trial 23 with value: 0.14203359680131933.\n",
      "[I 2024-11-28 15:27:46,426] Trial 36 finished with value: 0.15212923158601335 and parameters: {'depth': 7, 'learning_rate': 0.5294214094497096, 'iterations': 110, 'l2_leaf_reg': 6.390571421634065, 'random_strength': 8.371448882804348, 'bagging_temperature': 0.6319696396970825, 'border_count': 55, 'early_stopping_rounds': 51}. Best is trial 23 with value: 0.14203359680131933.\n",
      "[I 2024-11-28 15:27:51,672] Trial 37 finished with value: 0.15273180526213959 and parameters: {'depth': 8, 'learning_rate': 0.4026294223761095, 'iterations': 202, 'l2_leaf_reg': 5.3225303404397515, 'random_strength': 9.250076717983191, 'bagging_temperature': 0.4705567842857058, 'border_count': 82, 'early_stopping_rounds': 50}. Best is trial 23 with value: 0.14203359680131933.\n",
      "[I 2024-11-28 15:27:56,361] Trial 38 finished with value: 0.15566944969667196 and parameters: {'depth': 9, 'learning_rate': 0.6207979599487123, 'iterations': 327, 'l2_leaf_reg': 7.086026465849391, 'random_strength': 8.300314548786131, 'bagging_temperature': 0.24400464242067654, 'border_count': 110, 'early_stopping_rounds': 51}. Best is trial 23 with value: 0.14203359680131933.\n",
      "[I 2024-11-28 15:28:01,358] Trial 39 finished with value: 0.15223764992342215 and parameters: {'depth': 8, 'learning_rate': 0.4744687497293816, 'iterations': 228, 'l2_leaf_reg': 7.816424166579338, 'random_strength': 7.6864022872666755, 'bagging_temperature': 0.5288817706245346, 'border_count': 219, 'early_stopping_rounds': 50}. Best is trial 23 with value: 0.14203359680131933.\n",
      "[I 2024-11-28 15:28:02,885] Trial 40 finished with value: 0.1583586796354515 and parameters: {'depth': 6, 'learning_rate': 0.0640531267793092, 'iterations': 111, 'l2_leaf_reg': 9.048437952854707, 'random_strength': 7.043575167643675, 'bagging_temperature': 0.9714509259368922, 'border_count': 141, 'early_stopping_rounds': 50}. Best is trial 23 with value: 0.14203359680131933.\n",
      "[I 2024-11-28 15:28:07,991] Trial 41 finished with value: 0.15241964292682797 and parameters: {'depth': 5, 'learning_rate': 0.2680384630795273, 'iterations': 439, 'l2_leaf_reg': 6.58358755096374, 'random_strength': 1.8727922540860278, 'bagging_temperature': 0.8176619448026445, 'border_count': 60, 'early_stopping_rounds': 50}. Best is trial 23 with value: 0.14203359680131933.\n",
      "[I 2024-11-28 15:28:15,616] Trial 42 finished with value: 0.15908143867973884 and parameters: {'depth': 4, 'learning_rate': 0.3193494153115976, 'iterations': 671, 'l2_leaf_reg': 6.963908703124425, 'random_strength': 4.37037760540207, 'bagging_temperature': 0.8826755753249733, 'border_count': 42, 'early_stopping_rounds': 50}. Best is trial 23 with value: 0.14203359680131933.\n",
      "[I 2024-11-28 15:28:20,139] Trial 43 finished with value: 0.15115246428216148 and parameters: {'depth': 5, 'learning_rate': 0.411425181693134, 'iterations': 588, 'l2_leaf_reg': 7.9340482505552234, 'random_strength': 6.657906678437774, 'bagging_temperature': 0.07567326568617322, 'border_count': 33, 'early_stopping_rounds': 50}. Best is trial 23 with value: 0.14203359680131933.\n",
      "[I 2024-11-28 15:28:30,843] Trial 44 finished with value: 0.14669809727703537 and parameters: {'depth': 4, 'learning_rate': 0.23011789787620218, 'iterations': 351, 'l2_leaf_reg': 7.111191192589056, 'random_strength': 3.3454788967345577, 'bagging_temperature': 0.4165019642149731, 'border_count': 254, 'early_stopping_rounds': 50}. Best is trial 23 with value: 0.14203359680131933.\n",
      "[I 2024-11-28 15:28:34,994] Trial 45 finished with value: 0.1475375140012989 and parameters: {'depth': 6, 'learning_rate': 0.6980724745098987, 'iterations': 455, 'l2_leaf_reg': 5.0604111578377795, 'random_strength': 9.368278546264188, 'bagging_temperature': 0.7445235985282525, 'border_count': 53, 'early_stopping_rounds': 50}. Best is trial 23 with value: 0.14203359680131933.\n",
      "[I 2024-11-28 15:29:03,393] Trial 46 finished with value: 0.14712659835338454 and parameters: {'depth': 7, 'learning_rate': 0.06557582261526104, 'iterations': 726, 'l2_leaf_reg': 6.283160510993851, 'random_strength': 6.029460980773126, 'bagging_temperature': 0.6556111284965016, 'border_count': 98, 'early_stopping_rounds': 51}. Best is trial 23 with value: 0.14203359680131933.\n",
      "[I 2024-11-28 15:29:08,289] Trial 47 finished with value: 0.15183403792009884 and parameters: {'depth': 5, 'learning_rate': 0.4781748337972249, 'iterations': 552, 'l2_leaf_reg': 8.08067711135941, 'random_strength': 8.000339394749659, 'bagging_temperature': 0.5296543379367323, 'border_count': 187, 'early_stopping_rounds': 50}. Best is trial 23 with value: 0.14203359680131933.\n",
      "[I 2024-11-28 15:29:10,168] Trial 48 finished with value: 0.15535267357807422 and parameters: {'depth': 9, 'learning_rate': 0.34631658720991676, 'iterations': 174, 'l2_leaf_reg': 5.740532698878602, 'random_strength': 8.642623264503362, 'bagging_temperature': 0.8546562705087623, 'border_count': 73, 'early_stopping_rounds': 50}. Best is trial 23 with value: 0.14203359680131933.\n",
      "[I 2024-11-28 15:29:21,556] Trial 49 finished with value: 0.1466361625370692 and parameters: {'depth': 10, 'learning_rate': 0.179497333787736, 'iterations': 891, 'l2_leaf_reg': 4.384997060847851, 'random_strength': 9.920435838829524, 'bagging_temperature': 0.7026676685348001, 'border_count': 66, 'early_stopping_rounds': 50}. Best is trial 23 with value: 0.14203359680131933.\n",
      "[I 2024-11-28 15:29:27,748] Trial 50 finished with value: 0.15449018186153035 and parameters: {'depth': 9, 'learning_rate': 0.29437801665843966, 'iterations': 271, 'l2_leaf_reg': 6.549301275467224, 'random_strength': 1.8714989953863705, 'bagging_temperature': 0.9454072102119542, 'border_count': 46, 'early_stopping_rounds': 50}. Best is trial 23 with value: 0.14203359680131933.\n",
      "[I 2024-11-28 15:29:38,162] Trial 51 finished with value: 0.14697701723951587 and parameters: {'depth': 6, 'learning_rate': 0.13686809675063946, 'iterations': 507, 'l2_leaf_reg': 7.388460355831298, 'random_strength': 5.891996908892294, 'bagging_temperature': 0.927820160115078, 'border_count': 49, 'early_stopping_rounds': 50}. Best is trial 23 with value: 0.14203359680131933.\n",
      "[I 2024-11-28 15:29:55,940] Trial 52 finished with value: 0.1515788851943808 and parameters: {'depth': 6, 'learning_rate': 0.0630569068232128, 'iterations': 421, 'l2_leaf_reg': 7.300659594194344, 'random_strength': 7.277461608116662, 'bagging_temperature': 0.8090209454058117, 'border_count': 82, 'early_stopping_rounds': 50}. Best is trial 23 with value: 0.14203359680131933.\n",
      "[I 2024-11-28 15:30:10,077] Trial 53 finished with value: 0.14860456575794465 and parameters: {'depth': 7, 'learning_rate': 0.16772754010049468, 'iterations': 534, 'l2_leaf_reg': 8.480498729286541, 'random_strength': 6.4716702494355, 'bagging_temperature': 0.9964811228816783, 'border_count': 62, 'early_stopping_rounds': 50}. Best is trial 23 with value: 0.14203359680131933.\n",
      "[I 2024-11-28 15:30:16,937] Trial 54 finished with value: 0.15436060725480358 and parameters: {'depth': 8, 'learning_rate': 0.23370404292011748, 'iterations': 599, 'l2_leaf_reg': 6.751608874646617, 'random_strength': 5.276791019976692, 'bagging_temperature': 0.8719687509995362, 'border_count': 50, 'early_stopping_rounds': 50}. Best is trial 23 with value: 0.14203359680131933.\n",
      "[I 2024-11-28 15:30:29,515] Trial 55 finished with value: 0.15033268033094874 and parameters: {'depth': 5, 'learning_rate': 0.10687670267724216, 'iterations': 334, 'l2_leaf_reg': 6.061641744103494, 'random_strength': 6.828016094318103, 'bagging_temperature': 0.728083260961756, 'border_count': 38, 'early_stopping_rounds': 50}. Best is trial 23 with value: 0.14203359680131933.\n",
      "[I 2024-11-28 15:30:34,068] Trial 56 finished with value: 0.1562867001358691 and parameters: {'depth': 6, 'learning_rate': 0.8891412860654111, 'iterations': 485, 'l2_leaf_reg': 7.72392526568476, 'random_strength': 6.23290477584171, 'bagging_temperature': 0.7841893513946289, 'border_count': 90, 'early_stopping_rounds': 50}. Best is trial 23 with value: 0.14203359680131933.\n",
      "[I 2024-11-28 15:30:52,139] Trial 57 finished with value: 0.14326204692610006 and parameters: {'depth': 7, 'learning_rate': 0.05429138078662359, 'iterations': 405, 'l2_leaf_reg': 5.816759070038229, 'random_strength': 7.85016957664481, 'bagging_temperature': 0.8371277351598021, 'border_count': 75, 'early_stopping_rounds': 50}. Best is trial 23 with value: 0.14203359680131933.\n",
      "[I 2024-11-28 15:30:58,574] Trial 58 finished with value: 0.15058327628706222 and parameters: {'depth': 8, 'learning_rate': 0.20854181628628377, 'iterations': 402, 'l2_leaf_reg': 5.711249575299893, 'random_strength': 7.9284870464025605, 'bagging_temperature': 0.8346109207907272, 'border_count': 102, 'early_stopping_rounds': 50}. Best is trial 23 with value: 0.14203359680131933.\n",
      "[I 2024-11-28 15:31:10,158] Trial 59 finished with value: 0.16221591458148624 and parameters: {'depth': 7, 'learning_rate': 0.015781736028982807, 'iterations': 251, 'l2_leaf_reg': 3.7044849238087885, 'random_strength': 8.554576430852102, 'bagging_temperature': 0.6831717301982164, 'border_count': 74, 'early_stopping_rounds': 50}. Best is trial 23 with value: 0.14203359680131933.\n",
      "[I 2024-11-28 15:31:38,194] Trial 60 finished with value: 0.15533229825019795 and parameters: {'depth': 12, 'learning_rate': 0.04783852438698463, 'iterations': 309, 'l2_leaf_reg': 5.234244100276271, 'random_strength': 9.100695274272756, 'bagging_temperature': 0.7794278631317835, 'border_count': 162, 'early_stopping_rounds': 50}. Best is trial 23 with value: 0.14203359680131933.\n",
      "[I 2024-11-28 15:31:52,505] Trial 61 finished with value: 0.14872783089185365 and parameters: {'depth': 7, 'learning_rate': 0.1288134966540157, 'iterations': 696, 'l2_leaf_reg': 6.111000241885108, 'random_strength': 7.597870695400202, 'bagging_temperature': 0.9014578729683403, 'border_count': 67, 'early_stopping_rounds': 50}. Best is trial 23 with value: 0.14203359680131933.\n",
      "[I 2024-11-28 15:32:10,194] Trial 62 finished with value: 0.15309405031498666 and parameters: {'depth': 6, 'learning_rate': 0.09181578271791271, 'iterations': 798, 'l2_leaf_reg': 6.565289972987051, 'random_strength': 6.950890948501743, 'bagging_temperature': 0.8649873660650569, 'border_count': 50, 'early_stopping_rounds': 50}. Best is trial 23 with value: 0.14203359680131933.\n",
      "[I 2024-11-28 15:32:34,341] Trial 63 finished with value: 0.14677169191943706 and parameters: {'depth': 5, 'learning_rate': 0.08105702873544401, 'iterations': 586, 'l2_leaf_reg': 7.171481143537821, 'random_strength': 4.675879683855434, 'bagging_temperature': 0.826352612117447, 'border_count': 44, 'early_stopping_rounds': 50}. Best is trial 23 with value: 0.14203359680131933.\n",
      "[I 2024-11-28 15:32:46,766] Trial 64 finished with value: 0.14946191707868786 and parameters: {'depth': 11, 'learning_rate': 0.1913381747128305, 'iterations': 463, 'l2_leaf_reg': 4.713562147099695, 'random_strength': 8.021209325211666, 'bagging_temperature': 0.945233622235494, 'border_count': 61, 'early_stopping_rounds': 50}. Best is trial 23 with value: 0.14203359680131933.\n",
      "[I 2024-11-28 15:33:02,292] Trial 65 finished with value: 0.14796955867678024 and parameters: {'depth': 7, 'learning_rate': 0.12392914711231617, 'iterations': 1246, 'l2_leaf_reg': 5.618755692436715, 'random_strength': 9.53668077735954, 'bagging_temperature': 0.966183238985671, 'border_count': 39, 'early_stopping_rounds': 50}. Best is trial 23 with value: 0.14203359680131933.\n",
      "[I 2024-11-28 15:33:14,917] Trial 66 finished with value: 0.1461834732067502 and parameters: {'depth': 6, 'learning_rate': 0.15944680652289367, 'iterations': 377, 'l2_leaf_reg': 9.256435908085155, 'random_strength': 7.2028081358432825, 'bagging_temperature': 0.90148175099099, 'border_count': 81, 'early_stopping_rounds': 50}. Best is trial 23 with value: 0.14203359680131933.\n",
      "[I 2024-11-28 15:33:24,092] Trial 67 finished with value: 0.14611889756981564 and parameters: {'depth': 8, 'learning_rate': 0.1538246332839734, 'iterations': 365, 'l2_leaf_reg': 9.796291617759266, 'random_strength': 7.219862829659414, 'bagging_temperature': 0.896149035725858, 'border_count': 76, 'early_stopping_rounds': 50}. Best is trial 23 with value: 0.14203359680131933.\n",
      "[I 2024-11-28 15:33:35,654] Trial 68 finished with value: 0.15109141867325662 and parameters: {'depth': 8, 'learning_rate': 0.2841272149842329, 'iterations': 627, 'l2_leaf_reg': 9.818689818799388, 'random_strength': 8.25643639696481, 'bagging_temperature': 0.6025378099995788, 'border_count': 118, 'early_stopping_rounds': 50}. Best is trial 23 with value: 0.14203359680131933.\n",
      "[I 2024-11-28 15:33:39,309] Trial 69 finished with value: 0.1517721316504836 and parameters: {'depth': 8, 'learning_rate': 0.2543039531390596, 'iterations': 161, 'l2_leaf_reg': 5.915775050302656, 'random_strength': 7.715374052765856, 'bagging_temperature': 0.7910903770172738, 'border_count': 91, 'early_stopping_rounds': 50}. Best is trial 23 with value: 0.14203359680131933.\n",
      "[I 2024-11-28 15:34:06,623] Trial 70 finished with value: 0.15296145303359884 and parameters: {'depth': 10, 'learning_rate': 0.035246211873613105, 'iterations': 357, 'l2_leaf_reg': 2.235681128908797, 'random_strength': 8.990451851582261, 'bagging_temperature': 0.3556661526884711, 'border_count': 79, 'early_stopping_rounds': 51}. Best is trial 23 with value: 0.14203359680131933.\n",
      "[I 2024-11-28 15:34:25,432] Trial 71 finished with value: 0.15260870602172683 and parameters: {'depth': 7, 'learning_rate': 0.1581646352154893, 'iterations': 413, 'l2_leaf_reg': 9.080748239618918, 'random_strength': 7.217111146356725, 'bagging_temperature': 0.8967236558665084, 'border_count': 69, 'early_stopping_rounds': 50}. Best is trial 23 with value: 0.14203359680131933.\n",
      "[I 2024-11-28 15:34:40,129] Trial 72 finished with value: 0.14448703864093276 and parameters: {'depth': 6, 'learning_rate': 0.20323879548215945, 'iterations': 297, 'l2_leaf_reg': 9.451161465427463, 'random_strength': 8.399002301663137, 'bagging_temperature': 0.8589803498458809, 'border_count': 59, 'early_stopping_rounds': 50}. Best is trial 23 with value: 0.14203359680131933.\n",
      "[I 2024-11-28 15:34:48,450] Trial 73 finished with value: 0.1500623449656526 and parameters: {'depth': 4, 'learning_rate': 0.1965174143458598, 'iterations': 245, 'l2_leaf_reg': 9.636314600925546, 'random_strength': 8.541045698078223, 'bagging_temperature': 0.8475638517451033, 'border_count': 56, 'early_stopping_rounds': 50}. Best is trial 23 with value: 0.14203359680131933.\n",
      "[I 2024-11-28 15:34:56,161] Trial 74 finished with value: 0.15200376612507585 and parameters: {'depth': 8, 'learning_rate': 0.21999194104057931, 'iterations': 300, 'l2_leaf_reg': 9.498661002078643, 'random_strength': 8.131793329895032, 'bagging_temperature': 0.7501959995325875, 'border_count': 63, 'early_stopping_rounds': 50}. Best is trial 23 with value: 0.14203359680131933.\n",
      "[I 2024-11-28 15:35:03,713] Trial 75 finished with value: 0.16020089848489558 and parameters: {'depth': 7, 'learning_rate': 0.31280261964497724, 'iterations': 332, 'l2_leaf_reg': 9.912533308930472, 'random_strength': 7.54255740794433, 'bagging_temperature': 0.718721967766274, 'border_count': 37, 'early_stopping_rounds': 50}. Best is trial 23 with value: 0.14203359680131933.\n",
      "[I 2024-11-28 15:35:11,175] Trial 76 finished with value: 0.14999736555196425 and parameters: {'depth': 5, 'learning_rate': 0.24807757857807727, 'iterations': 206, 'l2_leaf_reg': 8.793434387520469, 'random_strength': 8.737484638312601, 'bagging_temperature': 0.262244826464068, 'border_count': 55, 'early_stopping_rounds': 50}. Best is trial 23 with value: 0.14203359680131933.\n",
      "[I 2024-11-28 15:35:23,384] Trial 77 finished with value: 0.14974396353694527 and parameters: {'depth': 7, 'learning_rate': 0.14464252394390942, 'iterations': 490, 'l2_leaf_reg': 8.38519794166569, 'random_strength': 3.979179260333704, 'bagging_temperature': 0.8005653190804929, 'border_count': 75, 'early_stopping_rounds': 50}. Best is trial 23 with value: 0.14203359680131933.\n",
      "[I 2024-11-28 15:35:29,461] Trial 78 finished with value: 0.14876599246754332 and parameters: {'depth': 8, 'learning_rate': 0.27772752073127804, 'iterations': 431, 'l2_leaf_reg': 6.965620858163964, 'random_strength': 7.809672115369217, 'bagging_temperature': 0.14145987930692216, 'border_count': 94, 'early_stopping_rounds': 50}. Best is trial 23 with value: 0.14203359680131933.\n",
      "[I 2024-11-28 15:35:32,595] Trial 79 finished with value: 0.14797473045338622 and parameters: {'depth': 6, 'learning_rate': 0.11401381491897289, 'iterations': 138, 'l2_leaf_reg': 9.289620614184187, 'random_strength': 8.351982181083521, 'bagging_temperature': 0.9199155073656485, 'border_count': 86, 'early_stopping_rounds': 50}. Best is trial 23 with value: 0.14203359680131933.\n",
      "[I 2024-11-28 15:35:44,679] Trial 80 finished with value: 0.14787343460424307 and parameters: {'depth': 11, 'learning_rate': 0.2096556370328138, 'iterations': 273, 'l2_leaf_reg': 6.368850252847831, 'random_strength': 9.623511701944713, 'bagging_temperature': 0.8689748801562106, 'border_count': 69, 'early_stopping_rounds': 50}. Best is trial 23 with value: 0.14203359680131933.\n",
      "[I 2024-11-28 15:35:59,343] Trial 81 finished with value: 0.1546333454160044 and parameters: {'depth': 6, 'learning_rate': 0.15736278459038838, 'iterations': 382, 'l2_leaf_reg': 9.272937442122581, 'random_strength': 7.385972563759588, 'bagging_temperature': 0.8966945850438298, 'border_count': 80, 'early_stopping_rounds': 50}. Best is trial 23 with value: 0.14203359680131933.\n",
      "[I 2024-11-28 15:36:10,654] Trial 82 finished with value: 0.15046319721255547 and parameters: {'depth': 5, 'learning_rate': 0.17544468448228573, 'iterations': 367, 'l2_leaf_reg': 9.696198292878861, 'random_strength': 7.108290992423244, 'bagging_temperature': 0.9684427917903118, 'border_count': 59, 'early_stopping_rounds': 50}. Best is trial 23 with value: 0.14203359680131933.\n",
      "[I 2024-11-28 15:36:16,687] Trial 83 finished with value: 0.1488351281626648 and parameters: {'depth': 5, 'learning_rate': 0.5122561475884072, 'iterations': 554, 'l2_leaf_reg': 9.099686039442105, 'random_strength': 6.5234786852894935, 'bagging_temperature': 0.8258868158237738, 'border_count': 77, 'early_stopping_rounds': 50}. Best is trial 23 with value: 0.14203359680131933.\n",
      "[I 2024-11-28 15:36:40,010] Trial 84 finished with value: 0.15482813555917901 and parameters: {'depth': 9, 'learning_rate': 0.07791653817691083, 'iterations': 467, 'l2_leaf_reg': 8.6337658099651, 'random_strength': 6.7545529996789435, 'bagging_temperature': 0.7608240024273617, 'border_count': 105, 'early_stopping_rounds': 50}. Best is trial 23 with value: 0.14203359680131933.\n",
      "[I 2024-11-28 15:36:43,846] Trial 85 finished with value: 0.15225753122319152 and parameters: {'depth': 6, 'learning_rate': 0.6099804049120835, 'iterations': 391, 'l2_leaf_reg': 8.09759317202389, 'random_strength': 3.5290873942656162, 'bagging_temperature': 0.851434145350986, 'border_count': 46, 'early_stopping_rounds': 50}. Best is trial 23 with value: 0.14203359680131933.\n",
      "[I 2024-11-28 15:36:47,465] Trial 86 finished with value: 0.15195171523364318 and parameters: {'depth': 7, 'learning_rate': 0.8428712036518444, 'iterations': 297, 'l2_leaf_reg': 9.391271244936704, 'random_strength': 8.50207035152182, 'bagging_temperature': 0.9376653319597724, 'border_count': 65, 'early_stopping_rounds': 50}. Best is trial 23 with value: 0.14203359680131933.\n",
      "[I 2024-11-28 15:37:04,907] Trial 87 finished with value: 0.14939979832300002 and parameters: {'depth': 4, 'learning_rate': 0.04497257132493966, 'iterations': 523, 'l2_leaf_reg': 5.424042440386401, 'random_strength': 8.127915858334912, 'bagging_temperature': 0.8916547059667509, 'border_count': 32, 'early_stopping_rounds': 50}. Best is trial 23 with value: 0.14203359680131933.\n",
      "[I 2024-11-28 15:37:09,504] Trial 88 finished with value: 0.1510770195138435 and parameters: {'depth': 6, 'learning_rate': 0.35391915414308045, 'iterations': 227, 'l2_leaf_reg': 9.982658827641664, 'random_strength': 7.529335505768429, 'bagging_temperature': 0.6646580270819584, 'border_count': 52, 'early_stopping_rounds': 50}. Best is trial 23 with value: 0.14203359680131933.\n",
      "[I 2024-11-28 15:37:25,054] Trial 89 finished with value: 0.15144704205990592 and parameters: {'depth': 7, 'learning_rate': 0.1476799560802825, 'iterations': 346, 'l2_leaf_reg': 8.946276894378963, 'random_strength': 8.869279019432636, 'bagging_temperature': 0.8151430051082986, 'border_count': 139, 'early_stopping_rounds': 50}. Best is trial 23 with value: 0.14203359680131933.\n",
      "[I 2024-11-28 15:37:30,276] Trial 90 finished with value: 0.14578615279729878 and parameters: {'depth': 6, 'learning_rate': 0.41537863338900616, 'iterations': 450, 'l2_leaf_reg': 7.611227154692821, 'random_strength': 4.36585035912745, 'bagging_temperature': 0.732727103375592, 'border_count': 72, 'early_stopping_rounds': 50}. Best is trial 23 with value: 0.14203359680131933.\n",
      "[I 2024-11-28 15:37:37,257] Trial 91 finished with value: 0.14806171662465503 and parameters: {'depth': 6, 'learning_rate': 0.4142945930682963, 'iterations': 437, 'l2_leaf_reg': 6.718200715644692, 'random_strength': 4.338339071866358, 'bagging_temperature': 0.7336766033193235, 'border_count': 71, 'early_stopping_rounds': 50}. Best is trial 23 with value: 0.14203359680131933.\n",
      "[I 2024-11-28 15:37:41,511] Trial 92 finished with value: 0.15099271193344674 and parameters: {'depth': 6, 'learning_rate': 0.43844040572516496, 'iterations': 409, 'l2_leaf_reg': 7.482793196113477, 'random_strength': 5.739674400099669, 'bagging_temperature': 0.7622880506836323, 'border_count': 86, 'early_stopping_rounds': 50}. Best is trial 23 with value: 0.14203359680131933.\n",
      "[I 2024-11-28 15:37:52,573] Trial 93 finished with value: 0.1491690916928106 and parameters: {'depth': 5, 'learning_rate': 0.12002022697244369, 'iterations': 465, 'l2_leaf_reg': 7.791241538547567, 'random_strength': 4.854950346721528, 'bagging_temperature': 0.6970070710113911, 'border_count': 57, 'early_stopping_rounds': 50}. Best is trial 23 with value: 0.14203359680131933.\n",
      "[I 2024-11-28 15:37:58,089] Trial 94 finished with value: 0.1531810522828801 and parameters: {'depth': 7, 'learning_rate': 0.37765653167834556, 'iterations': 1044, 'l2_leaf_reg': 6.433884636655639, 'random_strength': 5.370745668390294, 'bagging_temperature': 0.8405858315823327, 'border_count': 240, 'early_stopping_rounds': 50}. Best is trial 23 with value: 0.14203359680131933.\n",
      "[I 2024-11-28 15:38:06,851] Trial 95 finished with value: 0.14727935763298663 and parameters: {'depth': 6, 'learning_rate': 0.227839796432248, 'iterations': 317, 'l2_leaf_reg': 5.921263152654403, 'random_strength': 4.331791292627243, 'bagging_temperature': 0.878422276899848, 'border_count': 39, 'early_stopping_rounds': 50}. Best is trial 23 with value: 0.14203359680131933.\n",
      "[I 2024-11-28 15:38:14,544] Trial 96 finished with value: 0.15497653118396476 and parameters: {'depth': 7, 'learning_rate': 0.17724900882907618, 'iterations': 506, 'l2_leaf_reg': 7.199356143031521, 'random_strength': 3.6816207546274873, 'bagging_temperature': 0.7978920635394937, 'border_count': 95, 'early_stopping_rounds': 50}. Best is trial 23 with value: 0.14203359680131933.\n",
      "[I 2024-11-28 15:38:22,678] Trial 97 finished with value: 0.14379126038570117 and parameters: {'depth': 5, 'learning_rate': 0.2973420054988516, 'iterations': 564, 'l2_leaf_reg': 6.8874697872181425, 'random_strength': 5.103955726210806, 'bagging_temperature': 0.5064651420158612, 'border_count': 84, 'early_stopping_rounds': 50}. Best is trial 23 with value: 0.14203359680131933.\n",
      "[I 2024-11-28 15:38:28,737] Trial 98 finished with value: 0.15239864276351706 and parameters: {'depth': 5, 'learning_rate': 0.33231341310012974, 'iterations': 634, 'l2_leaf_reg': 6.915808326051514, 'random_strength': 3.0720782943344247, 'bagging_temperature': 0.4954446323183888, 'border_count': 64, 'early_stopping_rounds': 50}. Best is trial 23 with value: 0.14203359680131933.\n",
      "[I 2024-11-28 15:38:32,386] Trial 99 finished with value: 0.15241988325588934 and parameters: {'depth': 4, 'learning_rate': 0.47511717603256876, 'iterations': 548, 'l2_leaf_reg': 7.573296129746289, 'random_strength': 4.890820922544983, 'bagging_temperature': 0.5323243084428971, 'border_count': 73, 'early_stopping_rounds': 50}. Best is trial 23 with value: 0.14203359680131933.\n",
      "[I 2024-11-28 15:38:43,386] Trial 100 finished with value: 0.15009165593259757 and parameters: {'depth': 5, 'learning_rate': 0.29039911879283736, 'iterations': 569, 'l2_leaf_reg': 6.712609369411611, 'random_strength': 2.4658767597080975, 'bagging_temperature': 0.4353946708436299, 'border_count': 47, 'early_stopping_rounds': 50}. Best is trial 23 with value: 0.14203359680131933.\n",
      "[I 2024-11-28 15:38:49,405] Trial 101 finished with value: 0.14909015893987967 and parameters: {'depth': 5, 'learning_rate': 0.384791537963459, 'iterations': 366, 'l2_leaf_reg': 6.166492088196292, 'random_strength': 5.158431340279004, 'bagging_temperature': 0.4921227400050479, 'border_count': 84, 'early_stopping_rounds': 50}. Best is trial 23 with value: 0.14203359680131933.\n",
      "[I 2024-11-28 15:38:58,966] Trial 102 finished with value: 0.1444512441778133 and parameters: {'depth': 6, 'learning_rate': 0.2621179494990146, 'iterations': 450, 'l2_leaf_reg': 7.946116152077121, 'random_strength': 7.813387178541962, 'bagging_temperature': 0.5567663322574281, 'border_count': 77, 'early_stopping_rounds': 50}. Best is trial 23 with value: 0.14203359680131933.\n",
      "[I 2024-11-28 15:39:05,033] Trial 103 finished with value: 0.14363365209868462 and parameters: {'depth': 8, 'learning_rate': 0.3100126601613477, 'iterations': 469, 'l2_leaf_reg': 7.917988200779553, 'random_strength': 7.844306137171197, 'bagging_temperature': 0.5700010052245935, 'border_count': 60, 'early_stopping_rounds': 50}. Best is trial 23 with value: 0.14203359680131933.\n",
      "[I 2024-11-28 15:39:10,131] Trial 104 finished with value: 0.1482591732652226 and parameters: {'depth': 5, 'learning_rate': 0.26409827254802154, 'iterations': 615, 'l2_leaf_reg': 8.057076540428213, 'random_strength': 7.8809128860326885, 'bagging_temperature': 0.47030134174982857, 'border_count': 61, 'early_stopping_rounds': 50}. Best is trial 23 with value: 0.14203359680131933.\n",
      "[I 2024-11-28 15:39:16,843] Trial 105 finished with value: 0.15060009857369278 and parameters: {'depth': 6, 'learning_rate': 0.3068265728804521, 'iterations': 664, 'l2_leaf_reg': 8.330148180912097, 'random_strength': 4.573791389604054, 'bagging_temperature': 0.5979471399530893, 'border_count': 51, 'early_stopping_rounds': 50}. Best is trial 23 with value: 0.14203359680131933.\n",
      "[I 2024-11-28 15:39:23,492] Trial 106 finished with value: 0.1451561035363539 and parameters: {'depth': 8, 'learning_rate': 0.3256958713606737, 'iterations': 493, 'l2_leaf_reg': 7.362017103429584, 'random_strength': 9.09788054627621, 'bagging_temperature': 0.5569110082554979, 'border_count': 200, 'early_stopping_rounds': 50}. Best is trial 23 with value: 0.14203359680131933.\n",
      "[I 2024-11-28 15:39:30,261] Trial 107 finished with value: 0.14778458518048596 and parameters: {'depth': 8, 'learning_rate': 0.3272228461062012, 'iterations': 489, 'l2_leaf_reg': 7.29781313494218, 'random_strength': 9.168607170918762, 'bagging_temperature': 0.5556341955766277, 'border_count': 229, 'early_stopping_rounds': 51}. Best is trial 23 with value: 0.14203359680131933.\n",
      "[I 2024-11-28 15:39:38,825] Trial 108 finished with value: 0.15284588562891077 and parameters: {'depth': 9, 'learning_rate': 0.2516626621351234, 'iterations': 521, 'l2_leaf_reg': 6.994810305397045, 'random_strength': 0.9654781760427573, 'bagging_temperature': 0.5624000343822197, 'border_count': 158, 'early_stopping_rounds': 50}. Best is trial 23 with value: 0.14203359680131933.\n",
      "[I 2024-11-28 15:39:44,446] Trial 109 finished with value: 0.15216632160462853 and parameters: {'depth': 8, 'learning_rate': 0.36984230473253016, 'iterations': 574, 'l2_leaf_reg': 6.483187373299, 'random_strength': 8.70270055697902, 'bagging_temperature': 0.6347586540689114, 'border_count': 181, 'early_stopping_rounds': 50}. Best is trial 23 with value: 0.14203359680131933.\n",
      "[I 2024-11-28 15:39:52,160] Trial 110 finished with value: 0.1485531068857803 and parameters: {'depth': 8, 'learning_rate': 0.29632597081046025, 'iterations': 414, 'l2_leaf_reg': 7.353279573797424, 'random_strength': 9.433687829453131, 'bagging_temperature': 0.5168323516618617, 'border_count': 194, 'early_stopping_rounds': 50}. Best is trial 23 with value: 0.14203359680131933.\n",
      "[I 2024-11-28 15:39:58,093] Trial 111 finished with value: 0.1518825155979032 and parameters: {'depth': 7, 'learning_rate': 0.343923222318845, 'iterations': 452, 'l2_leaf_reg': 7.6986278037968034, 'random_strength': 8.0870333636253, 'bagging_temperature': 0.4718900888946899, 'border_count': 67, 'early_stopping_rounds': 50}. Best is trial 23 with value: 0.14203359680131933.\n",
      "[I 2024-11-28 15:40:03,531] Trial 112 finished with value: 0.1561574088484141 and parameters: {'depth': 9, 'learning_rate': 0.44733920297839036, 'iterations': 443, 'l2_leaf_reg': 7.895601912701693, 'random_strength': 8.269716458208373, 'bagging_temperature': 0.6129547182256546, 'border_count': 133, 'early_stopping_rounds': 50}. Best is trial 23 with value: 0.14203359680131933.\n",
      "[I 2024-11-28 15:40:09,423] Trial 113 finished with value: 0.14301945378771713 and parameters: {'depth': 7, 'learning_rate': 0.4002184646857208, 'iterations': 480, 'l2_leaf_reg': 6.261303920808095, 'random_strength': 4.163369893698641, 'bagging_temperature': 0.5487518251950242, 'border_count': 206, 'early_stopping_rounds': 50}. Best is trial 23 with value: 0.14203359680131933.\n",
      "[I 2024-11-28 15:40:16,548] Trial 114 finished with value: 0.14791820177437845 and parameters: {'depth': 7, 'learning_rate': 0.28027338470079066, 'iterations': 531, 'l2_leaf_reg': 6.208773214011187, 'random_strength': 4.139075680290592, 'bagging_temperature': 0.5480422598686284, 'border_count': 220, 'early_stopping_rounds': 50}. Best is trial 23 with value: 0.14203359680131933.\n",
      "[I 2024-11-28 15:40:22,117] Trial 115 finished with value: 0.15254189221232803 and parameters: {'depth': 7, 'learning_rate': 0.31140998249630586, 'iterations': 488, 'l2_leaf_reg': 6.838200550019692, 'random_strength': 8.469168807457873, 'bagging_temperature': 0.4016924803629808, 'border_count': 197, 'early_stopping_rounds': 50}. Best is trial 23 with value: 0.14203359680131933.\n",
      "[I 2024-11-28 15:40:30,293] Trial 116 finished with value: 0.149442572257848 and parameters: {'depth': 8, 'learning_rate': 0.19745296483523078, 'iterations': 482, 'l2_leaf_reg': 5.894623802857454, 'random_strength': 3.7554072736349973, 'bagging_temperature': 0.5735334709543651, 'border_count': 43, 'early_stopping_rounds': 50}. Best is trial 23 with value: 0.14203359680131933.\n",
      "[I 2024-11-28 15:40:44,137] Trial 117 finished with value: 0.14960539852315663 and parameters: {'depth': 7, 'learning_rate': 0.24032017016355053, 'iterations': 1440, 'l2_leaf_reg': 6.568941391208837, 'random_strength': 9.746648392473363, 'bagging_temperature': 0.5070852172444686, 'border_count': 211, 'early_stopping_rounds': 50}. Best is trial 23 with value: 0.14203359680131933.\n",
      "[I 2024-11-28 15:40:50,358] Trial 118 finished with value: 0.15086397485745875 and parameters: {'depth': 7, 'learning_rate': 0.2721606117807434, 'iterations': 418, 'l2_leaf_reg': 6.336680745543212, 'random_strength': 7.761974052355672, 'bagging_temperature': 0.4491898023777408, 'border_count': 205, 'early_stopping_rounds': 50}. Best is trial 23 with value: 0.14203359680131933.\n",
      "[I 2024-11-28 15:40:55,341] Trial 119 finished with value: 0.14972824706599575 and parameters: {'depth': 5, 'learning_rate': 0.3941736378697757, 'iterations': 695, 'l2_leaf_reg': 5.530594282522864, 'random_strength': 8.873820488002766, 'bagging_temperature': 0.5419244614266333, 'border_count': 54, 'early_stopping_rounds': 50}. Best is trial 23 with value: 0.14203359680131933.\n",
      "[I 2024-11-28 15:41:02,134] Trial 120 finished with value: 0.14271500437451928 and parameters: {'depth': 8, 'learning_rate': 0.36322575455955974, 'iterations': 277, 'l2_leaf_reg': 7.132605379188803, 'random_strength': 9.170610644955952, 'bagging_temperature': 0.6211245439319032, 'border_count': 59, 'early_stopping_rounds': 50}. Best is trial 23 with value: 0.14203359680131933.\n",
      "[I 2024-11-28 15:41:04,192] Trial 121 finished with value: 0.1581196476213194 and parameters: {'depth': 8, 'learning_rate': 0.36661715852697624, 'iterations': 179, 'l2_leaf_reg': 7.163559923361708, 'random_strength': 9.078635449108425, 'bagging_temperature': 0.6511186170997094, 'border_count': 58, 'early_stopping_rounds': 50}. Best is trial 23 with value: 0.14203359680131933.\n",
      "[I 2024-11-28 15:41:12,783] Trial 122 finished with value: 0.15603882599959787 and parameters: {'depth': 10, 'learning_rate': 0.3447952886851369, 'iterations': 331, 'l2_leaf_reg': 6.823402079309167, 'random_strength': 9.34018641508051, 'bagging_temperature': 0.5795818652265005, 'border_count': 63, 'early_stopping_rounds': 50}. Best is trial 23 with value: 0.14203359680131933.\n",
      "[I 2024-11-28 15:41:17,897] Trial 123 finished with value: 0.15460017051443273 and parameters: {'depth': 8, 'learning_rate': 0.4215171882605008, 'iterations': 274, 'l2_leaf_reg': 8.605548579848971, 'random_strength': 9.994564467613108, 'bagging_temperature': 0.6017855043853599, 'border_count': 171, 'early_stopping_rounds': 50}. Best is trial 23 with value: 0.14203359680131933.\n",
      "[I 2024-11-28 15:41:26,814] Trial 124 finished with value: 0.1436382929771944 and parameters: {'depth': 8, 'learning_rate': 0.22413660220013085, 'iterations': 392, 'l2_leaf_reg': 7.042397042704637, 'random_strength': 8.669310345060778, 'bagging_temperature': 0.47926250534720183, 'border_count': 204, 'early_stopping_rounds': 50}. Best is trial 23 with value: 0.14203359680131933.\n",
      "[I 2024-11-28 15:41:39,240] Trial 125 finished with value: 0.14826798523990997 and parameters: {'depth': 8, 'learning_rate': 0.21606679021533848, 'iterations': 309, 'l2_leaf_reg': 8.135082427462123, 'random_strength': 8.614594335303694, 'bagging_temperature': 0.4787370460091475, 'border_count': 203, 'early_stopping_rounds': 50}. Best is trial 23 with value: 0.14203359680131933.\n",
      "[I 2024-11-28 15:41:41,612] Trial 126 finished with value: 0.14819380472800167 and parameters: {'depth': 8, 'learning_rate': 0.3965639457579568, 'iterations': 132, 'l2_leaf_reg': 7.009759509033076, 'random_strength': 8.279491423609082, 'bagging_temperature': 0.5174919219291035, 'border_count': 192, 'early_stopping_rounds': 50}. Best is trial 23 with value: 0.14203359680131933.\n",
      "[I 2024-11-28 15:41:48,147] Trial 127 finished with value: 0.14582786256619812 and parameters: {'depth': 9, 'learning_rate': 0.31933430083842734, 'iterations': 387, 'l2_leaf_reg': 7.438390470442097, 'random_strength': 8.003951115441879, 'bagging_temperature': 0.4268888313067254, 'border_count': 211, 'early_stopping_rounds': 50}. Best is trial 23 with value: 0.14203359680131933.\n",
      "[I 2024-11-28 15:41:53,813] Trial 128 finished with value: 0.1580284753308502 and parameters: {'depth': 8, 'learning_rate': 0.3555055107094929, 'iterations': 236, 'l2_leaf_reg': 7.894155291007175, 'random_strength': 8.986017679964188, 'bagging_temperature': 0.5549842968762501, 'border_count': 225, 'early_stopping_rounds': 50}. Best is trial 23 with value: 0.14203359680131933.\n",
      "[I 2024-11-28 15:42:01,669] Trial 129 finished with value: 0.14770840758673606 and parameters: {'depth': 9, 'learning_rate': 0.29952300635339424, 'iterations': 396, 'l2_leaf_reg': 6.64877598564549, 'random_strength': 7.441701569420415, 'bagging_temperature': 0.37908225584236976, 'border_count': 205, 'early_stopping_rounds': 50}. Best is trial 23 with value: 0.14203359680131933.\n",
      "[I 2024-11-28 15:42:09,153] Trial 130 finished with value: 0.15212966744513767 and parameters: {'depth': 7, 'learning_rate': 0.24634947837439478, 'iterations': 278, 'l2_leaf_reg': 6.0903775367915385, 'random_strength': 9.230068393135042, 'bagging_temperature': 0.5321579409854575, 'border_count': 184, 'early_stopping_rounds': 50}. Best is trial 23 with value: 0.14203359680131933.\n",
      "[I 2024-11-28 15:42:18,308] Trial 131 finished with value: 0.15337554272790896 and parameters: {'depth': 8, 'learning_rate': 0.23381133772397938, 'iterations': 506, 'l2_leaf_reg': 7.23722733604885, 'random_strength': 8.4402782614579, 'bagging_temperature': 0.4908257264333716, 'border_count': 214, 'early_stopping_rounds': 50}. Best is trial 23 with value: 0.14203359680131933.\n",
      "[I 2024-11-28 15:42:28,037] Trial 132 finished with value: 0.15248751341084243 and parameters: {'depth': 7, 'learning_rate': 0.27014094409148093, 'iterations': 439, 'l2_leaf_reg': 6.310678421067132, 'random_strength': 8.694328440460717, 'bagging_temperature': 0.45287540118348457, 'border_count': 68, 'early_stopping_rounds': 50}. Best is trial 23 with value: 0.14203359680131933.\n",
      "[I 2024-11-28 15:42:36,644] Trial 133 finished with value: 0.15315396881953627 and parameters: {'depth': 8, 'learning_rate': 0.19820514283655227, 'iterations': 341, 'l2_leaf_reg': 5.800548989599478, 'random_strength': 7.642644056007877, 'bagging_temperature': 0.6150036735563718, 'border_count': 36, 'early_stopping_rounds': 50}. Best is trial 23 with value: 0.14203359680131933.\n",
      "[I 2024-11-28 15:42:46,470] Trial 134 finished with value: 0.14775446126243957 and parameters: {'depth': 5, 'learning_rate': 0.22390001473027976, 'iterations': 603, 'l2_leaf_reg': 6.865964385122919, 'random_strength': 8.157865573654359, 'bagging_temperature': 0.5826624989903699, 'border_count': 201, 'early_stopping_rounds': 50}. Best is trial 23 with value: 0.14203359680131933.\n",
      "[I 2024-11-28 15:42:55,949] Trial 135 finished with value: 0.14630199245469402 and parameters: {'depth': 7, 'learning_rate': 0.25752623643762096, 'iterations': 471, 'l2_leaf_reg': 7.513079952778007, 'random_strength': 7.926112821218153, 'bagging_temperature': 0.5107723317282813, 'border_count': 77, 'early_stopping_rounds': 50}. Best is trial 23 with value: 0.14203359680131933.\n",
      "[I 2024-11-28 15:43:01,445] Trial 136 finished with value: 0.15308620136743278 and parameters: {'depth': 8, 'learning_rate': 0.4338952353727431, 'iterations': 532, 'l2_leaf_reg': 7.044673690468748, 'random_strength': 8.758567430546018, 'bagging_temperature': 0.5656926662069417, 'border_count': 54, 'early_stopping_rounds': 50}. Best is trial 23 with value: 0.14203359680131933.\n",
      "[I 2024-11-28 15:43:09,479] Trial 137 finished with value: 0.1483308189310999 and parameters: {'depth': 6, 'learning_rate': 0.3268562176740893, 'iterations': 416, 'l2_leaf_reg': 6.6137025665909945, 'random_strength': 7.0012989790582205, 'bagging_temperature': 0.8619244659152644, 'border_count': 60, 'early_stopping_rounds': 50}. Best is trial 23 with value: 0.14203359680131933.\n",
      "[I 2024-11-28 15:43:18,387] Trial 138 finished with value: 0.1514341912915777 and parameters: {'depth': 5, 'learning_rate': 0.28771990123568175, 'iterations': 872, 'l2_leaf_reg': 6.442669085573152, 'random_strength': 4.134308416258025, 'bagging_temperature': 0.7826789312301226, 'border_count': 50, 'early_stopping_rounds': 50}. Best is trial 23 with value: 0.14203359680131933.\n",
      "[I 2024-11-28 15:43:30,903] Trial 139 finished with value: 0.16523038999138792 and parameters: {'depth': 4, 'learning_rate': 0.019073973052248915, 'iterations': 365, 'l2_leaf_reg': 7.1344470231589465, 'random_strength': 9.726177731471658, 'bagging_temperature': 0.6735437749101305, 'border_count': 150, 'early_stopping_rounds': 50}. Best is trial 23 with value: 0.14203359680131933.\n",
      "[I 2024-11-28 15:43:39,811] Trial 140 finished with value: 0.14915046296721704 and parameters: {'depth': 8, 'learning_rate': 0.18085764982664734, 'iterations': 560, 'l2_leaf_reg': 7.690548127544437, 'random_strength': 8.389381902433708, 'bagging_temperature': 0.5373401876790899, 'border_count': 42, 'early_stopping_rounds': 50}. Best is trial 23 with value: 0.14203359680131933.\n",
      "[I 2024-11-28 15:43:49,663] Trial 141 finished with value: 0.15763791926664403 and parameters: {'depth': 6, 'learning_rate': 0.4054741164968203, 'iterations': 472, 'l2_leaf_reg': 7.424422915922718, 'random_strength': 4.796391508914592, 'bagging_temperature': 0.713112097513731, 'border_count': 73, 'early_stopping_rounds': 50}. Best is trial 23 with value: 0.14203359680131933.\n",
      "[I 2024-11-28 15:43:56,014] Trial 142 finished with value: 0.1458930250785497 and parameters: {'depth': 6, 'learning_rate': 0.45646378939577964, 'iterations': 452, 'l2_leaf_reg': 8.184258879295802, 'random_strength': 3.9057335340444626, 'bagging_temperature': 0.8167928894701183, 'border_count': 70, 'early_stopping_rounds': 50}. Best is trial 23 with value: 0.14203359680131933.\n",
      "[I 2024-11-28 15:44:00,927] Trial 143 finished with value: 0.1483077966774188 and parameters: {'depth': 7, 'learning_rate': 0.38023101731232756, 'iterations': 428, 'l2_leaf_reg': 7.624374406500666, 'random_strength': 3.203216760801572, 'bagging_temperature': 0.7633822056986843, 'border_count': 65, 'early_stopping_rounds': 50}. Best is trial 23 with value: 0.14203359680131933.\n",
      "[I 2024-11-28 15:44:05,077] Trial 144 finished with value: 0.14699110055625747 and parameters: {'depth': 6, 'learning_rate': 0.4198517841065343, 'iterations': 503, 'l2_leaf_reg': 7.892839614443645, 'random_strength': 4.486946524788732, 'bagging_temperature': 0.6255446691661577, 'border_count': 80, 'early_stopping_rounds': 50}. Best is trial 23 with value: 0.14203359680131933.\n",
      "[I 2024-11-28 15:44:12,736] Trial 145 finished with value: 0.1532101506737252 and parameters: {'depth': 5, 'learning_rate': 0.3599690371784622, 'iterations': 400, 'l2_leaf_reg': 7.299177982445729, 'random_strength': 7.6829829618194365, 'bagging_temperature': 0.7345591947646969, 'border_count': 57, 'early_stopping_rounds': 50}. Best is trial 23 with value: 0.14203359680131933.\n",
      "[I 2024-11-28 15:44:22,762] Trial 146 finished with value: 0.15438350236763337 and parameters: {'depth': 12, 'learning_rate': 0.49624383517160897, 'iterations': 354, 'l2_leaf_reg': 6.719455059723377, 'random_strength': 9.00393351258039, 'bagging_temperature': 0.8021451838536676, 'border_count': 87, 'early_stopping_rounds': 50}. Best is trial 23 with value: 0.14203359680131933.\n",
      "[I 2024-11-28 15:44:28,247] Trial 147 finished with value: 0.15268281604643452 and parameters: {'depth': 6, 'learning_rate': 0.3368955855823034, 'iterations': 208, 'l2_leaf_reg': 5.150889693602714, 'random_strength': 4.149409380168025, 'bagging_temperature': 0.8392205779874913, 'border_count': 71, 'early_stopping_rounds': 50}. Best is trial 23 with value: 0.14203359680131933.\n",
      "[I 2024-11-28 15:44:53,694] Trial 148 finished with value: 0.15059729945443476 and parameters: {'depth': 11, 'learning_rate': 0.06667983417665589, 'iterations': 536, 'l2_leaf_reg': 8.482726114634687, 'random_strength': 7.941285837406928, 'bagging_temperature': 0.5142780984108573, 'border_count': 238, 'early_stopping_rounds': 51}. Best is trial 23 with value: 0.14203359680131933.\n",
      "[I 2024-11-28 15:45:04,148] Trial 149 finished with value: 0.14940036042899152 and parameters: {'depth': 7, 'learning_rate': 0.2034208330544768, 'iterations': 466, 'l2_leaf_reg': 7.98758766240334, 'random_strength': 5.061511502103803, 'bagging_temperature': 0.5944580207591506, 'border_count': 114, 'early_stopping_rounds': 50}. Best is trial 23 with value: 0.14203359680131933.\n",
      "[I 2024-11-28 15:45:11,778] Trial 150 finished with value: 0.15052936926979285 and parameters: {'depth': 9, 'learning_rate': 0.2636887442768019, 'iterations': 586, 'l2_leaf_reg': 6.898511241460348, 'random_strength': 8.563648413671775, 'bagging_temperature': 0.451963632682269, 'border_count': 65, 'early_stopping_rounds': 50}. Best is trial 23 with value: 0.14203359680131933.\n",
      "[I 2024-11-28 15:45:19,751] Trial 151 finished with value: 0.15375878687801417 and parameters: {'depth': 10, 'learning_rate': 0.3131746988838593, 'iterations': 371, 'l2_leaf_reg': 7.487651445415669, 'random_strength': 8.048509092863247, 'bagging_temperature': 0.7753399096163629, 'border_count': 208, 'early_stopping_rounds': 50}. Best is trial 23 with value: 0.14203359680131933.\n",
      "[I 2024-11-28 15:45:27,418] Trial 152 finished with value: 0.15797609205102958 and parameters: {'depth': 10, 'learning_rate': 0.3264330380816794, 'iterations': 391, 'l2_leaf_reg': 7.110915915028365, 'random_strength': 7.410764395163137, 'bagging_temperature': 0.4299616643332072, 'border_count': 213, 'early_stopping_rounds': 50}. Best is trial 23 with value: 0.14203359680131933.\n",
      "[I 2024-11-28 15:45:33,746] Trial 153 finished with value: 0.1479192642016539 and parameters: {'depth': 9, 'learning_rate': 0.38775449507188053, 'iterations': 446, 'l2_leaf_reg': 6.107155583248973, 'random_strength': 7.785477011627169, 'bagging_temperature': 0.4764960819591084, 'border_count': 218, 'early_stopping_rounds': 50}. Best is trial 23 with value: 0.14203359680131933.\n",
      "[I 2024-11-28 15:45:41,497] Trial 154 finished with value: 0.1495255758600489 and parameters: {'depth': 9, 'learning_rate': 0.3047197193035173, 'iterations': 312, 'l2_leaf_reg': 7.443714820759427, 'random_strength': 8.268859368783694, 'bagging_temperature': 0.49877295197539395, 'border_count': 200, 'early_stopping_rounds': 50}. Best is trial 23 with value: 0.14203359680131933.\n",
      "[I 2024-11-28 15:45:45,798] Trial 155 finished with value: 0.1474953596728239 and parameters: {'depth': 7, 'learning_rate': 0.6912075425320716, 'iterations': 397, 'l2_leaf_reg': 7.70024496161671, 'random_strength': 4.673199790806853, 'bagging_temperature': 0.4158917475520708, 'border_count': 46, 'early_stopping_rounds': 50}. Best is trial 23 with value: 0.14203359680131933.\n",
      "[I 2024-11-28 15:45:55,527] Trial 156 finished with value: 0.14936910107151885 and parameters: {'depth': 9, 'learning_rate': 0.24051006482364445, 'iterations': 507, 'l2_leaf_reg': 6.4598108311355364, 'random_strength': 8.818717957295325, 'bagging_temperature': 0.5504217350193793, 'border_count': 59, 'early_stopping_rounds': 50}. Best is trial 23 with value: 0.14203359680131933.\n",
      "[I 2024-11-28 15:46:04,969] Trial 157 finished with value: 0.15405006722653644 and parameters: {'depth': 10, 'learning_rate': 0.22023832138403224, 'iterations': 431, 'l2_leaf_reg': 7.285911630071806, 'random_strength': 9.479430188125589, 'bagging_temperature': 0.9231786790214462, 'border_count': 190, 'early_stopping_rounds': 50}. Best is trial 23 with value: 0.14203359680131933.\n",
      "[I 2024-11-28 15:46:12,169] Trial 158 finished with value: 0.15589185945971618 and parameters: {'depth': 5, 'learning_rate': 0.3642030202737747, 'iterations': 344, 'l2_leaf_reg': 1.1559458133754967, 'random_strength': 4.367615647729329, 'bagging_temperature': 0.5606398040642145, 'border_count': 208, 'early_stopping_rounds': 50}. Best is trial 23 with value: 0.14203359680131933.\n",
      "[I 2024-11-28 15:46:18,744] Trial 159 finished with value: 0.1564066005757979 and parameters: {'depth': 7, 'learning_rate': 0.3453280587019076, 'iterations': 262, 'l2_leaf_reg': 8.300524826043766, 'random_strength': 7.940239732845719, 'bagging_temperature': 0.7447278052847538, 'border_count': 77, 'early_stopping_rounds': 50}. Best is trial 23 with value: 0.14203359680131933.\n",
      "[I 2024-11-28 15:46:26,958] Trial 160 finished with value: 0.15596179115945186 and parameters: {'depth': 8, 'learning_rate': 0.2782270547594123, 'iterations': 478, 'l2_leaf_reg': 5.606848000371075, 'random_strength': 9.214361838770175, 'bagging_temperature': 0.6882230496613853, 'border_count': 196, 'early_stopping_rounds': 50}. Best is trial 23 with value: 0.14203359680131933.\n",
      "[I 2024-11-28 15:46:31,999] Trial 161 finished with value: 0.15092400845491452 and parameters: {'depth': 6, 'learning_rate': 0.45124294191872033, 'iterations': 450, 'l2_leaf_reg': 8.15110314952678, 'random_strength': 8.168907893335696, 'bagging_temperature': 0.8370512134111795, 'border_count': 69, 'early_stopping_rounds': 50}. Best is trial 23 with value: 0.14203359680131933.\n",
      "[I 2024-11-28 15:46:38,397] Trial 162 finished with value: 0.15310919065751585 and parameters: {'depth': 6, 'learning_rate': 0.47190065024153494, 'iterations': 386, 'l2_leaf_reg': 7.88144728437662, 'random_strength': 3.866049646179887, 'bagging_temperature': 0.8088216614392002, 'border_count': 72, 'early_stopping_rounds': 50}. Best is trial 23 with value: 0.14203359680131933.\n",
      "[I 2024-11-28 15:46:42,835] Trial 163 finished with value: 0.1444027296424541 and parameters: {'depth': 6, 'learning_rate': 0.5368804511449213, 'iterations': 421, 'l2_leaf_reg': 7.628313173531818, 'random_strength': 3.7077482292864987, 'bagging_temperature': 0.8159048887437663, 'border_count': 65, 'early_stopping_rounds': 50}. Best is trial 23 with value: 0.14203359680131933.\n",
      "[I 2024-11-28 15:46:47,452] Trial 164 finished with value: 0.15021978819933116 and parameters: {'depth': 6, 'learning_rate': 0.5195245499259025, 'iterations': 419, 'l2_leaf_reg': 7.615466692120794, 'random_strength': 3.614256334012178, 'bagging_temperature': 0.8585807472450868, 'border_count': 52, 'early_stopping_rounds': 50}. Best is trial 23 with value: 0.14203359680131933.\n",
      "[I 2024-11-28 15:47:00,204] Trial 165 finished with value: 0.14987219853388817 and parameters: {'depth': 5, 'learning_rate': 0.05353830615617346, 'iterations': 319, 'l2_leaf_reg': 6.967639114000807, 'random_strength': 8.45644756698223, 'bagging_temperature': 0.526162681383036, 'border_count': 83, 'early_stopping_rounds': 50}. Best is trial 23 with value: 0.14203359680131933.\n",
      "[I 2024-11-28 15:47:05,709] Trial 166 finished with value: 0.1485370301815331 and parameters: {'depth': 7, 'learning_rate': 0.5481576681522765, 'iterations': 501, 'l2_leaf_reg': 6.710077574604733, 'random_strength': 2.6480810804264703, 'bagging_temperature': 0.8805290103398359, 'border_count': 64, 'early_stopping_rounds': 50}. Best is trial 23 with value: 0.14203359680131933.\n",
      "[I 2024-11-28 15:47:10,217] Trial 167 finished with value: 0.147813024952933 and parameters: {'depth': 6, 'learning_rate': 0.644618370697621, 'iterations': 289, 'l2_leaf_reg': 6.263930599791102, 'random_strength': 7.494215293265987, 'bagging_temperature': 0.7853787539202645, 'border_count': 59, 'early_stopping_rounds': 50}. Best is trial 23 with value: 0.14203359680131933.\n",
      "[I 2024-11-28 15:47:35,311] Trial 168 finished with value: 0.14911337018121898 and parameters: {'depth': 6, 'learning_rate': 0.08870113128876987, 'iterations': 532, 'l2_leaf_reg': 7.055287066679489, 'random_strength': 3.3318489763244976, 'bagging_temperature': 0.6429545763271327, 'border_count': 217, 'early_stopping_rounds': 50}. Best is trial 23 with value: 0.14203359680131933.\n",
      "[I 2024-11-28 15:47:41,587] Trial 169 finished with value: 0.1460540740768606 and parameters: {'depth': 8, 'learning_rate': 0.29567176977560833, 'iterations': 399, 'l2_leaf_reg': 7.401024099095914, 'random_strength': 4.132805976916135, 'bagging_temperature': 0.5796023592920987, 'border_count': 49, 'early_stopping_rounds': 50}. Best is trial 23 with value: 0.14203359680131933.\n",
      "[I 2024-11-28 15:47:43,049] Trial 170 finished with value: 0.15870925446917084 and parameters: {'depth': 5, 'learning_rate': 0.42657399624438347, 'iterations': 102, 'l2_leaf_reg': 7.71832332305594, 'random_strength': 7.797818997691591, 'bagging_temperature': 0.8221410548413676, 'border_count': 55, 'early_stopping_rounds': 50}. Best is trial 23 with value: 0.14203359680131933.\n",
      "[I 2024-11-28 15:47:51,301] Trial 171 finished with value: 0.14895932854335125 and parameters: {'depth': 6, 'learning_rate': 0.3967820698933833, 'iterations': 452, 'l2_leaf_reg': 7.962979776546445, 'random_strength': 3.898645953263043, 'bagging_temperature': 0.817808060925693, 'border_count': 68, 'early_stopping_rounds': 50}. Best is trial 23 with value: 0.14203359680131933.\n",
      "[I 2024-11-28 15:47:57,210] Trial 172 finished with value: 0.1505863239484522 and parameters: {'depth': 6, 'learning_rate': 0.4902684358206572, 'iterations': 451, 'l2_leaf_reg': 8.264786952089658, 'random_strength': 3.7674260301304074, 'bagging_temperature': 0.8088314544090899, 'border_count': 73, 'early_stopping_rounds': 50}. Best is trial 23 with value: 0.14203359680131933.\n",
      "[I 2024-11-28 15:48:03,152] Trial 173 finished with value: 0.15158029441245766 and parameters: {'depth': 6, 'learning_rate': 0.5674284373804441, 'iterations': 371, 'l2_leaf_reg': 7.221779151032511, 'random_strength': 3.4308038166981785, 'bagging_temperature': 0.7766775293482483, 'border_count': 62, 'early_stopping_rounds': 50}. Best is trial 23 with value: 0.14203359680131933.\n",
      "[I 2024-11-28 15:48:08,667] Trial 174 finished with value: 0.15524638326195123 and parameters: {'depth': 6, 'learning_rate': 0.37489515807927115, 'iterations': 476, 'l2_leaf_reg': 6.7881063466557485, 'random_strength': 4.327716628913931, 'bagging_temperature': 0.852789235041851, 'border_count': 78, 'early_stopping_rounds': 50}. Best is trial 23 with value: 0.14203359680131933.\n",
      "[I 2024-11-28 15:48:16,377] Trial 175 finished with value: 0.14546837850035443 and parameters: {'depth': 7, 'learning_rate': 0.24835731321558954, 'iterations': 562, 'l2_leaf_reg': 6.000092143792884, 'random_strength': 4.054564193073515, 'bagging_temperature': 0.36266287989732116, 'border_count': 66, 'early_stopping_rounds': 50}. Best is trial 23 with value: 0.14203359680131933.\n",
      "[I 2024-11-28 15:48:26,406] Trial 176 finished with value: 0.1463327352065406 and parameters: {'depth': 7, 'learning_rate': 0.2564819067128162, 'iterations': 560, 'l2_leaf_reg': 5.961002222560541, 'random_strength': 8.678856947607777, 'bagging_temperature': 0.2813299064565297, 'border_count': 63, 'early_stopping_rounds': 50}. Best is trial 23 with value: 0.14203359680131933.\n",
      "[I 2024-11-28 15:48:35,719] Trial 177 finished with value: 0.1459017068402399 and parameters: {'depth': 7, 'learning_rate': 0.22384392691749208, 'iterations': 611, 'l2_leaf_reg': 5.720860695954865, 'random_strength': 8.311510425427445, 'bagging_temperature': 0.3721075293134839, 'border_count': 57, 'early_stopping_rounds': 50}. Best is trial 23 with value: 0.14203359680131933.\n",
      "[I 2024-11-28 15:48:48,887] Trial 178 finished with value: 0.14803264474021408 and parameters: {'depth': 7, 'learning_rate': 0.24521475582590854, 'iterations': 519, 'l2_leaf_reg': 6.068701287957095, 'random_strength': 8.057194099832794, 'bagging_temperature': 0.5385225672057838, 'border_count': 222, 'early_stopping_rounds': 50}. Best is trial 23 with value: 0.14203359680131933.\n",
      "[I 2024-11-28 15:48:56,453] Trial 179 finished with value: 0.15001708639120806 and parameters: {'depth': 7, 'learning_rate': 0.2740003404714107, 'iterations': 636, 'l2_leaf_reg': 6.581040416423479, 'random_strength': 6.249616695485221, 'bagging_temperature': 0.3086265082044227, 'border_count': 60, 'early_stopping_rounds': 50}. Best is trial 23 with value: 0.14203359680131933.\n",
      "[I 2024-11-28 15:49:03,860] Trial 180 finished with value: 0.14558508379820567 and parameters: {'depth': 8, 'learning_rate': 0.21119993597345588, 'iterations': 418, 'l2_leaf_reg': 6.309575439097, 'random_strength': 4.499556947054441, 'bagging_temperature': 0.3279182586494703, 'border_count': 210, 'early_stopping_rounds': 50}. Best is trial 23 with value: 0.14203359680131933.\n",
      "[I 2024-11-28 15:49:13,290] Trial 181 finished with value: 0.14806300871201486 and parameters: {'depth': 8, 'learning_rate': 0.1803851202062752, 'iterations': 426, 'l2_leaf_reg': 6.3529373612109925, 'random_strength': 4.541605447113594, 'bagging_temperature': 0.4092285346022903, 'border_count': 208, 'early_stopping_rounds': 50}. Best is trial 23 with value: 0.14203359680131933.\n",
      "[I 2024-11-28 15:49:22,900] Trial 182 finished with value: 0.14683729856646935 and parameters: {'depth': 8, 'learning_rate': 0.18980236647128437, 'iterations': 350, 'l2_leaf_reg': 6.1603632663255805, 'random_strength': 4.039552483138372, 'bagging_temperature': 0.3256375386053583, 'border_count': 208, 'early_stopping_rounds': 50}. Best is trial 23 with value: 0.14203359680131933.\n",
      "[I 2024-11-28 15:49:30,082] Trial 183 finished with value: 0.1486599551853435 and parameters: {'depth': 8, 'learning_rate': 0.2175406709904339, 'iterations': 493, 'l2_leaf_reg': 5.922154846628139, 'random_strength': 4.226960756052408, 'bagging_temperature': 0.38428246665175275, 'border_count': 200, 'early_stopping_rounds': 50}. Best is trial 23 with value: 0.14203359680131933.\n",
      "[I 2024-11-28 15:49:39,076] Trial 184 finished with value: 0.1512333072041953 and parameters: {'depth': 8, 'learning_rate': 0.20765313416908598, 'iterations': 407, 'l2_leaf_reg': 6.47026901496263, 'random_strength': 4.485978985323243, 'bagging_temperature': 0.4897170700234008, 'border_count': 67, 'early_stopping_rounds': 50}. Best is trial 23 with value: 0.14203359680131933.\n",
      "[I 2024-11-28 15:49:45,559] Trial 185 finished with value: 0.1561519230316251 and parameters: {'depth': 9, 'learning_rate': 0.3174005405421689, 'iterations': 555, 'l2_leaf_reg': 6.892384551302915, 'random_strength': 5.230688923207243, 'bagging_temperature': 0.342859065229018, 'border_count': 213, 'early_stopping_rounds': 50}. Best is trial 23 with value: 0.14203359680131933.\n",
      "[I 2024-11-28 15:49:54,333] Trial 186 finished with value: 0.15221315577702665 and parameters: {'depth': 7, 'learning_rate': 0.24261300406752445, 'iterations': 472, 'l2_leaf_reg': 7.459195832214346, 'random_strength': 4.792355295717855, 'bagging_temperature': 0.3542614335632901, 'border_count': 76, 'early_stopping_rounds': 50}. Best is trial 23 with value: 0.14203359680131933.\n",
      "[I 2024-11-28 15:50:01,387] Trial 187 finished with value: 0.14968466959995416 and parameters: {'depth': 8, 'learning_rate': 0.2824284599440319, 'iterations': 421, 'l2_leaf_reg': 6.625566884641239, 'random_strength': 2.9616190133016778, 'bagging_temperature': 0.4644121752110872, 'border_count': 53, 'early_stopping_rounds': 50}. Best is trial 23 with value: 0.14203359680131933.\n",
      "[I 2024-11-28 15:50:11,987] Trial 188 finished with value: 0.1453003391942209 and parameters: {'depth': 7, 'learning_rate': 0.23056261149609844, 'iterations': 375, 'l2_leaf_reg': 5.7872320751220405, 'random_strength': 7.584679414067943, 'bagging_temperature': 0.5132432954699842, 'border_count': 67, 'early_stopping_rounds': 50}. Best is trial 23 with value: 0.14203359680131933.\n",
      "[I 2024-11-28 15:50:22,856] Trial 189 finished with value: 0.14716190258875672 and parameters: {'depth': 7, 'learning_rate': 0.2085449574145125, 'iterations': 330, 'l2_leaf_reg': 5.516225185744901, 'random_strength': 7.232750923619438, 'bagging_temperature': 0.01742480874506358, 'border_count': 67, 'early_stopping_rounds': 50}. Best is trial 23 with value: 0.14203359680131933.\n",
      "[I 2024-11-28 15:50:36,767] Trial 190 finished with value: 0.1469425427512607 and parameters: {'depth': 7, 'learning_rate': 0.2337417281562128, 'iterations': 583, 'l2_leaf_reg': 5.725176076387463, 'random_strength': 7.56616323333729, 'bagging_temperature': 0.523404696147637, 'border_count': 74, 'early_stopping_rounds': 50}. Best is trial 23 with value: 0.14203359680131933.\n",
      "[I 2024-11-28 15:50:45,574] Trial 191 finished with value: 0.14845616918890614 and parameters: {'depth': 7, 'learning_rate': 0.2599180251843713, 'iterations': 373, 'l2_leaf_reg': 5.388709658462728, 'random_strength': 7.678131055790104, 'bagging_temperature': 0.28127613167440524, 'border_count': 62, 'early_stopping_rounds': 50}. Best is trial 23 with value: 0.14203359680131933.\n",
      "[I 2024-11-28 15:50:52,518] Trial 192 finished with value: 0.1539921472367229 and parameters: {'depth': 5, 'learning_rate': 0.41028958721774306, 'iterations': 390, 'l2_leaf_reg': 4.9025632453625825, 'random_strength': 7.895860833853764, 'bagging_temperature': 0.5022893177195262, 'border_count': 69, 'early_stopping_rounds': 50}. Best is trial 23 with value: 0.14203359680131933.\n",
      "[I 2024-11-28 15:51:04,441] Trial 193 finished with value: 0.14463368481255637 and parameters: {'depth': 7, 'learning_rate': 0.1649227312765472, 'iterations': 436, 'l2_leaf_reg': 6.272625273796901, 'random_strength': 8.128788366338103, 'bagging_temperature': 0.4380148357446955, 'border_count': 81, 'early_stopping_rounds': 50}. Best is trial 23 with value: 0.14203359680131933.\n",
      "[I 2024-11-28 15:51:16,435] Trial 194 finished with value: 0.15039488659124656 and parameters: {'depth': 7, 'learning_rate': 0.16815747546958704, 'iterations': 445, 'l2_leaf_reg': 6.293342196710087, 'random_strength': 8.85382985832485, 'bagging_temperature': 0.31294162728531316, 'border_count': 81, 'early_stopping_rounds': 50}. Best is trial 23 with value: 0.14203359680131933.\n",
      "[I 2024-11-28 15:51:26,864] Trial 195 finished with value: 0.15505849011214679 and parameters: {'depth': 7, 'learning_rate': 0.15003344037204328, 'iterations': 767, 'l2_leaf_reg': 5.866565087809006, 'random_strength': 8.455143947071997, 'bagging_temperature': 0.5587732848953457, 'border_count': 93, 'early_stopping_rounds': 50}. Best is trial 23 with value: 0.14203359680131933.\n",
      "[I 2024-11-28 15:51:37,031] Trial 196 finished with value: 0.14917920645100163 and parameters: {'depth': 7, 'learning_rate': 0.1896605228430315, 'iterations': 490, 'l2_leaf_reg': 6.11194619328067, 'random_strength': 9.030628649296654, 'bagging_temperature': 0.5445615518341466, 'border_count': 87, 'early_stopping_rounds': 50}. Best is trial 23 with value: 0.14203359680131933.\n",
      "[I 2024-11-28 15:51:44,749] Trial 197 finished with value: 0.15079298143136163 and parameters: {'depth': 7, 'learning_rate': 0.2335121450633925, 'iterations': 1199, 'l2_leaf_reg': 6.276758485628829, 'random_strength': 5.517786869888148, 'bagging_temperature': 0.5085934241287028, 'border_count': 100, 'early_stopping_rounds': 50}. Best is trial 23 with value: 0.14203359680131933.\n",
      "[I 2024-11-28 15:52:00,528] Trial 198 finished with value: 0.1499220689551233 and parameters: {'depth': 5, 'learning_rate': 0.19670756186970695, 'iterations': 518, 'l2_leaf_reg': 6.45119458696731, 'random_strength': 8.201178127329145, 'bagging_temperature': 0.5879383133629251, 'border_count': 83, 'early_stopping_rounds': 51}. Best is trial 23 with value: 0.14203359680131933.\n",
      "[I 2024-11-28 15:52:15,596] Trial 199 finished with value: 0.15059389006676274 and parameters: {'depth': 7, 'learning_rate': 0.13543390659853097, 'iterations': 438, 'l2_leaf_reg': 6.000414874326077, 'random_strength': 8.598132637331108, 'bagging_temperature': 0.7523035994794587, 'border_count': 73, 'early_stopping_rounds': 50}. Best is trial 23 with value: 0.14203359680131933.\n",
      "[I 2024-11-28 15:52:24,287] Trial 200 finished with value: 0.15103575804375685 and parameters: {'depth': 8, 'learning_rate': 0.22275124893352521, 'iterations': 413, 'l2_leaf_reg': 5.781557420132474, 'random_strength': 4.9862079436675275, 'bagging_temperature': 0.4773514433759473, 'border_count': 64, 'early_stopping_rounds': 50}. Best is trial 23 with value: 0.14203359680131933.\n"
     ]
    },
    {
     "name": "stdout",
     "output_type": "stream",
     "text": [
      "Early stopping triggered. No improvement after 200 trials.\n"
     ]
    }
   ],
   "source": [
    "early_stopping = EarlyStoppingCallback(patience=200)\n",
    "study = optuna.create_study(direction=\"minimize\")\n",
    "study.optimize(objective, n_trials=500, callbacks=[early_stopping])"
   ]
  },
  {
   "cell_type": "code",
   "execution_count": 401,
   "metadata": {
    "execution": {
     "iopub.execute_input": "2024-11-17T20:15:47.475799Z",
     "iopub.status.busy": "2024-11-17T20:15:47.475174Z",
     "iopub.status.idle": "2024-11-17T20:15:47.483113Z",
     "shell.execute_reply": "2024-11-17T20:15:47.481471Z",
     "shell.execute_reply.started": "2024-11-17T20:15:47.475751Z"
    },
    "trusted": true
   },
   "outputs": [
    {
     "data": {
      "text/plain": [
       "{'depth': 7,\n",
       " 'learning_rate': 0.09245092826492232,\n",
       " 'iterations': 547,\n",
       " 'l2_leaf_reg': 6.749220199485208,\n",
       " 'random_strength': 7.617718293873805,\n",
       " 'bagging_temperature': 0.9069155038665843,\n",
       " 'border_count': 53,\n",
       " 'early_stopping_rounds': 50}"
      ]
     },
     "execution_count": 401,
     "metadata": {},
     "output_type": "execute_result"
    }
   ],
   "source": [
    "best_params = study.best_params\n",
    "# best_params = {'n_estimators': 623,\n",
    "#  'max_depth': 6,\n",
    "#  'learning_rate': 0.04337168717098735,\n",
    "#  'subsample': 0.5762710438011511,\n",
    "#  'colsample_bytree': 0.19790812731138763,\n",
    "#  'gamma': 0.22686965140524085,\n",
    "#  'min_child_weight': 3}\n",
    "best_params"
   ]
  },
  {
   "cell_type": "code",
   "execution_count": 408,
   "metadata": {
    "execution": {
     "iopub.execute_input": "2024-11-17T20:16:05.638087Z",
     "iopub.status.busy": "2024-11-17T20:16:05.637600Z",
     "iopub.status.idle": "2024-11-17T20:16:05.643949Z",
     "shell.execute_reply": "2024-11-17T20:16:05.642478Z",
     "shell.execute_reply.started": "2024-11-17T20:16:05.638047Z"
    },
    "trusted": true
   },
   "outputs": [
    {
     "data": {
      "application/vnd.plotly.v1+json": {
       "config": {
        "plotlyServerURL": "https://plot.ly"
       },
       "data": [
        {
         "cliponaxis": false,
         "hovertemplate": [
          "early_stopping_rounds (IntDistribution): 0.004227706532656315<extra></extra>",
          "random_strength (FloatDistribution): 0.04096061287225924<extra></extra>",
          "bagging_temperature (FloatDistribution): 0.046819972382465325<extra></extra>",
          "border_count (IntDistribution): 0.08002286064598826<extra></extra>",
          "iterations (IntDistribution): 0.09103290775440745<extra></extra>",
          "depth (IntDistribution): 0.1295990868363996<extra></extra>",
          "learning_rate (FloatDistribution): 0.23900858143944656<extra></extra>",
          "l2_leaf_reg (FloatDistribution): 0.36832827153637715<extra></extra>"
         ],
         "name": "Objective Value",
         "orientation": "h",
         "text": [
          "<0.01",
          "0.04",
          "0.05",
          "0.08",
          "0.09",
          "0.13",
          "0.24",
          "0.37"
         ],
         "textposition": "outside",
         "type": "bar",
         "x": [
          0.004227706532656315,
          0.04096061287225924,
          0.046819972382465325,
          0.08002286064598826,
          0.09103290775440745,
          0.1295990868363996,
          0.23900858143944656,
          0.36832827153637715
         ],
         "y": [
          "early_stopping_rounds",
          "random_strength",
          "bagging_temperature",
          "border_count",
          "iterations",
          "depth",
          "learning_rate",
          "l2_leaf_reg"
         ]
        }
       ],
       "layout": {
        "template": {
         "data": {
          "bar": [
           {
            "error_x": {
             "color": "#2a3f5f"
            },
            "error_y": {
             "color": "#2a3f5f"
            },
            "marker": {
             "line": {
              "color": "#E5ECF6",
              "width": 0.5
             },
             "pattern": {
              "fillmode": "overlay",
              "size": 10,
              "solidity": 0.2
             }
            },
            "type": "bar"
           }
          ],
          "barpolar": [
           {
            "marker": {
             "line": {
              "color": "#E5ECF6",
              "width": 0.5
             },
             "pattern": {
              "fillmode": "overlay",
              "size": 10,
              "solidity": 0.2
             }
            },
            "type": "barpolar"
           }
          ],
          "carpet": [
           {
            "aaxis": {
             "endlinecolor": "#2a3f5f",
             "gridcolor": "white",
             "linecolor": "white",
             "minorgridcolor": "white",
             "startlinecolor": "#2a3f5f"
            },
            "baxis": {
             "endlinecolor": "#2a3f5f",
             "gridcolor": "white",
             "linecolor": "white",
             "minorgridcolor": "white",
             "startlinecolor": "#2a3f5f"
            },
            "type": "carpet"
           }
          ],
          "choropleth": [
           {
            "colorbar": {
             "outlinewidth": 0,
             "ticks": ""
            },
            "type": "choropleth"
           }
          ],
          "contour": [
           {
            "colorbar": {
             "outlinewidth": 0,
             "ticks": ""
            },
            "colorscale": [
             [
              0,
              "#0d0887"
             ],
             [
              0.1111111111111111,
              "#46039f"
             ],
             [
              0.2222222222222222,
              "#7201a8"
             ],
             [
              0.3333333333333333,
              "#9c179e"
             ],
             [
              0.4444444444444444,
              "#bd3786"
             ],
             [
              0.5555555555555556,
              "#d8576b"
             ],
             [
              0.6666666666666666,
              "#ed7953"
             ],
             [
              0.7777777777777778,
              "#fb9f3a"
             ],
             [
              0.8888888888888888,
              "#fdca26"
             ],
             [
              1,
              "#f0f921"
             ]
            ],
            "type": "contour"
           }
          ],
          "contourcarpet": [
           {
            "colorbar": {
             "outlinewidth": 0,
             "ticks": ""
            },
            "type": "contourcarpet"
           }
          ],
          "heatmap": [
           {
            "colorbar": {
             "outlinewidth": 0,
             "ticks": ""
            },
            "colorscale": [
             [
              0,
              "#0d0887"
             ],
             [
              0.1111111111111111,
              "#46039f"
             ],
             [
              0.2222222222222222,
              "#7201a8"
             ],
             [
              0.3333333333333333,
              "#9c179e"
             ],
             [
              0.4444444444444444,
              "#bd3786"
             ],
             [
              0.5555555555555556,
              "#d8576b"
             ],
             [
              0.6666666666666666,
              "#ed7953"
             ],
             [
              0.7777777777777778,
              "#fb9f3a"
             ],
             [
              0.8888888888888888,
              "#fdca26"
             ],
             [
              1,
              "#f0f921"
             ]
            ],
            "type": "heatmap"
           }
          ],
          "heatmapgl": [
           {
            "colorbar": {
             "outlinewidth": 0,
             "ticks": ""
            },
            "colorscale": [
             [
              0,
              "#0d0887"
             ],
             [
              0.1111111111111111,
              "#46039f"
             ],
             [
              0.2222222222222222,
              "#7201a8"
             ],
             [
              0.3333333333333333,
              "#9c179e"
             ],
             [
              0.4444444444444444,
              "#bd3786"
             ],
             [
              0.5555555555555556,
              "#d8576b"
             ],
             [
              0.6666666666666666,
              "#ed7953"
             ],
             [
              0.7777777777777778,
              "#fb9f3a"
             ],
             [
              0.8888888888888888,
              "#fdca26"
             ],
             [
              1,
              "#f0f921"
             ]
            ],
            "type": "heatmapgl"
           }
          ],
          "histogram": [
           {
            "marker": {
             "pattern": {
              "fillmode": "overlay",
              "size": 10,
              "solidity": 0.2
             }
            },
            "type": "histogram"
           }
          ],
          "histogram2d": [
           {
            "colorbar": {
             "outlinewidth": 0,
             "ticks": ""
            },
            "colorscale": [
             [
              0,
              "#0d0887"
             ],
             [
              0.1111111111111111,
              "#46039f"
             ],
             [
              0.2222222222222222,
              "#7201a8"
             ],
             [
              0.3333333333333333,
              "#9c179e"
             ],
             [
              0.4444444444444444,
              "#bd3786"
             ],
             [
              0.5555555555555556,
              "#d8576b"
             ],
             [
              0.6666666666666666,
              "#ed7953"
             ],
             [
              0.7777777777777778,
              "#fb9f3a"
             ],
             [
              0.8888888888888888,
              "#fdca26"
             ],
             [
              1,
              "#f0f921"
             ]
            ],
            "type": "histogram2d"
           }
          ],
          "histogram2dcontour": [
           {
            "colorbar": {
             "outlinewidth": 0,
             "ticks": ""
            },
            "colorscale": [
             [
              0,
              "#0d0887"
             ],
             [
              0.1111111111111111,
              "#46039f"
             ],
             [
              0.2222222222222222,
              "#7201a8"
             ],
             [
              0.3333333333333333,
              "#9c179e"
             ],
             [
              0.4444444444444444,
              "#bd3786"
             ],
             [
              0.5555555555555556,
              "#d8576b"
             ],
             [
              0.6666666666666666,
              "#ed7953"
             ],
             [
              0.7777777777777778,
              "#fb9f3a"
             ],
             [
              0.8888888888888888,
              "#fdca26"
             ],
             [
              1,
              "#f0f921"
             ]
            ],
            "type": "histogram2dcontour"
           }
          ],
          "mesh3d": [
           {
            "colorbar": {
             "outlinewidth": 0,
             "ticks": ""
            },
            "type": "mesh3d"
           }
          ],
          "parcoords": [
           {
            "line": {
             "colorbar": {
              "outlinewidth": 0,
              "ticks": ""
             }
            },
            "type": "parcoords"
           }
          ],
          "pie": [
           {
            "automargin": true,
            "type": "pie"
           }
          ],
          "scatter": [
           {
            "fillpattern": {
             "fillmode": "overlay",
             "size": 10,
             "solidity": 0.2
            },
            "type": "scatter"
           }
          ],
          "scatter3d": [
           {
            "line": {
             "colorbar": {
              "outlinewidth": 0,
              "ticks": ""
             }
            },
            "marker": {
             "colorbar": {
              "outlinewidth": 0,
              "ticks": ""
             }
            },
            "type": "scatter3d"
           }
          ],
          "scattercarpet": [
           {
            "marker": {
             "colorbar": {
              "outlinewidth": 0,
              "ticks": ""
             }
            },
            "type": "scattercarpet"
           }
          ],
          "scattergeo": [
           {
            "marker": {
             "colorbar": {
              "outlinewidth": 0,
              "ticks": ""
             }
            },
            "type": "scattergeo"
           }
          ],
          "scattergl": [
           {
            "marker": {
             "colorbar": {
              "outlinewidth": 0,
              "ticks": ""
             }
            },
            "type": "scattergl"
           }
          ],
          "scattermapbox": [
           {
            "marker": {
             "colorbar": {
              "outlinewidth": 0,
              "ticks": ""
             }
            },
            "type": "scattermapbox"
           }
          ],
          "scatterpolar": [
           {
            "marker": {
             "colorbar": {
              "outlinewidth": 0,
              "ticks": ""
             }
            },
            "type": "scatterpolar"
           }
          ],
          "scatterpolargl": [
           {
            "marker": {
             "colorbar": {
              "outlinewidth": 0,
              "ticks": ""
             }
            },
            "type": "scatterpolargl"
           }
          ],
          "scatterternary": [
           {
            "marker": {
             "colorbar": {
              "outlinewidth": 0,
              "ticks": ""
             }
            },
            "type": "scatterternary"
           }
          ],
          "surface": [
           {
            "colorbar": {
             "outlinewidth": 0,
             "ticks": ""
            },
            "colorscale": [
             [
              0,
              "#0d0887"
             ],
             [
              0.1111111111111111,
              "#46039f"
             ],
             [
              0.2222222222222222,
              "#7201a8"
             ],
             [
              0.3333333333333333,
              "#9c179e"
             ],
             [
              0.4444444444444444,
              "#bd3786"
             ],
             [
              0.5555555555555556,
              "#d8576b"
             ],
             [
              0.6666666666666666,
              "#ed7953"
             ],
             [
              0.7777777777777778,
              "#fb9f3a"
             ],
             [
              0.8888888888888888,
              "#fdca26"
             ],
             [
              1,
              "#f0f921"
             ]
            ],
            "type": "surface"
           }
          ],
          "table": [
           {
            "cells": {
             "fill": {
              "color": "#EBF0F8"
             },
             "line": {
              "color": "white"
             }
            },
            "header": {
             "fill": {
              "color": "#C8D4E3"
             },
             "line": {
              "color": "white"
             }
            },
            "type": "table"
           }
          ]
         },
         "layout": {
          "annotationdefaults": {
           "arrowcolor": "#2a3f5f",
           "arrowhead": 0,
           "arrowwidth": 1
          },
          "autotypenumbers": "strict",
          "coloraxis": {
           "colorbar": {
            "outlinewidth": 0,
            "ticks": ""
           }
          },
          "colorscale": {
           "diverging": [
            [
             0,
             "#8e0152"
            ],
            [
             0.1,
             "#c51b7d"
            ],
            [
             0.2,
             "#de77ae"
            ],
            [
             0.3,
             "#f1b6da"
            ],
            [
             0.4,
             "#fde0ef"
            ],
            [
             0.5,
             "#f7f7f7"
            ],
            [
             0.6,
             "#e6f5d0"
            ],
            [
             0.7,
             "#b8e186"
            ],
            [
             0.8,
             "#7fbc41"
            ],
            [
             0.9,
             "#4d9221"
            ],
            [
             1,
             "#276419"
            ]
           ],
           "sequential": [
            [
             0,
             "#0d0887"
            ],
            [
             0.1111111111111111,
             "#46039f"
            ],
            [
             0.2222222222222222,
             "#7201a8"
            ],
            [
             0.3333333333333333,
             "#9c179e"
            ],
            [
             0.4444444444444444,
             "#bd3786"
            ],
            [
             0.5555555555555556,
             "#d8576b"
            ],
            [
             0.6666666666666666,
             "#ed7953"
            ],
            [
             0.7777777777777778,
             "#fb9f3a"
            ],
            [
             0.8888888888888888,
             "#fdca26"
            ],
            [
             1,
             "#f0f921"
            ]
           ],
           "sequentialminus": [
            [
             0,
             "#0d0887"
            ],
            [
             0.1111111111111111,
             "#46039f"
            ],
            [
             0.2222222222222222,
             "#7201a8"
            ],
            [
             0.3333333333333333,
             "#9c179e"
            ],
            [
             0.4444444444444444,
             "#bd3786"
            ],
            [
             0.5555555555555556,
             "#d8576b"
            ],
            [
             0.6666666666666666,
             "#ed7953"
            ],
            [
             0.7777777777777778,
             "#fb9f3a"
            ],
            [
             0.8888888888888888,
             "#fdca26"
            ],
            [
             1,
             "#f0f921"
            ]
           ]
          },
          "colorway": [
           "#636efa",
           "#EF553B",
           "#00cc96",
           "#ab63fa",
           "#FFA15A",
           "#19d3f3",
           "#FF6692",
           "#B6E880",
           "#FF97FF",
           "#FECB52"
          ],
          "font": {
           "color": "#2a3f5f"
          },
          "geo": {
           "bgcolor": "white",
           "lakecolor": "white",
           "landcolor": "#E5ECF6",
           "showlakes": true,
           "showland": true,
           "subunitcolor": "white"
          },
          "hoverlabel": {
           "align": "left"
          },
          "hovermode": "closest",
          "mapbox": {
           "style": "light"
          },
          "paper_bgcolor": "white",
          "plot_bgcolor": "#E5ECF6",
          "polar": {
           "angularaxis": {
            "gridcolor": "white",
            "linecolor": "white",
            "ticks": ""
           },
           "bgcolor": "#E5ECF6",
           "radialaxis": {
            "gridcolor": "white",
            "linecolor": "white",
            "ticks": ""
           }
          },
          "scene": {
           "xaxis": {
            "backgroundcolor": "#E5ECF6",
            "gridcolor": "white",
            "gridwidth": 2,
            "linecolor": "white",
            "showbackground": true,
            "ticks": "",
            "zerolinecolor": "white"
           },
           "yaxis": {
            "backgroundcolor": "#E5ECF6",
            "gridcolor": "white",
            "gridwidth": 2,
            "linecolor": "white",
            "showbackground": true,
            "ticks": "",
            "zerolinecolor": "white"
           },
           "zaxis": {
            "backgroundcolor": "#E5ECF6",
            "gridcolor": "white",
            "gridwidth": 2,
            "linecolor": "white",
            "showbackground": true,
            "ticks": "",
            "zerolinecolor": "white"
           }
          },
          "shapedefaults": {
           "line": {
            "color": "#2a3f5f"
           }
          },
          "ternary": {
           "aaxis": {
            "gridcolor": "white",
            "linecolor": "white",
            "ticks": ""
           },
           "baxis": {
            "gridcolor": "white",
            "linecolor": "white",
            "ticks": ""
           },
           "bgcolor": "#E5ECF6",
           "caxis": {
            "gridcolor": "white",
            "linecolor": "white",
            "ticks": ""
           }
          },
          "title": {
           "x": 0.05
          },
          "xaxis": {
           "automargin": true,
           "gridcolor": "white",
           "linecolor": "white",
           "ticks": "",
           "title": {
            "standoff": 15
           },
           "zerolinecolor": "white",
           "zerolinewidth": 2
          },
          "yaxis": {
           "automargin": true,
           "gridcolor": "white",
           "linecolor": "white",
           "ticks": "",
           "title": {
            "standoff": 15
           },
           "zerolinecolor": "white",
           "zerolinewidth": 2
          }
         }
        },
        "title": {
         "text": "Hyperparameter Importances"
        },
        "xaxis": {
         "title": {
          "text": "Hyperparameter Importance"
         }
        },
        "yaxis": {
         "title": {
          "text": "Hyperparameter"
         }
        }
       }
      }
     },
     "metadata": {},
     "output_type": "display_data"
    }
   ],
   "source": [
    "# optuna.visualization.plot_optimization_history(study)\n",
    "# optuna.visualization.plot_parallel_coordinate(study)\n",
    "# optuna.visualization.plot_slice(study)\n",
    "optuna.visualization.plot_param_importances(study)"
   ]
  },
  {
   "cell_type": "code",
   "execution_count": 403,
   "metadata": {
    "execution": {
     "iopub.execute_input": "2024-11-17T20:17:20.384603Z",
     "iopub.status.busy": "2024-11-17T20:17:20.383854Z",
     "iopub.status.idle": "2024-11-17T20:17:32.382276Z",
     "shell.execute_reply": "2024-11-17T20:17:32.381026Z",
     "shell.execute_reply.started": "2024-11-17T20:17:20.384511Z"
    },
    "trusted": true
   },
   "outputs": [],
   "source": [
    "test_df = manipulate_dataframe(df_test)\n",
    "test_df\n",
    "orig_cols = test_df.columns"
   ]
  },
  {
   "cell_type": "code",
   "execution_count": 404,
   "metadata": {},
   "outputs": [
    {
     "data": {
      "text/html": [
       "<div>\n",
       "<style scoped>\n",
       "    .dataframe tbody tr th:only-of-type {\n",
       "        vertical-align: middle;\n",
       "    }\n",
       "\n",
       "    .dataframe tbody tr th {\n",
       "        vertical-align: top;\n",
       "    }\n",
       "\n",
       "    .dataframe thead th {\n",
       "        text-align: right;\n",
       "    }\n",
       "</style>\n",
       "<table border=\"1\" class=\"dataframe\">\n",
       "  <thead>\n",
       "    <tr style=\"text-align: right;\">\n",
       "      <th></th>\n",
       "      <th>Diet</th>\n",
       "      <th>Qualification</th>\n",
       "      <th>Subject</th>\n",
       "      <th>Pressure</th>\n",
       "      <th>Satisfaction</th>\n",
       "      <th>Financial Stress</th>\n",
       "      <th>Work/Study Hours</th>\n",
       "      <th>Age</th>\n",
       "      <th>Gender</th>\n",
       "      <th>City</th>\n",
       "      <th>Profession</th>\n",
       "      <th>Have you ever had suicidal thoughts ?</th>\n",
       "      <th>Family History of Mental Illness</th>\n",
       "      <th>Sleep</th>\n",
       "    </tr>\n",
       "  </thead>\n",
       "  <tbody>\n",
       "    <tr>\n",
       "      <th>0</th>\n",
       "      <td>Moderate</td>\n",
       "      <td>Bachelor</td>\n",
       "      <td>Law</td>\n",
       "      <td>-0.732899</td>\n",
       "      <td>1.445772</td>\n",
       "      <td>0.007813</td>\n",
       "      <td>0.712923</td>\n",
       "      <td>1.018356</td>\n",
       "      <td>Male</td>\n",
       "      <td>Visakhapatnam</td>\n",
       "      <td>Judge</td>\n",
       "      <td>No</td>\n",
       "      <td>Yes</td>\n",
       "      <td>Less than 5 hours</td>\n",
       "    </tr>\n",
       "    <tr>\n",
       "      <th>1</th>\n",
       "      <td>Moderate</td>\n",
       "      <td>Bachelor</td>\n",
       "      <td>Education</td>\n",
       "      <td>-0.732899</td>\n",
       "      <td>0.734117</td>\n",
       "      <td>0.715218</td>\n",
       "      <td>-0.06557</td>\n",
       "      <td>1.422101</td>\n",
       "      <td>Female</td>\n",
       "      <td>Kolkata</td>\n",
       "      <td>Educational Consultant</td>\n",
       "      <td>No</td>\n",
       "      <td>No</td>\n",
       "      <td>Less than 5 hours</td>\n",
       "    </tr>\n",
       "    <tr>\n",
       "      <th>2</th>\n",
       "      <td>Moderate</td>\n",
       "      <td>Bachelor</td>\n",
       "      <td>Architecture</td>\n",
       "      <td>0.6938</td>\n",
       "      <td>-1.400847</td>\n",
       "      <td>0.715218</td>\n",
       "      <td>1.491416</td>\n",
       "      <td>1.018356</td>\n",
       "      <td>Male</td>\n",
       "      <td>Jaipur</td>\n",
       "      <td>Teacher</td>\n",
       "      <td>Yes</td>\n",
       "      <td>No</td>\n",
       "      <td>5 to 8 hours</td>\n",
       "    </tr>\n",
       "    <tr>\n",
       "      <th>3</th>\n",
       "      <td>Moderate</td>\n",
       "      <td>Bachelor</td>\n",
       "      <td>Science</td>\n",
       "      <td>1.407149</td>\n",
       "      <td>-1.400847</td>\n",
       "      <td>0.715218</td>\n",
       "      <td>0.972421</td>\n",
       "      <td>-1.404114</td>\n",
       "      <td>Female</td>\n",
       "      <td>Rajkot</td>\n",
       "      <td>Student</td>\n",
       "      <td>Yes</td>\n",
       "      <td>No</td>\n",
       "      <td>More than 8 hours</td>\n",
       "    </tr>\n",
       "    <tr>\n",
       "      <th>4</th>\n",
       "      <td>Moderate</td>\n",
       "      <td>Bachelor</td>\n",
       "      <td>Computer Application</td>\n",
       "      <td>1.407149</td>\n",
       "      <td>1.445772</td>\n",
       "      <td>0.715218</td>\n",
       "      <td>-0.844062</td>\n",
       "      <td>0.533862</td>\n",
       "      <td>Male</td>\n",
       "      <td>Kalyan</td>\n",
       "      <td>Teacher</td>\n",
       "      <td>Yes</td>\n",
       "      <td>No</td>\n",
       "      <td>5 to 8 hours</td>\n",
       "    </tr>\n",
       "  </tbody>\n",
       "</table>\n",
       "</div>"
      ],
      "text/plain": [
       "       Diet Qualification               Subject  Pressure Satisfaction  \\\n",
       "0  Moderate      Bachelor                   Law -0.732899     1.445772   \n",
       "1  Moderate      Bachelor             Education -0.732899     0.734117   \n",
       "2  Moderate      Bachelor          Architecture    0.6938    -1.400847   \n",
       "3  Moderate      Bachelor               Science  1.407149    -1.400847   \n",
       "4  Moderate      Bachelor  Computer Application  1.407149     1.445772   \n",
       "\n",
       "  Financial Stress Work/Study Hours       Age  Gender           City  \\\n",
       "0         0.007813         0.712923  1.018356    Male  Visakhapatnam   \n",
       "1         0.715218         -0.06557  1.422101  Female        Kolkata   \n",
       "2         0.715218         1.491416  1.018356    Male         Jaipur   \n",
       "3         0.715218         0.972421 -1.404114  Female         Rajkot   \n",
       "4         0.715218        -0.844062  0.533862    Male         Kalyan   \n",
       "\n",
       "               Profession Have you ever had suicidal thoughts ?  \\\n",
       "0                   Judge                                    No   \n",
       "1  Educational Consultant                                    No   \n",
       "2                 Teacher                                   Yes   \n",
       "3                 Student                                   Yes   \n",
       "4                 Teacher                                   Yes   \n",
       "\n",
       "  Family History of Mental Illness              Sleep  \n",
       "0                              Yes  Less than 5 hours  \n",
       "1                               No  Less than 5 hours  \n",
       "2                               No       5 to 8 hours  \n",
       "3                               No  More than 8 hours  \n",
       "4                               No       5 to 8 hours  "
      ]
     },
     "execution_count": 404,
     "metadata": {},
     "output_type": "execute_result"
    }
   ],
   "source": [
    "X_test_prep = pd.DataFrame(ct.transform(test_df), columns=col_names)\n",
    "X_test_prep.head()"
   ]
  },
  {
   "cell_type": "code",
   "execution_count": 405,
   "metadata": {},
   "outputs": [
    {
     "name": "stdout",
     "output_type": "stream",
     "text": [
      "0:\tlearn: 0.5563973\ttotal: 57.3ms\tremaining: 31.3s\n",
      "1:\tlearn: 0.4635238\ttotal: 105ms\tremaining: 28.7s\n",
      "2:\tlearn: 0.3918999\ttotal: 152ms\tremaining: 27.5s\n",
      "3:\tlearn: 0.3560947\ttotal: 179ms\tremaining: 24.3s\n",
      "4:\tlearn: 0.3210233\ttotal: 229ms\tremaining: 24.8s\n",
      "5:\tlearn: 0.2902974\ttotal: 280ms\tremaining: 25.2s\n",
      "6:\tlearn: 0.2628750\ttotal: 325ms\tremaining: 25s\n",
      "7:\tlearn: 0.2474028\ttotal: 373ms\tremaining: 25.1s\n",
      "8:\tlearn: 0.2405023\ttotal: 400ms\tremaining: 23.9s\n",
      "9:\tlearn: 0.2275013\ttotal: 452ms\tremaining: 24.3s\n",
      "10:\tlearn: 0.2203488\ttotal: 505ms\tremaining: 24.6s\n",
      "11:\tlearn: 0.2156919\ttotal: 541ms\tremaining: 24.1s\n",
      "12:\tlearn: 0.2103997\ttotal: 583ms\tremaining: 23.9s\n",
      "13:\tlearn: 0.2051951\ttotal: 629ms\tremaining: 23.9s\n",
      "14:\tlearn: 0.1992139\ttotal: 677ms\tremaining: 24s\n",
      "15:\tlearn: 0.1926684\ttotal: 727ms\tremaining: 24.1s\n",
      "16:\tlearn: 0.1895201\ttotal: 771ms\tremaining: 24s\n",
      "17:\tlearn: 0.1866602\ttotal: 806ms\tremaining: 23.7s\n",
      "18:\tlearn: 0.1845831\ttotal: 848ms\tremaining: 23.6s\n",
      "19:\tlearn: 0.1830639\ttotal: 885ms\tremaining: 23.3s\n",
      "20:\tlearn: 0.1820909\ttotal: 927ms\tremaining: 23.2s\n",
      "21:\tlearn: 0.1801188\ttotal: 980ms\tremaining: 23.4s\n",
      "22:\tlearn: 0.1775041\ttotal: 1.02s\tremaining: 23.4s\n",
      "23:\tlearn: 0.1761062\ttotal: 1.07s\tremaining: 23.3s\n",
      "24:\tlearn: 0.1749262\ttotal: 1.11s\tremaining: 23.3s\n",
      "25:\tlearn: 0.1733980\ttotal: 1.17s\tremaining: 23.4s\n",
      "26:\tlearn: 0.1719168\ttotal: 1.22s\tremaining: 23.5s\n",
      "27:\tlearn: 0.1711266\ttotal: 1.26s\tremaining: 23.4s\n",
      "28:\tlearn: 0.1704241\ttotal: 1.31s\tremaining: 23.4s\n",
      "29:\tlearn: 0.1696236\ttotal: 1.41s\tremaining: 24.3s\n",
      "30:\tlearn: 0.1687552\ttotal: 1.46s\tremaining: 24.2s\n",
      "31:\tlearn: 0.1685435\ttotal: 1.48s\tremaining: 23.8s\n",
      "32:\tlearn: 0.1678070\ttotal: 1.52s\tremaining: 23.7s\n",
      "33:\tlearn: 0.1671688\ttotal: 1.56s\tremaining: 23.5s\n",
      "34:\tlearn: 0.1658346\ttotal: 1.61s\tremaining: 23.6s\n",
      "35:\tlearn: 0.1654251\ttotal: 1.66s\tremaining: 23.5s\n",
      "36:\tlearn: 0.1649315\ttotal: 1.69s\tremaining: 23.4s\n",
      "37:\tlearn: 0.1639698\ttotal: 1.74s\tremaining: 23.2s\n",
      "38:\tlearn: 0.1627427\ttotal: 1.78s\tremaining: 23.2s\n",
      "39:\tlearn: 0.1620395\ttotal: 1.84s\tremaining: 23.4s\n",
      "40:\tlearn: 0.1612571\ttotal: 1.91s\tremaining: 23.5s\n",
      "41:\tlearn: 0.1608767\ttotal: 1.95s\tremaining: 23.5s\n",
      "42:\tlearn: 0.1605348\ttotal: 1.99s\tremaining: 23.4s\n",
      "43:\tlearn: 0.1604295\ttotal: 2.01s\tremaining: 23s\n",
      "44:\tlearn: 0.1600782\ttotal: 2.05s\tremaining: 22.8s\n",
      "45:\tlearn: 0.1599049\ttotal: 2.08s\tremaining: 22.6s\n",
      "46:\tlearn: 0.1595903\ttotal: 2.12s\tremaining: 22.6s\n",
      "47:\tlearn: 0.1593869\ttotal: 2.16s\tremaining: 22.5s\n",
      "48:\tlearn: 0.1589471\ttotal: 2.19s\tremaining: 22.3s\n",
      "49:\tlearn: 0.1588756\ttotal: 2.23s\tremaining: 22.1s\n",
      "50:\tlearn: 0.1586191\ttotal: 2.26s\tremaining: 22s\n",
      "51:\tlearn: 0.1585296\ttotal: 2.29s\tremaining: 21.8s\n",
      "52:\tlearn: 0.1583880\ttotal: 2.33s\tremaining: 21.7s\n",
      "53:\tlearn: 0.1580661\ttotal: 2.36s\tremaining: 21.5s\n",
      "54:\tlearn: 0.1578957\ttotal: 2.39s\tremaining: 21.4s\n",
      "55:\tlearn: 0.1577828\ttotal: 2.43s\tremaining: 21.3s\n",
      "56:\tlearn: 0.1576404\ttotal: 2.46s\tremaining: 21.2s\n",
      "57:\tlearn: 0.1575838\ttotal: 2.48s\tremaining: 20.9s\n",
      "58:\tlearn: 0.1573097\ttotal: 2.53s\tremaining: 20.9s\n",
      "59:\tlearn: 0.1570653\ttotal: 2.58s\tremaining: 20.9s\n",
      "60:\tlearn: 0.1567483\ttotal: 2.61s\tremaining: 20.8s\n",
      "61:\tlearn: 0.1566487\ttotal: 2.65s\tremaining: 20.7s\n",
      "62:\tlearn: 0.1566487\ttotal: 2.66s\tremaining: 20.4s\n",
      "63:\tlearn: 0.1563176\ttotal: 2.69s\tremaining: 20.3s\n",
      "64:\tlearn: 0.1562659\ttotal: 2.71s\tremaining: 20.1s\n",
      "65:\tlearn: 0.1561033\ttotal: 2.76s\tremaining: 20.1s\n",
      "66:\tlearn: 0.1559718\ttotal: 2.8s\tremaining: 20.1s\n",
      "67:\tlearn: 0.1558543\ttotal: 2.85s\tremaining: 20.1s\n",
      "68:\tlearn: 0.1557043\ttotal: 2.88s\tremaining: 20s\n",
      "69:\tlearn: 0.1556530\ttotal: 2.91s\tremaining: 19.8s\n",
      "70:\tlearn: 0.1556314\ttotal: 2.93s\tremaining: 19.7s\n",
      "71:\tlearn: 0.1553367\ttotal: 2.97s\tremaining: 19.6s\n",
      "72:\tlearn: 0.1552068\ttotal: 3.01s\tremaining: 19.5s\n",
      "73:\tlearn: 0.1551094\ttotal: 3.05s\tremaining: 19.5s\n",
      "74:\tlearn: 0.1549275\ttotal: 3.1s\tremaining: 19.5s\n",
      "75:\tlearn: 0.1548743\ttotal: 3.14s\tremaining: 19.5s\n",
      "76:\tlearn: 0.1548256\ttotal: 3.16s\tremaining: 19.3s\n",
      "77:\tlearn: 0.1547818\ttotal: 3.2s\tremaining: 19.3s\n",
      "78:\tlearn: 0.1547577\ttotal: 3.22s\tremaining: 19.1s\n",
      "79:\tlearn: 0.1545577\ttotal: 3.26s\tremaining: 19s\n",
      "80:\tlearn: 0.1545216\ttotal: 3.29s\tremaining: 18.9s\n",
      "81:\tlearn: 0.1544444\ttotal: 3.33s\tremaining: 18.9s\n",
      "82:\tlearn: 0.1543973\ttotal: 3.35s\tremaining: 18.8s\n",
      "83:\tlearn: 0.1543387\ttotal: 3.38s\tremaining: 18.6s\n",
      "84:\tlearn: 0.1542534\ttotal: 3.42s\tremaining: 18.6s\n",
      "85:\tlearn: 0.1542061\ttotal: 3.44s\tremaining: 18.5s\n",
      "86:\tlearn: 0.1540652\ttotal: 3.49s\tremaining: 18.4s\n",
      "87:\tlearn: 0.1539478\ttotal: 3.52s\tremaining: 18.4s\n",
      "88:\tlearn: 0.1538504\ttotal: 3.56s\tremaining: 18.3s\n",
      "89:\tlearn: 0.1537652\ttotal: 3.61s\tremaining: 18.3s\n",
      "90:\tlearn: 0.1536878\ttotal: 3.64s\tremaining: 18.2s\n",
      "91:\tlearn: 0.1535083\ttotal: 3.68s\tremaining: 18.2s\n",
      "92:\tlearn: 0.1533551\ttotal: 3.73s\tremaining: 18.2s\n",
      "93:\tlearn: 0.1532577\ttotal: 3.76s\tremaining: 18.1s\n",
      "94:\tlearn: 0.1532304\ttotal: 3.78s\tremaining: 18s\n",
      "95:\tlearn: 0.1530582\ttotal: 3.83s\tremaining: 18s\n",
      "96:\tlearn: 0.1529619\ttotal: 3.87s\tremaining: 18s\n",
      "97:\tlearn: 0.1529425\ttotal: 3.9s\tremaining: 17.9s\n",
      "98:\tlearn: 0.1529122\ttotal: 3.93s\tremaining: 17.8s\n",
      "99:\tlearn: 0.1528332\ttotal: 3.97s\tremaining: 17.7s\n",
      "100:\tlearn: 0.1528077\ttotal: 4s\tremaining: 17.7s\n",
      "101:\tlearn: 0.1527186\ttotal: 4.04s\tremaining: 17.6s\n",
      "102:\tlearn: 0.1526860\ttotal: 4.07s\tremaining: 17.6s\n",
      "103:\tlearn: 0.1526243\ttotal: 4.12s\tremaining: 17.6s\n",
      "104:\tlearn: 0.1525536\ttotal: 4.16s\tremaining: 17.5s\n",
      "105:\tlearn: 0.1524881\ttotal: 4.19s\tremaining: 17.4s\n",
      "106:\tlearn: 0.1524262\ttotal: 4.24s\tremaining: 17.4s\n",
      "107:\tlearn: 0.1523949\ttotal: 4.28s\tremaining: 17.4s\n",
      "108:\tlearn: 0.1523766\ttotal: 4.31s\tremaining: 17.3s\n",
      "109:\tlearn: 0.1522952\ttotal: 4.36s\tremaining: 17.3s\n",
      "110:\tlearn: 0.1522498\ttotal: 4.38s\tremaining: 17.2s\n",
      "111:\tlearn: 0.1521947\ttotal: 4.42s\tremaining: 17.2s\n",
      "112:\tlearn: 0.1521932\ttotal: 4.44s\tremaining: 17.1s\n",
      "113:\tlearn: 0.1521287\ttotal: 4.48s\tremaining: 17s\n",
      "114:\tlearn: 0.1520862\ttotal: 4.52s\tremaining: 17s\n",
      "115:\tlearn: 0.1520235\ttotal: 4.56s\tremaining: 17s\n",
      "116:\tlearn: 0.1519526\ttotal: 4.61s\tremaining: 16.9s\n",
      "117:\tlearn: 0.1519076\ttotal: 4.64s\tremaining: 16.9s\n",
      "118:\tlearn: 0.1518796\ttotal: 4.66s\tremaining: 16.7s\n",
      "119:\tlearn: 0.1518559\ttotal: 4.68s\tremaining: 16.6s\n",
      "120:\tlearn: 0.1516784\ttotal: 4.72s\tremaining: 16.6s\n",
      "121:\tlearn: 0.1516514\ttotal: 4.76s\tremaining: 16.6s\n",
      "122:\tlearn: 0.1516184\ttotal: 4.78s\tremaining: 16.5s\n",
      "123:\tlearn: 0.1516027\ttotal: 4.8s\tremaining: 16.4s\n",
      "124:\tlearn: 0.1515533\ttotal: 4.84s\tremaining: 16.3s\n",
      "125:\tlearn: 0.1513900\ttotal: 4.88s\tremaining: 16.3s\n",
      "126:\tlearn: 0.1512655\ttotal: 4.92s\tremaining: 16.3s\n",
      "127:\tlearn: 0.1512093\ttotal: 4.97s\tremaining: 16.3s\n",
      "128:\tlearn: 0.1511146\ttotal: 5.01s\tremaining: 16.2s\n",
      "129:\tlearn: 0.1510298\ttotal: 5.05s\tremaining: 16.2s\n",
      "130:\tlearn: 0.1509667\ttotal: 5.09s\tremaining: 16.2s\n",
      "131:\tlearn: 0.1509027\ttotal: 5.13s\tremaining: 16.1s\n",
      "132:\tlearn: 0.1508540\ttotal: 5.18s\tremaining: 16.1s\n",
      "133:\tlearn: 0.1507929\ttotal: 5.22s\tremaining: 16.1s\n",
      "134:\tlearn: 0.1507231\ttotal: 5.26s\tremaining: 16.1s\n",
      "135:\tlearn: 0.1506386\ttotal: 5.3s\tremaining: 16s\n",
      "136:\tlearn: 0.1504703\ttotal: 5.35s\tremaining: 16s\n",
      "137:\tlearn: 0.1503846\ttotal: 5.39s\tremaining: 16s\n",
      "138:\tlearn: 0.1502889\ttotal: 5.44s\tremaining: 16s\n",
      "139:\tlearn: 0.1501661\ttotal: 5.49s\tremaining: 15.9s\n",
      "140:\tlearn: 0.1501088\ttotal: 5.53s\tremaining: 15.9s\n",
      "141:\tlearn: 0.1500191\ttotal: 5.57s\tremaining: 15.9s\n",
      "142:\tlearn: 0.1499422\ttotal: 5.62s\tremaining: 15.9s\n",
      "143:\tlearn: 0.1498260\ttotal: 5.67s\tremaining: 15.9s\n",
      "144:\tlearn: 0.1497184\ttotal: 5.71s\tremaining: 15.8s\n",
      "145:\tlearn: 0.1496379\ttotal: 5.75s\tremaining: 15.8s\n",
      "146:\tlearn: 0.1494842\ttotal: 5.79s\tremaining: 15.8s\n",
      "147:\tlearn: 0.1494424\ttotal: 5.84s\tremaining: 15.8s\n",
      "148:\tlearn: 0.1493340\ttotal: 5.89s\tremaining: 15.7s\n",
      "149:\tlearn: 0.1492840\ttotal: 5.94s\tremaining: 15.7s\n",
      "150:\tlearn: 0.1491060\ttotal: 5.99s\tremaining: 15.7s\n",
      "151:\tlearn: 0.1490084\ttotal: 6.03s\tremaining: 15.7s\n",
      "152:\tlearn: 0.1489000\ttotal: 6.09s\tremaining: 15.7s\n",
      "153:\tlearn: 0.1487847\ttotal: 6.13s\tremaining: 15.7s\n",
      "154:\tlearn: 0.1486739\ttotal: 6.19s\tremaining: 15.6s\n",
      "155:\tlearn: 0.1485831\ttotal: 6.24s\tremaining: 15.6s\n",
      "156:\tlearn: 0.1484605\ttotal: 6.29s\tremaining: 15.6s\n",
      "157:\tlearn: 0.1483667\ttotal: 6.34s\tremaining: 15.6s\n",
      "158:\tlearn: 0.1482838\ttotal: 6.4s\tremaining: 15.6s\n",
      "159:\tlearn: 0.1482071\ttotal: 6.46s\tremaining: 15.6s\n",
      "160:\tlearn: 0.1481115\ttotal: 6.53s\tremaining: 15.7s\n",
      "161:\tlearn: 0.1479790\ttotal: 6.59s\tremaining: 15.7s\n",
      "162:\tlearn: 0.1478949\ttotal: 6.64s\tremaining: 15.6s\n",
      "163:\tlearn: 0.1477977\ttotal: 6.71s\tremaining: 15.7s\n",
      "164:\tlearn: 0.1476706\ttotal: 6.77s\tremaining: 15.7s\n",
      "165:\tlearn: 0.1475452\ttotal: 6.82s\tremaining: 15.6s\n",
      "166:\tlearn: 0.1474634\ttotal: 6.87s\tremaining: 15.6s\n",
      "167:\tlearn: 0.1473564\ttotal: 6.95s\tremaining: 15.7s\n",
      "168:\tlearn: 0.1472620\ttotal: 7.04s\tremaining: 15.7s\n",
      "169:\tlearn: 0.1471968\ttotal: 7.09s\tremaining: 15.7s\n",
      "170:\tlearn: 0.1471515\ttotal: 7.14s\tremaining: 15.7s\n",
      "171:\tlearn: 0.1470581\ttotal: 7.19s\tremaining: 15.7s\n",
      "172:\tlearn: 0.1469956\ttotal: 7.26s\tremaining: 15.7s\n",
      "173:\tlearn: 0.1469217\ttotal: 7.32s\tremaining: 15.7s\n",
      "174:\tlearn: 0.1468719\ttotal: 7.38s\tremaining: 15.7s\n",
      "175:\tlearn: 0.1467904\ttotal: 7.44s\tremaining: 15.7s\n",
      "176:\tlearn: 0.1467227\ttotal: 7.5s\tremaining: 15.7s\n",
      "177:\tlearn: 0.1466391\ttotal: 7.56s\tremaining: 15.7s\n",
      "178:\tlearn: 0.1465348\ttotal: 7.64s\tremaining: 15.7s\n",
      "179:\tlearn: 0.1464983\ttotal: 7.79s\tremaining: 15.9s\n",
      "180:\tlearn: 0.1463897\ttotal: 7.86s\tremaining: 15.9s\n",
      "181:\tlearn: 0.1462852\ttotal: 7.91s\tremaining: 15.9s\n",
      "182:\tlearn: 0.1462430\ttotal: 7.96s\tremaining: 15.8s\n",
      "183:\tlearn: 0.1461668\ttotal: 8.01s\tremaining: 15.8s\n",
      "184:\tlearn: 0.1461008\ttotal: 8.06s\tremaining: 15.8s\n",
      "185:\tlearn: 0.1460539\ttotal: 8.12s\tremaining: 15.8s\n",
      "186:\tlearn: 0.1460524\ttotal: 8.17s\tremaining: 15.7s\n",
      "187:\tlearn: 0.1459917\ttotal: 8.23s\tremaining: 15.7s\n",
      "188:\tlearn: 0.1459332\ttotal: 8.29s\tremaining: 15.7s\n",
      "189:\tlearn: 0.1458914\ttotal: 8.35s\tremaining: 15.7s\n",
      "190:\tlearn: 0.1458373\ttotal: 8.4s\tremaining: 15.7s\n",
      "191:\tlearn: 0.1457516\ttotal: 8.46s\tremaining: 15.6s\n",
      "192:\tlearn: 0.1456854\ttotal: 8.52s\tremaining: 15.6s\n",
      "193:\tlearn: 0.1456411\ttotal: 8.57s\tremaining: 15.6s\n",
      "194:\tlearn: 0.1456283\ttotal: 8.63s\tremaining: 15.6s\n",
      "195:\tlearn: 0.1456011\ttotal: 8.68s\tremaining: 15.5s\n",
      "196:\tlearn: 0.1455689\ttotal: 8.73s\tremaining: 15.5s\n",
      "197:\tlearn: 0.1455084\ttotal: 8.78s\tremaining: 15.5s\n",
      "198:\tlearn: 0.1454652\ttotal: 8.84s\tremaining: 15.5s\n",
      "199:\tlearn: 0.1454132\ttotal: 8.89s\tremaining: 15.4s\n",
      "200:\tlearn: 0.1453633\ttotal: 8.93s\tremaining: 15.4s\n",
      "201:\tlearn: 0.1453086\ttotal: 8.98s\tremaining: 15.3s\n",
      "202:\tlearn: 0.1452824\ttotal: 9.03s\tremaining: 15.3s\n",
      "203:\tlearn: 0.1452624\ttotal: 9.07s\tremaining: 15.3s\n",
      "204:\tlearn: 0.1451963\ttotal: 9.12s\tremaining: 15.2s\n",
      "205:\tlearn: 0.1451367\ttotal: 9.17s\tremaining: 15.2s\n",
      "206:\tlearn: 0.1451316\ttotal: 9.21s\tremaining: 15.1s\n",
      "207:\tlearn: 0.1451106\ttotal: 9.26s\tremaining: 15.1s\n",
      "208:\tlearn: 0.1451065\ttotal: 9.3s\tremaining: 15s\n",
      "209:\tlearn: 0.1450739\ttotal: 9.35s\tremaining: 15s\n",
      "210:\tlearn: 0.1450483\ttotal: 9.39s\tremaining: 15s\n",
      "211:\tlearn: 0.1450287\ttotal: 9.43s\tremaining: 14.9s\n",
      "212:\tlearn: 0.1449695\ttotal: 9.47s\tremaining: 14.9s\n",
      "213:\tlearn: 0.1449092\ttotal: 9.52s\tremaining: 14.8s\n",
      "214:\tlearn: 0.1448574\ttotal: 9.56s\tremaining: 14.8s\n",
      "215:\tlearn: 0.1448079\ttotal: 9.6s\tremaining: 14.7s\n",
      "216:\tlearn: 0.1447601\ttotal: 9.65s\tremaining: 14.7s\n",
      "217:\tlearn: 0.1446996\ttotal: 9.7s\tremaining: 14.6s\n",
      "218:\tlearn: 0.1446951\ttotal: 9.74s\tremaining: 14.6s\n",
      "219:\tlearn: 0.1446418\ttotal: 9.78s\tremaining: 14.5s\n",
      "220:\tlearn: 0.1445838\ttotal: 9.83s\tremaining: 14.5s\n",
      "221:\tlearn: 0.1445753\ttotal: 9.87s\tremaining: 14.4s\n",
      "222:\tlearn: 0.1445288\ttotal: 9.92s\tremaining: 14.4s\n",
      "223:\tlearn: 0.1445189\ttotal: 9.96s\tremaining: 14.4s\n",
      "224:\tlearn: 0.1444407\ttotal: 10s\tremaining: 14.3s\n",
      "225:\tlearn: 0.1444304\ttotal: 10s\tremaining: 14.3s\n",
      "226:\tlearn: 0.1444080\ttotal: 10.1s\tremaining: 14.2s\n",
      "227:\tlearn: 0.1443856\ttotal: 10.1s\tremaining: 14.2s\n",
      "228:\tlearn: 0.1443481\ttotal: 10.2s\tremaining: 14.1s\n",
      "229:\tlearn: 0.1443129\ttotal: 10.2s\tremaining: 14.1s\n",
      "230:\tlearn: 0.1442483\ttotal: 10.3s\tremaining: 14s\n",
      "231:\tlearn: 0.1442164\ttotal: 10.3s\tremaining: 14s\n",
      "232:\tlearn: 0.1441815\ttotal: 10.4s\tremaining: 14s\n",
      "233:\tlearn: 0.1441751\ttotal: 10.4s\tremaining: 13.9s\n",
      "234:\tlearn: 0.1441475\ttotal: 10.4s\tremaining: 13.9s\n",
      "235:\tlearn: 0.1441229\ttotal: 10.5s\tremaining: 13.8s\n",
      "236:\tlearn: 0.1440996\ttotal: 10.5s\tremaining: 13.8s\n",
      "237:\tlearn: 0.1440718\ttotal: 10.6s\tremaining: 13.7s\n",
      "238:\tlearn: 0.1440168\ttotal: 10.6s\tremaining: 13.7s\n",
      "239:\tlearn: 0.1440085\ttotal: 10.6s\tremaining: 13.6s\n",
      "240:\tlearn: 0.1439989\ttotal: 10.7s\tremaining: 13.6s\n",
      "241:\tlearn: 0.1439727\ttotal: 10.7s\tremaining: 13.5s\n",
      "242:\tlearn: 0.1438825\ttotal: 10.8s\tremaining: 13.5s\n",
      "243:\tlearn: 0.1438539\ttotal: 10.8s\tremaining: 13.4s\n",
      "244:\tlearn: 0.1438294\ttotal: 10.9s\tremaining: 13.4s\n",
      "245:\tlearn: 0.1438113\ttotal: 10.9s\tremaining: 13.3s\n",
      "246:\tlearn: 0.1438028\ttotal: 10.9s\tremaining: 13.3s\n",
      "247:\tlearn: 0.1437514\ttotal: 11s\tremaining: 13.3s\n",
      "248:\tlearn: 0.1436814\ttotal: 11s\tremaining: 13.2s\n",
      "249:\tlearn: 0.1436485\ttotal: 11.1s\tremaining: 13.2s\n",
      "250:\tlearn: 0.1436225\ttotal: 11.1s\tremaining: 13.1s\n",
      "251:\tlearn: 0.1435993\ttotal: 11.2s\tremaining: 13.1s\n",
      "252:\tlearn: 0.1435746\ttotal: 11.2s\tremaining: 13s\n",
      "253:\tlearn: 0.1435647\ttotal: 11.3s\tremaining: 13s\n",
      "254:\tlearn: 0.1435479\ttotal: 11.3s\tremaining: 12.9s\n",
      "255:\tlearn: 0.1435389\ttotal: 11.4s\tremaining: 12.9s\n",
      "256:\tlearn: 0.1434891\ttotal: 11.4s\tremaining: 12.9s\n",
      "257:\tlearn: 0.1434703\ttotal: 11.4s\tremaining: 12.8s\n",
      "258:\tlearn: 0.1434234\ttotal: 11.5s\tremaining: 12.8s\n",
      "259:\tlearn: 0.1433890\ttotal: 11.5s\tremaining: 12.7s\n",
      "260:\tlearn: 0.1433672\ttotal: 11.6s\tremaining: 12.7s\n",
      "261:\tlearn: 0.1433170\ttotal: 11.6s\tremaining: 12.7s\n",
      "262:\tlearn: 0.1432847\ttotal: 11.7s\tremaining: 12.6s\n",
      "263:\tlearn: 0.1432600\ttotal: 11.7s\tremaining: 12.6s\n",
      "264:\tlearn: 0.1432488\ttotal: 11.8s\tremaining: 12.6s\n",
      "265:\tlearn: 0.1432313\ttotal: 11.8s\tremaining: 12.5s\n",
      "266:\tlearn: 0.1432298\ttotal: 11.9s\tremaining: 12.5s\n",
      "267:\tlearn: 0.1431999\ttotal: 11.9s\tremaining: 12.4s\n",
      "268:\tlearn: 0.1431918\ttotal: 12s\tremaining: 12.4s\n",
      "269:\tlearn: 0.1431690\ttotal: 12s\tremaining: 12.3s\n",
      "270:\tlearn: 0.1431225\ttotal: 12.1s\tremaining: 12.3s\n",
      "271:\tlearn: 0.1430895\ttotal: 12.1s\tremaining: 12.3s\n",
      "272:\tlearn: 0.1430056\ttotal: 12.2s\tremaining: 12.2s\n",
      "273:\tlearn: 0.1429803\ttotal: 12.2s\tremaining: 12.2s\n",
      "274:\tlearn: 0.1429535\ttotal: 12.3s\tremaining: 12.1s\n",
      "275:\tlearn: 0.1429395\ttotal: 12.3s\tremaining: 12.1s\n",
      "276:\tlearn: 0.1429036\ttotal: 12.3s\tremaining: 12s\n",
      "277:\tlearn: 0.1428613\ttotal: 12.4s\tremaining: 12s\n",
      "278:\tlearn: 0.1428165\ttotal: 12.4s\tremaining: 11.9s\n",
      "279:\tlearn: 0.1427968\ttotal: 12.5s\tremaining: 11.9s\n",
      "280:\tlearn: 0.1427843\ttotal: 12.5s\tremaining: 11.9s\n",
      "281:\tlearn: 0.1427534\ttotal: 12.6s\tremaining: 11.8s\n",
      "282:\tlearn: 0.1427195\ttotal: 12.6s\tremaining: 11.8s\n",
      "283:\tlearn: 0.1427083\ttotal: 12.7s\tremaining: 11.7s\n",
      "284:\tlearn: 0.1427016\ttotal: 12.7s\tremaining: 11.7s\n",
      "285:\tlearn: 0.1426865\ttotal: 12.8s\tremaining: 11.7s\n",
      "286:\tlearn: 0.1426633\ttotal: 12.8s\tremaining: 11.6s\n",
      "287:\tlearn: 0.1426438\ttotal: 12.9s\tremaining: 11.6s\n",
      "288:\tlearn: 0.1426057\ttotal: 12.9s\tremaining: 11.5s\n",
      "289:\tlearn: 0.1426007\ttotal: 13s\tremaining: 11.5s\n",
      "290:\tlearn: 0.1425920\ttotal: 13s\tremaining: 11.5s\n",
      "291:\tlearn: 0.1425400\ttotal: 13.1s\tremaining: 11.4s\n",
      "292:\tlearn: 0.1425235\ttotal: 13.1s\tremaining: 11.4s\n",
      "293:\tlearn: 0.1424935\ttotal: 13.2s\tremaining: 11.4s\n",
      "294:\tlearn: 0.1424854\ttotal: 13.2s\tremaining: 11.3s\n",
      "295:\tlearn: 0.1424082\ttotal: 13.3s\tremaining: 11.3s\n",
      "296:\tlearn: 0.1423665\ttotal: 13.4s\tremaining: 11.2s\n",
      "297:\tlearn: 0.1423215\ttotal: 13.4s\tremaining: 11.2s\n",
      "298:\tlearn: 0.1423027\ttotal: 13.5s\tremaining: 11.2s\n",
      "299:\tlearn: 0.1422645\ttotal: 13.6s\tremaining: 11.2s\n",
      "300:\tlearn: 0.1422406\ttotal: 13.6s\tremaining: 11.1s\n",
      "301:\tlearn: 0.1422264\ttotal: 13.7s\tremaining: 11.1s\n",
      "302:\tlearn: 0.1421761\ttotal: 13.7s\tremaining: 11s\n",
      "303:\tlearn: 0.1421465\ttotal: 13.8s\tremaining: 11s\n",
      "304:\tlearn: 0.1421184\ttotal: 13.8s\tremaining: 11s\n",
      "305:\tlearn: 0.1420953\ttotal: 13.9s\tremaining: 10.9s\n",
      "306:\tlearn: 0.1420615\ttotal: 13.9s\tremaining: 10.9s\n",
      "307:\tlearn: 0.1420229\ttotal: 14.1s\tremaining: 10.9s\n",
      "308:\tlearn: 0.1419927\ttotal: 14.1s\tremaining: 10.9s\n",
      "309:\tlearn: 0.1419681\ttotal: 14.2s\tremaining: 10.9s\n",
      "310:\tlearn: 0.1419029\ttotal: 14.3s\tremaining: 10.8s\n",
      "311:\tlearn: 0.1418832\ttotal: 14.3s\tremaining: 10.8s\n",
      "312:\tlearn: 0.1418280\ttotal: 14.3s\tremaining: 10.7s\n",
      "313:\tlearn: 0.1418002\ttotal: 14.4s\tremaining: 10.7s\n",
      "314:\tlearn: 0.1417686\ttotal: 14.4s\tremaining: 10.6s\n",
      "315:\tlearn: 0.1417351\ttotal: 14.5s\tremaining: 10.6s\n",
      "316:\tlearn: 0.1416722\ttotal: 14.5s\tremaining: 10.5s\n",
      "317:\tlearn: 0.1416680\ttotal: 14.6s\tremaining: 10.5s\n",
      "318:\tlearn: 0.1416605\ttotal: 14.6s\tremaining: 10.5s\n",
      "319:\tlearn: 0.1416594\ttotal: 14.7s\tremaining: 10.4s\n",
      "320:\tlearn: 0.1416312\ttotal: 14.7s\tremaining: 10.4s\n",
      "321:\tlearn: 0.1416300\ttotal: 14.8s\tremaining: 10.3s\n",
      "322:\tlearn: 0.1416258\ttotal: 14.8s\tremaining: 10.3s\n",
      "323:\tlearn: 0.1415635\ttotal: 14.9s\tremaining: 10.2s\n",
      "324:\tlearn: 0.1415252\ttotal: 14.9s\tremaining: 10.2s\n",
      "325:\tlearn: 0.1415180\ttotal: 14.9s\tremaining: 10.1s\n",
      "326:\tlearn: 0.1414398\ttotal: 15s\tremaining: 10.1s\n",
      "327:\tlearn: 0.1414091\ttotal: 15s\tremaining: 10s\n",
      "328:\tlearn: 0.1413891\ttotal: 15.1s\tremaining: 10s\n",
      "329:\tlearn: 0.1413551\ttotal: 15.1s\tremaining: 9.96s\n",
      "330:\tlearn: 0.1413452\ttotal: 15.2s\tremaining: 9.91s\n",
      "331:\tlearn: 0.1413127\ttotal: 15.2s\tremaining: 9.86s\n",
      "332:\tlearn: 0.1412582\ttotal: 15.3s\tremaining: 9.82s\n",
      "333:\tlearn: 0.1411971\ttotal: 15.3s\tremaining: 9.77s\n",
      "334:\tlearn: 0.1411294\ttotal: 15.4s\tremaining: 9.72s\n",
      "335:\tlearn: 0.1411078\ttotal: 15.4s\tremaining: 9.68s\n",
      "336:\tlearn: 0.1410704\ttotal: 15.5s\tremaining: 9.63s\n",
      "337:\tlearn: 0.1410092\ttotal: 15.5s\tremaining: 9.58s\n",
      "338:\tlearn: 0.1409901\ttotal: 15.5s\tremaining: 9.54s\n",
      "339:\tlearn: 0.1409749\ttotal: 15.6s\tremaining: 9.49s\n",
      "340:\tlearn: 0.1409234\ttotal: 15.6s\tremaining: 9.44s\n",
      "341:\tlearn: 0.1408954\ttotal: 15.7s\tremaining: 9.4s\n",
      "342:\tlearn: 0.1408596\ttotal: 15.7s\tremaining: 9.36s\n",
      "343:\tlearn: 0.1408225\ttotal: 15.8s\tremaining: 9.31s\n",
      "344:\tlearn: 0.1407686\ttotal: 15.8s\tremaining: 9.27s\n",
      "345:\tlearn: 0.1407294\ttotal: 15.9s\tremaining: 9.22s\n",
      "346:\tlearn: 0.1406419\ttotal: 15.9s\tremaining: 9.18s\n",
      "347:\tlearn: 0.1406137\ttotal: 16s\tremaining: 9.13s\n",
      "348:\tlearn: 0.1405781\ttotal: 16s\tremaining: 9.09s\n",
      "349:\tlearn: 0.1405652\ttotal: 16.1s\tremaining: 9.04s\n",
      "350:\tlearn: 0.1405491\ttotal: 16.1s\tremaining: 8.99s\n",
      "351:\tlearn: 0.1405166\ttotal: 16.1s\tremaining: 8.95s\n",
      "352:\tlearn: 0.1404826\ttotal: 16.2s\tremaining: 8.9s\n",
      "353:\tlearn: 0.1404687\ttotal: 16.2s\tremaining: 8.86s\n",
      "354:\tlearn: 0.1404528\ttotal: 16.3s\tremaining: 8.81s\n",
      "355:\tlearn: 0.1404245\ttotal: 16.3s\tremaining: 8.76s\n",
      "356:\tlearn: 0.1404075\ttotal: 16.4s\tremaining: 8.71s\n",
      "357:\tlearn: 0.1403911\ttotal: 16.4s\tremaining: 8.66s\n",
      "358:\tlearn: 0.1403802\ttotal: 16.4s\tremaining: 8.61s\n",
      "359:\tlearn: 0.1403553\ttotal: 16.5s\tremaining: 8.56s\n",
      "360:\tlearn: 0.1402989\ttotal: 16.5s\tremaining: 8.52s\n",
      "361:\tlearn: 0.1402628\ttotal: 16.6s\tremaining: 8.48s\n",
      "362:\tlearn: 0.1402371\ttotal: 16.6s\tremaining: 8.44s\n",
      "363:\tlearn: 0.1402192\ttotal: 16.7s\tremaining: 8.39s\n",
      "364:\tlearn: 0.1402043\ttotal: 16.7s\tremaining: 8.34s\n",
      "365:\tlearn: 0.1402043\ttotal: 16.8s\tremaining: 8.29s\n",
      "366:\tlearn: 0.1401318\ttotal: 16.8s\tremaining: 8.24s\n",
      "367:\tlearn: 0.1401180\ttotal: 16.9s\tremaining: 8.2s\n",
      "368:\tlearn: 0.1400898\ttotal: 16.9s\tremaining: 8.15s\n",
      "369:\tlearn: 0.1400685\ttotal: 17s\tremaining: 8.11s\n",
      "370:\tlearn: 0.1400493\ttotal: 17s\tremaining: 8.06s\n",
      "371:\tlearn: 0.1400227\ttotal: 17.1s\tremaining: 8.04s\n",
      "372:\tlearn: 0.1399883\ttotal: 17.1s\tremaining: 7.99s\n",
      "373:\tlearn: 0.1399560\ttotal: 17.2s\tremaining: 7.94s\n",
      "374:\tlearn: 0.1399457\ttotal: 17.2s\tremaining: 7.89s\n",
      "375:\tlearn: 0.1399447\ttotal: 17.3s\tremaining: 7.85s\n",
      "376:\tlearn: 0.1399295\ttotal: 17.3s\tremaining: 7.8s\n",
      "377:\tlearn: 0.1399234\ttotal: 17.3s\tremaining: 7.76s\n",
      "378:\tlearn: 0.1399073\ttotal: 17.4s\tremaining: 7.71s\n",
      "379:\tlearn: 0.1399056\ttotal: 17.4s\tremaining: 7.66s\n",
      "380:\tlearn: 0.1398477\ttotal: 17.5s\tremaining: 7.61s\n",
      "381:\tlearn: 0.1398255\ttotal: 17.5s\tremaining: 7.56s\n",
      "382:\tlearn: 0.1398102\ttotal: 17.6s\tremaining: 7.52s\n",
      "383:\tlearn: 0.1398074\ttotal: 17.6s\tremaining: 7.47s\n",
      "384:\tlearn: 0.1398061\ttotal: 17.6s\tremaining: 7.42s\n",
      "385:\tlearn: 0.1397750\ttotal: 17.7s\tremaining: 7.37s\n",
      "386:\tlearn: 0.1397368\ttotal: 17.7s\tremaining: 7.33s\n",
      "387:\tlearn: 0.1397085\ttotal: 17.8s\tremaining: 7.29s\n",
      "388:\tlearn: 0.1396858\ttotal: 17.8s\tremaining: 7.24s\n",
      "389:\tlearn: 0.1396325\ttotal: 17.9s\tremaining: 7.19s\n",
      "390:\tlearn: 0.1396155\ttotal: 17.9s\tremaining: 7.14s\n",
      "391:\tlearn: 0.1396109\ttotal: 18s\tremaining: 7.1s\n",
      "392:\tlearn: 0.1395658\ttotal: 18s\tremaining: 7.05s\n",
      "393:\tlearn: 0.1395489\ttotal: 18s\tremaining: 7.01s\n",
      "394:\tlearn: 0.1395373\ttotal: 18.1s\tremaining: 6.96s\n",
      "395:\tlearn: 0.1394955\ttotal: 18.1s\tremaining: 6.92s\n",
      "396:\tlearn: 0.1394486\ttotal: 18.2s\tremaining: 6.87s\n",
      "397:\tlearn: 0.1393708\ttotal: 18.2s\tremaining: 6.82s\n",
      "398:\tlearn: 0.1393385\ttotal: 18.3s\tremaining: 6.78s\n",
      "399:\tlearn: 0.1393262\ttotal: 18.3s\tremaining: 6.73s\n",
      "400:\tlearn: 0.1393149\ttotal: 18.4s\tremaining: 6.68s\n",
      "401:\tlearn: 0.1392904\ttotal: 18.4s\tremaining: 6.64s\n",
      "402:\tlearn: 0.1392612\ttotal: 18.5s\tremaining: 6.59s\n",
      "403:\tlearn: 0.1392361\ttotal: 18.5s\tremaining: 6.54s\n",
      "404:\tlearn: 0.1391967\ttotal: 18.5s\tremaining: 6.5s\n",
      "405:\tlearn: 0.1391919\ttotal: 18.6s\tremaining: 6.45s\n",
      "406:\tlearn: 0.1391798\ttotal: 18.6s\tremaining: 6.41s\n",
      "407:\tlearn: 0.1391658\ttotal: 18.7s\tremaining: 6.36s\n",
      "408:\tlearn: 0.1391274\ttotal: 18.7s\tremaining: 6.31s\n",
      "409:\tlearn: 0.1390932\ttotal: 18.8s\tremaining: 6.27s\n",
      "410:\tlearn: 0.1390609\ttotal: 18.8s\tremaining: 6.22s\n",
      "411:\tlearn: 0.1389987\ttotal: 18.9s\tremaining: 6.18s\n",
      "412:\tlearn: 0.1389894\ttotal: 18.9s\tremaining: 6.14s\n",
      "413:\tlearn: 0.1389485\ttotal: 19s\tremaining: 6.09s\n",
      "414:\tlearn: 0.1389314\ttotal: 19s\tremaining: 6.04s\n",
      "415:\tlearn: 0.1389193\ttotal: 19.1s\tremaining: 6s\n",
      "416:\tlearn: 0.1388963\ttotal: 19.1s\tremaining: 5.95s\n",
      "417:\tlearn: 0.1388459\ttotal: 19.1s\tremaining: 5.91s\n",
      "418:\tlearn: 0.1388168\ttotal: 19.2s\tremaining: 5.86s\n",
      "419:\tlearn: 0.1387780\ttotal: 19.2s\tremaining: 5.82s\n",
      "420:\tlearn: 0.1387452\ttotal: 19.3s\tremaining: 5.77s\n",
      "421:\tlearn: 0.1386896\ttotal: 19.3s\tremaining: 5.73s\n",
      "422:\tlearn: 0.1386455\ttotal: 19.4s\tremaining: 5.68s\n",
      "423:\tlearn: 0.1386447\ttotal: 19.4s\tremaining: 5.63s\n",
      "424:\tlearn: 0.1386131\ttotal: 19.5s\tremaining: 5.59s\n",
      "425:\tlearn: 0.1385700\ttotal: 19.5s\tremaining: 5.54s\n",
      "426:\tlearn: 0.1385384\ttotal: 19.6s\tremaining: 5.5s\n",
      "427:\tlearn: 0.1385179\ttotal: 19.6s\tremaining: 5.45s\n",
      "428:\tlearn: 0.1385173\ttotal: 19.6s\tremaining: 5.4s\n",
      "429:\tlearn: 0.1385149\ttotal: 19.7s\tremaining: 5.36s\n",
      "430:\tlearn: 0.1384880\ttotal: 19.7s\tremaining: 5.31s\n",
      "431:\tlearn: 0.1384758\ttotal: 19.8s\tremaining: 5.26s\n",
      "432:\tlearn: 0.1384473\ttotal: 19.8s\tremaining: 5.22s\n",
      "433:\tlearn: 0.1384215\ttotal: 19.9s\tremaining: 5.17s\n",
      "434:\tlearn: 0.1384006\ttotal: 19.9s\tremaining: 5.13s\n",
      "435:\tlearn: 0.1383760\ttotal: 20s\tremaining: 5.08s\n",
      "436:\tlearn: 0.1383369\ttotal: 20s\tremaining: 5.04s\n",
      "437:\tlearn: 0.1383159\ttotal: 20.1s\tremaining: 4.99s\n",
      "438:\tlearn: 0.1382579\ttotal: 20.1s\tremaining: 4.95s\n",
      "439:\tlearn: 0.1381887\ttotal: 20.2s\tremaining: 4.9s\n",
      "440:\tlearn: 0.1381802\ttotal: 20.2s\tremaining: 4.85s\n",
      "441:\tlearn: 0.1381459\ttotal: 20.2s\tremaining: 4.81s\n",
      "442:\tlearn: 0.1381136\ttotal: 20.3s\tremaining: 4.76s\n",
      "443:\tlearn: 0.1380552\ttotal: 20.3s\tremaining: 4.72s\n",
      "444:\tlearn: 0.1380378\ttotal: 20.4s\tremaining: 4.67s\n",
      "445:\tlearn: 0.1380195\ttotal: 20.4s\tremaining: 4.63s\n",
      "446:\tlearn: 0.1380073\ttotal: 20.5s\tremaining: 4.58s\n",
      "447:\tlearn: 0.1379455\ttotal: 20.5s\tremaining: 4.53s\n",
      "448:\tlearn: 0.1379093\ttotal: 20.6s\tremaining: 4.49s\n",
      "449:\tlearn: 0.1378965\ttotal: 20.6s\tremaining: 4.44s\n",
      "450:\tlearn: 0.1378688\ttotal: 20.6s\tremaining: 4.39s\n",
      "451:\tlearn: 0.1378432\ttotal: 20.7s\tremaining: 4.35s\n",
      "452:\tlearn: 0.1378133\ttotal: 20.7s\tremaining: 4.3s\n",
      "453:\tlearn: 0.1377793\ttotal: 20.8s\tremaining: 4.26s\n",
      "454:\tlearn: 0.1377434\ttotal: 20.8s\tremaining: 4.21s\n",
      "455:\tlearn: 0.1377049\ttotal: 20.9s\tremaining: 4.17s\n",
      "456:\tlearn: 0.1376744\ttotal: 20.9s\tremaining: 4.12s\n",
      "457:\tlearn: 0.1376603\ttotal: 21s\tremaining: 4.08s\n",
      "458:\tlearn: 0.1375962\ttotal: 21s\tremaining: 4.03s\n",
      "459:\tlearn: 0.1375812\ttotal: 21.1s\tremaining: 3.98s\n",
      "460:\tlearn: 0.1375235\ttotal: 21.1s\tremaining: 3.94s\n",
      "461:\tlearn: 0.1375217\ttotal: 21.1s\tremaining: 3.89s\n",
      "462:\tlearn: 0.1374438\ttotal: 21.2s\tremaining: 3.85s\n",
      "463:\tlearn: 0.1374293\ttotal: 21.3s\tremaining: 3.8s\n",
      "464:\tlearn: 0.1374050\ttotal: 21.3s\tremaining: 3.76s\n",
      "465:\tlearn: 0.1374016\ttotal: 21.3s\tremaining: 3.71s\n",
      "466:\tlearn: 0.1373843\ttotal: 21.4s\tremaining: 3.67s\n",
      "467:\tlearn: 0.1373695\ttotal: 21.4s\tremaining: 3.62s\n",
      "468:\tlearn: 0.1373321\ttotal: 21.5s\tremaining: 3.57s\n",
      "469:\tlearn: 0.1373067\ttotal: 21.5s\tremaining: 3.53s\n",
      "470:\tlearn: 0.1372943\ttotal: 21.6s\tremaining: 3.48s\n",
      "471:\tlearn: 0.1372741\ttotal: 21.6s\tremaining: 3.44s\n",
      "472:\tlearn: 0.1372454\ttotal: 21.7s\tremaining: 3.39s\n",
      "473:\tlearn: 0.1372001\ttotal: 21.7s\tremaining: 3.35s\n",
      "474:\tlearn: 0.1371917\ttotal: 21.8s\tremaining: 3.3s\n",
      "475:\tlearn: 0.1371231\ttotal: 21.8s\tremaining: 3.25s\n",
      "476:\tlearn: 0.1371074\ttotal: 21.9s\tremaining: 3.21s\n",
      "477:\tlearn: 0.1370811\ttotal: 21.9s\tremaining: 3.16s\n",
      "478:\tlearn: 0.1370682\ttotal: 21.9s\tremaining: 3.12s\n",
      "479:\tlearn: 0.1370569\ttotal: 22s\tremaining: 3.07s\n",
      "480:\tlearn: 0.1370405\ttotal: 22s\tremaining: 3.02s\n",
      "481:\tlearn: 0.1370122\ttotal: 22.1s\tremaining: 2.98s\n",
      "482:\tlearn: 0.1369996\ttotal: 22.1s\tremaining: 2.93s\n",
      "483:\tlearn: 0.1369817\ttotal: 22.1s\tremaining: 2.88s\n",
      "484:\tlearn: 0.1369788\ttotal: 22.2s\tremaining: 2.84s\n",
      "485:\tlearn: 0.1369617\ttotal: 22.2s\tremaining: 2.79s\n",
      "486:\tlearn: 0.1369561\ttotal: 22.3s\tremaining: 2.75s\n",
      "487:\tlearn: 0.1369133\ttotal: 22.3s\tremaining: 2.7s\n",
      "488:\tlearn: 0.1368612\ttotal: 22.4s\tremaining: 2.66s\n",
      "489:\tlearn: 0.1368041\ttotal: 22.6s\tremaining: 2.63s\n",
      "490:\tlearn: 0.1367986\ttotal: 22.6s\tremaining: 2.58s\n",
      "491:\tlearn: 0.1367558\ttotal: 22.7s\tremaining: 2.54s\n",
      "492:\tlearn: 0.1367471\ttotal: 22.7s\tremaining: 2.49s\n",
      "493:\tlearn: 0.1367261\ttotal: 22.8s\tremaining: 2.45s\n",
      "494:\tlearn: 0.1366910\ttotal: 22.9s\tremaining: 2.4s\n",
      "495:\tlearn: 0.1366815\ttotal: 22.9s\tremaining: 2.35s\n",
      "496:\tlearn: 0.1366584\ttotal: 23s\tremaining: 2.31s\n",
      "497:\tlearn: 0.1366445\ttotal: 23s\tremaining: 2.27s\n",
      "498:\tlearn: 0.1366321\ttotal: 23.1s\tremaining: 2.22s\n",
      "499:\tlearn: 0.1366033\ttotal: 23.1s\tremaining: 2.17s\n",
      "500:\tlearn: 0.1365968\ttotal: 23.2s\tremaining: 2.13s\n",
      "501:\tlearn: 0.1365745\ttotal: 23.2s\tremaining: 2.08s\n",
      "502:\tlearn: 0.1365640\ttotal: 23.3s\tremaining: 2.03s\n",
      "503:\tlearn: 0.1365613\ttotal: 23.3s\tremaining: 1.99s\n",
      "504:\tlearn: 0.1365576\ttotal: 23.3s\tremaining: 1.94s\n",
      "505:\tlearn: 0.1365127\ttotal: 23.4s\tremaining: 1.9s\n",
      "506:\tlearn: 0.1364437\ttotal: 23.4s\tremaining: 1.85s\n",
      "507:\tlearn: 0.1363755\ttotal: 23.5s\tremaining: 1.8s\n",
      "508:\tlearn: 0.1363550\ttotal: 23.5s\tremaining: 1.76s\n",
      "509:\tlearn: 0.1363411\ttotal: 23.6s\tremaining: 1.71s\n",
      "510:\tlearn: 0.1363009\ttotal: 23.6s\tremaining: 1.67s\n",
      "511:\tlearn: 0.1362832\ttotal: 23.7s\tremaining: 1.62s\n",
      "512:\tlearn: 0.1362764\ttotal: 23.7s\tremaining: 1.57s\n",
      "513:\tlearn: 0.1362511\ttotal: 23.8s\tremaining: 1.53s\n",
      "514:\tlearn: 0.1361907\ttotal: 23.8s\tremaining: 1.48s\n",
      "515:\tlearn: 0.1361525\ttotal: 23.9s\tremaining: 1.43s\n",
      "516:\tlearn: 0.1361014\ttotal: 23.9s\tremaining: 1.39s\n",
      "517:\tlearn: 0.1360894\ttotal: 24s\tremaining: 1.34s\n",
      "518:\tlearn: 0.1360853\ttotal: 24s\tremaining: 1.29s\n",
      "519:\tlearn: 0.1360582\ttotal: 24.1s\tremaining: 1.25s\n",
      "520:\tlearn: 0.1360296\ttotal: 24.1s\tremaining: 1.2s\n",
      "521:\tlearn: 0.1360026\ttotal: 24.2s\tremaining: 1.16s\n",
      "522:\tlearn: 0.1359664\ttotal: 24.2s\tremaining: 1.11s\n",
      "523:\tlearn: 0.1359581\ttotal: 24.3s\tremaining: 1.06s\n",
      "524:\tlearn: 0.1359347\ttotal: 24.3s\tremaining: 1.02s\n",
      "525:\tlearn: 0.1359024\ttotal: 24.4s\tremaining: 973ms\n",
      "526:\tlearn: 0.1358649\ttotal: 24.4s\tremaining: 926ms\n",
      "527:\tlearn: 0.1358539\ttotal: 24.5s\tremaining: 880ms\n",
      "528:\tlearn: 0.1358369\ttotal: 24.5s\tremaining: 834ms\n",
      "529:\tlearn: 0.1357849\ttotal: 24.6s\tremaining: 788ms\n",
      "530:\tlearn: 0.1357453\ttotal: 24.6s\tremaining: 742ms\n",
      "531:\tlearn: 0.1357301\ttotal: 24.7s\tremaining: 696ms\n",
      "532:\tlearn: 0.1357071\ttotal: 24.7s\tremaining: 649ms\n",
      "533:\tlearn: 0.1356953\ttotal: 24.8s\tremaining: 603ms\n",
      "534:\tlearn: 0.1356338\ttotal: 24.8s\tremaining: 557ms\n",
      "535:\tlearn: 0.1356131\ttotal: 24.9s\tremaining: 511ms\n",
      "536:\tlearn: 0.1356065\ttotal: 25s\tremaining: 465ms\n",
      "537:\tlearn: 0.1355426\ttotal: 25s\tremaining: 418ms\n",
      "538:\tlearn: 0.1355254\ttotal: 25.1s\tremaining: 372ms\n",
      "539:\tlearn: 0.1354636\ttotal: 25.1s\tremaining: 326ms\n",
      "540:\tlearn: 0.1354308\ttotal: 25.2s\tremaining: 279ms\n",
      "541:\tlearn: 0.1354029\ttotal: 25.3s\tremaining: 233ms\n",
      "542:\tlearn: 0.1353481\ttotal: 25.3s\tremaining: 187ms\n",
      "543:\tlearn: 0.1352842\ttotal: 25.4s\tremaining: 140ms\n",
      "544:\tlearn: 0.1352136\ttotal: 25.5s\tremaining: 93.5ms\n",
      "545:\tlearn: 0.1351971\ttotal: 25.5s\tremaining: 46.8ms\n",
      "546:\tlearn: 0.1351870\ttotal: 25.6s\tremaining: 0us\n"
     ]
    },
    {
     "data": {
      "text/plain": [
       "<catboost.core.CatBoostClassifier at 0x34799d690>"
      ]
     },
     "execution_count": 405,
     "metadata": {},
     "output_type": "execute_result"
    }
   ],
   "source": [
    "catboost_clf = CatBoostClassifier(**best_params)\n",
    "catboost_clf.fit(X_prep, y, cat_features=cat_features)\n"
   ]
  },
  {
   "cell_type": "code",
   "execution_count": 407,
   "metadata": {},
   "outputs": [],
   "source": [
    "df_test[\"pred\"] = catboost_clf.predict(X_test_prep)\n",
    "# df_test.loc[:, [\"pred\"]].to_csv(\"submission.csv\")\n",
    "df_test.loc[:, [\"pred\"]].to_csv(\"try2_28nov.csv\")"
   ]
  },
  {
   "cell_type": "code",
   "execution_count": 378,
   "metadata": {},
   "outputs": [
    {
     "data": {
      "text/html": [
       "<div>\n",
       "<style scoped>\n",
       "    .dataframe tbody tr th:only-of-type {\n",
       "        vertical-align: middle;\n",
       "    }\n",
       "\n",
       "    .dataframe tbody tr th {\n",
       "        vertical-align: top;\n",
       "    }\n",
       "\n",
       "    .dataframe thead th {\n",
       "        text-align: right;\n",
       "    }\n",
       "</style>\n",
       "<table border=\"1\" class=\"dataframe\">\n",
       "  <thead>\n",
       "    <tr style=\"text-align: right;\">\n",
       "      <th></th>\n",
       "      <th>Name</th>\n",
       "      <th>Gender</th>\n",
       "      <th>Age</th>\n",
       "      <th>City</th>\n",
       "      <th>Working Professional or Student</th>\n",
       "      <th>Profession</th>\n",
       "      <th>Academic Pressure</th>\n",
       "      <th>Work Pressure</th>\n",
       "      <th>CGPA</th>\n",
       "      <th>Study Satisfaction</th>\n",
       "      <th>Job Satisfaction</th>\n",
       "      <th>Sleep Duration</th>\n",
       "      <th>Dietary Habits</th>\n",
       "      <th>Degree</th>\n",
       "      <th>Have you ever had suicidal thoughts ?</th>\n",
       "      <th>Work/Study Hours</th>\n",
       "      <th>Financial Stress</th>\n",
       "      <th>Family History of Mental Illness</th>\n",
       "      <th>pred</th>\n",
       "    </tr>\n",
       "    <tr>\n",
       "      <th>id</th>\n",
       "      <th></th>\n",
       "      <th></th>\n",
       "      <th></th>\n",
       "      <th></th>\n",
       "      <th></th>\n",
       "      <th></th>\n",
       "      <th></th>\n",
       "      <th></th>\n",
       "      <th></th>\n",
       "      <th></th>\n",
       "      <th></th>\n",
       "      <th></th>\n",
       "      <th></th>\n",
       "      <th></th>\n",
       "      <th></th>\n",
       "      <th></th>\n",
       "      <th></th>\n",
       "      <th></th>\n",
       "      <th></th>\n",
       "    </tr>\n",
       "  </thead>\n",
       "  <tbody>\n",
       "    <tr>\n",
       "      <th>140700</th>\n",
       "      <td>Shivam</td>\n",
       "      <td>Male</td>\n",
       "      <td>53.0</td>\n",
       "      <td>Visakhapatnam</td>\n",
       "      <td>Working Professional</td>\n",
       "      <td>Judge</td>\n",
       "      <td>NaN</td>\n",
       "      <td>2.0</td>\n",
       "      <td>NaN</td>\n",
       "      <td>NaN</td>\n",
       "      <td>5.0</td>\n",
       "      <td>Less than 5 hours</td>\n",
       "      <td>Moderate</td>\n",
       "      <td>LLB</td>\n",
       "      <td>No</td>\n",
       "      <td>9.0</td>\n",
       "      <td>3.0</td>\n",
       "      <td>Yes</td>\n",
       "      <td>0</td>\n",
       "    </tr>\n",
       "    <tr>\n",
       "      <th>140701</th>\n",
       "      <td>Sanya</td>\n",
       "      <td>Female</td>\n",
       "      <td>58.0</td>\n",
       "      <td>Kolkata</td>\n",
       "      <td>Working Professional</td>\n",
       "      <td>Educational Consultant</td>\n",
       "      <td>NaN</td>\n",
       "      <td>2.0</td>\n",
       "      <td>NaN</td>\n",
       "      <td>NaN</td>\n",
       "      <td>4.0</td>\n",
       "      <td>Less than 5 hours</td>\n",
       "      <td>Moderate</td>\n",
       "      <td>B.Ed</td>\n",
       "      <td>No</td>\n",
       "      <td>6.0</td>\n",
       "      <td>4.0</td>\n",
       "      <td>No</td>\n",
       "      <td>0</td>\n",
       "    </tr>\n",
       "    <tr>\n",
       "      <th>140702</th>\n",
       "      <td>Yash</td>\n",
       "      <td>Male</td>\n",
       "      <td>53.0</td>\n",
       "      <td>Jaipur</td>\n",
       "      <td>Working Professional</td>\n",
       "      <td>Teacher</td>\n",
       "      <td>NaN</td>\n",
       "      <td>4.0</td>\n",
       "      <td>NaN</td>\n",
       "      <td>NaN</td>\n",
       "      <td>1.0</td>\n",
       "      <td>7-8 hours</td>\n",
       "      <td>Moderate</td>\n",
       "      <td>B.Arch</td>\n",
       "      <td>Yes</td>\n",
       "      <td>12.0</td>\n",
       "      <td>4.0</td>\n",
       "      <td>No</td>\n",
       "      <td>0</td>\n",
       "    </tr>\n",
       "    <tr>\n",
       "      <th>140703</th>\n",
       "      <td>Nalini</td>\n",
       "      <td>Female</td>\n",
       "      <td>23.0</td>\n",
       "      <td>Rajkot</td>\n",
       "      <td>Student</td>\n",
       "      <td>NaN</td>\n",
       "      <td>5.0</td>\n",
       "      <td>NaN</td>\n",
       "      <td>6.84</td>\n",
       "      <td>1.0</td>\n",
       "      <td>NaN</td>\n",
       "      <td>More than 8 hours</td>\n",
       "      <td>Moderate</td>\n",
       "      <td>BSc</td>\n",
       "      <td>Yes</td>\n",
       "      <td>10.0</td>\n",
       "      <td>4.0</td>\n",
       "      <td>No</td>\n",
       "      <td>1</td>\n",
       "    </tr>\n",
       "    <tr>\n",
       "      <th>140704</th>\n",
       "      <td>Shaurya</td>\n",
       "      <td>Male</td>\n",
       "      <td>47.0</td>\n",
       "      <td>Kalyan</td>\n",
       "      <td>Working Professional</td>\n",
       "      <td>Teacher</td>\n",
       "      <td>NaN</td>\n",
       "      <td>5.0</td>\n",
       "      <td>NaN</td>\n",
       "      <td>NaN</td>\n",
       "      <td>5.0</td>\n",
       "      <td>7-8 hours</td>\n",
       "      <td>Moderate</td>\n",
       "      <td>BCA</td>\n",
       "      <td>Yes</td>\n",
       "      <td>3.0</td>\n",
       "      <td>4.0</td>\n",
       "      <td>No</td>\n",
       "      <td>0</td>\n",
       "    </tr>\n",
       "    <tr>\n",
       "      <th>...</th>\n",
       "      <td>...</td>\n",
       "      <td>...</td>\n",
       "      <td>...</td>\n",
       "      <td>...</td>\n",
       "      <td>...</td>\n",
       "      <td>...</td>\n",
       "      <td>...</td>\n",
       "      <td>...</td>\n",
       "      <td>...</td>\n",
       "      <td>...</td>\n",
       "      <td>...</td>\n",
       "      <td>...</td>\n",
       "      <td>...</td>\n",
       "      <td>...</td>\n",
       "      <td>...</td>\n",
       "      <td>...</td>\n",
       "      <td>...</td>\n",
       "      <td>...</td>\n",
       "      <td>...</td>\n",
       "    </tr>\n",
       "    <tr>\n",
       "      <th>234495</th>\n",
       "      <td>Zoya</td>\n",
       "      <td>Female</td>\n",
       "      <td>49.0</td>\n",
       "      <td>Jaipur</td>\n",
       "      <td>Working Professional</td>\n",
       "      <td>Pilot</td>\n",
       "      <td>NaN</td>\n",
       "      <td>3.0</td>\n",
       "      <td>NaN</td>\n",
       "      <td>NaN</td>\n",
       "      <td>5.0</td>\n",
       "      <td>Less than 5 hours</td>\n",
       "      <td>Moderate</td>\n",
       "      <td>BSc</td>\n",
       "      <td>Yes</td>\n",
       "      <td>2.0</td>\n",
       "      <td>2.0</td>\n",
       "      <td>Yes</td>\n",
       "      <td>0</td>\n",
       "    </tr>\n",
       "    <tr>\n",
       "      <th>234496</th>\n",
       "      <td>Shlok</td>\n",
       "      <td>Male</td>\n",
       "      <td>29.0</td>\n",
       "      <td>Ahmedabad</td>\n",
       "      <td>Working Professional</td>\n",
       "      <td>Pilot</td>\n",
       "      <td>NaN</td>\n",
       "      <td>5.0</td>\n",
       "      <td>NaN</td>\n",
       "      <td>NaN</td>\n",
       "      <td>1.0</td>\n",
       "      <td>7-8 hours</td>\n",
       "      <td>Moderate</td>\n",
       "      <td>BE</td>\n",
       "      <td>Yes</td>\n",
       "      <td>11.0</td>\n",
       "      <td>3.0</td>\n",
       "      <td>Yes</td>\n",
       "      <td>1</td>\n",
       "    </tr>\n",
       "    <tr>\n",
       "      <th>234497</th>\n",
       "      <td>Rishi</td>\n",
       "      <td>Male</td>\n",
       "      <td>24.0</td>\n",
       "      <td>Visakhapatnam</td>\n",
       "      <td>Student</td>\n",
       "      <td>NaN</td>\n",
       "      <td>1.0</td>\n",
       "      <td>NaN</td>\n",
       "      <td>7.51</td>\n",
       "      <td>4.0</td>\n",
       "      <td>NaN</td>\n",
       "      <td>7-8 hours</td>\n",
       "      <td>Moderate</td>\n",
       "      <td>B.Tech</td>\n",
       "      <td>No</td>\n",
       "      <td>7.0</td>\n",
       "      <td>1.0</td>\n",
       "      <td>No</td>\n",
       "      <td>0</td>\n",
       "    </tr>\n",
       "    <tr>\n",
       "      <th>234498</th>\n",
       "      <td>Eshita</td>\n",
       "      <td>Female</td>\n",
       "      <td>23.0</td>\n",
       "      <td>Kalyan</td>\n",
       "      <td>Working Professional</td>\n",
       "      <td>Marketing Manager</td>\n",
       "      <td>NaN</td>\n",
       "      <td>4.0</td>\n",
       "      <td>NaN</td>\n",
       "      <td>NaN</td>\n",
       "      <td>2.0</td>\n",
       "      <td>5-6 hours</td>\n",
       "      <td>Healthy</td>\n",
       "      <td>BA</td>\n",
       "      <td>Yes</td>\n",
       "      <td>7.0</td>\n",
       "      <td>5.0</td>\n",
       "      <td>Yes</td>\n",
       "      <td>1</td>\n",
       "    </tr>\n",
       "    <tr>\n",
       "      <th>234499</th>\n",
       "      <td>Gauri</td>\n",
       "      <td>Female</td>\n",
       "      <td>43.0</td>\n",
       "      <td>Varanasi</td>\n",
       "      <td>Working Professional</td>\n",
       "      <td>Educational Consultant</td>\n",
       "      <td>NaN</td>\n",
       "      <td>5.0</td>\n",
       "      <td>NaN</td>\n",
       "      <td>NaN</td>\n",
       "      <td>2.0</td>\n",
       "      <td>More than 8 hours</td>\n",
       "      <td>Healthy</td>\n",
       "      <td>B.Ed</td>\n",
       "      <td>No</td>\n",
       "      <td>11.0</td>\n",
       "      <td>2.0</td>\n",
       "      <td>No</td>\n",
       "      <td>0</td>\n",
       "    </tr>\n",
       "  </tbody>\n",
       "</table>\n",
       "<p>93800 rows × 19 columns</p>\n",
       "</div>"
      ],
      "text/plain": [
       "           Name  Gender   Age           City Working Professional or Student  \\\n",
       "id                                                                             \n",
       "140700   Shivam    Male  53.0  Visakhapatnam            Working Professional   \n",
       "140701    Sanya  Female  58.0        Kolkata            Working Professional   \n",
       "140702     Yash    Male  53.0         Jaipur            Working Professional   \n",
       "140703   Nalini  Female  23.0         Rajkot                         Student   \n",
       "140704  Shaurya    Male  47.0         Kalyan            Working Professional   \n",
       "...         ...     ...   ...            ...                             ...   \n",
       "234495     Zoya  Female  49.0         Jaipur            Working Professional   \n",
       "234496    Shlok    Male  29.0      Ahmedabad            Working Professional   \n",
       "234497    Rishi    Male  24.0  Visakhapatnam                         Student   \n",
       "234498   Eshita  Female  23.0         Kalyan            Working Professional   \n",
       "234499    Gauri  Female  43.0       Varanasi            Working Professional   \n",
       "\n",
       "                    Profession  Academic Pressure  Work Pressure  CGPA  \\\n",
       "id                                                                       \n",
       "140700                   Judge                NaN            2.0   NaN   \n",
       "140701  Educational Consultant                NaN            2.0   NaN   \n",
       "140702                 Teacher                NaN            4.0   NaN   \n",
       "140703                     NaN                5.0            NaN  6.84   \n",
       "140704                 Teacher                NaN            5.0   NaN   \n",
       "...                        ...                ...            ...   ...   \n",
       "234495                   Pilot                NaN            3.0   NaN   \n",
       "234496                   Pilot                NaN            5.0   NaN   \n",
       "234497                     NaN                1.0            NaN  7.51   \n",
       "234498       Marketing Manager                NaN            4.0   NaN   \n",
       "234499  Educational Consultant                NaN            5.0   NaN   \n",
       "\n",
       "        Study Satisfaction  Job Satisfaction     Sleep Duration  \\\n",
       "id                                                                \n",
       "140700                 NaN               5.0  Less than 5 hours   \n",
       "140701                 NaN               4.0  Less than 5 hours   \n",
       "140702                 NaN               1.0          7-8 hours   \n",
       "140703                 1.0               NaN  More than 8 hours   \n",
       "140704                 NaN               5.0          7-8 hours   \n",
       "...                    ...               ...                ...   \n",
       "234495                 NaN               5.0  Less than 5 hours   \n",
       "234496                 NaN               1.0          7-8 hours   \n",
       "234497                 4.0               NaN          7-8 hours   \n",
       "234498                 NaN               2.0          5-6 hours   \n",
       "234499                 NaN               2.0  More than 8 hours   \n",
       "\n",
       "       Dietary Habits  Degree Have you ever had suicidal thoughts ?  \\\n",
       "id                                                                    \n",
       "140700       Moderate     LLB                                    No   \n",
       "140701       Moderate    B.Ed                                    No   \n",
       "140702       Moderate  B.Arch                                   Yes   \n",
       "140703       Moderate     BSc                                   Yes   \n",
       "140704       Moderate     BCA                                   Yes   \n",
       "...               ...     ...                                   ...   \n",
       "234495       Moderate     BSc                                   Yes   \n",
       "234496       Moderate      BE                                   Yes   \n",
       "234497       Moderate  B.Tech                                    No   \n",
       "234498        Healthy      BA                                   Yes   \n",
       "234499        Healthy    B.Ed                                    No   \n",
       "\n",
       "        Work/Study Hours  Financial Stress Family History of Mental Illness  \\\n",
       "id                                                                            \n",
       "140700               9.0               3.0                              Yes   \n",
       "140701               6.0               4.0                               No   \n",
       "140702              12.0               4.0                               No   \n",
       "140703              10.0               4.0                               No   \n",
       "140704               3.0               4.0                               No   \n",
       "...                  ...               ...                              ...   \n",
       "234495               2.0               2.0                              Yes   \n",
       "234496              11.0               3.0                              Yes   \n",
       "234497               7.0               1.0                               No   \n",
       "234498               7.0               5.0                              Yes   \n",
       "234499              11.0               2.0                               No   \n",
       "\n",
       "        pred  \n",
       "id            \n",
       "140700     0  \n",
       "140701     0  \n",
       "140702     0  \n",
       "140703     1  \n",
       "140704     0  \n",
       "...      ...  \n",
       "234495     0  \n",
       "234496     1  \n",
       "234497     0  \n",
       "234498     1  \n",
       "234499     0  \n",
       "\n",
       "[93800 rows x 19 columns]"
      ]
     },
     "execution_count": 378,
     "metadata": {},
     "output_type": "execute_result"
    }
   ],
   "source": [
    "# df_test"
   ]
  },
  {
   "cell_type": "markdown",
   "metadata": {},
   "source": [
    "### RandomSearchCV"
   ]
  },
  {
   "cell_type": "code",
   "execution_count": 1040,
   "metadata": {},
   "outputs": [],
   "source": [
    "# clf_xgb = Pipeline([\n",
    "#     ('preprocessing', ct),\n",
    "#     ('model', XGBClassifier())\n",
    "# ])\n",
    "# param_dist = {\n",
    "#     \"model__n_estimators\": stats.randint(100, 500),\n",
    "#     \"model__learning_rate\": stats.uniform(0.01, 0.8),\n",
    "#     \"model__subsample\": stats.uniform(0.2, 0.8),\n",
    "#     \"model__max_depth\": stats.randint(1, 10),\n",
    "#     \"model__colsample_bytree\": stats.uniform(0.1, 1),\n",
    "#     \"model__min_child_weight\": [1, 2, 3, 4],\n",
    "# }\n",
    "\n",
    "# numFolds = 5\n",
    "# kfold_5 = RepeatedStratifiedKFold(n_splits=numFolds, n_repeats=5)\n",
    "\n",
    "# clf = RandomizedSearchCV(\n",
    "#     clf_xgb,\n",
    "#     param_distributions=param_dist,\n",
    "#     cv=kfold_5,\n",
    "#     n_iter=100,\n",
    "#     scoring=\"roc_auc\",\n",
    "#     error_score=0,\n",
    "#     verbose=3,\n",
    "#     n_jobs=-1,\n",
    "# )\n",
    "\n",
    "# clf.fit(X, y)"
   ]
  },
  {
   "cell_type": "code",
   "execution_count": 376,
   "metadata": {},
   "outputs": [
    {
     "data": {
      "text/html": [
       "<div>\n",
       "<style scoped>\n",
       "    .dataframe tbody tr th:only-of-type {\n",
       "        vertical-align: middle;\n",
       "    }\n",
       "\n",
       "    .dataframe tbody tr th {\n",
       "        vertical-align: top;\n",
       "    }\n",
       "\n",
       "    .dataframe thead th {\n",
       "        text-align: right;\n",
       "    }\n",
       "</style>\n",
       "<table border=\"1\" class=\"dataframe\">\n",
       "  <thead>\n",
       "    <tr style=\"text-align: right;\">\n",
       "      <th></th>\n",
       "      <th>Name</th>\n",
       "      <th>Gender</th>\n",
       "      <th>Age</th>\n",
       "      <th>City</th>\n",
       "      <th>Working Professional or Student</th>\n",
       "      <th>Profession</th>\n",
       "      <th>Academic Pressure</th>\n",
       "      <th>Work Pressure</th>\n",
       "      <th>CGPA</th>\n",
       "      <th>Study Satisfaction</th>\n",
       "      <th>Job Satisfaction</th>\n",
       "      <th>Sleep Duration</th>\n",
       "      <th>Dietary Habits</th>\n",
       "      <th>Degree</th>\n",
       "      <th>Have you ever had suicidal thoughts ?</th>\n",
       "      <th>Work/Study Hours</th>\n",
       "      <th>Financial Stress</th>\n",
       "      <th>Family History of Mental Illness</th>\n",
       "    </tr>\n",
       "    <tr>\n",
       "      <th>id</th>\n",
       "      <th></th>\n",
       "      <th></th>\n",
       "      <th></th>\n",
       "      <th></th>\n",
       "      <th></th>\n",
       "      <th></th>\n",
       "      <th></th>\n",
       "      <th></th>\n",
       "      <th></th>\n",
       "      <th></th>\n",
       "      <th></th>\n",
       "      <th></th>\n",
       "      <th></th>\n",
       "      <th></th>\n",
       "      <th></th>\n",
       "      <th></th>\n",
       "      <th></th>\n",
       "      <th></th>\n",
       "    </tr>\n",
       "  </thead>\n",
       "  <tbody>\n",
       "    <tr>\n",
       "      <th>140700</th>\n",
       "      <td>Shivam</td>\n",
       "      <td>Male</td>\n",
       "      <td>53.0</td>\n",
       "      <td>Visakhapatnam</td>\n",
       "      <td>Working Professional</td>\n",
       "      <td>Judge</td>\n",
       "      <td>NaN</td>\n",
       "      <td>2.0</td>\n",
       "      <td>NaN</td>\n",
       "      <td>NaN</td>\n",
       "      <td>5.0</td>\n",
       "      <td>Less than 5 hours</td>\n",
       "      <td>Moderate</td>\n",
       "      <td>LLB</td>\n",
       "      <td>No</td>\n",
       "      <td>9.0</td>\n",
       "      <td>3.0</td>\n",
       "      <td>Yes</td>\n",
       "    </tr>\n",
       "    <tr>\n",
       "      <th>140701</th>\n",
       "      <td>Sanya</td>\n",
       "      <td>Female</td>\n",
       "      <td>58.0</td>\n",
       "      <td>Kolkata</td>\n",
       "      <td>Working Professional</td>\n",
       "      <td>Educational Consultant</td>\n",
       "      <td>NaN</td>\n",
       "      <td>2.0</td>\n",
       "      <td>NaN</td>\n",
       "      <td>NaN</td>\n",
       "      <td>4.0</td>\n",
       "      <td>Less than 5 hours</td>\n",
       "      <td>Moderate</td>\n",
       "      <td>B.Ed</td>\n",
       "      <td>No</td>\n",
       "      <td>6.0</td>\n",
       "      <td>4.0</td>\n",
       "      <td>No</td>\n",
       "    </tr>\n",
       "    <tr>\n",
       "      <th>140702</th>\n",
       "      <td>Yash</td>\n",
       "      <td>Male</td>\n",
       "      <td>53.0</td>\n",
       "      <td>Jaipur</td>\n",
       "      <td>Working Professional</td>\n",
       "      <td>Teacher</td>\n",
       "      <td>NaN</td>\n",
       "      <td>4.0</td>\n",
       "      <td>NaN</td>\n",
       "      <td>NaN</td>\n",
       "      <td>1.0</td>\n",
       "      <td>7-8 hours</td>\n",
       "      <td>Moderate</td>\n",
       "      <td>B.Arch</td>\n",
       "      <td>Yes</td>\n",
       "      <td>12.0</td>\n",
       "      <td>4.0</td>\n",
       "      <td>No</td>\n",
       "    </tr>\n",
       "    <tr>\n",
       "      <th>140703</th>\n",
       "      <td>Nalini</td>\n",
       "      <td>Female</td>\n",
       "      <td>23.0</td>\n",
       "      <td>Rajkot</td>\n",
       "      <td>Student</td>\n",
       "      <td>NaN</td>\n",
       "      <td>5.0</td>\n",
       "      <td>NaN</td>\n",
       "      <td>6.84</td>\n",
       "      <td>1.0</td>\n",
       "      <td>NaN</td>\n",
       "      <td>More than 8 hours</td>\n",
       "      <td>Moderate</td>\n",
       "      <td>BSc</td>\n",
       "      <td>Yes</td>\n",
       "      <td>10.0</td>\n",
       "      <td>4.0</td>\n",
       "      <td>No</td>\n",
       "    </tr>\n",
       "    <tr>\n",
       "      <th>140704</th>\n",
       "      <td>Shaurya</td>\n",
       "      <td>Male</td>\n",
       "      <td>47.0</td>\n",
       "      <td>Kalyan</td>\n",
       "      <td>Working Professional</td>\n",
       "      <td>Teacher</td>\n",
       "      <td>NaN</td>\n",
       "      <td>5.0</td>\n",
       "      <td>NaN</td>\n",
       "      <td>NaN</td>\n",
       "      <td>5.0</td>\n",
       "      <td>7-8 hours</td>\n",
       "      <td>Moderate</td>\n",
       "      <td>BCA</td>\n",
       "      <td>Yes</td>\n",
       "      <td>3.0</td>\n",
       "      <td>4.0</td>\n",
       "      <td>No</td>\n",
       "    </tr>\n",
       "    <tr>\n",
       "      <th>...</th>\n",
       "      <td>...</td>\n",
       "      <td>...</td>\n",
       "      <td>...</td>\n",
       "      <td>...</td>\n",
       "      <td>...</td>\n",
       "      <td>...</td>\n",
       "      <td>...</td>\n",
       "      <td>...</td>\n",
       "      <td>...</td>\n",
       "      <td>...</td>\n",
       "      <td>...</td>\n",
       "      <td>...</td>\n",
       "      <td>...</td>\n",
       "      <td>...</td>\n",
       "      <td>...</td>\n",
       "      <td>...</td>\n",
       "      <td>...</td>\n",
       "      <td>...</td>\n",
       "    </tr>\n",
       "    <tr>\n",
       "      <th>234495</th>\n",
       "      <td>Zoya</td>\n",
       "      <td>Female</td>\n",
       "      <td>49.0</td>\n",
       "      <td>Jaipur</td>\n",
       "      <td>Working Professional</td>\n",
       "      <td>Pilot</td>\n",
       "      <td>NaN</td>\n",
       "      <td>3.0</td>\n",
       "      <td>NaN</td>\n",
       "      <td>NaN</td>\n",
       "      <td>5.0</td>\n",
       "      <td>Less than 5 hours</td>\n",
       "      <td>Moderate</td>\n",
       "      <td>BSc</td>\n",
       "      <td>Yes</td>\n",
       "      <td>2.0</td>\n",
       "      <td>2.0</td>\n",
       "      <td>Yes</td>\n",
       "    </tr>\n",
       "    <tr>\n",
       "      <th>234496</th>\n",
       "      <td>Shlok</td>\n",
       "      <td>Male</td>\n",
       "      <td>29.0</td>\n",
       "      <td>Ahmedabad</td>\n",
       "      <td>Working Professional</td>\n",
       "      <td>Pilot</td>\n",
       "      <td>NaN</td>\n",
       "      <td>5.0</td>\n",
       "      <td>NaN</td>\n",
       "      <td>NaN</td>\n",
       "      <td>1.0</td>\n",
       "      <td>7-8 hours</td>\n",
       "      <td>Moderate</td>\n",
       "      <td>BE</td>\n",
       "      <td>Yes</td>\n",
       "      <td>11.0</td>\n",
       "      <td>3.0</td>\n",
       "      <td>Yes</td>\n",
       "    </tr>\n",
       "    <tr>\n",
       "      <th>234497</th>\n",
       "      <td>Rishi</td>\n",
       "      <td>Male</td>\n",
       "      <td>24.0</td>\n",
       "      <td>Visakhapatnam</td>\n",
       "      <td>Student</td>\n",
       "      <td>NaN</td>\n",
       "      <td>1.0</td>\n",
       "      <td>NaN</td>\n",
       "      <td>7.51</td>\n",
       "      <td>4.0</td>\n",
       "      <td>NaN</td>\n",
       "      <td>7-8 hours</td>\n",
       "      <td>Moderate</td>\n",
       "      <td>B.Tech</td>\n",
       "      <td>No</td>\n",
       "      <td>7.0</td>\n",
       "      <td>1.0</td>\n",
       "      <td>No</td>\n",
       "    </tr>\n",
       "    <tr>\n",
       "      <th>234498</th>\n",
       "      <td>Eshita</td>\n",
       "      <td>Female</td>\n",
       "      <td>23.0</td>\n",
       "      <td>Kalyan</td>\n",
       "      <td>Working Professional</td>\n",
       "      <td>Marketing Manager</td>\n",
       "      <td>NaN</td>\n",
       "      <td>4.0</td>\n",
       "      <td>NaN</td>\n",
       "      <td>NaN</td>\n",
       "      <td>2.0</td>\n",
       "      <td>5-6 hours</td>\n",
       "      <td>Healthy</td>\n",
       "      <td>BA</td>\n",
       "      <td>Yes</td>\n",
       "      <td>7.0</td>\n",
       "      <td>5.0</td>\n",
       "      <td>Yes</td>\n",
       "    </tr>\n",
       "    <tr>\n",
       "      <th>234499</th>\n",
       "      <td>Gauri</td>\n",
       "      <td>Female</td>\n",
       "      <td>43.0</td>\n",
       "      <td>Varanasi</td>\n",
       "      <td>Working Professional</td>\n",
       "      <td>Educational Consultant</td>\n",
       "      <td>NaN</td>\n",
       "      <td>5.0</td>\n",
       "      <td>NaN</td>\n",
       "      <td>NaN</td>\n",
       "      <td>2.0</td>\n",
       "      <td>More than 8 hours</td>\n",
       "      <td>Healthy</td>\n",
       "      <td>B.Ed</td>\n",
       "      <td>No</td>\n",
       "      <td>11.0</td>\n",
       "      <td>2.0</td>\n",
       "      <td>No</td>\n",
       "    </tr>\n",
       "  </tbody>\n",
       "</table>\n",
       "<p>93800 rows × 18 columns</p>\n",
       "</div>"
      ],
      "text/plain": [
       "           Name  Gender   Age           City Working Professional or Student  \\\n",
       "id                                                                             \n",
       "140700   Shivam    Male  53.0  Visakhapatnam            Working Professional   \n",
       "140701    Sanya  Female  58.0        Kolkata            Working Professional   \n",
       "140702     Yash    Male  53.0         Jaipur            Working Professional   \n",
       "140703   Nalini  Female  23.0         Rajkot                         Student   \n",
       "140704  Shaurya    Male  47.0         Kalyan            Working Professional   \n",
       "...         ...     ...   ...            ...                             ...   \n",
       "234495     Zoya  Female  49.0         Jaipur            Working Professional   \n",
       "234496    Shlok    Male  29.0      Ahmedabad            Working Professional   \n",
       "234497    Rishi    Male  24.0  Visakhapatnam                         Student   \n",
       "234498   Eshita  Female  23.0         Kalyan            Working Professional   \n",
       "234499    Gauri  Female  43.0       Varanasi            Working Professional   \n",
       "\n",
       "                    Profession  Academic Pressure  Work Pressure  CGPA  \\\n",
       "id                                                                       \n",
       "140700                   Judge                NaN            2.0   NaN   \n",
       "140701  Educational Consultant                NaN            2.0   NaN   \n",
       "140702                 Teacher                NaN            4.0   NaN   \n",
       "140703                     NaN                5.0            NaN  6.84   \n",
       "140704                 Teacher                NaN            5.0   NaN   \n",
       "...                        ...                ...            ...   ...   \n",
       "234495                   Pilot                NaN            3.0   NaN   \n",
       "234496                   Pilot                NaN            5.0   NaN   \n",
       "234497                     NaN                1.0            NaN  7.51   \n",
       "234498       Marketing Manager                NaN            4.0   NaN   \n",
       "234499  Educational Consultant                NaN            5.0   NaN   \n",
       "\n",
       "        Study Satisfaction  Job Satisfaction     Sleep Duration  \\\n",
       "id                                                                \n",
       "140700                 NaN               5.0  Less than 5 hours   \n",
       "140701                 NaN               4.0  Less than 5 hours   \n",
       "140702                 NaN               1.0          7-8 hours   \n",
       "140703                 1.0               NaN  More than 8 hours   \n",
       "140704                 NaN               5.0          7-8 hours   \n",
       "...                    ...               ...                ...   \n",
       "234495                 NaN               5.0  Less than 5 hours   \n",
       "234496                 NaN               1.0          7-8 hours   \n",
       "234497                 4.0               NaN          7-8 hours   \n",
       "234498                 NaN               2.0          5-6 hours   \n",
       "234499                 NaN               2.0  More than 8 hours   \n",
       "\n",
       "       Dietary Habits  Degree Have you ever had suicidal thoughts ?  \\\n",
       "id                                                                    \n",
       "140700       Moderate     LLB                                    No   \n",
       "140701       Moderate    B.Ed                                    No   \n",
       "140702       Moderate  B.Arch                                   Yes   \n",
       "140703       Moderate     BSc                                   Yes   \n",
       "140704       Moderate     BCA                                   Yes   \n",
       "...               ...     ...                                   ...   \n",
       "234495       Moderate     BSc                                   Yes   \n",
       "234496       Moderate      BE                                   Yes   \n",
       "234497       Moderate  B.Tech                                    No   \n",
       "234498        Healthy      BA                                   Yes   \n",
       "234499        Healthy    B.Ed                                    No   \n",
       "\n",
       "        Work/Study Hours  Financial Stress Family History of Mental Illness  \n",
       "id                                                                           \n",
       "140700               9.0               3.0                              Yes  \n",
       "140701               6.0               4.0                               No  \n",
       "140702              12.0               4.0                               No  \n",
       "140703              10.0               4.0                               No  \n",
       "140704               3.0               4.0                               No  \n",
       "...                  ...               ...                              ...  \n",
       "234495               2.0               2.0                              Yes  \n",
       "234496              11.0               3.0                              Yes  \n",
       "234497               7.0               1.0                               No  \n",
       "234498               7.0               5.0                              Yes  \n",
       "234499              11.0               2.0                               No  \n",
       "\n",
       "[93800 rows x 18 columns]"
      ]
     },
     "execution_count": 376,
     "metadata": {},
     "output_type": "execute_result"
    }
   ],
   "source": [
    "df_test"
   ]
  },
  {
   "cell_type": "markdown",
   "metadata": {},
   "source": [
    "### Old way of catboost?"
   ]
  },
  {
   "cell_type": "code",
   "execution_count": null,
   "metadata": {},
   "outputs": [],
   "source": [
    "# def objective(trial):\n",
    "#     params = {\n",
    "#         \"loss_function\": \"Logloss\",\n",
    "#         \"task_type\": \"GPU\",\n",
    "#         \"depth\": trial.suggest_int(\"depth\", 4, 12),\n",
    "#         \"learning_rate\": trial.suggest_float(\"learning_rate\", 0.01, 3),\n",
    "#         \"iterations\": trial.suggest_int(\"iterations\", 100, 1500),\n",
    "#         \"l2_leaf_reg\": trial.suggest_float(\"l2_leaf_reg\", 1, 10),\n",
    "#         \"random_strength\": trial.suggest_float(\"random_strength\", 0.1, 10),\n",
    "#         \"bagging_temperature\": trial.suggest_float(\"bagging_temperature\", 0, 1),\n",
    "#         \"border_count\": trial.suggest_int(\"border_count\", 32, 255),\n",
    "#         \"early_stopping_rounds\": trial.suggest_int(\"early_stopping_rounds\", 50, 51),\n",
    "#         # \"custom_loss\": trial.suggest_categorical(\"custom_loss\", [\"AUC\"])\n",
    "#         # \"grow_policy\": trial.suggest_categorical(\"grow_policy\", [\"SymmetricTree\", \"Depthwise\", \"Lossguide\"])\n",
    "#     }\n",
    "\n",
    "#     # processed_X = ct.fit_transform(X)\n",
    "#     train_pool = Pool(X, y, cat_features=cat_indices)\n",
    "\n",
    "#     # model = CatBoostClassifier(**params)\n",
    "#     # model.fit(train_pool, verbose=False)\n",
    "#     # model.score\n",
    "\n",
    "#     catboost_cv = cv(\n",
    "#         params=params,\n",
    "#         pool=train_pool,\n",
    "#         fold_count=5,\n",
    "#         shuffle=True,\n",
    "#         verbose=100,\n",
    "#         return_models=False\n",
    "#     )\n",
    "\n",
    "#     return catboost_cv.loc[catboost_cv.shape[0] - 1, \"test-Logloss-mean\"]"
   ]
  }
 ],
 "metadata": {
  "kaggle": {
   "accelerator": "none",
   "dataSources": [
    {
     "databundleVersionId": 10008389,
     "sourceId": 84895,
     "sourceType": "competition"
    }
   ],
   "dockerImageVersionId": 30786,
   "isGpuEnabled": false,
   "isInternetEnabled": true,
   "language": "python",
   "sourceType": "notebook"
  },
  "kernelspec": {
   "display_name": "for_ml",
   "language": "python",
   "name": "python3"
  },
  "language_info": {
   "codemirror_mode": {
    "name": "ipython",
    "version": 3
   },
   "file_extension": ".py",
   "mimetype": "text/x-python",
   "name": "python",
   "nbconvert_exporter": "python",
   "pygments_lexer": "ipython3",
   "version": "3.10.14"
  }
 },
 "nbformat": 4,
 "nbformat_minor": 4
}
