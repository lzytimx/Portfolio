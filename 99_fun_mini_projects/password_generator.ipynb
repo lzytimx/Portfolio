{
 "cells": [
  {
   "cell_type": "code",
   "execution_count": null,
   "metadata": {},
   "outputs": [],
   "source": [
    "import random\n",
    "\n",
    "password = list(\n",
    "    \"qwertyuiopasdfghjklzxcvbnmQWERTYUIOPASDFGHJKLZXCVBNM!@#$%^&*1234567890\"\n",
    ")\n",
    "result = \"\"\n",
    "for i in range(16):\n",
    "    rand_num = random.randint(0, len(password))\n",
    "    result += password[rand_num]\n",
    "\n",
    "result"
   ]
  }
 ],
 "metadata": {
  "language_info": {
   "name": "python"
  }
 },
 "nbformat": 4,
 "nbformat_minor": 2
}
