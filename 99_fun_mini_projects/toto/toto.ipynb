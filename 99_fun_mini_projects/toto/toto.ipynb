{
 "cells": [
  {
   "cell_type": "code",
   "execution_count": 44,
   "metadata": {},
   "outputs": [],
   "source": [
    "import numpy as np"
   ]
  },
  {
   "cell_type": "code",
   "execution_count": 59,
   "metadata": {},
   "outputs": [],
   "source": [
    "def generate_winning_number():\n",
    "    \"\"\"\n",
    "    The idea is to generate seven numbers and store it in an array. Next,\n",
    "    a number from 0 to the length of is randomly selected and this\n",
    "    is used to identify the bonus number (via the index).\n",
    "    Both the winning array and the bonus number are returned/\n",
    "    \"\"\"\n",
    "    prize_nos = np.random.choice(a=np.arange(1,50), size=7, replace=False)\n",
    "    bonus_index = np.random.choice(a=np.arange(len(prize_nos)), size=1)\n",
    "    bonus_no = prize_nos[bonus_index]\n",
    "    prize_nos = np.array(sorted(prize_nos[prize_nos != bonus_no]))\n",
    "    return prize_nos, bonus_no\n",
    "\n",
    "win_arr, bonus_no = generate_winning_number()"
   ]
  },
  {
   "cell_type": "code",
   "execution_count": 60,
   "metadata": {},
   "outputs": [
    {
     "data": {
      "text/plain": [
       "array([ 2,  8,  9, 28, 36, 40])"
      ]
     },
     "execution_count": 60,
     "metadata": {},
     "output_type": "execute_result"
    }
   ],
   "source": [
    "# Solution 1: Randomising player numbers akin to quickpick\n",
    "# player_nos = []\n",
    "\n",
    "# while len(player_nos) < 6:\n",
    "#     rand_num = np.random.choice(a=np.arange(1,50), size=1)\n",
    "#     if rand_num not in player_nos:\n",
    "#         player_nos.append(int(rand_num))\n",
    "#     else:\n",
    "#         continue\n",
    "\n",
    "# player_nos.sort()\n",
    "# print(player_nos)\n",
    "\n",
    "# Solution 2: Status player numbers\n",
    "player_nos = np.array([2, 8, 9, 28, 36, 40])\n",
    "player_nos"
   ]
  },
  {
   "cell_type": "code",
   "execution_count": 62,
   "metadata": {},
   "outputs": [
    {
     "name": "stdout",
     "output_type": "stream",
     "text": [
      "0 0\n"
     ]
    }
   ],
   "source": [
    "def check_winning_number(player, winning_arr, bonus_no):\n",
    "    no_wins = 0\n",
    "    no_bonus = 0\n",
    "\n",
    "    for i in player:\n",
    "        if i in winning_arr:\n",
    "            no_wins += 1\n",
    "        elif i in bonus_no:\n",
    "            no_bonus += 1\n",
    "\n",
    "    return no_wins, no_bonus\n",
    "\n",
    "no_of_wins, no_of_bonus = check_winning_number(player_nos, win_arr, bonus_no)\n",
    "\n",
    "print(no_of_wins, no_of_bonus)"
   ]
  },
  {
   "cell_type": "code",
   "execution_count": 63,
   "metadata": {},
   "outputs": [
    {
     "data": {
      "text/plain": [
       "-1"
      ]
     },
     "execution_count": 63,
     "metadata": {},
     "output_type": "execute_result"
    }
   ],
   "source": [
    "def counting_wins(player_wins, player_bonus):\n",
    "    \"\"\"\n",
    "    This function counts the wins for each round of toto.\n",
    "    The payout is referenced from the toto website and is appended\n",
    "    in the comments section for reference:\n",
    "\n",
    "    Group 1 - 6 winning numbers             ; $1,000,000 \n",
    "    Group 2 - 5 winning numbers + add number; $80,000 8% prize pool\n",
    "    Group 3 - 5 Winning numbers             ; $55,000 5.5% prize pool\n",
    "    Group 4 - 4 Winning numbers + add number; $30,000 3% prize pool\n",
    "    Group 5 - 4 Winning numbers             ; $50\n",
    "    Group 4 - 3 Winning numbers + add number; $25\n",
    "    Group 5 - 3 Winning numbers             ; $10\n",
    "    \"\"\"\n",
    "    if player_wins == 6:\n",
    "        return 1000000\n",
    "    elif player_wins == 5 and player_bonus == 1:\n",
    "        return 80000\n",
    "    elif player_wins == 5:\n",
    "        return 55000\n",
    "    elif player_wins == 4 and player_bonus == 1:\n",
    "        return 30000\n",
    "    elif player_wins == 4:\n",
    "        return 50\n",
    "    elif player_wins == 3 and player_bonus == 1:\n",
    "        return 25\n",
    "    elif player_wins == 3:\n",
    "        return 10\n",
    "    else:\n",
    "        return -1\n",
    "\n",
    "counting_wins(no_of_wins, no_of_bonus)"
   ]
  },
  {
   "cell_type": "code",
   "execution_count": 389,
   "metadata": {},
   "outputs": [],
   "source": [
    "import numpy as np\n",
    "\n",
    "def main():\n",
    "\n",
    "    earnings_array = []\n",
    "    player_chosen_nos = [2, 8, 9, 28, 36, 40]\n",
    "    winnings = 0\n",
    "\n",
    "    for j in range(100000):\n",
    "        toto_win_array, toto_bonus_no = generate_winning_numbers()\n",
    "        no_of_wins, no_of_bonus = check_winning_numbers(player_chosen_nos, toto_win_array, toto_bonus_no)\n",
    "        winnings += counting_wins(no_of_wins, no_of_bonus)\n",
    "\n",
    "        # print(toto_win_array, toto_bonus_no)\n",
    "        # print(no_of_wins, no_of_bonus)\n",
    "        # print(winnings)\n",
    "\n",
    "    print(winnings)\n",
    "\n",
    "\n",
    "def generate_winning_numbers():\n",
    "    \"\"\"\n",
    "    The idea is to generate seven numbers and store it in an array. Next,\n",
    "    a number from 0 to the length of is randomly selected and this\n",
    "    is used to identify the bonus number (via the index).\n",
    "    Both the winning array and the bonus number are returned/\n",
    "    \"\"\"\n",
    "    prize_nos = np.random.choice(a=np.arange(1,50), size=7, replace=False)\n",
    "    bonus_index = np.random.choice(a=np.arange(len(prize_nos)), size=1)\n",
    "    bonus_no = prize_nos[bonus_index]\n",
    "    prize_nos = np.array(sorted(prize_nos[prize_nos != bonus_no]))\n",
    "    return prize_nos, bonus_no\n",
    "\n",
    "def check_winning_numbers(player, winning_arr, bonus_no):\n",
    "    no_wins = 0\n",
    "    no_bonus = 0\n",
    "\n",
    "    for i in player:\n",
    "        if i in winning_arr:\n",
    "            no_wins += 1\n",
    "        elif i in bonus_no:\n",
    "            no_bonus += 1\n",
    "\n",
    "    assert no_wins < 7, \"bug\"\n",
    "    assert no_bonus <= 1, \"bug\"\n",
    "\n",
    "    return no_wins, no_bonus\n",
    "\n",
    "def counting_wins(player_wins, player_bonus):\n",
    "    \"\"\"\n",
    "    This function counts the wins for each round of toto.\n",
    "    The payout is referenced from the toto website and is appended\n",
    "    in the comments section for reference:\n",
    "\n",
    "    Group 1 - 6 winning numbers             ; $1,000,000 \n",
    "    Group 2 - 5 winning numbers + add number; $80,000 8% prize pool\n",
    "    Group 3 - 5 Winning numbers             ; $55,000 5.5% prize pool\n",
    "    Group 4 - 4 Winning numbers + add number; $30,000 3% prize pool\n",
    "    Group 5 - 4 Winning numbers             ; $50\n",
    "    Group 4 - 3 Winning numbers + add number; $25\n",
    "    Group 5 - 3 Winning numbers             ; $10\n",
    "    \"\"\"\n",
    "    if player_wins == 6:\n",
    "        return 1000000 - 1\n",
    "    elif player_wins == 5 and player_bonus == 1:\n",
    "        return 200000 - 1\n",
    "    elif player_wins == 5:\n",
    "        return 1800 - 1\n",
    "    elif player_wins == 4 and player_bonus == 1:\n",
    "        return 400 - 1\n",
    "    elif player_wins == 4:\n",
    "        return 50 - 1\n",
    "    elif player_wins == 3 and player_bonus == 1:\n",
    "        return 25 - 1\n",
    "    elif player_wins == 3:\n",
    "        return 10 - 1\n",
    "    else:\n",
    "        return -1\n"
   ]
  },
  {
   "cell_type": "code",
   "execution_count": 390,
   "metadata": {},
   "outputs": [
    {
     "name": "stdout",
     "output_type": "stream",
     "text": [
      "-70435\n"
     ]
    }
   ],
   "source": [
    "main()"
   ]
  }
 ],
 "metadata": {
  "kernelspec": {
   "display_name": "Python 3.8.10 ('tf_m1')",
   "language": "python",
   "name": "python3"
  },
  "language_info": {
   "codemirror_mode": {
    "name": "ipython",
    "version": 3
   },
   "file_extension": ".py",
   "mimetype": "text/x-python",
   "name": "python",
   "nbconvert_exporter": "python",
   "pygments_lexer": "ipython3",
   "version": "3.8.10"
  },
  "orig_nbformat": 4,
  "vscode": {
   "interpreter": {
    "hash": "c06ecea90290e0e2a703c88138118ffa00a980552fe399a6ce9573effcd4e290"
   }
  }
 },
 "nbformat": 4,
 "nbformat_minor": 2
}
