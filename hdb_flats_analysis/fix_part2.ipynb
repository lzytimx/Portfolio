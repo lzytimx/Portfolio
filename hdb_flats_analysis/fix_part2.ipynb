{
 "cells": [
  {
   "cell_type": "markdown",
   "metadata": {},
   "source": [
    "# <b>Monitoring Singapore's Sky-High Resale Public Housing Prices (Part 2)</b>"
   ]
  },
  {
   "cell_type": "markdown",
   "metadata": {},
   "source": [
    "<img src='https://www.hdb.gov.sg/cs/infoweb/-/media/HDBContent/Images/SCEG/Confidential-InfoWEB_Mobile.ashx' width='100%'>"
   ]
  },
  {
   "cell_type": "markdown",
   "metadata": {},
   "source": [
    "Month of update: November 2024\n",
    "\n",
    "This analysis is a sequel to [a prior project][part1-project] where we sought to answer the burning question on whether home ownership remains affordable for the common man. The core finding from that study were that public housing continues to be affordable even for people in the lower income brackets.  \n",
    "\n",
    "Nonetheless, we continue to see worrying signs of rapidly increasing prices. There is a 34% increase in mean resale prices just in a span of 4 years from 2020 to 2024. In 2024 alone, there is already a 6% increase in resale flat prices, which significantly outpaces the national [inflation rates][mas-inflation-rate-pr] for the same year. The proportion of million-dollar flats sold has also risen 10-fold from 0.35% in 2020 to 3.57% in 2024 (to-date).\n",
    "\n",
    "“This is why we are moving now to dampen demand and encourage prudent borrowing, even as we continue to inject supply at a steady pace to meet demand.” - Desmond Lee, press conference\n",
    "\n",
    "\n",
    "This prompted the Ministry of National Development to action. In August 2024, Minister for National Development Desmond Lee [announced policy measures][news-article] to control the price increase in resale market. The two policy changes are (i) the lowering of Loan-to-Value (LTV) ratio from 80% to 75%, and (ii) significantly [increasing][enhanced-housing-grant] the Enchanced Housing Grant (EHG) from $80,000 to a maximum of $120,000 (a staggering 50% increase). Both policies serve to slow increases in prices, as well as to provide more support to those who are unable to purchase their first homes owed to recent increases in prices. \n",
    "\n",
    "This study has 2 objectives:\n",
    "1. We want to study how changes in policy will affect downpayment. The interplay between lowered LTV and higher grants makes it hard to intuitively conclude that everyone has to pay more under new policy changes.\n",
    "2. We want to study how market conditions have changed (particularly on the number of transactions, the mean price, and proportion of million-dollar flats transacted) post policy change. Nonetheless, we acknowledge that the effects of policy changes will not be visible very quickly since this study was done 3 months post-policy change. Nonetheless, this notebook will be updated whenever new resale flat transaction is made available by the HDB.\n",
    "\n",
    "[part1-project]: https://www.kaggle.com/code/lzytim/investigating-singapore-s-sky-high-flat-prices\n",
    "[news-article]: https://www.straitstimes.com/singapore/desmond-lee-flags-psychological-factor-contributing-to-higher-prices-in-hdb-resale-market\n",
    "[enhanced-housing-grant]: https://www.hdb.gov.sg/-/media/doc/EAPG-CSC/EHG-amount-Couples-and-Families-Aug-2024.ashx\n",
    "[mas-inflation-rate-pr]: https://www.mas.gov.sg/news/monetary-policy-statements/2024/mas-monetary-policy-statement-26jul24"
   ]
  },
  {
   "cell_type": "code",
   "execution_count": 5,
   "metadata": {},
   "outputs": [],
   "source": [
    "import os\n",
    "import pandas as pd\n",
    "import numpy as np\n",
    "import matplotlib.pyplot as plt\n",
    "import plotly.graph_objects as go\n",
    "from plotly.subplots import make_subplots\n",
    "import plotly.io as pio\n",
    "import seaborn as sns\n",
    "import geopandas as gpd\n",
    "import datetime as dt\n",
    "import math\n",
    "import matplotlib.pyplot as plt\n",
    "from plotly.tools import mpl_to_plotly\n",
    "import plotly.express as px\n",
    "from matplotlib.colors import LinearSegmentedColormap"
   ]
  },
  {
   "cell_type": "code",
   "execution_count": 6,
   "metadata": {},
   "outputs": [],
   "source": [
    "# Loading resale flat transactions dataset\n",
    "try:\n",
    "    kaggle_file_loc = \"../input/hdb-resale-prices/resale_hdb_price_coords.csv\"\n",
    "    df = pd.read_csv(kaggle_file_loc, parse_dates=[\"month\"], index_col=0)\n",
    "except:\n",
    "    github_file_loc = \"../datasets/resale_hdb_price_coords_mrt_31oct.csv\"\n",
    "    df = pd.read_csv(github_file_loc, parse_dates=[\"month\"], index_col=0)\n",
    "\n",
    "df[\"year\"] = df[\"month\"].dt.year"
   ]
  },
  {
   "cell_type": "code",
   "execution_count": null,
   "metadata": {},
   "outputs": [],
   "source": []
  }
 ],
 "metadata": {
  "kernelspec": {
   "display_name": "for_ml",
   "language": "python",
   "name": "python3"
  },
  "language_info": {
   "codemirror_mode": {
    "name": "ipython",
    "version": 3
   },
   "file_extension": ".py",
   "mimetype": "text/x-python",
   "name": "python",
   "nbconvert_exporter": "python",
   "pygments_lexer": "ipython3",
   "version": "3.10.14"
  }
 },
 "nbformat": 4,
 "nbformat_minor": 2
}
