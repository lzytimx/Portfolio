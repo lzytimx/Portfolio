{
 "cells": [
  {
   "cell_type": "code",
   "execution_count": 405,
   "metadata": {},
   "outputs": [],
   "source": [
    "import pandas as pd\n",
    "import numpy as np\n",
    "import matplotlib.pyplot as plt\n",
    "import seaborn as sns"
   ]
  },
  {
   "cell_type": "code",
   "execution_count": 406,
   "metadata": {},
   "outputs": [],
   "source": [
    "plt.style.use('ggplot')\n",
    "pd.set_option('max_columns', None)\n",
    "pd.set_option('max_rows', 20)"
   ]
  },
  {
   "cell_type": "code",
   "execution_count": 407,
   "metadata": {},
   "outputs": [],
   "source": [
    "file = '/Users/tim/Documents/GitHub/pandas_additional/data/ikea.csv'\n",
    "df = pd.read_csv(file)"
   ]
  },
  {
   "attachments": {},
   "cell_type": "markdown",
   "metadata": {},
   "source": [
    "### Basic Information about the Dataset"
   ]
  },
  {
   "cell_type": "code",
   "execution_count": 408,
   "metadata": {},
   "outputs": [
    {
     "data": {
      "text/plain": [
       "(3694, 14)"
      ]
     },
     "execution_count": 408,
     "metadata": {},
     "output_type": "execute_result"
    }
   ],
   "source": [
    "df.shape"
   ]
  },
  {
   "cell_type": "code",
   "execution_count": 409,
   "metadata": {},
   "outputs": [],
   "source": [
    "df.drop('Unnamed: 0', axis=1, inplace=True)"
   ]
  },
  {
   "attachments": {},
   "cell_type": "markdown",
   "metadata": {},
   "source": [
    "    Data Explanation\n",
    "\n",
    "    item_id : Item identification number\n",
    "    name : The name of the product\n",
    "    category : The category of the product\n",
    "    price : The price of the product [SR]\n",
    "    old_price : The old price of the product [ No old price/ SR 995 / Other ]\n",
    "    sellable_online : Whether or not the IKEA product is sellable online [True/False]\n",
    "    link : A link to IKEA product\n",
    "    other_colors : Other colors that the IKEA product is available in [Yes/No]\n",
    "    short_description : A short description of the IKEA product\n",
    "    designer : The designer of the IKEA product\n",
    "    depth : The depth of the IKEA product\n",
    "    height : The height of the IKEA product\n",
    "    width : The width of the IKEA product"
   ]
  },
  {
   "cell_type": "code",
   "execution_count": 410,
   "metadata": {},
   "outputs": [
    {
     "data": {
      "text/plain": [
       "item_id                int64\n",
       "name                  object\n",
       "category              object\n",
       "price                float64\n",
       "old_price             object\n",
       "sellable_online         bool\n",
       "link                  object\n",
       "other_colors          object\n",
       "short_description     object\n",
       "designer              object\n",
       "depth                float64\n",
       "height               float64\n",
       "width                float64\n",
       "dtype: object"
      ]
     },
     "execution_count": 410,
     "metadata": {},
     "output_type": "execute_result"
    }
   ],
   "source": [
    "df.dtypes"
   ]
  },
  {
   "cell_type": "code",
   "execution_count": 411,
   "metadata": {},
   "outputs": [
    {
     "data": {
      "text/html": [
       "<div>\n",
       "<style scoped>\n",
       "    .dataframe tbody tr th:only-of-type {\n",
       "        vertical-align: middle;\n",
       "    }\n",
       "\n",
       "    .dataframe tbody tr th {\n",
       "        vertical-align: top;\n",
       "    }\n",
       "\n",
       "    .dataframe thead th {\n",
       "        text-align: right;\n",
       "    }\n",
       "</style>\n",
       "<table border=\"1\" class=\"dataframe\">\n",
       "  <thead>\n",
       "    <tr style=\"text-align: right;\">\n",
       "      <th></th>\n",
       "      <th>item_id</th>\n",
       "      <th>name</th>\n",
       "      <th>category</th>\n",
       "      <th>price</th>\n",
       "      <th>old_price</th>\n",
       "      <th>sellable_online</th>\n",
       "      <th>link</th>\n",
       "      <th>other_colors</th>\n",
       "      <th>short_description</th>\n",
       "      <th>designer</th>\n",
       "      <th>depth</th>\n",
       "      <th>height</th>\n",
       "      <th>width</th>\n",
       "    </tr>\n",
       "  </thead>\n",
       "  <tbody>\n",
       "    <tr>\n",
       "      <th>0</th>\n",
       "      <td>90420332</td>\n",
       "      <td>FREKVENS</td>\n",
       "      <td>Bar furniture</td>\n",
       "      <td>265.0</td>\n",
       "      <td>No old price</td>\n",
       "      <td>True</td>\n",
       "      <td>https://www.ikea.com/sa/en/p/frekvens-bar-tabl...</td>\n",
       "      <td>No</td>\n",
       "      <td>Bar table, in/outdoor,          51x51 cm</td>\n",
       "      <td>Nicholai Wiig Hansen</td>\n",
       "      <td>NaN</td>\n",
       "      <td>99.0</td>\n",
       "      <td>51.0</td>\n",
       "    </tr>\n",
       "    <tr>\n",
       "      <th>1</th>\n",
       "      <td>368814</td>\n",
       "      <td>NORDVIKEN</td>\n",
       "      <td>Bar furniture</td>\n",
       "      <td>995.0</td>\n",
       "      <td>No old price</td>\n",
       "      <td>False</td>\n",
       "      <td>https://www.ikea.com/sa/en/p/nordviken-bar-tab...</td>\n",
       "      <td>No</td>\n",
       "      <td>Bar table,          140x80 cm</td>\n",
       "      <td>Francis Cayouette</td>\n",
       "      <td>NaN</td>\n",
       "      <td>105.0</td>\n",
       "      <td>80.0</td>\n",
       "    </tr>\n",
       "    <tr>\n",
       "      <th>2</th>\n",
       "      <td>9333523</td>\n",
       "      <td>NORDVIKEN / NORDVIKEN</td>\n",
       "      <td>Bar furniture</td>\n",
       "      <td>2095.0</td>\n",
       "      <td>No old price</td>\n",
       "      <td>False</td>\n",
       "      <td>https://www.ikea.com/sa/en/p/nordviken-nordvik...</td>\n",
       "      <td>No</td>\n",
       "      <td>Bar table and 4 bar stools</td>\n",
       "      <td>Francis Cayouette</td>\n",
       "      <td>NaN</td>\n",
       "      <td>NaN</td>\n",
       "      <td>NaN</td>\n",
       "    </tr>\n",
       "    <tr>\n",
       "      <th>3</th>\n",
       "      <td>80155205</td>\n",
       "      <td>STIG</td>\n",
       "      <td>Bar furniture</td>\n",
       "      <td>69.0</td>\n",
       "      <td>No old price</td>\n",
       "      <td>True</td>\n",
       "      <td>https://www.ikea.com/sa/en/p/stig-bar-stool-wi...</td>\n",
       "      <td>Yes</td>\n",
       "      <td>Bar stool with backrest,          74 cm</td>\n",
       "      <td>Henrik Preutz</td>\n",
       "      <td>50.0</td>\n",
       "      <td>100.0</td>\n",
       "      <td>60.0</td>\n",
       "    </tr>\n",
       "    <tr>\n",
       "      <th>4</th>\n",
       "      <td>30180504</td>\n",
       "      <td>NORBERG</td>\n",
       "      <td>Bar furniture</td>\n",
       "      <td>225.0</td>\n",
       "      <td>No old price</td>\n",
       "      <td>True</td>\n",
       "      <td>https://www.ikea.com/sa/en/p/norberg-wall-moun...</td>\n",
       "      <td>No</td>\n",
       "      <td>Wall-mounted drop-leaf table,         ...</td>\n",
       "      <td>Marcus Arvonen</td>\n",
       "      <td>60.0</td>\n",
       "      <td>43.0</td>\n",
       "      <td>74.0</td>\n",
       "    </tr>\n",
       "  </tbody>\n",
       "</table>\n",
       "</div>"
      ],
      "text/plain": [
       "    item_id                   name       category   price     old_price  \\\n",
       "0  90420332               FREKVENS  Bar furniture   265.0  No old price   \n",
       "1    368814              NORDVIKEN  Bar furniture   995.0  No old price   \n",
       "2   9333523  NORDVIKEN / NORDVIKEN  Bar furniture  2095.0  No old price   \n",
       "3  80155205                   STIG  Bar furniture    69.0  No old price   \n",
       "4  30180504                NORBERG  Bar furniture   225.0  No old price   \n",
       "\n",
       "   sellable_online                                               link  \\\n",
       "0             True  https://www.ikea.com/sa/en/p/frekvens-bar-tabl...   \n",
       "1            False  https://www.ikea.com/sa/en/p/nordviken-bar-tab...   \n",
       "2            False  https://www.ikea.com/sa/en/p/nordviken-nordvik...   \n",
       "3             True  https://www.ikea.com/sa/en/p/stig-bar-stool-wi...   \n",
       "4             True  https://www.ikea.com/sa/en/p/norberg-wall-moun...   \n",
       "\n",
       "  other_colors                                  short_description  \\\n",
       "0           No           Bar table, in/outdoor,          51x51 cm   \n",
       "1           No                      Bar table,          140x80 cm   \n",
       "2           No                         Bar table and 4 bar stools   \n",
       "3          Yes            Bar stool with backrest,          74 cm   \n",
       "4           No          Wall-mounted drop-leaf table,         ...   \n",
       "\n",
       "               designer  depth  height  width  \n",
       "0  Nicholai Wiig Hansen    NaN    99.0   51.0  \n",
       "1     Francis Cayouette    NaN   105.0   80.0  \n",
       "2     Francis Cayouette    NaN     NaN    NaN  \n",
       "3         Henrik Preutz   50.0   100.0   60.0  \n",
       "4        Marcus Arvonen   60.0    43.0   74.0  "
      ]
     },
     "execution_count": 411,
     "metadata": {},
     "output_type": "execute_result"
    }
   ],
   "source": [
    "df.head()"
   ]
  },
  {
   "attachments": {},
   "cell_type": "markdown",
   "metadata": {},
   "source": [
    "### Data Exploration"
   ]
  },
  {
   "attachments": {},
   "cell_type": "markdown",
   "metadata": {},
   "source": [
    "    'name' column looks ok, but not much cleaning to do either. \n",
    "    'name' should retain the data type of 'object'"
   ]
  },
  {
   "cell_type": "code",
   "execution_count": 412,
   "metadata": {},
   "outputs": [
    {
     "data": {
      "text/html": [
       "<div>\n",
       "<style scoped>\n",
       "    .dataframe tbody tr th:only-of-type {\n",
       "        vertical-align: middle;\n",
       "    }\n",
       "\n",
       "    .dataframe tbody tr th {\n",
       "        vertical-align: top;\n",
       "    }\n",
       "\n",
       "    .dataframe thead th {\n",
       "        text-align: right;\n",
       "    }\n",
       "</style>\n",
       "<table border=\"1\" class=\"dataframe\">\n",
       "  <thead>\n",
       "    <tr style=\"text-align: right;\">\n",
       "      <th></th>\n",
       "      <th>item_id</th>\n",
       "      <th>name</th>\n",
       "      <th>category</th>\n",
       "      <th>price</th>\n",
       "      <th>old_price</th>\n",
       "      <th>sellable_online</th>\n",
       "      <th>link</th>\n",
       "      <th>other_colors</th>\n",
       "      <th>short_description</th>\n",
       "      <th>designer</th>\n",
       "      <th>depth</th>\n",
       "      <th>height</th>\n",
       "      <th>width</th>\n",
       "    </tr>\n",
       "  </thead>\n",
       "  <tbody>\n",
       "    <tr>\n",
       "      <th>1429</th>\n",
       "      <td>69161203</td>\n",
       "      <td>RYDEBÄCK/BACKARYD / JANINGE</td>\n",
       "      <td>Chairs</td>\n",
       "      <td>1215.0</td>\n",
       "      <td>SR 1,395</td>\n",
       "      <td>True</td>\n",
       "      <td>https://www.ikea.com/sa/en/p/rydebaeck-backary...</td>\n",
       "      <td>No</td>\n",
       "      <td>Table and 4 chairs,          150 cm</td>\n",
       "      <td>IKEA of Sweden/John/Jonas/Petrus/Paul/Caroline...</td>\n",
       "      <td>NaN</td>\n",
       "      <td>75.0</td>\n",
       "      <td>78.0</td>\n",
       "    </tr>\n",
       "    <tr>\n",
       "      <th>1506</th>\n",
       "      <td>89161565</td>\n",
       "      <td>VÄSTANBY/VÄSTANÅ / BERNHARD</td>\n",
       "      <td>Chairs</td>\n",
       "      <td>4295.0</td>\n",
       "      <td>SR 4,475</td>\n",
       "      <td>True</td>\n",
       "      <td>https://www.ikea.com/sa/en/p/vaestanby-vaestan...</td>\n",
       "      <td>No</td>\n",
       "      <td>Table and 4 chairs,          170 cm</td>\n",
       "      <td>Chris Martin/Ola Wihlborg/IKEA of Sweden</td>\n",
       "      <td>NaN</td>\n",
       "      <td>75.0</td>\n",
       "      <td>78.0</td>\n",
       "    </tr>\n",
       "    <tr>\n",
       "      <th>1546</th>\n",
       "      <td>19103183</td>\n",
       "      <td>VÄSTANBY/VÄSTANÅ / BERNHARD</td>\n",
       "      <td>Chairs</td>\n",
       "      <td>4295.0</td>\n",
       "      <td>SR 4,475</td>\n",
       "      <td>True</td>\n",
       "      <td>https://www.ikea.com/sa/en/p/vaestanby-vaestan...</td>\n",
       "      <td>No</td>\n",
       "      <td>Table and 4 chairs,          170 cm</td>\n",
       "      <td>Chris Martin/Ola Wihlborg/IKEA of Sweden</td>\n",
       "      <td>NaN</td>\n",
       "      <td>75.0</td>\n",
       "      <td>78.0</td>\n",
       "    </tr>\n",
       "    <tr>\n",
       "      <th>1547</th>\n",
       "      <td>19130501</td>\n",
       "      <td>SLÄHULT/DALSHULT / LEIFARNE</td>\n",
       "      <td>Chairs</td>\n",
       "      <td>1975.0</td>\n",
       "      <td>No old price</td>\n",
       "      <td>True</td>\n",
       "      <td>https://www.ikea.com/sa/en/p/slaehult-dalshult...</td>\n",
       "      <td>No</td>\n",
       "      <td>Table and 4 chairs,          185 cm</td>\n",
       "      <td>Mia Lagerman/IKEA of Sweden/Wiebke Braasch</td>\n",
       "      <td>NaN</td>\n",
       "      <td>73.0</td>\n",
       "      <td>90.0</td>\n",
       "    </tr>\n",
       "    <tr>\n",
       "      <th>1577</th>\n",
       "      <td>69130612</td>\n",
       "      <td>VÄSTANBY/VÄSTANÅ / LEIFARNE</td>\n",
       "      <td>Chairs</td>\n",
       "      <td>2095.0</td>\n",
       "      <td>SR 2,275</td>\n",
       "      <td>True</td>\n",
       "      <td>https://www.ikea.com/sa/en/p/vaestanby-vaestan...</td>\n",
       "      <td>No</td>\n",
       "      <td>Table and 4 chairs,          170 cm</td>\n",
       "      <td>Mia Lagerman/IKEA of Sweden/Chris Martin</td>\n",
       "      <td>NaN</td>\n",
       "      <td>75.0</td>\n",
       "      <td>78.0</td>\n",
       "    </tr>\n",
       "    <tr>\n",
       "      <th>1578</th>\n",
       "      <td>69161552</td>\n",
       "      <td>RYDEBÄCK/BACKARYD / JANINGE</td>\n",
       "      <td>Chairs</td>\n",
       "      <td>1395.0</td>\n",
       "      <td>SR 1,450</td>\n",
       "      <td>True</td>\n",
       "      <td>https://www.ikea.com/sa/en/p/rydebaeck-backary...</td>\n",
       "      <td>No</td>\n",
       "      <td>Table and 4 chairs,          150 cm</td>\n",
       "      <td>David Wahl/IKEA of Sweden/John/Jonas/Petrus/Pa...</td>\n",
       "      <td>NaN</td>\n",
       "      <td>75.0</td>\n",
       "      <td>78.0</td>\n",
       "    </tr>\n",
       "    <tr>\n",
       "      <th>3085</th>\n",
       "      <td>19130501</td>\n",
       "      <td>SLÄHULT/DALSHULT / LEIFARNE</td>\n",
       "      <td>Tables &amp; desks</td>\n",
       "      <td>1975.0</td>\n",
       "      <td>No old price</td>\n",
       "      <td>True</td>\n",
       "      <td>https://www.ikea.com/sa/en/p/slaehult-dalshult...</td>\n",
       "      <td>No</td>\n",
       "      <td>Table and 4 chairs,          185 cm</td>\n",
       "      <td>Mia Lagerman/IKEA of Sweden/Wiebke Braasch</td>\n",
       "      <td>NaN</td>\n",
       "      <td>73.0</td>\n",
       "      <td>90.0</td>\n",
       "    </tr>\n",
       "    <tr>\n",
       "      <th>3115</th>\n",
       "      <td>69130612</td>\n",
       "      <td>VÄSTANBY/VÄSTANÅ / LEIFARNE</td>\n",
       "      <td>Tables &amp; desks</td>\n",
       "      <td>2095.0</td>\n",
       "      <td>SR 2,275</td>\n",
       "      <td>True</td>\n",
       "      <td>https://www.ikea.com/sa/en/p/vaestanby-vaestan...</td>\n",
       "      <td>No</td>\n",
       "      <td>Table and 4 chairs,          170 cm</td>\n",
       "      <td>Mia Lagerman/IKEA of Sweden/Chris Martin</td>\n",
       "      <td>NaN</td>\n",
       "      <td>75.0</td>\n",
       "      <td>78.0</td>\n",
       "    </tr>\n",
       "    <tr>\n",
       "      <th>3116</th>\n",
       "      <td>69161552</td>\n",
       "      <td>RYDEBÄCK/BACKARYD / JANINGE</td>\n",
       "      <td>Tables &amp; desks</td>\n",
       "      <td>1395.0</td>\n",
       "      <td>SR 1,450</td>\n",
       "      <td>True</td>\n",
       "      <td>https://www.ikea.com/sa/en/p/rydebaeck-backary...</td>\n",
       "      <td>No</td>\n",
       "      <td>Table and 4 chairs,          150 cm</td>\n",
       "      <td>David Wahl/IKEA of Sweden/John/Jonas/Petrus/Pa...</td>\n",
       "      <td>NaN</td>\n",
       "      <td>75.0</td>\n",
       "      <td>78.0</td>\n",
       "    </tr>\n",
       "    <tr>\n",
       "      <th>3179</th>\n",
       "      <td>19103183</td>\n",
       "      <td>VÄSTANBY/VÄSTANÅ / BERNHARD</td>\n",
       "      <td>Tables &amp; desks</td>\n",
       "      <td>4295.0</td>\n",
       "      <td>SR 4,475</td>\n",
       "      <td>True</td>\n",
       "      <td>https://www.ikea.com/sa/en/p/vaestanby-vaestan...</td>\n",
       "      <td>No</td>\n",
       "      <td>Table and 4 chairs,          170 cm</td>\n",
       "      <td>Chris Martin/Ola Wihlborg/IKEA of Sweden</td>\n",
       "      <td>NaN</td>\n",
       "      <td>75.0</td>\n",
       "      <td>78.0</td>\n",
       "    </tr>\n",
       "    <tr>\n",
       "      <th>3213</th>\n",
       "      <td>69161203</td>\n",
       "      <td>RYDEBÄCK/BACKARYD / JANINGE</td>\n",
       "      <td>Tables &amp; desks</td>\n",
       "      <td>1215.0</td>\n",
       "      <td>SR 1,395</td>\n",
       "      <td>True</td>\n",
       "      <td>https://www.ikea.com/sa/en/p/rydebaeck-backary...</td>\n",
       "      <td>No</td>\n",
       "      <td>Table and 4 chairs,          150 cm</td>\n",
       "      <td>IKEA of Sweden/John/Jonas/Petrus/Paul/Caroline...</td>\n",
       "      <td>NaN</td>\n",
       "      <td>75.0</td>\n",
       "      <td>78.0</td>\n",
       "    </tr>\n",
       "    <tr>\n",
       "      <th>3228</th>\n",
       "      <td>89161565</td>\n",
       "      <td>VÄSTANBY/VÄSTANÅ / BERNHARD</td>\n",
       "      <td>Tables &amp; desks</td>\n",
       "      <td>4295.0</td>\n",
       "      <td>SR 4,475</td>\n",
       "      <td>True</td>\n",
       "      <td>https://www.ikea.com/sa/en/p/vaestanby-vaestan...</td>\n",
       "      <td>No</td>\n",
       "      <td>Table and 4 chairs,          170 cm</td>\n",
       "      <td>Chris Martin/Ola Wihlborg/IKEA of Sweden</td>\n",
       "      <td>NaN</td>\n",
       "      <td>75.0</td>\n",
       "      <td>78.0</td>\n",
       "    </tr>\n",
       "  </tbody>\n",
       "</table>\n",
       "</div>"
      ],
      "text/plain": [
       "       item_id                         name        category   price  \\\n",
       "1429  69161203  RYDEBÄCK/BACKARYD / JANINGE          Chairs  1215.0   \n",
       "1506  89161565  VÄSTANBY/VÄSTANÅ / BERNHARD          Chairs  4295.0   \n",
       "1546  19103183  VÄSTANBY/VÄSTANÅ / BERNHARD          Chairs  4295.0   \n",
       "1547  19130501  SLÄHULT/DALSHULT / LEIFARNE          Chairs  1975.0   \n",
       "1577  69130612  VÄSTANBY/VÄSTANÅ / LEIFARNE          Chairs  2095.0   \n",
       "1578  69161552  RYDEBÄCK/BACKARYD / JANINGE          Chairs  1395.0   \n",
       "3085  19130501  SLÄHULT/DALSHULT / LEIFARNE  Tables & desks  1975.0   \n",
       "3115  69130612  VÄSTANBY/VÄSTANÅ / LEIFARNE  Tables & desks  2095.0   \n",
       "3116  69161552  RYDEBÄCK/BACKARYD / JANINGE  Tables & desks  1395.0   \n",
       "3179  19103183  VÄSTANBY/VÄSTANÅ / BERNHARD  Tables & desks  4295.0   \n",
       "3213  69161203  RYDEBÄCK/BACKARYD / JANINGE  Tables & desks  1215.0   \n",
       "3228  89161565  VÄSTANBY/VÄSTANÅ / BERNHARD  Tables & desks  4295.0   \n",
       "\n",
       "         old_price  sellable_online  \\\n",
       "1429      SR 1,395             True   \n",
       "1506      SR 4,475             True   \n",
       "1546      SR 4,475             True   \n",
       "1547  No old price             True   \n",
       "1577      SR 2,275             True   \n",
       "1578      SR 1,450             True   \n",
       "3085  No old price             True   \n",
       "3115      SR 2,275             True   \n",
       "3116      SR 1,450             True   \n",
       "3179      SR 4,475             True   \n",
       "3213      SR 1,395             True   \n",
       "3228      SR 4,475             True   \n",
       "\n",
       "                                                   link other_colors  \\\n",
       "1429  https://www.ikea.com/sa/en/p/rydebaeck-backary...           No   \n",
       "1506  https://www.ikea.com/sa/en/p/vaestanby-vaestan...           No   \n",
       "1546  https://www.ikea.com/sa/en/p/vaestanby-vaestan...           No   \n",
       "1547  https://www.ikea.com/sa/en/p/slaehult-dalshult...           No   \n",
       "1577  https://www.ikea.com/sa/en/p/vaestanby-vaestan...           No   \n",
       "1578  https://www.ikea.com/sa/en/p/rydebaeck-backary...           No   \n",
       "3085  https://www.ikea.com/sa/en/p/slaehult-dalshult...           No   \n",
       "3115  https://www.ikea.com/sa/en/p/vaestanby-vaestan...           No   \n",
       "3116  https://www.ikea.com/sa/en/p/rydebaeck-backary...           No   \n",
       "3179  https://www.ikea.com/sa/en/p/vaestanby-vaestan...           No   \n",
       "3213  https://www.ikea.com/sa/en/p/rydebaeck-backary...           No   \n",
       "3228  https://www.ikea.com/sa/en/p/vaestanby-vaestan...           No   \n",
       "\n",
       "                                short_description  \\\n",
       "1429          Table and 4 chairs,          150 cm   \n",
       "1506          Table and 4 chairs,          170 cm   \n",
       "1546          Table and 4 chairs,          170 cm   \n",
       "1547          Table and 4 chairs,          185 cm   \n",
       "1577          Table and 4 chairs,          170 cm   \n",
       "1578          Table and 4 chairs,          150 cm   \n",
       "3085          Table and 4 chairs,          185 cm   \n",
       "3115          Table and 4 chairs,          170 cm   \n",
       "3116          Table and 4 chairs,          150 cm   \n",
       "3179          Table and 4 chairs,          170 cm   \n",
       "3213          Table and 4 chairs,          150 cm   \n",
       "3228          Table and 4 chairs,          170 cm   \n",
       "\n",
       "                                               designer  depth  height  width  \n",
       "1429  IKEA of Sweden/John/Jonas/Petrus/Paul/Caroline...    NaN    75.0   78.0  \n",
       "1506           Chris Martin/Ola Wihlborg/IKEA of Sweden    NaN    75.0   78.0  \n",
       "1546           Chris Martin/Ola Wihlborg/IKEA of Sweden    NaN    75.0   78.0  \n",
       "1547         Mia Lagerman/IKEA of Sweden/Wiebke Braasch    NaN    73.0   90.0  \n",
       "1577           Mia Lagerman/IKEA of Sweden/Chris Martin    NaN    75.0   78.0  \n",
       "1578  David Wahl/IKEA of Sweden/John/Jonas/Petrus/Pa...    NaN    75.0   78.0  \n",
       "3085         Mia Lagerman/IKEA of Sweden/Wiebke Braasch    NaN    73.0   90.0  \n",
       "3115           Mia Lagerman/IKEA of Sweden/Chris Martin    NaN    75.0   78.0  \n",
       "3116  David Wahl/IKEA of Sweden/John/Jonas/Petrus/Pa...    NaN    75.0   78.0  \n",
       "3179           Chris Martin/Ola Wihlborg/IKEA of Sweden    NaN    75.0   78.0  \n",
       "3213  IKEA of Sweden/John/Jonas/Petrus/Paul/Caroline...    NaN    75.0   78.0  \n",
       "3228           Chris Martin/Ola Wihlborg/IKEA of Sweden    NaN    75.0   78.0  "
      ]
     },
     "execution_count": 412,
     "metadata": {},
     "output_type": "execute_result"
    }
   ],
   "source": [
    "df[df['name'].str.len() == df['name'].str.len().max()]"
   ]
  },
  {
   "cell_type": "code",
   "execution_count": 413,
   "metadata": {},
   "outputs": [
    {
     "data": {
      "text/html": [
       "<div>\n",
       "<style scoped>\n",
       "    .dataframe tbody tr th:only-of-type {\n",
       "        vertical-align: middle;\n",
       "    }\n",
       "\n",
       "    .dataframe tbody tr th {\n",
       "        vertical-align: top;\n",
       "    }\n",
       "\n",
       "    .dataframe thead th {\n",
       "        text-align: right;\n",
       "    }\n",
       "</style>\n",
       "<table border=\"1\" class=\"dataframe\">\n",
       "  <thead>\n",
       "    <tr style=\"text-align: right;\">\n",
       "      <th></th>\n",
       "      <th>item_id</th>\n",
       "      <th>name</th>\n",
       "      <th>category</th>\n",
       "      <th>price</th>\n",
       "      <th>old_price</th>\n",
       "      <th>sellable_online</th>\n",
       "      <th>link</th>\n",
       "      <th>other_colors</th>\n",
       "      <th>short_description</th>\n",
       "      <th>designer</th>\n",
       "      <th>depth</th>\n",
       "      <th>height</th>\n",
       "      <th>width</th>\n",
       "    </tr>\n",
       "  </thead>\n",
       "  <tbody>\n",
       "    <tr>\n",
       "      <th>1870</th>\n",
       "      <td>20400243</td>\n",
       "      <td>LEN</td>\n",
       "      <td>Nursery furniture</td>\n",
       "      <td>89.0</td>\n",
       "      <td>No old price</td>\n",
       "      <td>True</td>\n",
       "      <td>https://www.ikea.com/sa/en/p/len-nursing-pillo...</td>\n",
       "      <td>No</td>\n",
       "      <td>Nursing pillow,          60x50x18 cm</td>\n",
       "      <td>IKEA of Sweden</td>\n",
       "      <td>NaN</td>\n",
       "      <td>18.0</td>\n",
       "      <td>50.0</td>\n",
       "    </tr>\n",
       "    <tr>\n",
       "      <th>2666</th>\n",
       "      <td>50161321</td>\n",
       "      <td>HOL</td>\n",
       "      <td>Tables &amp; desks</td>\n",
       "      <td>395.0</td>\n",
       "      <td>No old price</td>\n",
       "      <td>True</td>\n",
       "      <td>https://www.ikea.com/sa/en/p/hol-storage-table...</td>\n",
       "      <td>No</td>\n",
       "      <td>Storage table,          98x50 cm</td>\n",
       "      <td>IKEA of Sweden</td>\n",
       "      <td>NaN</td>\n",
       "      <td>50.0</td>\n",
       "      <td>50.0</td>\n",
       "    </tr>\n",
       "    <tr>\n",
       "      <th>2728</th>\n",
       "      <td>70161320</td>\n",
       "      <td>HOL</td>\n",
       "      <td>Tables &amp; desks</td>\n",
       "      <td>225.0</td>\n",
       "      <td>No old price</td>\n",
       "      <td>True</td>\n",
       "      <td>https://www.ikea.com/sa/en/p/hol-side-table-ac...</td>\n",
       "      <td>No</td>\n",
       "      <td>Side table,          50x50 cm</td>\n",
       "      <td>IKEA of Sweden</td>\n",
       "      <td>NaN</td>\n",
       "      <td>50.0</td>\n",
       "      <td>50.0</td>\n",
       "    </tr>\n",
       "    <tr>\n",
       "      <th>2976</th>\n",
       "      <td>20400243</td>\n",
       "      <td>LEN</td>\n",
       "      <td>Tables &amp; desks</td>\n",
       "      <td>89.0</td>\n",
       "      <td>No old price</td>\n",
       "      <td>True</td>\n",
       "      <td>https://www.ikea.com/sa/en/p/len-nursing-pillo...</td>\n",
       "      <td>No</td>\n",
       "      <td>Nursing pillow,          60x50x18 cm</td>\n",
       "      <td>IKEA of Sweden</td>\n",
       "      <td>NaN</td>\n",
       "      <td>18.0</td>\n",
       "      <td>50.0</td>\n",
       "    </tr>\n",
       "    <tr>\n",
       "      <th>3459</th>\n",
       "      <td>29385672</td>\n",
       "      <td>PAX</td>\n",
       "      <td>Wardrobes</td>\n",
       "      <td>840.0</td>\n",
       "      <td>SR 925</td>\n",
       "      <td>True</td>\n",
       "      <td>https://www.ikea.com/sa/en/p/pax-wardrobe-comb...</td>\n",
       "      <td>Yes</td>\n",
       "      <td>Wardrobe combination,          150x58x...</td>\n",
       "      <td>IKEA of Sweden/Ehlén Johansson</td>\n",
       "      <td>58.0</td>\n",
       "      <td>201.0</td>\n",
       "      <td>150.0</td>\n",
       "    </tr>\n",
       "    <tr>\n",
       "      <th>...</th>\n",
       "      <td>...</td>\n",
       "      <td>...</td>\n",
       "      <td>...</td>\n",
       "      <td>...</td>\n",
       "      <td>...</td>\n",
       "      <td>...</td>\n",
       "      <td>...</td>\n",
       "      <td>...</td>\n",
       "      <td>...</td>\n",
       "      <td>...</td>\n",
       "      <td>...</td>\n",
       "      <td>...</td>\n",
       "      <td>...</td>\n",
       "    </tr>\n",
       "    <tr>\n",
       "      <th>3669</th>\n",
       "      <td>59324248</td>\n",
       "      <td>PAX</td>\n",
       "      <td>Wardrobes</td>\n",
       "      <td>2710.0</td>\n",
       "      <td>No old price</td>\n",
       "      <td>True</td>\n",
       "      <td>https://www.ikea.com/sa/en/p/pax-wardrobe-comb...</td>\n",
       "      <td>Yes</td>\n",
       "      <td>Wardrobe combination,          150x58x...</td>\n",
       "      <td>IKEA of Sweden/Ehlén Johansson/Ola Wihlborg</td>\n",
       "      <td>58.0</td>\n",
       "      <td>236.0</td>\n",
       "      <td>150.0</td>\n",
       "    </tr>\n",
       "    <tr>\n",
       "      <th>3672</th>\n",
       "      <td>29306217</td>\n",
       "      <td>PAX</td>\n",
       "      <td>Wardrobes</td>\n",
       "      <td>3055.0</td>\n",
       "      <td>No old price</td>\n",
       "      <td>True</td>\n",
       "      <td>https://www.ikea.com/sa/en/p/pax-wardrobe-blac...</td>\n",
       "      <td>No</td>\n",
       "      <td>Wardrobe,          150x66x236 cm</td>\n",
       "      <td>Ehlén Johansson/IKEA of Sweden</td>\n",
       "      <td>66.0</td>\n",
       "      <td>236.0</td>\n",
       "      <td>150.0</td>\n",
       "    </tr>\n",
       "    <tr>\n",
       "      <th>3675</th>\n",
       "      <td>59264843</td>\n",
       "      <td>PAX</td>\n",
       "      <td>Wardrobes</td>\n",
       "      <td>3760.0</td>\n",
       "      <td>No old price</td>\n",
       "      <td>True</td>\n",
       "      <td>https://www.ikea.com/sa/en/p/pax-wardrobe-whit...</td>\n",
       "      <td>No</td>\n",
       "      <td>Wardrobe,          150x66x236 cm</td>\n",
       "      <td>IKEA of Sweden/Ehlén Johansson</td>\n",
       "      <td>66.0</td>\n",
       "      <td>236.0</td>\n",
       "      <td>150.0</td>\n",
       "    </tr>\n",
       "    <tr>\n",
       "      <th>3678</th>\n",
       "      <td>89025790</td>\n",
       "      <td>PAX</td>\n",
       "      <td>Wardrobes</td>\n",
       "      <td>3055.0</td>\n",
       "      <td>No old price</td>\n",
       "      <td>True</td>\n",
       "      <td>https://www.ikea.com/sa/en/p/pax-wardrobe-blac...</td>\n",
       "      <td>No</td>\n",
       "      <td>Wardrobe,          150x66x236 cm</td>\n",
       "      <td>Ehlén Johansson/IKEA of Sweden</td>\n",
       "      <td>66.0</td>\n",
       "      <td>236.0</td>\n",
       "      <td>150.0</td>\n",
       "    </tr>\n",
       "    <tr>\n",
       "      <th>3682</th>\n",
       "      <td>19385677</td>\n",
       "      <td>PAX</td>\n",
       "      <td>Wardrobes</td>\n",
       "      <td>2505.0</td>\n",
       "      <td>No old price</td>\n",
       "      <td>True</td>\n",
       "      <td>https://www.ikea.com/sa/en/p/pax-wardrobe-comb...</td>\n",
       "      <td>Yes</td>\n",
       "      <td>Wardrobe combination,          150x58x...</td>\n",
       "      <td>Ehlén Johansson/Ola Wihlborg/IKEA of Sweden</td>\n",
       "      <td>58.0</td>\n",
       "      <td>236.0</td>\n",
       "      <td>150.0</td>\n",
       "    </tr>\n",
       "  </tbody>\n",
       "</table>\n",
       "<p>115 rows × 13 columns</p>\n",
       "</div>"
      ],
      "text/plain": [
       "       item_id name           category   price     old_price  sellable_online  \\\n",
       "1870  20400243  LEN  Nursery furniture    89.0  No old price             True   \n",
       "2666  50161321  HOL     Tables & desks   395.0  No old price             True   \n",
       "2728  70161320  HOL     Tables & desks   225.0  No old price             True   \n",
       "2976  20400243  LEN     Tables & desks    89.0  No old price             True   \n",
       "3459  29385672  PAX          Wardrobes   840.0        SR 925             True   \n",
       "...        ...  ...                ...     ...           ...              ...   \n",
       "3669  59324248  PAX          Wardrobes  2710.0  No old price             True   \n",
       "3672  29306217  PAX          Wardrobes  3055.0  No old price             True   \n",
       "3675  59264843  PAX          Wardrobes  3760.0  No old price             True   \n",
       "3678  89025790  PAX          Wardrobes  3055.0  No old price             True   \n",
       "3682  19385677  PAX          Wardrobes  2505.0  No old price             True   \n",
       "\n",
       "                                                   link other_colors  \\\n",
       "1870  https://www.ikea.com/sa/en/p/len-nursing-pillo...           No   \n",
       "2666  https://www.ikea.com/sa/en/p/hol-storage-table...           No   \n",
       "2728  https://www.ikea.com/sa/en/p/hol-side-table-ac...           No   \n",
       "2976  https://www.ikea.com/sa/en/p/len-nursing-pillo...           No   \n",
       "3459  https://www.ikea.com/sa/en/p/pax-wardrobe-comb...          Yes   \n",
       "...                                                 ...          ...   \n",
       "3669  https://www.ikea.com/sa/en/p/pax-wardrobe-comb...          Yes   \n",
       "3672  https://www.ikea.com/sa/en/p/pax-wardrobe-blac...           No   \n",
       "3675  https://www.ikea.com/sa/en/p/pax-wardrobe-whit...           No   \n",
       "3678  https://www.ikea.com/sa/en/p/pax-wardrobe-blac...           No   \n",
       "3682  https://www.ikea.com/sa/en/p/pax-wardrobe-comb...          Yes   \n",
       "\n",
       "                                      short_description  \\\n",
       "1870               Nursing pillow,          60x50x18 cm   \n",
       "2666                   Storage table,          98x50 cm   \n",
       "2728                      Side table,          50x50 cm   \n",
       "2976               Nursing pillow,          60x50x18 cm   \n",
       "3459          Wardrobe combination,          150x58x...   \n",
       "...                                                 ...   \n",
       "3669          Wardrobe combination,          150x58x...   \n",
       "3672                   Wardrobe,          150x66x236 cm   \n",
       "3675                   Wardrobe,          150x66x236 cm   \n",
       "3678                   Wardrobe,          150x66x236 cm   \n",
       "3682          Wardrobe combination,          150x58x...   \n",
       "\n",
       "                                         designer  depth  height  width  \n",
       "1870                               IKEA of Sweden    NaN    18.0   50.0  \n",
       "2666                               IKEA of Sweden    NaN    50.0   50.0  \n",
       "2728                               IKEA of Sweden    NaN    50.0   50.0  \n",
       "2976                               IKEA of Sweden    NaN    18.0   50.0  \n",
       "3459               IKEA of Sweden/Ehlén Johansson   58.0   201.0  150.0  \n",
       "...                                           ...    ...     ...    ...  \n",
       "3669  IKEA of Sweden/Ehlén Johansson/Ola Wihlborg   58.0   236.0  150.0  \n",
       "3672               Ehlén Johansson/IKEA of Sweden   66.0   236.0  150.0  \n",
       "3675               IKEA of Sweden/Ehlén Johansson   66.0   236.0  150.0  \n",
       "3678               Ehlén Johansson/IKEA of Sweden   66.0   236.0  150.0  \n",
       "3682  Ehlén Johansson/Ola Wihlborg/IKEA of Sweden   58.0   236.0  150.0  \n",
       "\n",
       "[115 rows x 13 columns]"
      ]
     },
     "execution_count": 413,
     "metadata": {},
     "output_type": "execute_result"
    }
   ],
   "source": [
    "df[df['name'].str.len() == df['name'].str.len().min()]"
   ]
  },
  {
   "cell_type": "code",
   "execution_count": 414,
   "metadata": {},
   "outputs": [
    {
     "data": {
      "text/plain": [
       "BESTÅ                173\n",
       "PAX                  111\n",
       "GRÖNLID               83\n",
       "TROFAST               74\n",
       "BEKANT                74\n",
       "                    ... \n",
       "GÅRÖ                   1\n",
       "BRENNÅSEN              1\n",
       "FEJAN                  1\n",
       "IKEA PS VÅGÖ           1\n",
       "PAX / MEHAMN/AULI      1\n",
       "Name: name, Length: 607, dtype: int64"
      ]
     },
     "execution_count": 414,
     "metadata": {},
     "output_type": "execute_result"
    }
   ],
   "source": [
    "df['name'].value_counts()"
   ]
  },
  {
   "cell_type": "code",
   "execution_count": 415,
   "metadata": {},
   "outputs": [
    {
     "data": {
      "text/plain": [
       "<AxesSubplot:>"
      ]
     },
     "execution_count": 415,
     "metadata": {},
     "output_type": "execute_result"
    },
    {
     "data": {
      "image/png": "[encoded data removed]",
      "text/plain": [
       "<Figure size 1440x576 with 1 Axes>"
      ]
     },
     "metadata": {},
     "output_type": "display_data"
    }
   ],
   "source": [
    "df['name'].value_counts()[0:100].plot(kind='bar', figsize=(20,8))"
   ]
  },
  {
   "attachments": {},
   "cell_type": "markdown",
   "metadata": {},
   "source": [
    "    'category' looks alright\n",
    "    should change the category from 'object' to 'category'"
   ]
  },
  {
   "cell_type": "code",
   "execution_count": 416,
   "metadata": {},
   "outputs": [
    {
     "data": {
      "text/plain": [
       "dtype('O')"
      ]
     },
     "execution_count": 416,
     "metadata": {},
     "output_type": "execute_result"
    }
   ],
   "source": [
    "df['category'].dtype"
   ]
  },
  {
   "cell_type": "code",
   "execution_count": 417,
   "metadata": {},
   "outputs": [
    {
     "data": {
      "text/plain": [
       "Tables & desks                          612\n",
       "Bookcases & shelving units              548\n",
       "Chairs                                  481\n",
       "Sofas & armchairs                       428\n",
       "Cabinets & cupboards                    292\n",
       "Wardrobes                               236\n",
       "Outdoor furniture                       216\n",
       "Beds                                    208\n",
       "TV & media furniture                    190\n",
       "Chests of drawers & drawer units        125\n",
       "Children's furniture                    124\n",
       "Nursery furniture                        97\n",
       "Bar furniture                            47\n",
       "Trolleys                                 28\n",
       "Café furniture                           26\n",
       "Sideboards, buffets & console tables     23\n",
       "Room dividers                            13\n",
       "Name: category, dtype: int64"
      ]
     },
     "execution_count": 417,
     "metadata": {},
     "output_type": "execute_result"
    }
   ],
   "source": [
    "df['category'].value_counts()"
   ]
  },
  {
   "cell_type": "code",
   "execution_count": 418,
   "metadata": {},
   "outputs": [
    {
     "data": {
      "image/png": "[encoded data removed]",
      "text/plain": [
       "<Figure size 1440x864 with 1 Axes>"
      ]
     },
     "metadata": {},
     "output_type": "display_data"
    }
   ],
   "source": [
    "df['category'].value_counts().sort_values(ascending=False).plot(kind='barh', figsize=(20,12)).invert_yaxis()"
   ]
  },
  {
   "cell_type": "code",
   "execution_count": 460,
   "metadata": {},
   "outputs": [],
   "source": [
    "df['category'] = df['category'].astype('category')"
   ]
  },
  {
   "attachments": {},
   "cell_type": "markdown",
   "metadata": {},
   "source": [
    "    'old_price'\n",
    "    A significant proportion (82%) did not have a change in price.\n",
    "    The rest, however, are tagged in undecipherable code of 'SR' followed by some numbers\n",
    "    A cursory comparison of old price reveals that old price might be somewhat correlated to old price. We can consider converting this column into an int, and maybe create an additional column to compute the difference between the old_price and (current) price"
   ]
  },
  {
   "cell_type": "code",
   "execution_count": 421,
   "metadata": {},
   "outputs": [
    {
     "data": {
      "text/plain": [
       "dtype('O')"
      ]
     },
     "execution_count": 421,
     "metadata": {},
     "output_type": "execute_result"
    }
   ],
   "source": [
    "df['old_price'].dtype"
   ]
  },
  {
   "cell_type": "code",
   "execution_count": 422,
   "metadata": {},
   "outputs": [
    {
     "data": {
      "text/plain": [
       "No old price    3040\n",
       "SR 995            12\n",
       "SR 1,385          11\n",
       "SR 595            10\n",
       "SR 275             8\n",
       "                ... \n",
       "SR 3,145           1\n",
       "SR 39              1\n",
       "SR 2,105           1\n",
       "SR 752             1\n",
       "SR 1,050           1\n",
       "Name: old_price, Length: 365, dtype: int64"
      ]
     },
     "execution_count": 422,
     "metadata": {},
     "output_type": "execute_result"
    }
   ],
   "source": [
    "df['old_price'].value_counts()"
   ]
  },
  {
   "cell_type": "code",
   "execution_count": 423,
   "metadata": {},
   "outputs": [],
   "source": [
    "def data_cleaning_old_price(x:str) -> int:\n",
    "    if ('50/4' in x) or ('10/4' in x) or ('100/4' in x):\n",
    "        return float(x.split(' ')[1].replace(',', '').replace('/4', ''))\n",
    "    elif ('445/2' in x) or ('175/2' in x):\n",
    "        return float(x.split(' ')[1].replace(',', '').replace('/2', ''))\n",
    "    elif x.startswith('SR'):\n",
    "        return float(x.split(' ')[1].replace(',', ''))\n",
    "    else:\n",
    "        return np.nan"
   ]
  },
  {
   "cell_type": "code",
   "execution_count": 424,
   "metadata": {},
   "outputs": [],
   "source": [
    "df['old_price_cleaned'] = df['old_price'].apply(lambda x: data_cleaning_old_price(x))"
   ]
  },
  {
   "cell_type": "code",
   "execution_count": 425,
   "metadata": {},
   "outputs": [],
   "source": [
    "df.drop('old_price', axis=1, inplace=True)"
   ]
  },
  {
   "attachments": {},
   "cell_type": "markdown",
   "metadata": {},
   "source": [
    "    'price_minus_old_price'"
   ]
  },
  {
   "cell_type": "code",
   "execution_count": 426,
   "metadata": {},
   "outputs": [],
   "source": [
    "df['price_minus_old_price'] = df['old_price_cleaned'] - df['price']"
   ]
  },
  {
   "cell_type": "code",
   "execution_count": 427,
   "metadata": {},
   "outputs": [],
   "source": [
    "df['price_minus_old_price'].fillna(0, inplace=True)"
   ]
  },
  {
   "cell_type": "code",
   "execution_count": 428,
   "metadata": {},
   "outputs": [
    {
     "data": {
      "text/plain": [
       "<AxesSubplot:ylabel='Frequency'>"
      ]
     },
     "execution_count": 428,
     "metadata": {},
     "output_type": "execute_result"
    },
    {
     "data": {
      "image/png": "[encoded data removed]",
      "text/plain": [
       "<Figure size 864x576 with 1 Axes>"
      ]
     },
     "metadata": {},
     "output_type": "display_data"
    }
   ],
   "source": [
    "df['price_minus_old_price'].plot.hist(bins=20, figsize=(12,8))"
   ]
  },
  {
   "attachments": {},
   "cell_type": "markdown",
   "metadata": {},
   "source": [
    "    'sellable_online'"
   ]
  },
  {
   "cell_type": "code",
   "execution_count": 429,
   "metadata": {},
   "outputs": [
    {
     "data": {
      "text/plain": [
       "True     3666\n",
       "False      28\n",
       "Name: sellable_online, dtype: int64"
      ]
     },
     "execution_count": 429,
     "metadata": {},
     "output_type": "execute_result"
    }
   ],
   "source": [
    "df['sellable_online'].value_counts()"
   ]
  },
  {
   "cell_type": "code",
   "execution_count": 430,
   "metadata": {},
   "outputs": [],
   "source": [
    "df['sellable_online'] = df['sellable_online'].astype('bool')"
   ]
  },
  {
   "attachments": {},
   "cell_type": "markdown",
   "metadata": {},
   "source": [
    "    'link'\n",
    "    "
   ]
  },
  {
   "cell_type": "code",
   "execution_count": 431,
   "metadata": {},
   "outputs": [],
   "source": [
    "df.drop('link', axis=1, inplace=True)"
   ]
  },
  {
   "attachments": {},
   "cell_type": "markdown",
   "metadata": {},
   "source": [
    "    'other_colours'"
   ]
  },
  {
   "cell_type": "code",
   "execution_count": 432,
   "metadata": {},
   "outputs": [],
   "source": [
    "df['other_colors'] = df['other_colors'].astype('category')"
   ]
  },
  {
   "cell_type": "code",
   "execution_count": 433,
   "metadata": {},
   "outputs": [
    {
     "data": {
      "text/plain": [
       "No     2182\n",
       "Yes    1512\n",
       "Name: other_colors, dtype: int64"
      ]
     },
     "execution_count": 433,
     "metadata": {},
     "output_type": "execute_result"
    }
   ],
   "source": [
    "df['other_colors'].value_counts()"
   ]
  },
  {
   "cell_type": "code",
   "execution_count": 434,
   "metadata": {},
   "outputs": [
    {
     "data": {
      "text/plain": [
       "<AxesSubplot:xlabel='price', ylabel='Count'>"
      ]
     },
     "execution_count": 434,
     "metadata": {},
     "output_type": "execute_result"
    },
    {
     "data": {
      "image/png": "[encoded data removed]",
      "text/plain": [
       "<Figure size 432x288 with 1 Axes>"
      ]
     },
     "metadata": {},
     "output_type": "display_data"
    }
   ],
   "source": [
    "sns.histplot(x='price', hue='other_colors', data=df)"
   ]
  },
  {
   "attachments": {},
   "cell_type": "markdown",
   "metadata": {},
   "source": [
    "    'short description'"
   ]
  },
  {
   "cell_type": "code",
   "execution_count": 435,
   "metadata": {},
   "outputs": [
    {
     "data": {
      "text/plain": [
       "        Chair                                     59\n",
       "        Table,          120x60 cm                 40\n",
       "        Table,          150x75 cm                 36\n",
       "        Door,          60x64 cm                   30\n",
       "        3-seat sofa                               30\n",
       "                                                  ..\n",
       "        Top and plinth,          40x47 cm          1\n",
       "        Chest of 9 drawers,          160x99 cm     1\n",
       "        Chest of 2 drawers,          40x99 cm      1\n",
       "        Chest of 6 drawers,          80x99 cm      1\n",
       "        1 section,          92x51x222-350 cm       1\n",
       "Name: short_description, Length: 1706, dtype: int64"
      ]
     },
     "execution_count": 435,
     "metadata": {},
     "output_type": "execute_result"
    }
   ],
   "source": [
    "df['short_description'].value_counts()"
   ]
  },
  {
   "cell_type": "code",
   "execution_count": 436,
   "metadata": {},
   "outputs": [],
   "source": [
    "df.drop('short_description', axis=1, inplace=True)"
   ]
  },
  {
   "attachments": {},
   "cell_type": "markdown",
   "metadata": {},
   "source": [
    "    'designer'\n",
    "    suspect some data integrity issues here because some of them are description of the furniture instead of the designer. but not sure if we can solve it.\n",
    "    To be fair, we might not even need this because this might not contribute to the analysis\n"
   ]
  },
  {
   "cell_type": "code",
   "execution_count": 437,
   "metadata": {},
   "outputs": [
    {
     "data": {
      "text/plain": [
       "IKEA of Sweden                                                                                                                                                                                                                                                                                                                                                                                                                  828\n",
       "Ehlén Johansson                                                                                                                                                                                                                                                                                                                                                                                                                 161\n",
       "Francis Cayouette                                                                                                                                                                                                                                                                                                                                                                                                               151\n",
       "Ola Wihlborg                                                                                                                                                                                                                                                                                                                                                                                                                    134\n",
       "K Hagberg/M Hagberg                                                                                                                                                                                                                                                                                                                                                                                                             122\n",
       "                                                                                                                                                                                                                                                                                                                                                                                                                               ... \n",
       "P Süssmann/J Karlsson                                                                                                                                                                                                                                                                                                                                                                                                             1\n",
       "104.710.85 The chair legs are made of solid wood, which is a durable natural material.You sit comfortably thanks to the high back and seat with polyester wadding.For increased stability, re-tighten the screws about two weeks after assembly and when necessary.This chair has been tested for home use and meets the requirements for durability and safety, set forth in the following standards: EN 12520 and EN 1022.      1\n",
       "704.655.38 You sit comfortably thanks to the restful flexibility of the seat.You sit comfortably thanks to the padded seat.Velvet.The velvet reflects light in a characteristic way which may make the colour appear as if it changes.                                                                                                                                                                                            1\n",
       "904.710.86 The chair legs are made of solid wood, which is a durable natural material.You sit comfortably thanks to the high back and seat with polyester wadding.For increased stability, re-tighten the screws about two weeks after assembly and when necessary.This chair has been tested for home use and meets the requirements for durability and safety, set forth in the following standards: EN 12520 and EN 1022.      1\n",
       "IKEA of Sweden/Ehlén Johansson/Andreas Fredriksson                                                                                                                                                                                                                                                                                                                                                                                1\n",
       "Name: designer, Length: 381, dtype: int64"
      ]
     },
     "execution_count": 437,
     "metadata": {},
     "output_type": "execute_result"
    }
   ],
   "source": [
    "df['designer'].value_counts()"
   ]
  },
  {
   "cell_type": "code",
   "execution_count": 438,
   "metadata": {},
   "outputs": [
    {
     "data": {
      "text/html": [
       "<div>\n",
       "<style scoped>\n",
       "    .dataframe tbody tr th:only-of-type {\n",
       "        vertical-align: middle;\n",
       "    }\n",
       "\n",
       "    .dataframe tbody tr th {\n",
       "        vertical-align: top;\n",
       "    }\n",
       "\n",
       "    .dataframe thead th {\n",
       "        text-align: right;\n",
       "    }\n",
       "</style>\n",
       "<table border=\"1\" class=\"dataframe\">\n",
       "  <thead>\n",
       "    <tr style=\"text-align: right;\">\n",
       "      <th></th>\n",
       "      <th>item_id</th>\n",
       "      <th>name</th>\n",
       "      <th>category</th>\n",
       "      <th>price</th>\n",
       "      <th>sellable_online</th>\n",
       "      <th>other_colors</th>\n",
       "      <th>designer</th>\n",
       "      <th>depth</th>\n",
       "      <th>height</th>\n",
       "      <th>width</th>\n",
       "      <th>old_price_cleaned</th>\n",
       "      <th>price_minus_old_price</th>\n",
       "    </tr>\n",
       "  </thead>\n",
       "  <tbody>\n",
       "    <tr>\n",
       "      <th>51</th>\n",
       "      <td>50468953</td>\n",
       "      <td>VATTVIKEN</td>\n",
       "      <td>Beds</td>\n",
       "      <td>995.0</td>\n",
       "      <td>True</td>\n",
       "      <td>No</td>\n",
       "      <td>504.689.53 Small and easy-to-place chair-bed w...</td>\n",
       "      <td>83.0</td>\n",
       "      <td>86.0</td>\n",
       "      <td>92.0</td>\n",
       "      <td>NaN</td>\n",
       "      <td>0.0</td>\n",
       "    </tr>\n",
       "    <tr>\n",
       "      <th>77</th>\n",
       "      <td>90331091</td>\n",
       "      <td>RIDABU</td>\n",
       "      <td>Beds</td>\n",
       "      <td>100.0</td>\n",
       "      <td>True</td>\n",
       "      <td>No</td>\n",
       "      <td>903.310.91 The door can be hung with the openi...</td>\n",
       "      <td>NaN</td>\n",
       "      <td>120.0</td>\n",
       "      <td>40.0</td>\n",
       "      <td>125.0</td>\n",
       "      <td>25.0</td>\n",
       "    </tr>\n",
       "    <tr>\n",
       "      <th>104</th>\n",
       "      <td>44361010</td>\n",
       "      <td>BRYNE</td>\n",
       "      <td>Beds</td>\n",
       "      <td>49.0</td>\n",
       "      <td>True</td>\n",
       "      <td>No</td>\n",
       "      <td>443.610.10 Easy to keep clean since you can re...</td>\n",
       "      <td>NaN</td>\n",
       "      <td>NaN</td>\n",
       "      <td>NaN</td>\n",
       "      <td>NaN</td>\n",
       "      <td>0.0</td>\n",
       "    </tr>\n",
       "    <tr>\n",
       "      <th>122</th>\n",
       "      <td>70284203</td>\n",
       "      <td>ASKEBY</td>\n",
       "      <td>Beds</td>\n",
       "      <td>995.0</td>\n",
       "      <td>True</td>\n",
       "      <td>No</td>\n",
       "      <td>702.842.03 A sofa-bed with small, neat dimensi...</td>\n",
       "      <td>72.0</td>\n",
       "      <td>72.0</td>\n",
       "      <td>149.0</td>\n",
       "      <td>NaN</td>\n",
       "      <td>0.0</td>\n",
       "    </tr>\n",
       "    <tr>\n",
       "      <th>132</th>\n",
       "      <td>90299449</td>\n",
       "      <td>TUFFING</td>\n",
       "      <td>Beds</td>\n",
       "      <td>645.0</td>\n",
       "      <td>True</td>\n",
       "      <td>No</td>\n",
       "      <td>902.994.49 A good solution where space is limi...</td>\n",
       "      <td>NaN</td>\n",
       "      <td>179.0</td>\n",
       "      <td>97.0</td>\n",
       "      <td>NaN</td>\n",
       "      <td>0.0</td>\n",
       "    </tr>\n",
       "    <tr>\n",
       "      <th>...</th>\n",
       "      <td>...</td>\n",
       "      <td>...</td>\n",
       "      <td>...</td>\n",
       "      <td>...</td>\n",
       "      <td>...</td>\n",
       "      <td>...</td>\n",
       "      <td>...</td>\n",
       "      <td>...</td>\n",
       "      <td>...</td>\n",
       "      <td>...</td>\n",
       "      <td>...</td>\n",
       "      <td>...</td>\n",
       "    </tr>\n",
       "    <tr>\n",
       "      <th>3453</th>\n",
       "      <td>60441562</td>\n",
       "      <td>TIMMERVIKEN</td>\n",
       "      <td>TV &amp; media furniture</td>\n",
       "      <td>60.0</td>\n",
       "      <td>True</td>\n",
       "      <td>No</td>\n",
       "      <td>604.415.62 Drawers make it easy to keep your t...</td>\n",
       "      <td>NaN</td>\n",
       "      <td>26.0</td>\n",
       "      <td>60.0</td>\n",
       "      <td>NaN</td>\n",
       "      <td>0.0</td>\n",
       "    </tr>\n",
       "    <tr>\n",
       "      <th>3474</th>\n",
       "      <td>50422494</td>\n",
       "      <td>GODISHUS</td>\n",
       "      <td>Wardrobes</td>\n",
       "      <td>395.0</td>\n",
       "      <td>True</td>\n",
       "      <td>No</td>\n",
       "      <td>504.224.94 You can position the shelf and clot...</td>\n",
       "      <td>51.0</td>\n",
       "      <td>178.0</td>\n",
       "      <td>60.0</td>\n",
       "      <td>NaN</td>\n",
       "      <td>0.0</td>\n",
       "    </tr>\n",
       "    <tr>\n",
       "      <th>3538</th>\n",
       "      <td>49324946</td>\n",
       "      <td>PAX / TYSSEDAL</td>\n",
       "      <td>Wardrobes</td>\n",
       "      <td>6065.0</td>\n",
       "      <td>True</td>\n",
       "      <td>No</td>\n",
       "      <td>Ebba Strandmark/IKEA of Sweden/Ola Wihlborg/Eh...</td>\n",
       "      <td>60.0</td>\n",
       "      <td>236.0</td>\n",
       "      <td>250.0</td>\n",
       "      <td>NaN</td>\n",
       "      <td>0.0</td>\n",
       "    </tr>\n",
       "    <tr>\n",
       "      <th>3593</th>\n",
       "      <td>29320732</td>\n",
       "      <td>PAX / TYSSEDAL</td>\n",
       "      <td>Wardrobes</td>\n",
       "      <td>3190.0</td>\n",
       "      <td>True</td>\n",
       "      <td>Yes</td>\n",
       "      <td>IKEA of Sweden/Ola Wihlborg/Ehlén Johansson/Eb...</td>\n",
       "      <td>60.0</td>\n",
       "      <td>236.0</td>\n",
       "      <td>150.0</td>\n",
       "      <td>NaN</td>\n",
       "      <td>0.0</td>\n",
       "    </tr>\n",
       "    <tr>\n",
       "      <th>3599</th>\n",
       "      <td>9325047</td>\n",
       "      <td>PAX / TYSSEDAL</td>\n",
       "      <td>Wardrobes</td>\n",
       "      <td>6805.0</td>\n",
       "      <td>True</td>\n",
       "      <td>Yes</td>\n",
       "      <td>Ehlén Johansson/Ebba Strandmark/Ola Wihlborg/I...</td>\n",
       "      <td>60.0</td>\n",
       "      <td>236.0</td>\n",
       "      <td>300.0</td>\n",
       "      <td>NaN</td>\n",
       "      <td>0.0</td>\n",
       "    </tr>\n",
       "  </tbody>\n",
       "</table>\n",
       "<p>166 rows × 12 columns</p>\n",
       "</div>"
      ],
      "text/plain": [
       "       item_id            name              category   price  sellable_online  \\\n",
       "51    50468953       VATTVIKEN                  Beds   995.0             True   \n",
       "77    90331091          RIDABU                  Beds   100.0             True   \n",
       "104   44361010           BRYNE                  Beds    49.0             True   \n",
       "122   70284203          ASKEBY                  Beds   995.0             True   \n",
       "132   90299449         TUFFING                  Beds   645.0             True   \n",
       "...        ...             ...                   ...     ...              ...   \n",
       "3453  60441562     TIMMERVIKEN  TV & media furniture    60.0             True   \n",
       "3474  50422494        GODISHUS             Wardrobes   395.0             True   \n",
       "3538  49324946  PAX / TYSSEDAL             Wardrobes  6065.0             True   \n",
       "3593  29320732  PAX / TYSSEDAL             Wardrobes  3190.0             True   \n",
       "3599   9325047  PAX / TYSSEDAL             Wardrobes  6805.0             True   \n",
       "\n",
       "     other_colors                                           designer  depth  \\\n",
       "51             No  504.689.53 Small and easy-to-place chair-bed w...   83.0   \n",
       "77             No  903.310.91 The door can be hung with the openi...    NaN   \n",
       "104            No  443.610.10 Easy to keep clean since you can re...    NaN   \n",
       "122            No  702.842.03 A sofa-bed with small, neat dimensi...   72.0   \n",
       "132            No  902.994.49 A good solution where space is limi...    NaN   \n",
       "...           ...                                                ...    ...   \n",
       "3453           No  604.415.62 Drawers make it easy to keep your t...    NaN   \n",
       "3474           No  504.224.94 You can position the shelf and clot...   51.0   \n",
       "3538           No  Ebba Strandmark/IKEA of Sweden/Ola Wihlborg/Eh...   60.0   \n",
       "3593          Yes  IKEA of Sweden/Ola Wihlborg/Ehlén Johansson/Eb...   60.0   \n",
       "3599          Yes  Ehlén Johansson/Ebba Strandmark/Ola Wihlborg/I...   60.0   \n",
       "\n",
       "      height  width  old_price_cleaned  price_minus_old_price  \n",
       "51      86.0   92.0                NaN                    0.0  \n",
       "77     120.0   40.0              125.0                   25.0  \n",
       "104      NaN    NaN                NaN                    0.0  \n",
       "122     72.0  149.0                NaN                    0.0  \n",
       "132    179.0   97.0                NaN                    0.0  \n",
       "...      ...    ...                ...                    ...  \n",
       "3453    26.0   60.0                NaN                    0.0  \n",
       "3474   178.0   60.0                NaN                    0.0  \n",
       "3538   236.0  250.0                NaN                    0.0  \n",
       "3593   236.0  150.0                NaN                    0.0  \n",
       "3599   236.0  300.0                NaN                    0.0  \n",
       "\n",
       "[166 rows x 12 columns]"
      ]
     },
     "execution_count": 438,
     "metadata": {},
     "output_type": "execute_result"
    }
   ],
   "source": [
    "df[df['designer'].apply(lambda x: len(x) > 50)]"
   ]
  },
  {
   "cell_type": "code",
   "execution_count": 439,
   "metadata": {},
   "outputs": [],
   "source": [
    "df = df.drop('designer', axis=1)"
   ]
  },
  {
   "attachments": {},
   "cell_type": "markdown",
   "metadata": {},
   "source": [
    "    'depth'"
   ]
  },
  {
   "cell_type": "code",
   "execution_count": 440,
   "metadata": {},
   "outputs": [
    {
     "data": {
      "text/plain": [
       "2231"
      ]
     },
     "execution_count": 440,
     "metadata": {},
     "output_type": "execute_result"
    }
   ],
   "source": [
    "df['depth'].value_counts().sum()"
   ]
  },
  {
   "cell_type": "code",
   "execution_count": 441,
   "metadata": {},
   "outputs": [
    {
     "data": {
      "text/plain": [
       "0.39604764482945315"
      ]
     },
     "execution_count": 441,
     "metadata": {},
     "output_type": "execute_result"
    }
   ],
   "source": [
    "df['depth'].isna().sum() / df.shape[0]"
   ]
  },
  {
   "cell_type": "code",
   "execution_count": 442,
   "metadata": {},
   "outputs": [
    {
     "data": {
      "text/plain": [
       "2706"
      ]
     },
     "execution_count": 442,
     "metadata": {},
     "output_type": "execute_result"
    }
   ],
   "source": [
    "df['height'].value_counts().sum()"
   ]
  },
  {
   "cell_type": "code",
   "execution_count": 443,
   "metadata": {},
   "outputs": [
    {
     "data": {
      "text/plain": [
       "0.2674607471575528"
      ]
     },
     "execution_count": 443,
     "metadata": {},
     "output_type": "execute_result"
    }
   ],
   "source": [
    "df['height'].isna().sum() / df.shape[0]"
   ]
  },
  {
   "cell_type": "code",
   "execution_count": 444,
   "metadata": {},
   "outputs": [
    {
     "data": {
      "text/plain": [
       "3105"
      ]
     },
     "execution_count": 444,
     "metadata": {},
     "output_type": "execute_result"
    }
   ],
   "source": [
    "df['width'].value_counts().sum()"
   ]
  },
  {
   "cell_type": "code",
   "execution_count": 445,
   "metadata": {},
   "outputs": [
    {
     "data": {
      "text/plain": [
       "0.15944775311315648"
      ]
     },
     "execution_count": 445,
     "metadata": {},
     "output_type": "execute_result"
    }
   ],
   "source": [
    "df['width'].isna().sum() / df.shape[0]"
   ]
  },
  {
   "cell_type": "code",
   "execution_count": 446,
   "metadata": {},
   "outputs": [
    {
     "data": {
      "text/plain": [
       "<AxesSubplot:ylabel='Frequency'>"
      ]
     },
     "execution_count": 446,
     "metadata": {},
     "output_type": "execute_result"
    },
    {
     "data": {
      "image/png": "[encoded data removed]",
      "text/plain": [
       "<Figure size 1584x576 with 3 Axes>"
      ]
     },
     "metadata": {},
     "output_type": "display_data"
    }
   ],
   "source": [
    "fig, ax = plt.subplots(1,3)\n",
    "fig.set_size_inches(22, 8)\n",
    "\n",
    "df['width'].plot(kind='hist', ax=ax.flatten()[0])\n",
    "df['depth'].plot(kind='hist', ax=ax.flatten()[1])\n",
    "df['height'].plot(kind='hist', ax=ax.flatten()[2])"
   ]
  },
  {
   "attachments": {},
   "cell_type": "markdown",
   "metadata": {},
   "source": [
    "### Data Cleaning"
   ]
  },
  {
   "attachments": {},
   "cell_type": "markdown",
   "metadata": {},
   "source": [
    "    finding the median depth, height, and width for each dimension\n",
    "    then incorporating them into the dataframe"
   ]
  },
  {
   "cell_type": "code",
   "execution_count": 447,
   "metadata": {},
   "outputs": [],
   "source": [
    "median_depth = df.groupby('category')[['depth']].agg('median').reset_index().rename(columns={'depth':'median_depth'})\n",
    "median_height = df.groupby('category')[['height']].agg('median').reset_index().rename(columns={'height':'median_height'})\n",
    "median_width = df.groupby('category')[['width']].agg('median').reset_index().rename(columns={'width':'median_width'})"
   ]
  },
  {
   "cell_type": "code",
   "execution_count": 448,
   "metadata": {},
   "outputs": [],
   "source": [
    "median_size = pd.concat([median_depth, median_height, median_width], axis=1).T.drop_duplicates().T"
   ]
  },
  {
   "cell_type": "code",
   "execution_count": 449,
   "metadata": {},
   "outputs": [
    {
     "data": {
      "text/html": [
       "<div>\n",
       "<style scoped>\n",
       "    .dataframe tbody tr th:only-of-type {\n",
       "        vertical-align: middle;\n",
       "    }\n",
       "\n",
       "    .dataframe tbody tr th {\n",
       "        vertical-align: top;\n",
       "    }\n",
       "\n",
       "    .dataframe thead th {\n",
       "        text-align: right;\n",
       "    }\n",
       "</style>\n",
       "<table border=\"1\" class=\"dataframe\">\n",
       "  <thead>\n",
       "    <tr style=\"text-align: right;\">\n",
       "      <th></th>\n",
       "      <th>category</th>\n",
       "      <th>median_depth</th>\n",
       "      <th>median_height</th>\n",
       "      <th>median_width</th>\n",
       "    </tr>\n",
       "  </thead>\n",
       "  <tbody>\n",
       "    <tr>\n",
       "      <th>0</th>\n",
       "      <td>Bar furniture</td>\n",
       "      <td>47.0</td>\n",
       "      <td>102.0</td>\n",
       "      <td>48.0</td>\n",
       "    </tr>\n",
       "    <tr>\n",
       "      <th>1</th>\n",
       "      <td>Beds</td>\n",
       "      <td>88.0</td>\n",
       "      <td>84.0</td>\n",
       "      <td>140.0</td>\n",
       "    </tr>\n",
       "    <tr>\n",
       "      <th>2</th>\n",
       "      <td>Bookcases &amp; shelving units</td>\n",
       "      <td>36.0</td>\n",
       "      <td>147.0</td>\n",
       "      <td>81.0</td>\n",
       "    </tr>\n",
       "    <tr>\n",
       "      <th>3</th>\n",
       "      <td>Cabinets &amp; cupboards</td>\n",
       "      <td>38.0</td>\n",
       "      <td>101.0</td>\n",
       "      <td>80.0</td>\n",
       "    </tr>\n",
       "    <tr>\n",
       "      <th>4</th>\n",
       "      <td>Café furniture</td>\n",
       "      <td>46.5</td>\n",
       "      <td>77.5</td>\n",
       "      <td>53.0</td>\n",
       "    </tr>\n",
       "  </tbody>\n",
       "</table>\n",
       "</div>"
      ],
      "text/plain": [
       "                     category median_depth median_height median_width\n",
       "0               Bar furniture         47.0         102.0         48.0\n",
       "1                        Beds         88.0          84.0        140.0\n",
       "2  Bookcases & shelving units         36.0         147.0         81.0\n",
       "3        Cabinets & cupboards         38.0         101.0         80.0\n",
       "4              Café furniture         46.5          77.5         53.0"
      ]
     },
     "execution_count": 449,
     "metadata": {},
     "output_type": "execute_result"
    }
   ],
   "source": [
    "median_size.head()"
   ]
  },
  {
   "cell_type": "code",
   "execution_count": 450,
   "metadata": {},
   "outputs": [],
   "source": [
    "df = df.merge(right=median_size, how='inner', on='category')"
   ]
  },
  {
   "cell_type": "code",
   "execution_count": 451,
   "metadata": {},
   "outputs": [],
   "source": [
    "df['depth'].fillna(df['median_depth'], inplace=True)\n",
    "df['height'].fillna(df['median_height'], inplace=True)\n",
    "df['width'].fillna(df['median_width'], inplace=True)"
   ]
  },
  {
   "cell_type": "code",
   "execution_count": 452,
   "metadata": {},
   "outputs": [],
   "source": [
    "df.drop(['median_depth', 'median_height', 'median_width'], axis=1, inplace=True)"
   ]
  },
  {
   "cell_type": "code",
   "execution_count": 453,
   "metadata": {},
   "outputs": [],
   "source": [
    "df['volume'] = df['depth'] * df['width'] * df['height']"
   ]
  },
  {
   "cell_type": "code",
   "execution_count": 454,
   "metadata": {},
   "outputs": [
    {
     "data": {
      "text/plain": [
       "<AxesSubplot:ylabel='Frequency'>"
      ]
     },
     "execution_count": 454,
     "metadata": {},
     "output_type": "execute_result"
    },
    {
     "data": {
      "image/png": "[encoded data removed]",
      "text/plain": [
       "<Figure size 1440x1152 with 4 Axes>"
      ]
     },
     "metadata": {},
     "output_type": "display_data"
    }
   ],
   "source": [
    "fig, ax = plt.subplots(2,2)\n",
    "fig.set_size_inches(20, 16)\n",
    "\n",
    "df['width'].plot(kind='hist', ax=ax.flatten()[0])\n",
    "df['depth'].plot(kind='hist', ax=ax.flatten()[1])\n",
    "df['height'].plot(kind='hist', ax=ax.flatten()[2])\n",
    "df['volume'].plot(kind='hist', ax=ax.flatten()[3])"
   ]
  },
  {
   "attachments": {},
   "cell_type": "markdown",
   "metadata": {},
   "source": [
    "### Check for Duplicates"
   ]
  },
  {
   "cell_type": "code",
   "execution_count": 455,
   "metadata": {},
   "outputs": [
    {
     "data": {
      "text/html": [
       "<div>\n",
       "<style scoped>\n",
       "    .dataframe tbody tr th:only-of-type {\n",
       "        vertical-align: middle;\n",
       "    }\n",
       "\n",
       "    .dataframe tbody tr th {\n",
       "        vertical-align: top;\n",
       "    }\n",
       "\n",
       "    .dataframe thead th {\n",
       "        text-align: right;\n",
       "    }\n",
       "</style>\n",
       "<table border=\"1\" class=\"dataframe\">\n",
       "  <thead>\n",
       "    <tr style=\"text-align: right;\">\n",
       "      <th></th>\n",
       "      <th>item_id</th>\n",
       "      <th>name</th>\n",
       "      <th>category</th>\n",
       "      <th>price</th>\n",
       "      <th>sellable_online</th>\n",
       "      <th>other_colors</th>\n",
       "      <th>depth</th>\n",
       "      <th>height</th>\n",
       "      <th>width</th>\n",
       "      <th>old_price_cleaned</th>\n",
       "      <th>price_minus_old_price</th>\n",
       "      <th>volume</th>\n",
       "    </tr>\n",
       "  </thead>\n",
       "  <tbody>\n",
       "    <tr>\n",
       "      <th>0</th>\n",
       "      <td>90420332</td>\n",
       "      <td>FREKVENS</td>\n",
       "      <td>Bar furniture</td>\n",
       "      <td>265.0</td>\n",
       "      <td>True</td>\n",
       "      <td>No</td>\n",
       "      <td>47.0</td>\n",
       "      <td>99.0</td>\n",
       "      <td>51.0</td>\n",
       "      <td>NaN</td>\n",
       "      <td>0.0</td>\n",
       "      <td>237303.0</td>\n",
       "    </tr>\n",
       "    <tr>\n",
       "      <th>1</th>\n",
       "      <td>368814</td>\n",
       "      <td>NORDVIKEN</td>\n",
       "      <td>Bar furniture</td>\n",
       "      <td>995.0</td>\n",
       "      <td>False</td>\n",
       "      <td>No</td>\n",
       "      <td>47.0</td>\n",
       "      <td>105.0</td>\n",
       "      <td>80.0</td>\n",
       "      <td>NaN</td>\n",
       "      <td>0.0</td>\n",
       "      <td>394800.0</td>\n",
       "    </tr>\n",
       "    <tr>\n",
       "      <th>2</th>\n",
       "      <td>9333523</td>\n",
       "      <td>NORDVIKEN / NORDVIKEN</td>\n",
       "      <td>Bar furniture</td>\n",
       "      <td>2095.0</td>\n",
       "      <td>False</td>\n",
       "      <td>No</td>\n",
       "      <td>47.0</td>\n",
       "      <td>102.0</td>\n",
       "      <td>48.0</td>\n",
       "      <td>NaN</td>\n",
       "      <td>0.0</td>\n",
       "      <td>230112.0</td>\n",
       "    </tr>\n",
       "    <tr>\n",
       "      <th>3</th>\n",
       "      <td>80155205</td>\n",
       "      <td>STIG</td>\n",
       "      <td>Bar furniture</td>\n",
       "      <td>69.0</td>\n",
       "      <td>True</td>\n",
       "      <td>Yes</td>\n",
       "      <td>50.0</td>\n",
       "      <td>100.0</td>\n",
       "      <td>60.0</td>\n",
       "      <td>NaN</td>\n",
       "      <td>0.0</td>\n",
       "      <td>300000.0</td>\n",
       "    </tr>\n",
       "    <tr>\n",
       "      <th>4</th>\n",
       "      <td>30180504</td>\n",
       "      <td>NORBERG</td>\n",
       "      <td>Bar furniture</td>\n",
       "      <td>225.0</td>\n",
       "      <td>True</td>\n",
       "      <td>No</td>\n",
       "      <td>60.0</td>\n",
       "      <td>43.0</td>\n",
       "      <td>74.0</td>\n",
       "      <td>NaN</td>\n",
       "      <td>0.0</td>\n",
       "      <td>190920.0</td>\n",
       "    </tr>\n",
       "  </tbody>\n",
       "</table>\n",
       "</div>"
      ],
      "text/plain": [
       "    item_id                   name       category   price  sellable_online  \\\n",
       "0  90420332               FREKVENS  Bar furniture   265.0             True   \n",
       "1    368814              NORDVIKEN  Bar furniture   995.0            False   \n",
       "2   9333523  NORDVIKEN / NORDVIKEN  Bar furniture  2095.0            False   \n",
       "3  80155205                   STIG  Bar furniture    69.0             True   \n",
       "4  30180504                NORBERG  Bar furniture   225.0             True   \n",
       "\n",
       "  other_colors  depth  height  width  old_price_cleaned  \\\n",
       "0           No   47.0    99.0   51.0                NaN   \n",
       "1           No   47.0   105.0   80.0                NaN   \n",
       "2           No   47.0   102.0   48.0                NaN   \n",
       "3          Yes   50.0   100.0   60.0                NaN   \n",
       "4           No   60.0    43.0   74.0                NaN   \n",
       "\n",
       "   price_minus_old_price    volume  \n",
       "0                    0.0  237303.0  \n",
       "1                    0.0  394800.0  \n",
       "2                    0.0  230112.0  \n",
       "3                    0.0  300000.0  \n",
       "4                    0.0  190920.0  "
      ]
     },
     "execution_count": 455,
     "metadata": {},
     "output_type": "execute_result"
    }
   ],
   "source": [
    "df.head()"
   ]
  },
  {
   "cell_type": "code",
   "execution_count": 456,
   "metadata": {},
   "outputs": [
    {
     "data": {
      "text/html": [
       "<div>\n",
       "<style scoped>\n",
       "    .dataframe tbody tr th:only-of-type {\n",
       "        vertical-align: middle;\n",
       "    }\n",
       "\n",
       "    .dataframe tbody tr th {\n",
       "        vertical-align: top;\n",
       "    }\n",
       "\n",
       "    .dataframe thead th {\n",
       "        text-align: right;\n",
       "    }\n",
       "</style>\n",
       "<table border=\"1\" class=\"dataframe\">\n",
       "  <thead>\n",
       "    <tr style=\"text-align: right;\">\n",
       "      <th></th>\n",
       "      <th>item_id</th>\n",
       "      <th>name</th>\n",
       "      <th>category</th>\n",
       "      <th>price</th>\n",
       "      <th>sellable_online</th>\n",
       "      <th>other_colors</th>\n",
       "      <th>depth</th>\n",
       "      <th>height</th>\n",
       "      <th>width</th>\n",
       "      <th>old_price_cleaned</th>\n",
       "      <th>price_minus_old_price</th>\n",
       "      <th>volume</th>\n",
       "    </tr>\n",
       "  </thead>\n",
       "  <tbody>\n",
       "    <tr>\n",
       "      <th>1918</th>\n",
       "      <td>91415</td>\n",
       "      <td>TROFAST</td>\n",
       "      <td>Nursery furniture</td>\n",
       "      <td>5.0</td>\n",
       "      <td>True</td>\n",
       "      <td>No</td>\n",
       "      <td>44.0</td>\n",
       "      <td>86.5</td>\n",
       "      <td>28.0</td>\n",
       "      <td>NaN</td>\n",
       "      <td>0.0</td>\n",
       "      <td>106568.0</td>\n",
       "    </tr>\n",
       "    <tr>\n",
       "      <th>1834</th>\n",
       "      <td>91415</td>\n",
       "      <td>TROFAST</td>\n",
       "      <td>Children's furniture</td>\n",
       "      <td>5.0</td>\n",
       "      <td>True</td>\n",
       "      <td>No</td>\n",
       "      <td>45.0</td>\n",
       "      <td>67.0</td>\n",
       "      <td>28.0</td>\n",
       "      <td>NaN</td>\n",
       "      <td>0.0</td>\n",
       "      <td>84420.0</td>\n",
       "    </tr>\n",
       "    <tr>\n",
       "      <th>151</th>\n",
       "      <td>102065</td>\n",
       "      <td>LYCKSELE LÖVÅS</td>\n",
       "      <td>Beds</td>\n",
       "      <td>495.0</td>\n",
       "      <td>True</td>\n",
       "      <td>No</td>\n",
       "      <td>88.0</td>\n",
       "      <td>84.0</td>\n",
       "      <td>140.0</td>\n",
       "      <td>NaN</td>\n",
       "      <td>0.0</td>\n",
       "      <td>1034880.0</td>\n",
       "    </tr>\n",
       "    <tr>\n",
       "      <th>2560</th>\n",
       "      <td>102065</td>\n",
       "      <td>LYCKSELE LÖVÅS</td>\n",
       "      <td>Sofas &amp; armchairs</td>\n",
       "      <td>495.0</td>\n",
       "      <td>True</td>\n",
       "      <td>No</td>\n",
       "      <td>98.0</td>\n",
       "      <td>83.0</td>\n",
       "      <td>196.0</td>\n",
       "      <td>NaN</td>\n",
       "      <td>0.0</td>\n",
       "      <td>1594264.0</td>\n",
       "    </tr>\n",
       "    <tr>\n",
       "      <th>2178</th>\n",
       "      <td>105064</td>\n",
       "      <td>LIATORP</td>\n",
       "      <td>Sideboards, buffets &amp; console tables</td>\n",
       "      <td>445.0</td>\n",
       "      <td>True</td>\n",
       "      <td>No</td>\n",
       "      <td>40.0</td>\n",
       "      <td>75.0</td>\n",
       "      <td>37.0</td>\n",
       "      <td>NaN</td>\n",
       "      <td>0.0</td>\n",
       "      <td>111000.0</td>\n",
       "    </tr>\n",
       "    <tr>\n",
       "      <th>...</th>\n",
       "      <td>...</td>\n",
       "      <td>...</td>\n",
       "      <td>...</td>\n",
       "      <td>...</td>\n",
       "      <td>...</td>\n",
       "      <td>...</td>\n",
       "      <td>...</td>\n",
       "      <td>...</td>\n",
       "      <td>...</td>\n",
       "      <td>...</td>\n",
       "      <td>...</td>\n",
       "      <td>...</td>\n",
       "    </tr>\n",
       "    <tr>\n",
       "      <th>1853</th>\n",
       "      <td>99323614</td>\n",
       "      <td>SMÅGÖRA</td>\n",
       "      <td>Nursery furniture</td>\n",
       "      <td>370.0</td>\n",
       "      <td>True</td>\n",
       "      <td>No</td>\n",
       "      <td>40.0</td>\n",
       "      <td>91.0</td>\n",
       "      <td>60.0</td>\n",
       "      <td>NaN</td>\n",
       "      <td>0.0</td>\n",
       "      <td>218400.0</td>\n",
       "    </tr>\n",
       "    <tr>\n",
       "      <th>3028</th>\n",
       "      <td>99323925</td>\n",
       "      <td>STENSELE</td>\n",
       "      <td>Tables &amp; desks</td>\n",
       "      <td>550.0</td>\n",
       "      <td>True</td>\n",
       "      <td>No</td>\n",
       "      <td>46.0</td>\n",
       "      <td>104.0</td>\n",
       "      <td>70.0</td>\n",
       "      <td>NaN</td>\n",
       "      <td>0.0</td>\n",
       "      <td>334880.0</td>\n",
       "    </tr>\n",
       "    <tr>\n",
       "      <th>29</th>\n",
       "      <td>99323925</td>\n",
       "      <td>STENSELE</td>\n",
       "      <td>Bar furniture</td>\n",
       "      <td>550.0</td>\n",
       "      <td>True</td>\n",
       "      <td>No</td>\n",
       "      <td>47.0</td>\n",
       "      <td>104.0</td>\n",
       "      <td>70.0</td>\n",
       "      <td>NaN</td>\n",
       "      <td>0.0</td>\n",
       "      <td>342160.0</td>\n",
       "    </tr>\n",
       "    <tr>\n",
       "      <th>2737</th>\n",
       "      <td>99902661</td>\n",
       "      <td>VITTSJÖ</td>\n",
       "      <td>Tables &amp; desks</td>\n",
       "      <td>609.0</td>\n",
       "      <td>True</td>\n",
       "      <td>No</td>\n",
       "      <td>36.0</td>\n",
       "      <td>74.0</td>\n",
       "      <td>202.0</td>\n",
       "      <td>NaN</td>\n",
       "      <td>0.0</td>\n",
       "      <td>538128.0</td>\n",
       "    </tr>\n",
       "    <tr>\n",
       "      <th>409</th>\n",
       "      <td>99902661</td>\n",
       "      <td>VITTSJÖ</td>\n",
       "      <td>Bookcases &amp; shelving units</td>\n",
       "      <td>609.0</td>\n",
       "      <td>True</td>\n",
       "      <td>No</td>\n",
       "      <td>36.0</td>\n",
       "      <td>147.0</td>\n",
       "      <td>202.0</td>\n",
       "      <td>NaN</td>\n",
       "      <td>0.0</td>\n",
       "      <td>1068984.0</td>\n",
       "    </tr>\n",
       "  </tbody>\n",
       "</table>\n",
       "<p>1352 rows × 12 columns</p>\n",
       "</div>"
      ],
      "text/plain": [
       "       item_id            name                              category  price  \\\n",
       "1918     91415         TROFAST                     Nursery furniture    5.0   \n",
       "1834     91415         TROFAST                  Children's furniture    5.0   \n",
       "151     102065  LYCKSELE LÖVÅS                                  Beds  495.0   \n",
       "2560    102065  LYCKSELE LÖVÅS                     Sofas & armchairs  495.0   \n",
       "2178    105064         LIATORP  Sideboards, buffets & console tables  445.0   \n",
       "...        ...             ...                                   ...    ...   \n",
       "1853  99323614         SMÅGÖRA                     Nursery furniture  370.0   \n",
       "3028  99323925        STENSELE                        Tables & desks  550.0   \n",
       "29    99323925        STENSELE                         Bar furniture  550.0   \n",
       "2737  99902661         VITTSJÖ                        Tables & desks  609.0   \n",
       "409   99902661         VITTSJÖ            Bookcases & shelving units  609.0   \n",
       "\n",
       "      sellable_online other_colors  depth  height  width  old_price_cleaned  \\\n",
       "1918             True           No   44.0    86.5   28.0                NaN   \n",
       "1834             True           No   45.0    67.0   28.0                NaN   \n",
       "151              True           No   88.0    84.0  140.0                NaN   \n",
       "2560             True           No   98.0    83.0  196.0                NaN   \n",
       "2178             True           No   40.0    75.0   37.0                NaN   \n",
       "...               ...          ...    ...     ...    ...                ...   \n",
       "1853             True           No   40.0    91.0   60.0                NaN   \n",
       "3028             True           No   46.0   104.0   70.0                NaN   \n",
       "29               True           No   47.0   104.0   70.0                NaN   \n",
       "2737             True           No   36.0    74.0  202.0                NaN   \n",
       "409              True           No   36.0   147.0  202.0                NaN   \n",
       "\n",
       "      price_minus_old_price     volume  \n",
       "1918                    0.0   106568.0  \n",
       "1834                    0.0    84420.0  \n",
       "151                     0.0  1034880.0  \n",
       "2560                    0.0  1594264.0  \n",
       "2178                    0.0   111000.0  \n",
       "...                     ...        ...  \n",
       "1853                    0.0   218400.0  \n",
       "3028                    0.0   334880.0  \n",
       "29                      0.0   342160.0  \n",
       "2737                    0.0   538128.0  \n",
       "409                     0.0  1068984.0  \n",
       "\n",
       "[1352 rows x 12 columns]"
      ]
     },
     "execution_count": 456,
     "metadata": {},
     "output_type": "execute_result"
    }
   ],
   "source": [
    "df[df['item_id'].duplicated(keep=False)].sort_values('item_id')"
   ]
  },
  {
   "cell_type": "code",
   "execution_count": 472,
   "metadata": {},
   "outputs": [
    {
     "data": {
      "text/plain": [
       "<AxesSubplot:xlabel='category', ylabel='other_colors'>"
      ]
     },
     "execution_count": 472,
     "metadata": {},
     "output_type": "execute_result"
    },
    {
     "data": {
      "image/png": "[encoded data removed]",
      "text/plain": [
       "<Figure size 1152x576 with 2 Axes>"
      ]
     },
     "metadata": {},
     "output_type": "display_data"
    }
   ],
   "source": [
    "plt.figure(figsize=(16,8))\n",
    "sns.heatmap(pd.crosstab(index=df['other_colors'], columns=df['category'], normalize='columns'), annot=True)"
   ]
  },
  {
   "attachments": {},
   "cell_type": "markdown",
   "metadata": {},
   "source": [
    "### Model"
   ]
  },
  {
   "cell_type": "code",
   "execution_count": 457,
   "metadata": {},
   "outputs": [
    {
     "name": "stdout",
     "output_type": "stream",
     "text": [
      "<class 'pandas.core.frame.DataFrame'>\n",
      "Int64Index: 3694 entries, 0 to 3693\n",
      "Data columns (total 12 columns):\n",
      " #   Column                 Non-Null Count  Dtype   \n",
      "---  ------                 --------------  -----   \n",
      " 0   item_id                3694 non-null   int64   \n",
      " 1   name                   3694 non-null   object  \n",
      " 2   category               3694 non-null   object  \n",
      " 3   price                  3694 non-null   float64 \n",
      " 4   sellable_online        3694 non-null   bool    \n",
      " 5   other_colors           3694 non-null   category\n",
      " 6   depth                  3694 non-null   float64 \n",
      " 7   height                 3694 non-null   float64 \n",
      " 8   width                  3694 non-null   float64 \n",
      " 9   old_price_cleaned      654 non-null    float64 \n",
      " 10  price_minus_old_price  3694 non-null   float64 \n",
      " 11  volume                 3694 non-null   float64 \n",
      "dtypes: bool(1), category(1), float64(7), int64(1), object(2)\n",
      "memory usage: 324.8+ KB\n"
     ]
    }
   ],
   "source": [
    "df.info()"
   ]
  },
  {
   "cell_type": "code",
   "execution_count": 467,
   "metadata": {},
   "outputs": [],
   "source": [
    "continuous_var = ['price', 'price_minus_old_price', 'depth', 'height', 'width', 'volume' ]\n",
    "categorical_var = ['category', 'sellable_online', 'other_colors']"
   ]
  },
  {
   "cell_type": "code",
   "execution_count": 468,
   "metadata": {},
   "outputs": [],
   "source": [
    "df_continuous = df[continuous_var]\n",
    "df_categorical = df[categorical_var]"
   ]
  },
  {
   "cell_type": "code",
   "execution_count": 473,
   "metadata": {},
   "outputs": [],
   "source": [
    "from sklearn.preprocessing import LabelEncoder"
   ]
  },
  {
   "cell_type": "code",
   "execution_count": 483,
   "metadata": {},
   "outputs": [
    {
     "data": {
      "text/plain": [
       "Index(['Bar furniture', 'Beds', 'Bookcases & shelving units',\n",
       "       'Cabinets & cupboards', 'Café furniture', 'Chairs',\n",
       "       'Chests of drawers & drawer units', 'Children's furniture',\n",
       "       'Nursery furniture', 'Outdoor furniture', 'Room dividers',\n",
       "       'Sideboards, buffets & console tables', 'Sofas & armchairs',\n",
       "       'TV & media furniture', 'Tables & desks', 'Trolleys', 'Wardrobes'],\n",
       "      dtype='object')"
      ]
     },
     "execution_count": 483,
     "metadata": {},
     "output_type": "execute_result"
    }
   ],
   "source": [
    "df['category'].cat.categories"
   ]
  },
  {
   "cell_type": "code",
   "execution_count": 476,
   "metadata": {},
   "outputs": [],
   "source": [
    "df_categorical = df_categorical.apply(LabelEncoder().fit_transform)"
   ]
  },
  {
   "cell_type": "code",
   "execution_count": 484,
   "metadata": {},
   "outputs": [],
   "source": [
    "df_update = pd.concat([df_categorical, df_continuous], axis=1)"
   ]
  },
  {
   "cell_type": "code",
   "execution_count": 485,
   "metadata": {},
   "outputs": [
    {
     "data": {
      "text/html": [
       "<div>\n",
       "<style scoped>\n",
       "    .dataframe tbody tr th:only-of-type {\n",
       "        vertical-align: middle;\n",
       "    }\n",
       "\n",
       "    .dataframe tbody tr th {\n",
       "        vertical-align: top;\n",
       "    }\n",
       "\n",
       "    .dataframe thead th {\n",
       "        text-align: right;\n",
       "    }\n",
       "</style>\n",
       "<table border=\"1\" class=\"dataframe\">\n",
       "  <thead>\n",
       "    <tr style=\"text-align: right;\">\n",
       "      <th></th>\n",
       "      <th>category</th>\n",
       "      <th>sellable_online</th>\n",
       "      <th>other_colors</th>\n",
       "      <th>price</th>\n",
       "      <th>price_minus_old_price</th>\n",
       "      <th>depth</th>\n",
       "      <th>height</th>\n",
       "      <th>width</th>\n",
       "      <th>volume</th>\n",
       "    </tr>\n",
       "  </thead>\n",
       "  <tbody>\n",
       "    <tr>\n",
       "      <th>0</th>\n",
       "      <td>0</td>\n",
       "      <td>1</td>\n",
       "      <td>0</td>\n",
       "      <td>265.0</td>\n",
       "      <td>0.0</td>\n",
       "      <td>47.0</td>\n",
       "      <td>99.0</td>\n",
       "      <td>51.0</td>\n",
       "      <td>237303.0</td>\n",
       "    </tr>\n",
       "    <tr>\n",
       "      <th>1</th>\n",
       "      <td>0</td>\n",
       "      <td>0</td>\n",
       "      <td>0</td>\n",
       "      <td>995.0</td>\n",
       "      <td>0.0</td>\n",
       "      <td>47.0</td>\n",
       "      <td>105.0</td>\n",
       "      <td>80.0</td>\n",
       "      <td>394800.0</td>\n",
       "    </tr>\n",
       "    <tr>\n",
       "      <th>2</th>\n",
       "      <td>0</td>\n",
       "      <td>0</td>\n",
       "      <td>0</td>\n",
       "      <td>2095.0</td>\n",
       "      <td>0.0</td>\n",
       "      <td>47.0</td>\n",
       "      <td>102.0</td>\n",
       "      <td>48.0</td>\n",
       "      <td>230112.0</td>\n",
       "    </tr>\n",
       "    <tr>\n",
       "      <th>3</th>\n",
       "      <td>0</td>\n",
       "      <td>1</td>\n",
       "      <td>1</td>\n",
       "      <td>69.0</td>\n",
       "      <td>0.0</td>\n",
       "      <td>50.0</td>\n",
       "      <td>100.0</td>\n",
       "      <td>60.0</td>\n",
       "      <td>300000.0</td>\n",
       "    </tr>\n",
       "    <tr>\n",
       "      <th>4</th>\n",
       "      <td>0</td>\n",
       "      <td>1</td>\n",
       "      <td>0</td>\n",
       "      <td>225.0</td>\n",
       "      <td>0.0</td>\n",
       "      <td>60.0</td>\n",
       "      <td>43.0</td>\n",
       "      <td>74.0</td>\n",
       "      <td>190920.0</td>\n",
       "    </tr>\n",
       "    <tr>\n",
       "      <th>...</th>\n",
       "      <td>...</td>\n",
       "      <td>...</td>\n",
       "      <td>...</td>\n",
       "      <td>...</td>\n",
       "      <td>...</td>\n",
       "      <td>...</td>\n",
       "      <td>...</td>\n",
       "      <td>...</td>\n",
       "      <td>...</td>\n",
       "    </tr>\n",
       "    <tr>\n",
       "      <th>3689</th>\n",
       "      <td>16</td>\n",
       "      <td>1</td>\n",
       "      <td>0</td>\n",
       "      <td>750.0</td>\n",
       "      <td>70.0</td>\n",
       "      <td>50.0</td>\n",
       "      <td>236.0</td>\n",
       "      <td>91.0</td>\n",
       "      <td>1073800.0</td>\n",
       "    </tr>\n",
       "    <tr>\n",
       "      <th>3690</th>\n",
       "      <td>16</td>\n",
       "      <td>1</td>\n",
       "      <td>0</td>\n",
       "      <td>1572.0</td>\n",
       "      <td>183.0</td>\n",
       "      <td>50.0</td>\n",
       "      <td>236.0</td>\n",
       "      <td>135.0</td>\n",
       "      <td>1593000.0</td>\n",
       "    </tr>\n",
       "    <tr>\n",
       "      <th>3691</th>\n",
       "      <td>16</td>\n",
       "      <td>1</td>\n",
       "      <td>0</td>\n",
       "      <td>924.0</td>\n",
       "      <td>126.0</td>\n",
       "      <td>50.0</td>\n",
       "      <td>236.0</td>\n",
       "      <td>175.0</td>\n",
       "      <td>2065000.0</td>\n",
       "    </tr>\n",
       "    <tr>\n",
       "      <th>3692</th>\n",
       "      <td>16</td>\n",
       "      <td>1</td>\n",
       "      <td>0</td>\n",
       "      <td>2745.0</td>\n",
       "      <td>385.0</td>\n",
       "      <td>50.0</td>\n",
       "      <td>236.0</td>\n",
       "      <td>178.0</td>\n",
       "      <td>2100400.0</td>\n",
       "    </tr>\n",
       "    <tr>\n",
       "      <th>3693</th>\n",
       "      <td>16</td>\n",
       "      <td>1</td>\n",
       "      <td>0</td>\n",
       "      <td>1231.0</td>\n",
       "      <td>304.0</td>\n",
       "      <td>50.0</td>\n",
       "      <td>236.0</td>\n",
       "      <td>175.0</td>\n",
       "      <td>2065000.0</td>\n",
       "    </tr>\n",
       "  </tbody>\n",
       "</table>\n",
       "<p>3694 rows × 9 columns</p>\n",
       "</div>"
      ],
      "text/plain": [
       "      category  sellable_online  other_colors   price  price_minus_old_price  \\\n",
       "0            0                1             0   265.0                    0.0   \n",
       "1            0                0             0   995.0                    0.0   \n",
       "2            0                0             0  2095.0                    0.0   \n",
       "3            0                1             1    69.0                    0.0   \n",
       "4            0                1             0   225.0                    0.0   \n",
       "...        ...              ...           ...     ...                    ...   \n",
       "3689        16                1             0   750.0                   70.0   \n",
       "3690        16                1             0  1572.0                  183.0   \n",
       "3691        16                1             0   924.0                  126.0   \n",
       "3692        16                1             0  2745.0                  385.0   \n",
       "3693        16                1             0  1231.0                  304.0   \n",
       "\n",
       "      depth  height  width     volume  \n",
       "0      47.0    99.0   51.0   237303.0  \n",
       "1      47.0   105.0   80.0   394800.0  \n",
       "2      47.0   102.0   48.0   230112.0  \n",
       "3      50.0   100.0   60.0   300000.0  \n",
       "4      60.0    43.0   74.0   190920.0  \n",
       "...     ...     ...    ...        ...  \n",
       "3689   50.0   236.0   91.0  1073800.0  \n",
       "3690   50.0   236.0  135.0  1593000.0  \n",
       "3691   50.0   236.0  175.0  2065000.0  \n",
       "3692   50.0   236.0  178.0  2100400.0  \n",
       "3693   50.0   236.0  175.0  2065000.0  \n",
       "\n",
       "[3694 rows x 9 columns]"
      ]
     },
     "execution_count": 485,
     "metadata": {},
     "output_type": "execute_result"
    }
   ],
   "source": [
    "df_update"
   ]
  },
  {
   "cell_type": "code",
   "execution_count": 486,
   "metadata": {},
   "outputs": [],
   "source": [
    "from sklearn.model_selection import train_test_split"
   ]
  },
  {
   "cell_type": "code",
   "execution_count": 489,
   "metadata": {},
   "outputs": [],
   "source": [
    "X = df_update.drop('price', axis=1)\n",
    "y = df_update[['price']]"
   ]
  },
  {
   "cell_type": "code",
   "execution_count": 491,
   "metadata": {},
   "outputs": [],
   "source": [
    "X_train, X_test, y_train, y_test = train_test_split(X, y, test_size=0.2, random_state=1)\n",
    "X_train, X_validate, y_train, y_validate = train_test_split(X_train, y_train, test_size=0.2, random_state=2)"
   ]
  },
  {
   "cell_type": "code",
   "execution_count": 492,
   "metadata": {},
   "outputs": [],
   "source": [
    "from statsmodels.stats.outliers_influence import variance_inflation_factor as vif\n",
    "from statsmodels.tools.tools import add_constant"
   ]
  },
  {
   "cell_type": "code",
   "execution_count": 508,
   "metadata": {},
   "outputs": [
    {
     "data": {
      "text/html": [
       "<div>\n",
       "<style scoped>\n",
       "    .dataframe tbody tr th:only-of-type {\n",
       "        vertical-align: middle;\n",
       "    }\n",
       "\n",
       "    .dataframe tbody tr th {\n",
       "        vertical-align: top;\n",
       "    }\n",
       "\n",
       "    .dataframe thead th {\n",
       "        text-align: right;\n",
       "    }\n",
       "</style>\n",
       "<table border=\"1\" class=\"dataframe\">\n",
       "  <thead>\n",
       "    <tr style=\"text-align: right;\">\n",
       "      <th></th>\n",
       "      <th>feature</th>\n",
       "      <th>vif_score</th>\n",
       "    </tr>\n",
       "  </thead>\n",
       "  <tbody>\n",
       "    <tr>\n",
       "      <th>0</th>\n",
       "      <td>const</td>\n",
       "      <td>167.947472</td>\n",
       "    </tr>\n",
       "    <tr>\n",
       "      <th>1</th>\n",
       "      <td>category</td>\n",
       "      <td>1.051265</td>\n",
       "    </tr>\n",
       "    <tr>\n",
       "      <th>2</th>\n",
       "      <td>sellable_online</td>\n",
       "      <td>1.006629</td>\n",
       "    </tr>\n",
       "    <tr>\n",
       "      <th>3</th>\n",
       "      <td>other_colors</td>\n",
       "      <td>1.101328</td>\n",
       "    </tr>\n",
       "    <tr>\n",
       "      <th>4</th>\n",
       "      <td>price_minus_old_price</td>\n",
       "      <td>1.113978</td>\n",
       "    </tr>\n",
       "    <tr>\n",
       "      <th>5</th>\n",
       "      <td>depth</td>\n",
       "      <td>2.710608</td>\n",
       "    </tr>\n",
       "    <tr>\n",
       "      <th>6</th>\n",
       "      <td>height</td>\n",
       "      <td>2.076956</td>\n",
       "    </tr>\n",
       "    <tr>\n",
       "      <th>7</th>\n",
       "      <td>width</td>\n",
       "      <td>4.001627</td>\n",
       "    </tr>\n",
       "    <tr>\n",
       "      <th>8</th>\n",
       "      <td>volume</td>\n",
       "      <td>7.877849</td>\n",
       "    </tr>\n",
       "  </tbody>\n",
       "</table>\n",
       "</div>"
      ],
      "text/plain": [
       "                 feature   vif_score\n",
       "0                  const  167.947472\n",
       "1               category    1.051265\n",
       "2        sellable_online    1.006629\n",
       "3           other_colors    1.101328\n",
       "4  price_minus_old_price    1.113978\n",
       "5                  depth    2.710608\n",
       "6                 height    2.076956\n",
       "7                  width    4.001627\n",
       "8                 volume    7.877849"
      ]
     },
     "execution_count": 508,
     "metadata": {},
     "output_type": "execute_result"
    }
   ],
   "source": [
    "vif_df"
   ]
  },
  {
   "cell_type": "code",
   "execution_count": 521,
   "metadata": {},
   "outputs": [
    {
     "data": {
      "text/html": [
       "<div>\n",
       "<style scoped>\n",
       "    .dataframe tbody tr th:only-of-type {\n",
       "        vertical-align: middle;\n",
       "    }\n",
       "\n",
       "    .dataframe tbody tr th {\n",
       "        vertical-align: top;\n",
       "    }\n",
       "\n",
       "    .dataframe thead th {\n",
       "        text-align: right;\n",
       "    }\n",
       "</style>\n",
       "<table border=\"1\" class=\"dataframe\">\n",
       "  <thead>\n",
       "    <tr style=\"text-align: right;\">\n",
       "      <th></th>\n",
       "      <th>feature</th>\n",
       "      <th>vif_score</th>\n",
       "    </tr>\n",
       "  </thead>\n",
       "  <tbody>\n",
       "    <tr>\n",
       "      <th>1</th>\n",
       "      <td>category</td>\n",
       "      <td>1.051265</td>\n",
       "    </tr>\n",
       "    <tr>\n",
       "      <th>2</th>\n",
       "      <td>sellable_online</td>\n",
       "      <td>1.006629</td>\n",
       "    </tr>\n",
       "    <tr>\n",
       "      <th>3</th>\n",
       "      <td>other_colors</td>\n",
       "      <td>1.101328</td>\n",
       "    </tr>\n",
       "    <tr>\n",
       "      <th>4</th>\n",
       "      <td>price_minus_old_price</td>\n",
       "      <td>1.113978</td>\n",
       "    </tr>\n",
       "    <tr>\n",
       "      <th>5</th>\n",
       "      <td>depth</td>\n",
       "      <td>2.710608</td>\n",
       "    </tr>\n",
       "    <tr>\n",
       "      <th>6</th>\n",
       "      <td>height</td>\n",
       "      <td>2.076956</td>\n",
       "    </tr>\n",
       "    <tr>\n",
       "      <th>7</th>\n",
       "      <td>width</td>\n",
       "      <td>4.001627</td>\n",
       "    </tr>\n",
       "    <tr>\n",
       "      <th>8</th>\n",
       "      <td>volume</td>\n",
       "      <td>7.877849</td>\n",
       "    </tr>\n",
       "  </tbody>\n",
       "</table>\n",
       "</div>"
      ],
      "text/plain": [
       "                 feature  vif_score\n",
       "1               category   1.051265\n",
       "2        sellable_online   1.006629\n",
       "3           other_colors   1.101328\n",
       "4  price_minus_old_price   1.113978\n",
       "5                  depth   2.710608\n",
       "6                 height   2.076956\n",
       "7                  width   4.001627\n",
       "8                 volume   7.877849"
      ]
     },
     "execution_count": 521,
     "metadata": {},
     "output_type": "execute_result"
    }
   ],
   "source": [
    "X = add_constant(X_train)\n",
    "vif_df = pd.DataFrame([vif(X.values, i) for i in range(X.shape[1])], index = X.columns).reset_index()\n",
    "vif_df.columns = ['feature', 'vif_score']\n",
    "vif_df = vif_df.iloc[1:, :].copy()\n",
    "vif_df"
   ]
  },
  {
   "cell_type": "code",
   "execution_count": 514,
   "metadata": {},
   "outputs": [
    {
     "data": {
      "text/html": [
       "<div>\n",
       "<style scoped>\n",
       "    .dataframe tbody tr th:only-of-type {\n",
       "        vertical-align: middle;\n",
       "    }\n",
       "\n",
       "    .dataframe tbody tr th {\n",
       "        vertical-align: top;\n",
       "    }\n",
       "\n",
       "    .dataframe thead th {\n",
       "        text-align: right;\n",
       "    }\n",
       "</style>\n",
       "<table border=\"1\" class=\"dataframe\">\n",
       "  <thead>\n",
       "    <tr style=\"text-align: right;\">\n",
       "      <th></th>\n",
       "      <th>feature</th>\n",
       "      <th>vif_score</th>\n",
       "    </tr>\n",
       "  </thead>\n",
       "  <tbody>\n",
       "    <tr>\n",
       "      <th>0</th>\n",
       "      <td>const</td>\n",
       "      <td>167.947472</td>\n",
       "    </tr>\n",
       "    <tr>\n",
       "      <th>1</th>\n",
       "      <td>category</td>\n",
       "      <td>1.051265</td>\n",
       "    </tr>\n",
       "    <tr>\n",
       "      <th>2</th>\n",
       "      <td>sellable_online</td>\n",
       "      <td>1.006629</td>\n",
       "    </tr>\n",
       "    <tr>\n",
       "      <th>3</th>\n",
       "      <td>other_colors</td>\n",
       "      <td>1.101328</td>\n",
       "    </tr>\n",
       "    <tr>\n",
       "      <th>4</th>\n",
       "      <td>price_minus_old_price</td>\n",
       "      <td>1.113978</td>\n",
       "    </tr>\n",
       "    <tr>\n",
       "      <th>5</th>\n",
       "      <td>depth</td>\n",
       "      <td>2.710608</td>\n",
       "    </tr>\n",
       "    <tr>\n",
       "      <th>6</th>\n",
       "      <td>height</td>\n",
       "      <td>2.076956</td>\n",
       "    </tr>\n",
       "    <tr>\n",
       "      <th>7</th>\n",
       "      <td>width</td>\n",
       "      <td>4.001627</td>\n",
       "    </tr>\n",
       "    <tr>\n",
       "      <th>8</th>\n",
       "      <td>volume</td>\n",
       "      <td>7.877849</td>\n",
       "    </tr>\n",
       "  </tbody>\n",
       "</table>\n",
       "</div>"
      ],
      "text/plain": [
       "                 feature   vif_score\n",
       "0                  const  167.947472\n",
       "1               category    1.051265\n",
       "2        sellable_online    1.006629\n",
       "3           other_colors    1.101328\n",
       "4  price_minus_old_price    1.113978\n",
       "5                  depth    2.710608\n",
       "6                 height    2.076956\n",
       "7                  width    4.001627\n",
       "8                 volume    7.877849"
      ]
     },
     "execution_count": 514,
     "metadata": {},
     "output_type": "execute_result"
    }
   ],
   "source": [
    "vif_df"
   ]
  },
  {
   "cell_type": "code",
   "execution_count": 499,
   "metadata": {},
   "outputs": [
    {
     "data": {
      "text/html": [
       "<div>\n",
       "<style scoped>\n",
       "    .dataframe tbody tr th:only-of-type {\n",
       "        vertical-align: middle;\n",
       "    }\n",
       "\n",
       "    .dataframe tbody tr th {\n",
       "        vertical-align: top;\n",
       "    }\n",
       "\n",
       "    .dataframe thead th {\n",
       "        text-align: right;\n",
       "    }\n",
       "</style>\n",
       "<table border=\"1\" class=\"dataframe\">\n",
       "  <thead>\n",
       "    <tr style=\"text-align: right;\">\n",
       "      <th></th>\n",
       "      <th>feature</th>\n",
       "      <th>vif_score</th>\n",
       "    </tr>\n",
       "  </thead>\n",
       "  <tbody>\n",
       "    <tr>\n",
       "      <th>0</th>\n",
       "      <td>category</td>\n",
       "      <td>3.634748</td>\n",
       "    </tr>\n",
       "    <tr>\n",
       "      <th>1</th>\n",
       "      <td>sellable_online</td>\n",
       "      <td>25.610037</td>\n",
       "    </tr>\n",
       "    <tr>\n",
       "      <th>2</th>\n",
       "      <td>other_colors</td>\n",
       "      <td>1.868962</td>\n",
       "    </tr>\n",
       "    <tr>\n",
       "      <th>3</th>\n",
       "      <td>price_minus_old_price</td>\n",
       "      <td>1.195897</td>\n",
       "    </tr>\n",
       "    <tr>\n",
       "      <th>4</th>\n",
       "      <td>depth</td>\n",
       "      <td>13.074505</td>\n",
       "    </tr>\n",
       "    <tr>\n",
       "      <th>5</th>\n",
       "      <td>height</td>\n",
       "      <td>7.996794</td>\n",
       "    </tr>\n",
       "    <tr>\n",
       "      <th>6</th>\n",
       "      <td>width</td>\n",
       "      <td>12.941251</td>\n",
       "    </tr>\n",
       "    <tr>\n",
       "      <th>7</th>\n",
       "      <td>volume</td>\n",
       "      <td>11.731861</td>\n",
       "    </tr>\n",
       "  </tbody>\n",
       "</table>\n",
       "</div>"
      ],
      "text/plain": [
       "                 feature  vif_score\n",
       "0               category   3.634748\n",
       "1        sellable_online  25.610037\n",
       "2           other_colors   1.868962\n",
       "3  price_minus_old_price   1.195897\n",
       "4                  depth  13.074505\n",
       "5                 height   7.996794\n",
       "6                  width  12.941251\n",
       "7                 volume  11.731861"
      ]
     },
     "execution_count": 499,
     "metadata": {},
     "output_type": "execute_result"
    }
   ],
   "source": [
    "vif_df = pd.DataFrame([vif(X_train.values, i) for i in range(X_train.shape[1])], \n",
    "              index=X_train.columns).reset_index()\n",
    "vif_df.columns = ['feature','vif_score']\n",
    "vif_df = vif_df.loc[vif_df.feature!='const']\n",
    "vif_df"
   ]
  },
  {
   "attachments": {},
   "cell_type": "markdown",
   "metadata": {},
   "source": []
  }
 ],
 "metadata": {
  "kernelspec": {
   "display_name": "tf_m1",
   "language": "python",
   "name": "python3"
  },
  "language_info": {
   "codemirror_mode": {
    "name": "ipython",
    "version": 3
   },
   "file_extension": ".py",
   "mimetype": "text/x-python",
   "name": "python",
   "nbconvert_exporter": "python",
   "pygments_lexer": "ipython3",
   "version": "3.8.10"
  },
  "orig_nbformat": 4
 },
 "nbformat": 4,
 "nbformat_minor": 2
}
